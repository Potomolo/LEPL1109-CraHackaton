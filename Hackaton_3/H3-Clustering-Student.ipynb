{
 "cells": [
  {
   "cell_type": "markdown",
   "metadata": {},
   "source": [
    "<font size=5  color=#003366> <b>[LEPL1109] - STATISTICS AND DATA SCIENCES</b> <br><br> \n",
    "<b>Hackathon 03 - Clustering: Bias in sensitive datasets</b> </font> <br><br><br>\n",
    "\n",
    "<font size=4  color=#003366>\n",
    "Prof. D. Hainaut<br>\n",
    "Prof. L. Jacques<br>\n",
    "\n",
    "<br><br>\n",
    "Adrien Banse (adrien.banse@uclouvain.be)<br>\n",
    "Jana Jovcheva (jana.jovcheva@uclouvain.be)<br>\n",
    "François Lessage (francois.lessage@uclouvain.be)<br>\n",
    "Sofiane Tanji (sofiane.tanji@uclouvain.be)<br>\n",
    "<div style=\"text-align: right\"> Version 2024-2025</div>\n",
    "<br><br>\n",
    "<div class=\"alert alert-danger\">\n",
    "<b>[IMPORTANT] Read all the documentation</b>  <br>\n",
    "    Make sure that you read the whole notebook, <b>and</b> the <code>README.md</code> file in the folder.\n",
    "</div>\n",
    "<br><br>\n",
    "</font>"
   ]
  },
  {
   "cell_type": "markdown",
   "metadata": {},
   "source": [
    "# **Guidelines and Deliverables**\n",
    "\n",
    "*   This hackathon is due on the **22 December 2024 at 22h00**\n",
    "*   Copying code or answers from other groups (or from the internet) is strictly forbidden. <b>Each source of inspiration (stack overflow, git, other groups, ChatGPT...) must be clearly indicated!</b>\n",
    "*  This notebook (with the \"ipynb\" extension) file, the report (PDF format) and all other files that are necessary to run your code must be delivered on <b>Moodle</b>.\n",
    "* Only the PDF report and the python source file will be graded, both on their content and the quality of the text / figures.\n",
    "  * 5/10 for the code.\n",
    "  * 4/10 for the Latex report.\n",
    "  * 1/10 for the visualization. <br><br>\n",
    "\n",
    "<div class=\"alert alert-info\">\n",
    "<b>[DELIVERABLE] Summary</b>  <br>\n",
    "After the reading of this document (and playing with the code!), we expect you to provide us with:\n",
    "<ol>\n",
    "   <li> a PDF file (written in LaTeX) that answers all the questions below. The report should contain high quality figures with named axes (we recommend saving plots with the <samp>.pdf</samp> extension);\n",
    "   <li> this Jupyter Notebook (it will be read, checked for plagiarism and evaluated);\n",
    "   <li> and all other files we would need to run your code.\n",
    "</ol>\n",
    "</div>\n",
    "\n",
    "As mentioned above, plagiarism is forbidden. However, we cannot forbid you to use artificial intelligence BUT we remind you that the aim of this project is to learn on your own and with the help of the course material. Finally, we remind you that for the same question, artificial intelligence presents similar solutions, which could be perceived as a form of plagiarism."
   ]
  },
  {
   "cell_type": "markdown",
   "metadata": {},
   "source": [
    "# **Context & Objective**\n",
    "\n",
    "## Context\n",
    "\n",
    "Predictive algorithms serve multiple functions in criminal justice. They forecast crime locations, identify potential violent offenders, predict court appearance compliance, and estimate recidivism risk. \n",
    "COMPAS (Correctional Offender Management Profiling for Alternative Sanctions) stands as a prominent risk assessment tool. Since 1998, the COMPAS risk score has been used by many jurisdictions in the United States to assess risk of recidivism in pre-trial bail decisions.\n",
    "In the United States, a defendant may either be detained or released on bail *(sous caution)* prior to the trial in court depending on various factors. Judges may detain defendants or increase the bail amount based on the risk score provided by the COMPAS algorithm.\n",
    "\n",
    "\n",
    "In 2016, investigative journalists at ProPublica published [Machine Bias](https://www.propublica.org/article/machine-bias-risk-assessments-in-criminal-sentencing), highlighting significant biases in the COMPAS Algorithm. Specifically, they showed that the proportion of false positives for African-American defendants is significantly higher than for Caucasian defendants. In other words, more African-American were labeled high risk and ended up not relapsing into criminal behaviour than Caucasian defendants. A more thorough explanation of their data analysis procedure can be found in their companion article [How We Analyzed the COMPAS Recidivism Algorithm](https://www.propublica.org/article/how-we-analyzed-the-compas-recidivism-algorithm).\n",
    "\n",
    "The COMPAS algorithm is proprietary software. What is known is that its decision is based on the answers to a questionnaire with 137 questions which the defendant must fill. There are questions related to crime (“How many prior juvenile felony offense arrests?”) along with seemingly mundane ones (“Do you live with friends?”; “Do you feel discouraged at times?”).\n",
    "\n",
    "In this hackathon, you are provided a dataset with a subset of answers to that questionnaire from more than 7000 defendants living in Broward County, Florida as well as whether they did relapse into criminal behaviour or not.\n",
    "\n",
    "## Objective(s)\n",
    "It has been shown in the article linked above that the COMPAS algorithm is biased. We take this for granted and we do not bother to show it again. The main objective of the hackathon for you is to understand that it is not only the COMPAS algorithm that is biased, but that **the data itself is biased**, in the sense that one can find structural patterns of discrimination embedded in the data. In other words, *learning from data coming from a biased world without precautions will necessarily lead to biased predictions*. Knowing which precautions one should take to avoid biased predictions is a whole subfield of machine learning called \"Fairness in AI\". It is out of the scope of this hackathon and out of the scope of LEPL1109. If you are curious about it however, a great resource is the following book [Fairness and machine learning Limitations and Opportunities](https://fairmlbook.org/).\n",
    "\n",
    "To see that the data itself is biased, you will implement your own recidivism prediction algorithms and measure their fairness.\n",
    "\n",
    "## Dataset description\n",
    "A large part of this hackathon will be devoted to handling, understanding and manipulating the dataset. The dataset provided represents 7214 defendants (data points) with 49 answers to the questionnaire (features) for each defendant. This is a lot of features and it should take you some time to understand them before going through Part 1. This data processing part may be tiresome but it is a necessary task in any serious data project.\n",
    "A description of the features is provided in the table below:\n",
    "\n",
    "| Feature               | Description                                                                                      |\n",
    "|-----------------------|--------------------------------------------------------------------------------------------------|\n",
    "| name                  | Full name of the defendant                                                                       |\n",
    "| first                 | First name of the defendant                                                                      |\n",
    "| last                  | Last name of the defendant                                                                       |\n",
    "| compas_screening_date | The date the defendant filled the questionnaire                                                  |\n",
    "| sex                   | Sex of the defendant (Female, Male)                                                              |\n",
    "| dob                   | Date of birth of the defendant (YYYY-MM-DD)                                                      |\n",
    "| age                   | Age of the defendant                                                                             |\n",
    "| age_cat               | Age category of the defendant (Less than 25, 25-45, Greater than 45)                             |\n",
    "| race                  | race attribute (African-American, Caucasian, Hispanic, Asian, Native American, Other)       |\n",
    "| juv_fel_count         | Number of juvenile felonies committed by the defendant                                           |\n",
    "| decile_score          | Decile of the COMPAS score                                                                       |\n",
    "| juv_misd_count        | Number of juvenile misdemeanors                                                                  |\n",
    "| juv_other_count       | Number of juvenile convictions that are not considered misdemeanors nor felonies                 |\n",
    "| priors_count          | Number of prior crimes committed                                                                 |\n",
    "| days_b_screening_arrest | Count of days between screening date and (original) arrest date                                |\n",
    "| c_jail_in             | Datetime at which the defendant entered jail (YYYY-MM-DD, hh:mm:ss)                              |\n",
    "| c_jail_out            | Datetime at which the defendant left jail (YYYY-MM-DD, hh:mm:ss)                                 |\n",
    "| c_case_number         | Case number for the current charge                                                               |\n",
    "| c_offense_date        | Date the offense was committed (YYYY-MM-DD)                                                      |\n",
    "| c_arrest_date         | Date the offense was arrested (YYYY-MM-DD)                                                       |\n",
    "| c_days_from_compas    | Days from COMPAS screening date to current arrest date                                           |\n",
    "| c_charge_degree       | Current charge degree (felony or misdemeanor) at the time of filling the questionnaire (\"F\", \"M\")|\n",
    "| c_charge_desc         | Description of the current charge                                                                |\n",
    "| is_recid              | Binary variable indicating whether the defendant is rearrested at any time (0, 1)                |\n",
    "| r_case_number         | Case number for a recidivism charge                                                              |\n",
    "| r_charge_degree       | Recidivism charge degree (felony or misdemeanor) for an offense subsequent to filling the questionnaire |\n",
    "| r_days_from_arrest    | Days from Arrest to Recidivism Event                                                             |\n",
    "| r_offense_date        | Date the recidivism offense was committed (YYYY-MM-DD)                                           |\n",
    "| r_charge_desc         | Description of the recidivism charge                                                             |\n",
    "| r_jail_in             | Datetime at which the defendant entered jail for a recidivism charge (YYYY-MM-DD, hh:mm:ss)      |\n",
    "| r_jail_out            | Datetime at which the defendant left jail for a recidivism charge (YYYY-MM-DD, hh:mm:ss)         |\n",
    "| violent_recid         | Number of violent recidivism events                                                              |\n",
    "| is_violent_recid      | Binary variable indicating whether the defendant committed a violent recidivism (0, 1)           |\n",
    "| vr_case_number        | Case number for a violent recidivism charge                                                      |\n",
    "| vr_charge_degree      | Violent recidivism charge degree (felony or misdemeanor)                                         |\n",
    "| vr_offense_date       | Date the violent recidivism offense was committed (YYYY-MM-DD)                                   |\n",
    "| vr_charge_desc        | Description of the violent recidivism charge                                                     |\n",
    "| type_of_assessment    | Type of COMPAS assessment performed                                                              |\n",
    "| decile_score.1        | *Same as decile_score*                                                                           |\n",
    "| score_text            | Recidivism risk of the defendant (Low, Medium, High)                                             |\n",
    "| screening_date        | Date on which the defendant was screened (YYYY-MM-DD)                                            |\n",
    "| v_type_of_assessment  | Type of violent risk assessment                                                                  |\n",
    "| v_decile_score        | Decile score for violent risk assessment                                                         |\n",
    "| v_score_text          | Violent recidivism risk of the defendant (Low, Medium, High)                                     |\n",
    "| v_screening_date      | Date of the violent risk assessment (YYYY-MM-DD)                                                 |\n",
    "| in_custody            | Date on which the defendant was placed in custody (YYYY-MM-DD)                                   |\n",
    "| out_custody           | Date on which the defendant left custody (YYYY-MM-DD)                                            |\n",
    "| priors_count.1        | *Same as priors_count*                                                                           |\n",
    "| two_year_recid        | Binary variable on whether the defendant has recidivated within two years (0, 1)                 |\n",
    "\n",
    "## **Notebook structure**\n",
    "\n",
    "### PART 1 - Data preprocessing\n",
    "   #### 1.1 - Importing the packages\n",
    "   #### 1.2 - Importing the dataset\n",
    "   #### 1.3 - Dataset curation\n",
    "   #### 1.4 - Feature engineering\n",
    "   #### 1.5 - Sensitive features\n",
    "   #### 1.6 - Scale the dataset\n",
    "\n",
    "### PART 2 - Data exploration\n",
    "   #### 2.1 - Feature visualization\n",
    "   #### 2.2 - Principal Component Analysis\n",
    "\n",
    "   \n",
    "### PART 3 - Clustering\n",
    "   #### 3.1 - K-Means\n",
    "   #### 3.2 - Results Analysis\n",
    "\n",
    "\n",
    "### PART 4 - Validation and fairness metrics\n",
    "   #### 4.1 - Silhouette score\n",
    "   #### 4.2 - Purity and entropy of a clustering\n",
    "   #### 4.3 - Precision and Recall per race group\n",
    "   #### 4.4 - Select the number of clusters\n",
    "\n",
    "\n",
    "### PART 5 - Visualization\n",
    "   #### 5.1 - Visualize your results\n",
    "\n",
    "<br><br>\n",
    "\n",
    "***Remark***\n",
    "\n",
    "We filled this notebook with preliminary (trivial) code. This practice makes possible to run each cell, even the last ones, without throwing warnings once the dataset is imported. <b>Take advantage of this aspect to divide the work between all team members!</b> <br><br>\n",
    "Remember that many libraries exist in Python, so many functions have already been developed. Read the documentation and don't reinvent the wheel! You can import whatever you want."
   ]
  },
  {
   "cell_type": "markdown",
   "metadata": {},
   "source": [
    "<br><font size=7 color=#009999> <b>PART I - Preliminaries</b> </font> <br><br>\n",
    "\n",
    "<font size=5 color=#009999> <b>1.1 - Importing the packages</b> <br>\n",
    "</font>\n"
   ]
  },
  {
   "cell_type": "code",
   "execution_count": 22,
   "metadata": {},
   "outputs": [],
   "source": [
    "\"\"\"\n",
    "CELL N°1.1 : IMPORTING ALL THE NECESSARY PACKAGES\n",
    "\n",
    "@pre:  /\n",
    "@post: The necessary packages should be loaded.\n",
    "\"\"\"\n",
    "\n",
    "import warnings\n",
    "import random\n",
    "import pandas as pd\n",
    "import numpy as np\n",
    "import matplotlib.pyplot as plt\n",
    "from matplotlib.ticker import MaxNLocator\n",
    "import plotly.express as px\n",
    "from sklearn.decomposition import PCA\n",
    "from sklearn.cluster import KMeans\n",
    "from sklearn.preprocessing import StandardScaler\n",
    "from sklearn.model_selection import train_test_split\n",
    "import seaborn as sns\n",
    "import plotly.graph_objs as go\n",
    "from plotly.offline import iplot\n",
    "from plotly.subplots import make_subplots\n",
    "\n",
    "random_seed = 42\n",
    "\n",
    "np.random.seed(random_seed)\n",
    "random.seed(random_seed)\n",
    "\n",
    "warnings.filterwarnings(\"ignore\")\n",
    "\n",
    "# Import all the necessary packages here...\n"
   ]
  },
  {
   "cell_type": "markdown",
   "metadata": {},
   "source": [
    "<br>\n",
    "<font size=5 color=#009999> <b>1.2 - Importing the dataset</b> <br>\n",
    "</font>\n"
   ]
  },
  {
   "cell_type": "code",
   "execution_count": 23,
   "metadata": {},
   "outputs": [
    {
     "name": "stdout",
     "output_type": "stream",
     "text": [
      "<class 'pandas.core.frame.DataFrame'>\n",
      "RangeIndex: 7214 entries, 0 to 7213\n",
      "Data columns (total 49 columns):\n",
      " #   Column                   Non-Null Count  Dtype  \n",
      "---  ------                   --------------  -----  \n",
      " 0   name                     7214 non-null   object \n",
      " 1   first                    7214 non-null   object \n",
      " 2   last                     7214 non-null   object \n",
      " 3   compas_screening_date    7214 non-null   object \n",
      " 4   sex                      7214 non-null   object \n",
      " 5   dob                      7214 non-null   object \n",
      " 6   age                      7214 non-null   int64  \n",
      " 7   age_cat                  7214 non-null   object \n",
      " 8   race                     7214 non-null   object \n",
      " 9   juv_fel_count            7214 non-null   int64  \n",
      " 10  decile_score             7214 non-null   int64  \n",
      " 11  juv_misd_count           7214 non-null   int64  \n",
      " 12  juv_other_count          7214 non-null   int64  \n",
      " 13  priors_count             7214 non-null   int64  \n",
      " 14  days_b_screening_arrest  6907 non-null   float64\n",
      " 15  c_jail_in                6907 non-null   object \n",
      " 16  c_jail_out               6907 non-null   object \n",
      " 17  c_case_number            7192 non-null   object \n",
      " 18  c_offense_date           6055 non-null   object \n",
      " 19  c_arrest_date            1137 non-null   object \n",
      " 20  c_days_from_compas       7192 non-null   float64\n",
      " 21  c_charge_degree          7214 non-null   object \n",
      " 22  c_charge_desc            7185 non-null   object \n",
      " 23  is_recid                 7214 non-null   int64  \n",
      " 24  r_case_number            3471 non-null   object \n",
      " 25  r_charge_degree          3471 non-null   object \n",
      " 26  r_days_from_arrest       2316 non-null   float64\n",
      " 27  r_offense_date           3471 non-null   object \n",
      " 28  r_charge_desc            3413 non-null   object \n",
      " 29  r_jail_in                2316 non-null   object \n",
      " 30  r_jail_out               2316 non-null   object \n",
      " 31  violent_recid            0 non-null      float64\n",
      " 32  is_violent_recid         7214 non-null   int64  \n",
      " 33  vr_case_number           819 non-null    object \n",
      " 34  vr_charge_degree         819 non-null    object \n",
      " 35  vr_offense_date          819 non-null    object \n",
      " 36  vr_charge_desc           819 non-null    object \n",
      " 37  type_of_assessment       7214 non-null   object \n",
      " 38  decile_score.1           7214 non-null   int64  \n",
      " 39  score_text               7214 non-null   object \n",
      " 40  screening_date           7214 non-null   object \n",
      " 41  v_type_of_assessment     7214 non-null   object \n",
      " 42  v_decile_score           7214 non-null   int64  \n",
      " 43  v_score_text             7214 non-null   object \n",
      " 44  v_screening_date         7214 non-null   object \n",
      " 45  in_custody               6978 non-null   object \n",
      " 46  out_custody              6978 non-null   object \n",
      " 47  priors_count.1           7214 non-null   int64  \n",
      " 48  two_year_recid           7214 non-null   int64  \n",
      "dtypes: float64(4), int64(12), object(33)\n",
      "memory usage: 2.7+ MB\n"
     ]
    }
   ],
   "source": [
    "\"\"\"\n",
    "CELL N°1.2 : IMPORTING THE DATASET\n",
    "\n",
    "@pre:  /\n",
    "@post: The object `df` should contain a Pandas DataFrame corresponding to the file `compas-dataset.csv`.\n",
    "\"\"\"\n",
    "\n",
    "df = pd.DataFrame()\n",
    "df = pd.read_csv(\"compas-dataset.csv\")\n",
    "df.info()\n"
   ]
  },
  {
   "cell_type": "markdown",
   "metadata": {},
   "source": [
    "<br>\n",
    "<font size=5 color=#009999> <b>1.3 - Dataset curation</b> <br>\n",
    "</font>"
   ]
  },
  {
   "cell_type": "markdown",
   "metadata": {},
   "source": [
    "For this hackathon, your goal is to **determine the risk of recidivism of an individual**. Therefore, you should be able to determine which features are useful for your application and remove the unnecessary ones. We provide a list of features to keep and ask you to add features to that list. This step may take more time than the others. It is important to carefully analyze each feature and its relevance for our goal.\n",
    "\n",
    "In this data cleaning task, you must remove redundant features, features that are not quantifiable and features that you believe are not linked to risk of recidivism. Yous should neither limit yourself to the provided list which is too short nor add all numeric features.\n",
    "You should also avoid data leakage. Except for the \"two_year_recid\" feature, do not keep features which represent true recidivism. For similar reasons, do not keep features linked to the predictions made by the COMPAS algorithm. Using predictions made by a supervised algorithm (which is trained using both the features matrix and the target variable) is effectively leaking information from the target variable.\n",
    "\n",
    "<div class=\"alert alert-warning\">\n",
    "<b>[Question 1.1] Removing unnecessary features </b>  <br>\n",
    "Can you already, a priori, detect that some features are useless?\n",
    "<ol>\n",
    "   <li> if yes, list those (useless) features and explain your choice;\n",
    "   <li> if not, then explain why it is better to wait.\n",
    "</ol>\n",
    "    Generally speaking, is it a good idea to remove a feature based on <i>a priori</i> knowledge, or doesn't it alter the final outcome?\n",
    "</div>\n",
    "\n",
    "| Feature               | Description                                                                                      |\n",
    "|-----------------------|--------------------------------------------------------------------------------------------------|\n",
    "| IRRELEVANT ~~name~~                  | ~~Full name of the defendant~~                                                                       |\n",
    "| IRRELEVANT ~~first~~                 | ~~First name of the defendant~~                                                                      |\n",
    "| IRRELEVANT ~~last~~                  | ~~Last name of the defendant~~                                                                       |\n",
    "| REDUNDANCY ~~compas_screening_date (To Merge)~~ | The date the defendant filled the questionnaire                                                  |\n",
    "| **sex**                   | Sex of the defendant (Female, Male)                                                              |\n",
    "| **dob** (To Merge)                   | Date of birth of the defendant (YYYY-MM-DD)                                                      |\n",
    "| **age**                   | Age of the defendant                                                                             |\n",
    "| REDUNDANCY ~~age_cat~~               | Age category of the defendant (Less than 25, 25-45, Greater than 45)                             |\n",
    "| **race**                  | race attribute (African-American, Caucasian, Hispanic, Asian, Native American, Other)       |\n",
    "| **juv_fel_count**         | Number of juvenile felonies committed by the defendant                                           |\n",
    "| DATA LEAKAGE ~~decile_score~~          | Decile of the COMPAS score                                                                       |\n",
    "| **juv_misd_count**        | Number of juvenile misdemeanors                                                                  |\n",
    "| **juv_other_count**       | Number of juvenile convictions that are not considered misdemeanors nor felonies                 |\n",
    "| **priors_count**          | Number of prior crimes committed                                                                 |\n",
    "| **days_b_screening_arrest** | Count of days between screening date and (original) arrest date                                |\n",
    "| **c_jail_in**   (To Merge)          | Datetime at which the defendant entered jail (YYYY-MM-DD, hh:mm:ss)                              |\n",
    "| **c_jail_out**  (To Merge)          | Datetime at which the defendant left jail (YYYY-MM-DD, hh:mm:ss)                                 |\n",
    "| IRRELEVANT ~~c_case_number~~         | Case number for the current charge                                                               |\n",
    "| TOOMNAN ~~c_offense_date~~        | Date the offense was committed (YYYY-MM-DD)                                                      |\n",
    "| TOOMNAN ~~c_arrest_date~~         | Date the offense was arrested (YYYY-MM-DD)                                                       |\n",
    "| **c_days_from_compas**     | Days from COMPAS screening date to current arrest date                                           |\n",
    "| **c_charge_degree**       | Current charge degree (felony or misdemeanor) at the time of filling the questionnaire (\"F\", \"M\")|\n",
    "| IRRELEVANT ~~c_charge_desc~~         | Description of the current charge                                                                |\n",
    "| DATA LEAKAGE~~is_recid~~              | Binary variable indicating whether the defendant is rearrested at any time (0, 1)                |\n",
    "| IRRELEVANT ~~r_case_number~~         | Case number for a recidivism charge                                                              |\n",
    "| TOOMNAN ~~r_charge_degree~~       | Recidivism charge degree (felony or misdemeanor) for an offense subsequent to filling the questionnaire |\n",
    "| TOOMNAN~~r_days_from_arrest~~    | Days from Arrest to Recidivism Event                                                             |\n",
    "| TOOMNAN~~r_offense_date~~        | Date the recidivism offense was committed (YYYY-MM-DD)                                           |\n",
    "| TOOMNAN~~r_charge_desc~~         | Description of the recidivism charge                                                             |\n",
    "| TOOMNAN~~r_jail_in~~             | Datetime at which the defendant entered jail for a recidivism charge (YYYY-MM-DD, hh:mm:ss)      |\n",
    "| TOOMNAN~~r_jail_out~~            | Datetime at which the defendant left jail for a recidivism charge (YYYY-MM-DD, hh:mm:ss)         |\n",
    "| TOOMNAN~~violent_recid~~         | Number of violent recidivism events                                                              |\n",
    "| DATA LEAKAGE ~~is_violent_recid~~      | Binary variable indicating whether the defendant committed a violent recidivism (0, 1)           |\n",
    "| TOOMNAN~~vr_case_number~~        | Case number for a violent recidivism charge                                                      |\n",
    "| TOOMNAN~~vr_charge_degree~~      | Violent recidivism charge degree (felony or misdemeanor)                                         |\n",
    "| TOOMNAN~~vr_offense_date~~       | Date the violent recidivism offense was committed (YYYY-MM-DD)                                   |\n",
    "| TOOMNAN~~vr_charge_desc~~        | Description of the violent recidivism charge                                                     |\n",
    "| CONSTANT ~~type_of_assessment~~    | Type of COMPAS assessment performed                                                              |\n",
    "| DATA LEAKAGE ~~decile_score.1~~        | *Same as decile_score*                                                                           |\n",
    "| DATA LEAKAGE ~~score_text~~            | Recidivism risk of the defendant (Low, Medium, High)                                             |\n",
    "| REDUNDANCY ~~screening_date  (To Merge)~~      | Date on which the defendant was screened (YYYY-MM-DD)                                            |\n",
    "| CONSTANT ~~v_type_of_assessment~~  | Type of violent risk assessment                                                                  |\n",
    "| DATA LEAKAGE ~~v_decile_score~~        | Decile score for violent risk assessment                                                         |\n",
    "| DATA LEAKAGE ~~v_score_text~~          | Violent recidivism risk of the defendant (Low, Medium, High)                                     |\n",
    "| REDUNDANCY ~~v_screening_date  (To merge)~~    | Date of the violent risk assessment (YYYY-MM-DD)                                                 |\n",
    "| **in_custody**     (To Merge)       | Date on which the defendant was placed in custody (YYYY-MM-DD)                                   |\n",
    "| **out_custody**    (To Merge)       | Date on which the defendant left custody (YYYY-MM-DD)                                            |\n",
    "| REDUNDANCY ~~priors_count.1~~        | *Same as priors_count*                                                                           |\n",
    "| OBJECTIF two_year_recid        | Binary variable on whether the defendant has recidivated within two years (0, 1)                 |\n"
   ]
  },
  {
   "cell_type": "markdown",
   "metadata": {},
   "source": [
    "For this hackathon, your goal is to **determine the risk of recidivism of an individual**. Therefore, you should be able to determine which features are useful for your application and remove the unnecessary ones. We provide a list of features to keep and ask you to add features to that list. This step may take more time than the others. It is important to carefully analyze each feature and its relevance for our goal.\n",
    "\n",
    "In this data cleaning task, you must remove redundant features, features that are not quantifiable and features that you believe are not linked to risk of recidivism. Yous should neither limit yourself to the provided list which is too short nor add all numeric features.\n",
    "You should also avoid data leakage. Except for the \"two_year_recid\" feature, do not keep features which represent true recidivism. For similar reasons, do not keep features linked to the predictions made by the COMPAS algorithm. Using predictions made by a supervised algorithm (which is trained using both the features matrix and the target variable) is effectively leaking information from the target variable.\n",
    "\n",
    "<div class=\"alert alert-warning\">\n",
    "<b>[Question 1.1] Removing unnecessary features </b>  <br>\n",
    "Can you already, a priori, detect that some features are useless?\n",
    "<ol>\n",
    "   <li> if yes, list those (useless) features and explain your choice;\n",
    "   <li> if not, then explain why it is better to wait.\n",
    "</ol>\n",
    "    Generally speaking, is it a good idea to remove a feature based on <i>a priori</i> knowledge, or doesn't it alter the final outcome?\n",
    "</div>\n",
    "\n",
    "| Feature               | Description                                                                                      |\n",
    "|-----------------------|--------------------------------------------------------------------------------------------------|\n",
    "| compas_screening_date (To Merge) | The date the defendant filled the questionnaire                                                  |\n",
    "| sex                   | Sex of the defendant (Female, Male)                                                              |\n",
    "| dob (To Merge)                   | Date of birth of the defendant (YYYY-MM-DD)                                                      |\n",
    "| age                   | Age of the defendant                                                                             |\n",
    "| race                  | race attribute (African-American, Caucasian, Hispanic, Asian, Native American, Other)       |\n",
    "| juv_fel_count         | Number of juvenile felonies committed by the defendant                                           |\n",
    "| juv_misd_count        | Number of juvenile misdemeanors                                                                  |\n",
    "| juv_other_count       | Number of juvenile convictions that are not considered misdemeanors nor felonies                 |\n",
    "| priors_count          | Number of prior crimes committed                                                                 |\n",
    "| days_b_screening_arrest | Count of days between screening date and (original) arrest date                                |\n",
    "| c_jail_in   (To Merge)          | Datetime at which the defendant entered jail (YYYY-MM-DD, hh:mm:ss)                              |\n",
    "| c_jail_out  (To Merge)          | Datetime at which the defendant left jail (YYYY-MM-DD, hh:mm:ss)                                 |\n",
    "| c_days_from_compas     | Days from COMPAS screening date to current arrest date                                           |\n",
    "| c_charge_degree       | Current charge degree (felony or misdemeanor) at the time of filling the questionnaire (\"F\", \"M\")|\n",
    "| in_custody     (To Merge)       | Date on which the defendant was placed in custody (YYYY-MM-DD)                                   |\n",
    "| out_custody    (To Merge)       | Date on which the defendant left custody (YYYY-MM-DD)                                            |\n",
    "| OBJECTIF two_year_recid        | Binary variable on whether the defendant has recidivated within two years (0, 1)                 |\n"
   ]
  },
  {
   "cell_type": "code",
   "execution_count": 24,
   "metadata": {},
   "outputs": [],
   "source": [
    "\"\"\"\n",
    "CELL N°1.3.1 : CURATION OF THE DATASET\n",
    "\n",
    "@pre:  A pandas.DataFrame `df` containing the dataset\n",
    "@post: A pandas.DataFrame `df` containing the dataset without outliers and with necessary features only\n",
    "\"\"\"\n",
    "\n",
    "# We also provide some code to remove outliers.\n",
    "df = df[\n",
    "    (\n",
    "        df[\"is_recid\"] != -1\n",
    "    )  # Data aggregator encoded is_recid = -1 whenever they couldn't find a COMPAS case.\n",
    "    & (\n",
    "        df[\"days_b_screening_arrest\"] <= 30\n",
    "    )  # More than 30 days between the day of arrest and the date when the questionnaire was filled => poor data quality\n",
    "    & (df[\"days_b_screening_arrest\"] >= -30)  # Same as above\n",
    "    & (\n",
    "        df[\"c_charge_degree\"] != \"O\"\n",
    "    )  # These are simple traffic offenses, they will never be charged with jail.\n",
    "]\n",
    "\n",
    "# For reasons made explicit later, keep at least these columns.\n",
    "# We decide to remove the following irrelevant features and data-leakage related ones :\n",
    "# (irrelevant or too many labels) name, first, last, case_number, case_description, c_case_number, c_charge_desc, r_case_number\n",
    "# (data leakage) is_recid, decile_score & decile_score.1, score_text, v_decile_score & v_score_text, is_violent_recid\n",
    "# (redundancy) age_cat, priors_count.1, v_screening_date, compas_screening_date (duplicate of screening_date), \n",
    "# screening_date will also be removed because the difference between screening_date and date of birth is linearly dependant from the age.\n",
    "# This will be justified by correlation matrix below.\n",
    "# (constant entry) type_of_assessment and v_type_of_assessment\n",
    "# Features presenting too many \"null\" values have also been removed from the selection, as described in the next section \n",
    "\n",
    "columns_to_keep_temp = [\n",
    "    \"priors_count.1\",\n",
    "    \"compas_screening_date\",\n",
    "    \"sex\",\n",
    "    \"dob\",\n",
    "    \"age\",\n",
    "    \"race\",\n",
    "    \"juv_fel_count\",\n",
    "    \"juv_misd_count\",\n",
    "    \"juv_other_count\",\n",
    "    \"priors_count\",\n",
    "    \"days_b_screening_arrest\",\n",
    "    \"c_jail_in\",\n",
    "    \"c_jail_out\",\n",
    "    \"c_days_from_compas\",\n",
    "    \"c_charge_degree\",\n",
    "    \"screening_date\",\n",
    "    \"v_screening_date\",\n",
    "    \"in_custody\",\n",
    "    \"out_custody\",\n",
    "    \"two_year_recid\"  \n",
    "]\n",
    "\n",
    "columns_to_keep_final = [\n",
    "    \"d_custody\",\n",
    "    \"d_time_jail\",\n",
    "    \"age\",\n",
    "    \"juv_fel_count\",\n",
    "    \"juv_misd_count\",\n",
    "    \"juv_other_count\",\n",
    "    \"priors_count\",\n",
    "    \"days_b_screening_arrest\",\n",
    "    \"c_days_from_compas\",\n",
    "    \"ccd_M\",\n",
    "]"
   ]
  },
  {
   "cell_type": "markdown",
   "metadata": {},
   "source": [
    "In data science, datasets are rarely tailored to specific applications. Instead, they typically originate from information collected over a certain period. It is the data scientist's responsibility to effectively utilize these datasets.\n",
    "\n",
    "<div class=\"alert alert-info\">\n",
    "<b>[Remark 1.1]</b><br>\n",
    "In most real-world cases, the datasets you work with will contain artifacts like typos or missing data, which may need to be removed before using them in algorithms. In Pandas, missing data is represented as \"NaNs\" (Not a Number), though it applies to all missing objects, not just numbers.\n",
    "</div>\n",
    "\n",
    "Can you find a way to inspect your dataset and see if there are some missing data?"
   ]
  },
  {
   "cell_type": "code",
   "execution_count": 25,
   "metadata": {},
   "outputs": [
    {
     "name": "stdout",
     "output_type": "stream",
     "text": [
      "== Null count Before cleaning ==\n",
      "name                          0\n",
      "first                         0\n",
      "last                          0\n",
      "compas_screening_date         0\n",
      "sex                           0\n",
      "dob                           0\n",
      "age                           0\n",
      "age_cat                       0\n",
      "race                          0\n",
      "juv_fel_count                 0\n",
      "decile_score                  0\n",
      "juv_misd_count                0\n",
      "juv_other_count               0\n",
      "priors_count                  0\n",
      "days_b_screening_arrest       0\n",
      "c_jail_in                     0\n",
      "c_jail_out                    0\n",
      "c_case_number                 0\n",
      "c_offense_date              784\n",
      "c_arrest_date              5388\n",
      "c_days_from_compas            0\n",
      "c_charge_degree               0\n",
      "c_charge_desc                 5\n",
      "is_recid                      0\n",
      "r_case_number              3182\n",
      "r_charge_degree            3182\n",
      "r_days_from_arrest         4175\n",
      "r_offense_date             3182\n",
      "r_charge_desc              3228\n",
      "r_jail_in                  4175\n",
      "r_jail_out                 4175\n",
      "violent_recid              6172\n",
      "is_violent_recid              0\n",
      "vr_case_number             5480\n",
      "vr_charge_degree           5480\n",
      "vr_offense_date            5480\n",
      "vr_charge_desc             5480\n",
      "type_of_assessment            0\n",
      "decile_score.1                0\n",
      "score_text                    0\n",
      "screening_date                0\n",
      "v_type_of_assessment          0\n",
      "v_decile_score                0\n",
      "v_score_text                  0\n",
      "v_screening_date              0\n",
      "in_custody                    0\n",
      "out_custody                   0\n",
      "priors_count.1                0\n",
      "two_year_recid                0\n",
      "dtype: int64\n"
     ]
    }
   ],
   "source": [
    "\"\"\"\n",
    "CELL N°1.3.2: INFORMATION ABOUT TYPES AND NANs\n",
    "@pre:  A pandas.DataFrame `df` containing the dataset.\n",
    "@post: Statistics and/or visualization on the presence of missing data in `df`.\n",
    "\"\"\"\n",
    "print(\"== Null count Before cleaning ==\")\n",
    "print(df.isnull().sum())\n",
    "\n",
    "# We decide to remove here the following features from the dataset : \n",
    "# c_offense_date, \n",
    "# c_arrest_date, \n",
    "# r_case_number,\n",
    "# r_charge_degree,\n",
    "# r_days_from_arrest,\n",
    "# r_offense_date,\n",
    "# r_charge_desc, \n",
    "# r_jail_in,\n",
    "# r_jail_out,\n",
    "# violent_recid, \n",
    "# vr_case_number,\n",
    "# vr_charge_degree,\n",
    "# vr_offense_date,\n",
    "# vr_charge_desc"
   ]
  },
  {
   "cell_type": "markdown",
   "metadata": {},
   "source": [
    "<div class=\"alert alert-info\">\n",
    "<b>[Remark 1.2] Each problem has its own solution</b> <br>\n",
    "There exist numerous ways to deal with missing information and we will discuss the two main approaches:\n",
    "<ol>\n",
    "   <li> you remove rows or columns that contain missing data;\n",
    "   <li> or you replace NaNs with another value. The latter can be a fixed value or computed to be, e.g., the mean of all non-NaNs values. The topic of replacing missing data, also called imputation of missing values, is very broad and complex, and there is no global solution that applies everywhere. Maybe you can find one that works well here?\n",
    "</ol>\n",
    "    \n",
    "You **should** read more about how to imput missing value [here](https://scikit-learn.org/stable/modules/impute.html). However, you will not be evaluated on how sophisticated your handling of NaNs is so, for this hackathon, do not spend an unreasonable amount of time on the next cell.\n",
    "</div> \n",
    "\n",
    "<div class=\"alert alert-warning\">\n",
    "<b>[Question 1.2] Handling missing data </b>  <br>\n",
    "Given the dataset and the amount / type of missing information, what strategy do you propose to follow regarding missing data (NaNs)? <br> You can choose one or many of the following:\n",
    "<ol>\n",
    "   <li> drop features (column) with missing information; \n",
    "   <li> drop samples (row) with missing information;\n",
    "   <li> replace missing information with interpolation / extrapolation / simple substitution / ...\n",
    "</ol>\n",
    "Justify briefly your choice.\n",
    "</div> "
   ]
  },
  {
   "cell_type": "code",
   "execution_count": 26,
   "metadata": {},
   "outputs": [
    {
     "data": {
      "text/plain": [
       "priors_count.1             6172\n",
       "compas_screening_date      6172\n",
       "sex                        6172\n",
       "dob                        6172\n",
       "age                        6172\n",
       "race                       6172\n",
       "juv_fel_count              6172\n",
       "juv_misd_count             6172\n",
       "juv_other_count            6172\n",
       "priors_count               6172\n",
       "days_b_screening_arrest    6172\n",
       "c_jail_in                  6172\n",
       "c_jail_out                 6172\n",
       "c_days_from_compas         6172\n",
       "c_charge_degree            6172\n",
       "screening_date             6172\n",
       "v_screening_date           6172\n",
       "in_custody                 6172\n",
       "out_custody                6172\n",
       "two_year_recid             6172\n",
       "dtype: int64"
      ]
     },
     "execution_count": 26,
     "metadata": {},
     "output_type": "execute_result"
    }
   ],
   "source": [
    "\"\"\"\n",
    "CELL N°1.3.3: Handling missing values\n",
    "@pre:  A pandas.DataFrame `df` containing the dataset.\n",
    "@post: A pandas.DataFrame `df` containing the dataset with no missing values.\n",
    "\"\"\"\n",
    "old_df = df.copy()\n",
    "df = old_df[columns_to_keep_temp]\n",
    "df.describe()\n",
    "df.notnull().sum()\n",
    "\n",
    "# There are no missing values after the cleaning and selection process of relevant features"
   ]
  },
  {
   "cell_type": "markdown",
   "metadata": {},
   "source": [
    "<br>\n",
    "<font size=5 color=#009999> <b>1.4 - Feature engineering</b> <br>\n",
    "</font>\n",
    "\n",
    "<div class=\"alert alert-info\">\n",
    "<b>[Remark 1.3] New features extraction</b> <br>\n",
    "In the present case, some features in the dataset still need to be reworked in order to provide meaningful information. For example, working with datetimes might not be easy.\n",
    "</div>\n",
    "\n",
    "You may want to somehow incorporate the information about date and time into the dataset in a more **intelligent** manner than it was before. Again, there can be multiple solutions, and we will propose you a very simple one.\n",
    "\n",
    "For example, what is most important to predict the likelihood of recidivism: the exact dates at which each defendant entered and left jail/custody or the time spent in jail/custody?\n",
    "\n",
    "Note: 1) you should apply your solution to all the \"date/time\" features you kept. There should at least be the one hinted above. 2) Pandas has a to_datetime function that should prove useful !"
   ]
  },
  {
   "cell_type": "code",
   "execution_count": 27,
   "metadata": {},
   "outputs": [
    {
     "data": {
      "text/html": [
       "<div>\n",
       "<style scoped>\n",
       "    .dataframe tbody tr th:only-of-type {\n",
       "        vertical-align: middle;\n",
       "    }\n",
       "\n",
       "    .dataframe tbody tr th {\n",
       "        vertical-align: top;\n",
       "    }\n",
       "\n",
       "    .dataframe thead th {\n",
       "        text-align: right;\n",
       "    }\n",
       "</style>\n",
       "<table border=\"1\" class=\"dataframe\">\n",
       "  <thead>\n",
       "    <tr style=\"text-align: right;\">\n",
       "      <th></th>\n",
       "      <th>priors_count.1</th>\n",
       "      <th>sex</th>\n",
       "      <th>age</th>\n",
       "      <th>race</th>\n",
       "      <th>juv_fel_count</th>\n",
       "      <th>juv_misd_count</th>\n",
       "      <th>juv_other_count</th>\n",
       "      <th>priors_count</th>\n",
       "      <th>days_b_screening_arrest</th>\n",
       "      <th>c_days_from_compas</th>\n",
       "      <th>c_charge_degree</th>\n",
       "      <th>two_year_recid</th>\n",
       "      <th>d_time_jail</th>\n",
       "      <th>d_custody</th>\n",
       "      <th>compas_screening_age</th>\n",
       "      <th>screening_age</th>\n",
       "      <th>v_screening_age</th>\n",
       "    </tr>\n",
       "  </thead>\n",
       "  <tbody>\n",
       "    <tr>\n",
       "      <th>count</th>\n",
       "      <td>6172.000000</td>\n",
       "      <td>6172</td>\n",
       "      <td>6172.000000</td>\n",
       "      <td>6172</td>\n",
       "      <td>6172.000000</td>\n",
       "      <td>6172.000000</td>\n",
       "      <td>6172.000000</td>\n",
       "      <td>6172.000000</td>\n",
       "      <td>6172.000000</td>\n",
       "      <td>6172.000000</td>\n",
       "      <td>6172</td>\n",
       "      <td>6172.000000</td>\n",
       "      <td>6172.000000</td>\n",
       "      <td>6172.000000</td>\n",
       "      <td>6172.000000</td>\n",
       "      <td>6172.000000</td>\n",
       "      <td>6172.000000</td>\n",
       "    </tr>\n",
       "    <tr>\n",
       "      <th>unique</th>\n",
       "      <td>NaN</td>\n",
       "      <td>2</td>\n",
       "      <td>NaN</td>\n",
       "      <td>6</td>\n",
       "      <td>NaN</td>\n",
       "      <td>NaN</td>\n",
       "      <td>NaN</td>\n",
       "      <td>NaN</td>\n",
       "      <td>NaN</td>\n",
       "      <td>NaN</td>\n",
       "      <td>2</td>\n",
       "      <td>NaN</td>\n",
       "      <td>NaN</td>\n",
       "      <td>NaN</td>\n",
       "      <td>NaN</td>\n",
       "      <td>NaN</td>\n",
       "      <td>NaN</td>\n",
       "    </tr>\n",
       "    <tr>\n",
       "      <th>top</th>\n",
       "      <td>NaN</td>\n",
       "      <td>Male</td>\n",
       "      <td>NaN</td>\n",
       "      <td>African-American</td>\n",
       "      <td>NaN</td>\n",
       "      <td>NaN</td>\n",
       "      <td>NaN</td>\n",
       "      <td>NaN</td>\n",
       "      <td>NaN</td>\n",
       "      <td>NaN</td>\n",
       "      <td>F</td>\n",
       "      <td>NaN</td>\n",
       "      <td>NaN</td>\n",
       "      <td>NaN</td>\n",
       "      <td>NaN</td>\n",
       "      <td>NaN</td>\n",
       "      <td>NaN</td>\n",
       "    </tr>\n",
       "    <tr>\n",
       "      <th>freq</th>\n",
       "      <td>NaN</td>\n",
       "      <td>4997</td>\n",
       "      <td>NaN</td>\n",
       "      <td>3175</td>\n",
       "      <td>NaN</td>\n",
       "      <td>NaN</td>\n",
       "      <td>NaN</td>\n",
       "      <td>NaN</td>\n",
       "      <td>NaN</td>\n",
       "      <td>NaN</td>\n",
       "      <td>3970</td>\n",
       "      <td>NaN</td>\n",
       "      <td>NaN</td>\n",
       "      <td>NaN</td>\n",
       "      <td>NaN</td>\n",
       "      <td>NaN</td>\n",
       "      <td>NaN</td>\n",
       "    </tr>\n",
       "    <tr>\n",
       "      <th>mean</th>\n",
       "      <td>3.246436</td>\n",
       "      <td>NaN</td>\n",
       "      <td>34.534511</td>\n",
       "      <td>NaN</td>\n",
       "      <td>0.059300</td>\n",
       "      <td>0.091218</td>\n",
       "      <td>0.110661</td>\n",
       "      <td>3.246436</td>\n",
       "      <td>-1.740279</td>\n",
       "      <td>24.903273</td>\n",
       "      <td>NaN</td>\n",
       "      <td>0.455120</td>\n",
       "      <td>15.113091</td>\n",
       "      <td>35.969864</td>\n",
       "      <td>11854.469702</td>\n",
       "      <td>11854.469702</td>\n",
       "      <td>11854.469702</td>\n",
       "    </tr>\n",
       "    <tr>\n",
       "      <th>std</th>\n",
       "      <td>4.743770</td>\n",
       "      <td>NaN</td>\n",
       "      <td>11.730938</td>\n",
       "      <td>NaN</td>\n",
       "      <td>0.463599</td>\n",
       "      <td>0.497872</td>\n",
       "      <td>0.470731</td>\n",
       "      <td>4.743770</td>\n",
       "      <td>5.084709</td>\n",
       "      <td>276.812982</td>\n",
       "      <td>NaN</td>\n",
       "      <td>0.498022</td>\n",
       "      <td>46.679771</td>\n",
       "      <td>171.636096</td>\n",
       "      <td>4272.961663</td>\n",
       "      <td>4272.961663</td>\n",
       "      <td>4272.961663</td>\n",
       "    </tr>\n",
       "    <tr>\n",
       "      <th>min</th>\n",
       "      <td>0.000000</td>\n",
       "      <td>NaN</td>\n",
       "      <td>18.000000</td>\n",
       "      <td>NaN</td>\n",
       "      <td>0.000000</td>\n",
       "      <td>0.000000</td>\n",
       "      <td>0.000000</td>\n",
       "      <td>0.000000</td>\n",
       "      <td>-30.000000</td>\n",
       "      <td>0.000000</td>\n",
       "      <td>NaN</td>\n",
       "      <td>0.000000</td>\n",
       "      <td>0.000000</td>\n",
       "      <td>0.000000</td>\n",
       "      <td>6035.000000</td>\n",
       "      <td>6035.000000</td>\n",
       "      <td>6035.000000</td>\n",
       "    </tr>\n",
       "    <tr>\n",
       "      <th>25%</th>\n",
       "      <td>0.000000</td>\n",
       "      <td>NaN</td>\n",
       "      <td>25.000000</td>\n",
       "      <td>NaN</td>\n",
       "      <td>0.000000</td>\n",
       "      <td>0.000000</td>\n",
       "      <td>0.000000</td>\n",
       "      <td>0.000000</td>\n",
       "      <td>-1.000000</td>\n",
       "      <td>1.000000</td>\n",
       "      <td>NaN</td>\n",
       "      <td>0.000000</td>\n",
       "      <td>1.000000</td>\n",
       "      <td>1.000000</td>\n",
       "      <td>8440.750000</td>\n",
       "      <td>8440.750000</td>\n",
       "      <td>8440.750000</td>\n",
       "    </tr>\n",
       "    <tr>\n",
       "      <th>50%</th>\n",
       "      <td>1.000000</td>\n",
       "      <td>NaN</td>\n",
       "      <td>31.000000</td>\n",
       "      <td>NaN</td>\n",
       "      <td>0.000000</td>\n",
       "      <td>0.000000</td>\n",
       "      <td>0.000000</td>\n",
       "      <td>1.000000</td>\n",
       "      <td>-1.000000</td>\n",
       "      <td>1.000000</td>\n",
       "      <td>NaN</td>\n",
       "      <td>0.000000</td>\n",
       "      <td>1.000000</td>\n",
       "      <td>2.000000</td>\n",
       "      <td>10626.500000</td>\n",
       "      <td>10626.500000</td>\n",
       "      <td>10626.500000</td>\n",
       "    </tr>\n",
       "    <tr>\n",
       "      <th>75%</th>\n",
       "      <td>4.000000</td>\n",
       "      <td>NaN</td>\n",
       "      <td>42.000000</td>\n",
       "      <td>NaN</td>\n",
       "      <td>0.000000</td>\n",
       "      <td>0.000000</td>\n",
       "      <td>0.000000</td>\n",
       "      <td>4.000000</td>\n",
       "      <td>-1.000000</td>\n",
       "      <td>1.000000</td>\n",
       "      <td>NaN</td>\n",
       "      <td>1.000000</td>\n",
       "      <td>6.000000</td>\n",
       "      <td>17.000000</td>\n",
       "      <td>14525.750000</td>\n",
       "      <td>14525.750000</td>\n",
       "      <td>14525.750000</td>\n",
       "    </tr>\n",
       "    <tr>\n",
       "      <th>max</th>\n",
       "      <td>38.000000</td>\n",
       "      <td>NaN</td>\n",
       "      <td>96.000000</td>\n",
       "      <td>NaN</td>\n",
       "      <td>20.000000</td>\n",
       "      <td>13.000000</td>\n",
       "      <td>9.000000</td>\n",
       "      <td>38.000000</td>\n",
       "      <td>30.000000</td>\n",
       "      <td>9485.000000</td>\n",
       "      <td>NaN</td>\n",
       "      <td>1.000000</td>\n",
       "      <td>800.000000</td>\n",
       "      <td>6035.000000</td>\n",
       "      <td>34502.000000</td>\n",
       "      <td>34502.000000</td>\n",
       "      <td>34502.000000</td>\n",
       "    </tr>\n",
       "  </tbody>\n",
       "</table>\n",
       "</div>"
      ],
      "text/plain": [
       "        priors_count.1   sex          age              race  juv_fel_count  \\\n",
       "count      6172.000000  6172  6172.000000              6172    6172.000000   \n",
       "unique             NaN     2          NaN                 6            NaN   \n",
       "top                NaN  Male          NaN  African-American            NaN   \n",
       "freq               NaN  4997          NaN              3175            NaN   \n",
       "mean          3.246436   NaN    34.534511               NaN       0.059300   \n",
       "std           4.743770   NaN    11.730938               NaN       0.463599   \n",
       "min           0.000000   NaN    18.000000               NaN       0.000000   \n",
       "25%           0.000000   NaN    25.000000               NaN       0.000000   \n",
       "50%           1.000000   NaN    31.000000               NaN       0.000000   \n",
       "75%           4.000000   NaN    42.000000               NaN       0.000000   \n",
       "max          38.000000   NaN    96.000000               NaN      20.000000   \n",
       "\n",
       "        juv_misd_count  juv_other_count  priors_count  \\\n",
       "count      6172.000000      6172.000000   6172.000000   \n",
       "unique             NaN              NaN           NaN   \n",
       "top                NaN              NaN           NaN   \n",
       "freq               NaN              NaN           NaN   \n",
       "mean          0.091218         0.110661      3.246436   \n",
       "std           0.497872         0.470731      4.743770   \n",
       "min           0.000000         0.000000      0.000000   \n",
       "25%           0.000000         0.000000      0.000000   \n",
       "50%           0.000000         0.000000      1.000000   \n",
       "75%           0.000000         0.000000      4.000000   \n",
       "max          13.000000         9.000000     38.000000   \n",
       "\n",
       "        days_b_screening_arrest  c_days_from_compas c_charge_degree  \\\n",
       "count               6172.000000         6172.000000            6172   \n",
       "unique                      NaN                 NaN               2   \n",
       "top                         NaN                 NaN               F   \n",
       "freq                        NaN                 NaN            3970   \n",
       "mean                  -1.740279           24.903273             NaN   \n",
       "std                    5.084709          276.812982             NaN   \n",
       "min                  -30.000000            0.000000             NaN   \n",
       "25%                   -1.000000            1.000000             NaN   \n",
       "50%                   -1.000000            1.000000             NaN   \n",
       "75%                   -1.000000            1.000000             NaN   \n",
       "max                   30.000000         9485.000000             NaN   \n",
       "\n",
       "        two_year_recid  d_time_jail    d_custody  compas_screening_age  \\\n",
       "count      6172.000000  6172.000000  6172.000000           6172.000000   \n",
       "unique             NaN          NaN          NaN                   NaN   \n",
       "top                NaN          NaN          NaN                   NaN   \n",
       "freq               NaN          NaN          NaN                   NaN   \n",
       "mean          0.455120    15.113091    35.969864          11854.469702   \n",
       "std           0.498022    46.679771   171.636096           4272.961663   \n",
       "min           0.000000     0.000000     0.000000           6035.000000   \n",
       "25%           0.000000     1.000000     1.000000           8440.750000   \n",
       "50%           0.000000     1.000000     2.000000          10626.500000   \n",
       "75%           1.000000     6.000000    17.000000          14525.750000   \n",
       "max           1.000000   800.000000  6035.000000          34502.000000   \n",
       "\n",
       "        screening_age  v_screening_age  \n",
       "count     6172.000000      6172.000000  \n",
       "unique            NaN              NaN  \n",
       "top               NaN              NaN  \n",
       "freq              NaN              NaN  \n",
       "mean     11854.469702     11854.469702  \n",
       "std       4272.961663      4272.961663  \n",
       "min       6035.000000      6035.000000  \n",
       "25%       8440.750000      8440.750000  \n",
       "50%      10626.500000     10626.500000  \n",
       "75%      14525.750000     14525.750000  \n",
       "max      34502.000000     34502.000000  "
      ]
     },
     "execution_count": 27,
     "metadata": {},
     "output_type": "execute_result"
    }
   ],
   "source": [
    "\"\"\"\n",
    "CELL N°1.4 : FEATURE ENGINEERING\n",
    "\n",
    "@pre:  A pandas.DataFrame `df` containing the dataset\n",
    "@post: A pandas.DataFrame `df` containing the previous dataset with the new features you created.\n",
    "\"\"\"\n",
    "\n",
    "def to_days(date1, date2):\n",
    "    date1=pd.to_datetime(date1)\n",
    "    date2=pd.to_datetime(date2)\n",
    "    return (date1-date2).dt.days\n",
    "\n",
    "#Days spent in jail\n",
    "df[\"d_time_jail\"] = to_days(df[\"c_jail_out\"], df[\"c_jail_in\"])\n",
    "df.drop(\"c_jail_in\", axis=1, inplace=True)\n",
    "df.drop(\"c_jail_out\", axis=1, inplace=True)\n",
    "\n",
    "#Days spent in custody\n",
    "df[\"d_custody\"] = to_days(df[\"out_custody\"], df[\"in_custody\"])\n",
    "df.drop(\"in_custody\", axis=1, inplace=True)\n",
    "df.drop(\"out_custody\", axis=1, inplace=True)\n",
    "\n",
    "#Changing dates of screening into age at screening (in days)\n",
    "df[\"compas_screening_age\"]= to_days(df[\"compas_screening_date\"], df[\"dob\"])\n",
    "df.drop(\"compas_screening_date\", axis=1, inplace=True)\n",
    "df[\"screening_age\"]= to_days(df[\"screening_date\"], df[\"dob\"])\n",
    "df.drop(\"screening_date\", axis=1, inplace=True)\n",
    "df[\"v_screening_age\"]= to_days(df[\"v_screening_date\"], df[\"dob\"])\n",
    "df.drop(\"v_screening_date\", axis=1, inplace=True)\n",
    "\n",
    "df.drop(\"dob\",axis=1,inplace=True)\n",
    "df.describe(include=\"all\")"
   ]
  },
  {
   "cell_type": "markdown",
   "metadata": {},
   "source": [
    "<div class=\"alert alert-warning\">\n",
    "<b>[Question 1.3] New features </b>  <br>\n",
    "What features have you added? If a particular manipulation has been applied, please explain.\n",
    "</div> "
   ]
  },
  {
   "cell_type": "markdown",
   "metadata": {},
   "source": [
    "<br>\n",
    "<font size=5 color=#009999> <b>1.5 - Sensitive features</b> <br>\n",
    "</font>\n",
    "<br>\n",
    "\n",
    "<div class=\"alert alert-info\">\n",
    "<b>[Remark 1.4] Sensitive features</b> <br>\n",
    "At this stage of the Hackathon, you still have two sensitive features, the sex attribute and the race attribute. As the end goal is to build a fair learning algorithm, you should not reasonably use these two features to determine if there is a risk of recidivism of the defendant.\n",
    "</div>\n",
    "\n",
    "To check if your learning techniques are unfair to particular subgroups of these features, you should **remove both features from the dataset while keeping them aside** to analyze the fairness of our learning techniques."
   ]
  },
  {
   "cell_type": "code",
   "execution_count": 28,
   "metadata": {},
   "outputs": [
    {
     "name": "stdout",
     "output_type": "stream",
     "text": [
      "[ Other African-American African-American Other Caucasian Other Caucasian Caucasian African-American Caucasian African-American Caucasian African-American Hispanic African-American Caucasian Caucasian African-American African-American Caucasian Caucasian Hispanic Caucasian Other African-American African-American African-American Caucasian African-American Caucasian Other Caucasian Caucasian African-American Caucasian African-American African-American Caucasian African-American African-American Caucasian African-American Caucasian African-American Caucasian Other African-American African-American Hispanic African-American Caucasian African-American African-American Caucasian African-American African-American Hispanic African-American Other African-American Hispanic Hispanic African-American African-American Caucasian African-American African-American Caucasian African-American African-American African-American African-American Other African-American Other African-American African-American African-American Caucasian Other Caucasian Caucasian Caucasian Caucasian Hispanic African-American African-American Caucasian Caucasian Caucasian Caucasian Caucasian Caucasian African-American Caucasian Caucasian African-American African-American Caucasian African-American African-American African-American African-American Other Caucasian African-American Caucasian African-American Caucasian Caucasian Caucasian Other Caucasian African-American Caucasian Caucasian African-American Caucasian African-American Caucasian African-American Caucasian African-American African-American African-American African-American African-American African-American African-American Caucasian African-American Other Hispanic African-American Hispanic African-American Caucasian Caucasian African-American Caucasian African-American Caucasian Caucasian African-American Hispanic African-American Hispanic African-American Hispanic African-American Hispanic Hispanic Caucasian Caucasian Other African-American African-American African-American Hispanic African-American Caucasian African-American Caucasian African-American Caucasian African-American African-American African-American Other Caucasian Caucasian Caucasian African-American Other African-American African-American African-American Caucasian African-American African-American Caucasian African-American African-American Caucasian Caucasian Other African-American Caucasian African-American African-American African-American African-American Other African-American African-American African-American Caucasian Caucasian African-American Caucasian African-American Caucasian African-American African-American Hispanic Caucasian Caucasian African-American Caucasian African-American Caucasian African-American Caucasian Other Other Hispanic Hispanic Caucasian Hispanic African-American African-American African-American Other African-American African-American African-American Hispanic African-American African-American African-American Caucasian Caucasian African-American African-American Caucasian African-American Other African-American African-American Caucasian Caucasian Caucasian African-American African-American Hispanic Caucasian African-American Caucasian African-American African-American Other Caucasian African-American African-American Caucasian Caucasian Other African-American Hispanic African-American Caucasian Caucasian Caucasian Other African-American African-American Caucasian Caucasian African-American African-American Caucasian African-American Caucasian Caucasian Hispanic African-American Caucasian Hispanic Caucasian African-American Caucasian African-American Other African-American Caucasian Hispanic African-American African-American African-American Caucasian African-American Hispanic Other Caucasian Caucasian Caucasian African-American Caucasian African-American African-American African-American Caucasian African-American Other Hispanic Caucasian African-American Caucasian African-American African-American Caucasian Caucasian Caucasian African-American Caucasian African-American African-American African-American African-American African-American Caucasian African-American African-American African-American African-American Caucasian Caucasian African-American African-American Caucasian Hispanic African-American African-American African-American Caucasian African-American African-American Caucasian African-American Other Hispanic Caucasian Caucasian African-American African-American Caucasian Hispanic Caucasian Caucasian African-American Caucasian African-American Other African-American Caucasian African-American African-American Hispanic Caucasian African-American Caucasian African-American Caucasian Caucasian African-American African-American Caucasian Caucasian Caucasian Caucasian Hispanic African-American African-American Caucasian African-American African-American African-American Caucasian African-American Caucasian Other African-American African-American African-American Caucasian Caucasian African-American African-American African-American Caucasian African-American African-American African-American African-American African-American African-American African-American Caucasian African-American African-American Caucasian Hispanic Caucasian Caucasian Caucasian Caucasian Hispanic Caucasian Asian Hispanic Hispanic Caucasian Caucasian Asian African-American Caucasian Caucasian African-American African-American Caucasian African-American Caucasian Hispanic Hispanic African-American Caucasian Caucasian Caucasian Caucasian Other African-American Caucasian Hispanic Other African-American African-American Other African-American African-American Caucasian Caucasian African-American African-American Caucasian Caucasian Caucasian Caucasian African-American African-American African-American Caucasian Caucasian Other Caucasian Hispanic African-American African-American Caucasian Hispanic Caucasian African-American Hispanic Caucasian African-American Caucasian African-American African-American African-American Other African-American African-American Caucasian African-American African-American African-American Caucasian African-American African-American African-American Caucasian Caucasian Hispanic African-American Caucasian African-American Caucasian African-American Hispanic African-American Hispanic Caucasian Caucasian Caucasian Caucasian African-American Caucasian Caucasian Other Hispanic Other African-American Caucasian African-American Hispanic Hispanic Caucasian African-American African-American African-American African-American African-American African-American Hispanic African-American Caucasian Caucasian Caucasian African-American Caucasian African-American African-American Caucasian Caucasian African-American African-American Caucasian African-American Caucasian African-American African-American African-American Hispanic African-American Caucasian Caucasian Caucasian Caucasian African-American African-American Caucasian Other African-American Caucasian African-American African-American African-American African-American African-American Caucasian Caucasian African-American African-American African-American Caucasian African-American African-American African-American African-American Hispanic African-American African-American African-American Caucasian Hispanic African-American African-American Other Other African-American Caucasian African-American African-American African-American African-American Caucasian Caucasian Hispanic African-American African-American Asian Caucasian African-American African-American African-American Caucasian African-American Caucasian African-American African-American African-American African-American African-American African-American African-American African-American Caucasian Caucasian Caucasian African-American Hispanic Caucasian African-American African-American African-American African-American Caucasian Caucasian Caucasian Hispanic Caucasian Caucasian Caucasian Caucasian Hispanic African-American Caucasian Caucasian African-American African-American African-American African-American African-American African-American African-American African-American African-American African-American Caucasian Other Caucasian African-American Caucasian African-American African-American African-American African-American African-American African-American African-American African-American African-American African-American Other Other Caucasian African-American Native American African-American African-American African-American African-American Other African-American African-American Other Hispanic African-American African-American Caucasian Caucasian African-American African-American Caucasian Caucasian Caucasian African-American Caucasian Other African-American Caucasian African-American Caucasian African-American African-American Other African-American Other Caucasian African-American African-American Hispanic Caucasian African-American African-American African-American Other African-American African-American African-American African-American Caucasian African-American African-American Caucasian African-American African-American Caucasian Other Caucasian Caucasian African-American African-American Caucasian African-American Other Other African-American African-American African-American African-American African-American Caucasian African-American African-American Caucasian African-American African-American African-American Other Caucasian African-American Caucasian Caucasian African-American African-American Caucasian African-American Caucasian African-American Caucasian Caucasian African-American Caucasian African-American African-American African-American Caucasian African-American African-American African-American African-American Other African-American Caucasian African-American African-American African-American Caucasian Caucasian African-American Other African-American Caucasian African-American Hispanic African-American Caucasian African-American Caucasian African-American Hispanic African-American Caucasian Caucasian Hispanic Hispanic African-American African-American African-American Hispanic Caucasian African-American Caucasian Caucasian Caucasian Hispanic Hispanic African-American African-American African-American African-American Caucasian African-American Caucasian African-American African-American African-American African-American Caucasian African-American African-American African-American Hispanic Hispanic Hispanic Caucasian Hispanic African-American African-American African-American Hispanic Caucasian African-American African-American African-American Caucasian Caucasian African-American African-American African-American Caucasian Caucasian Caucasian Caucasian African-American African-American Caucasian Hispanic African-American Hispanic African-American African-American African-American Caucasian African-American African-American African-American African-American African-American African-American Caucasian African-American Hispanic African-American African-American African-American Caucasian African-American Caucasian African-American African-American Hispanic African-American African-American African-American Hispanic Caucasian African-American African-American Hispanic Hispanic Hispanic African-American African-American Hispanic Caucasian African-American African-American African-American African-American African-American African-American Caucasian Hispanic Hispanic African-American Caucasian Hispanic Hispanic African-American African-American Other African-American Caucasian African-American African-American African-American African-American Caucasian Caucasian Other Caucasian African-American African-American Caucasian African-American African-American African-American African-American Caucasian Caucasian African-American African-American Hispanic African-American African-American Caucasian African-American African-American Caucasian Other Caucasian African-American African-American African-American African-American African-American African-American Caucasian Caucasian African-American Caucasian African-American African-American Hispanic Caucasian Caucasian Caucasian African-American Hispanic Caucasian African-American Caucasian Caucasian African-American Hispanic African-American Hispanic African-American Caucasian Caucasian African-American Caucasian African-American African-American Caucasian African-American Caucasian Caucasian Hispanic African-American Caucasian Caucasian Caucasian Other Caucasian Caucasian African-American African-American African-American African-American African-American Caucasian Caucasian African-American African-American African-American African-American African-American African-American African-American Caucasian Caucasian African-American African-American Other Caucasian Caucasian Caucasian Caucasian Caucasian African-American Caucasian Caucasian Caucasian African-American African-American Hispanic Caucasian African-American African-American Caucasian Hispanic African-American African-American Hispanic African-American Native American African-American Hispanic African-American African-American African-American African-American Caucasian African-American Caucasian Other Hispanic Native American Caucasian African-American Other African-American Caucasian Caucasian Hispanic Caucasian African-American Asian Caucasian Caucasian Hispanic Caucasian African-American African-American Caucasian African-American African-American African-American Caucasian African-American African-American Caucasian African-American African-American African-American African-American Caucasian Hispanic African-American Caucasian African-American African-American African-American Caucasian African-American African-American Other Hispanic Other African-American African-American African-American Caucasian African-American African-American Caucasian Hispanic Caucasian African-American Other Caucasian African-American Caucasian Caucasian Caucasian African-American African-American African-American Caucasian Caucasian Caucasian African-American Other Caucasian African-American Hispanic Hispanic Caucasian Caucasian Caucasian Caucasian African-American Caucasian African-American African-American Caucasian Hispanic African-American African-American Other Caucasian Hispanic Hispanic Caucasian Caucasian African-American Hispanic African-American Other African-American Caucasian African-American Asian Caucasian Asian African-American Caucasian African-American Caucasian Caucasian Caucasian African-American Caucasian African-American African-American African-American Caucasian Hispanic Other Caucasian African-American African-American African-American Caucasian African-American African-American Other Hispanic African-American Other Caucasian African-American Caucasian Caucasian African-American Caucasian African-American African-American African-American African-American Hispanic African-American African-American Hispanic African-American Caucasian Caucasian African-American African-American African-American Other Caucasian African-American African-American Caucasian African-American African-American African-American African-American African-American Caucasian African-American Caucasian Caucasian Caucasian African-American Caucasian Caucasian African-American Hispanic African-American Hispanic Caucasian African-American African-American African-American Caucasian African-American African-American Caucasian Caucasian African-American African-American Caucasian African-American Other Other African-American African-American Caucasian Caucasian Caucasian African-American African-American African-American African-American Caucasian African-American African-American Other Caucasian African-American Caucasian Caucasian African-American Caucasian African-American African-American Hispanic Caucasian African-American African-American Caucasian African-American African-American Other African-American African-American African-American Caucasian Caucasian African-American Caucasian African-American African-American African-American Caucasian Caucasian African-American African-American African-American African-American Hispanic African-American African-American African-American Caucasian African-American African-American Caucasian African-American Other Caucasian Caucasian African-American African-American Caucasian Hispanic Caucasian African-American African-American Caucasian African-American Caucasian African-American African-American African-American African-American Other Caucasian Caucasian African-American African-American African-American Native American Caucasian Caucasian Other Caucasian Caucasian African-American Hispanic African-American Caucasian African-American Hispanic African-American Caucasian African-American Caucasian Caucasian Caucasian Caucasian Caucasian Caucasian Caucasian Caucasian Caucasian Caucasian Hispanic African-American Other Caucasian African-American Caucasian African-American African-American African-American Hispanic African-American African-American Asian African-American Caucasian Hispanic African-American African-American Hispanic African-American Caucasian African-American African-American African-American African-American Caucasian African-American African-American Caucasian Caucasian Caucasian Caucasian Hispanic African-American Caucasian African-American African-American African-American Hispanic African-American Other African-American African-American Caucasian Other African-American African-American African-American African-American Caucasian Caucasian Caucasian Hispanic African-American African-American African-American African-American African-American Hispanic Caucasian Hispanic African-American Caucasian Hispanic Caucasian Caucasian African-American Caucasian African-American Caucasian African-American Caucasian African-American Asian Other African-American Other African-American African-American Caucasian African-American Caucasian Caucasian Other Caucasian Other African-American Caucasian African-American African-American African-American African-American Other African-American Caucasian African-American African-American African-American African-American Caucasian African-American Caucasian African-American Caucasian Hispanic African-American Caucasian African-American Caucasian Other Caucasian Caucasian African-American Hispanic African-American Caucasian African-American African-American Hispanic African-American African-American African-American African-American African-American African-American African-American African-American Other Caucasian Caucasian African-American African-American African-American Caucasian Caucasian African-American African-American Caucasian Caucasian Caucasian African-American Caucasian African-American African-American African-American Caucasian African-American Caucasian Caucasian Hispanic Other African-American Caucasian African-American Caucasian African-American African-American Caucasian Caucasian Caucasian Caucasian Other African-American Caucasian Caucasian African-American Caucasian Hispanic Hispanic African-American Caucasian African-American African-American Hispanic African-American African-American African-American Caucasian African-American African-American African-American African-American Caucasian Caucasian African-American Hispanic African-American African-American African-American Caucasian African-American African-American African-American Caucasian African-American Caucasian Caucasian Caucasian African-American Other Hispanic Caucasian Caucasian Caucasian African-American African-American African-American African-American Caucasian Caucasian African-American Caucasian Caucasian African-American African-American African-American Caucasian Caucasian African-American Caucasian African-American African-American African-American Caucasian African-American Caucasian African-American African-American Caucasian African-American Hispanic African-American Caucasian African-American African-American African-American African-American Caucasian Caucasian Hispanic Caucasian African-American African-American Hispanic Other Hispanic African-American Caucasian Asian Hispanic African-American African-American African-American Other Caucasian Caucasian Caucasian African-American African-American Hispanic Caucasian African-American Caucasian African-American Caucasian African-American African-American Caucasian African-American African-American Caucasian Other Caucasian African-American African-American Caucasian Caucasian African-American Caucasian African-American African-American African-American Caucasian Caucasian African-American African-American Caucasian African-American African-American Caucasian African-American Hispanic African-American Caucasian Caucasian African-American Caucasian Caucasian Hispanic Caucasian African-American Hispanic African-American Asian African-American Caucasian African-American Caucasian Hispanic Caucasian Caucasian Caucasian Other African-American African-American African-American African-American African-American Caucasian African-American African-American Other African-American African-American Caucasian Hispanic African-American African-American Caucasian African-American African-American Caucasian Caucasian African-American African-American African-American African-American Hispanic African-American African-American Caucasian Caucasian African-American African-American Caucasian African-American African-American Caucasian African-American African-American Caucasian Caucasian African-American Other Hispanic African-American African-American African-American Caucasian African-American African-American African-American African-American African-American Caucasian African-American Caucasian African-American African-American Caucasian Caucasian African-American African-American Caucasian African-American Caucasian African-American African-American African-American Caucasian Caucasian Hispanic African-American Caucasian Native American African-American African-American African-American African-American African-American Caucasian African-American Caucasian Caucasian Caucasian African-American African-American Hispanic Other African-American Hispanic African-American African-American African-American Caucasian African-American Caucasian Caucasian African-American African-American African-American African-American African-American African-American African-American Caucasian African-American Other African-American Caucasian African-American Hispanic Caucasian African-American Caucasian African-American African-American African-American African-American African-American African-American African-American African-American Caucasian African-American African-American African-American Caucasian Caucasian Caucasian African-American African-American African-American Hispanic African-American African-American African-American Caucasian African-American African-American African-American Other Caucasian Caucasian African-American Hispanic Asian African-American African-American African-American Hispanic Caucasian African-American Hispanic Hispanic African-American Caucasian Caucasian African-American Hispanic African-American Hispanic Caucasian Caucasian Other Other Caucasian Caucasian African-American Caucasian African-American Hispanic Caucasian Caucasian African-American Caucasian Caucasian African-American Caucasian African-American Other Caucasian African-American Caucasian Caucasian African-American African-American Other African-American African-American Caucasian Other Other African-American Caucasian Caucasian African-American Other African-American African-American African-American Hispanic Caucasian Caucasian Other Caucasian African-American African-American Caucasian Caucasian African-American African-American African-American Caucasian African-American African-American Caucasian Caucasian Caucasian Caucasian African-American Native American African-American Caucasian Caucasian African-American Caucasian African-American African-American African-American African-American African-American African-American Caucasian Caucasian Caucasian African-American Other African-American African-American African-American African-American Hispanic Caucasian Other Hispanic Caucasian African-American African-American Caucasian African-American Caucasian Caucasian Hispanic Caucasian Caucasian Caucasian Caucasian Caucasian Caucasian Caucasian African-American African-American Caucasian African-American Caucasian African-American African-American Caucasian Hispanic African-American African-American Caucasian African-American African-American African-American African-American Caucasian African-American African-American African-American African-American African-American African-American African-American African-American African-American African-American Hispanic African-American Hispanic African-American Hispanic Other African-American African-American African-American Caucasian Caucasian African-American Caucasian African-American Caucasian African-American Caucasian Other African-American African-American African-American African-American African-American African-American Caucasian Caucasian Caucasian African-American African-American Caucasian Caucasian Caucasian African-American Caucasian African-American African-American African-American Caucasian Caucasian Hispanic African-American Caucasian African-American African-American African-American Caucasian Caucasian Caucasian Caucasian Caucasian Caucasian African-American African-American African-American African-American African-American African-American African-American Caucasian African-American Caucasian Caucasian Caucasian Other African-American Caucasian African-American African-American African-American Caucasian African-American African-American Caucasian African-American Hispanic African-American African-American African-American African-American Caucasian African-American Hispanic African-American Hispanic African-American Caucasian African-American Caucasian Other Hispanic African-American Caucasian African-American Hispanic Caucasian Caucasian Caucasian Caucasian African-American African-American Caucasian Caucasian Caucasian African-American Hispanic African-American African-American African-American Caucasian Caucasian Hispanic African-American African-American African-American Caucasian Caucasian Caucasian African-American African-American Caucasian African-American Hispanic Caucasian Caucasian Hispanic Caucasian African-American Caucasian Caucasian African-American Hispanic African-American African-American African-American African-American Caucasian African-American African-American African-American Caucasian Caucasian African-American African-American Caucasian Caucasian African-American African-American Caucasian Caucasian Caucasian African-American African-American Caucasian African-American African-American Caucasian Caucasian African-American African-American African-American African-American African-American African-American African-American African-American Other Other African-American African-American African-American African-American African-American Caucasian Other African-American African-American African-American Caucasian Caucasian African-American African-American African-American Other African-American African-American African-American Caucasian Caucasian Caucasian African-American Caucasian Caucasian Hispanic African-American African-American African-American Caucasian African-American Caucasian African-American Caucasian Caucasian African-American African-American Hispanic Other African-American Hispanic African-American Caucasian Caucasian Caucasian Caucasian African-American African-American African-American Caucasian Caucasian African-American African-American African-American Caucasian African-American African-American African-American African-American Caucasian Caucasian African-American Caucasian African-American Caucasian Hispanic Caucasian Caucasian Caucasian African-American Caucasian African-American Caucasian Caucasian African-American Caucasian Caucasian Caucasian Caucasian African-American African-American African-American African-American Caucasian African-American African-American Caucasian Caucasian Caucasian African-American African-American African-American Other African-American African-American Other African-American African-American African-American Caucasian Caucasian Caucasian African-American African-American African-American Caucasian Hispanic Hispanic African-American African-American African-American African-American African-American African-American African-American Other Caucasian Caucasian Caucasian Caucasian African-American African-American African-American African-American Caucasian Caucasian African-American African-American Caucasian Caucasian Caucasian Other African-American Hispanic Caucasian African-American Caucasian African-American African-American Hispanic Caucasian African-American Hispanic African-American African-American Asian Other African-American African-American African-American Caucasian African-American African-American African-American African-American Caucasian African-American Caucasian African-American Hispanic African-American Other African-American Caucasian Caucasian Caucasian African-American Hispanic Caucasian Caucasian African-American African-American Caucasian Caucasian African-American Caucasian African-American Caucasian Caucasian African-American African-American African-American Hispanic Caucasian African-American Hispanic Hispanic Hispanic Hispanic African-American African-American African-American African-American African-American African-American African-American Caucasian African-American Caucasian Caucasian African-American Caucasian African-American Caucasian African-American African-American Other African-American Caucasian Hispanic African-American Hispanic African-American Caucasian African-American African-American Caucasian Caucasian Hispanic African-American Caucasian Caucasian Caucasian African-American African-American African-American African-American Caucasian Caucasian Caucasian Caucasian Caucasian Caucasian Caucasian Caucasian African-American African-American Caucasian African-American African-American Hispanic African-American Caucasian Caucasian African-American Caucasian African-American African-American African-American Caucasian African-American African-American Caucasian Caucasian African-American African-American African-American Caucasian Caucasian Caucasian Hispanic Caucasian African-American African-American African-American African-American Caucasian African-American African-American African-American Caucasian African-American African-American African-American African-American African-American African-American Caucasian Caucasian African-American African-American Caucasian African-American Caucasian Caucasian Caucasian African-American Caucasian African-American Hispanic Caucasian Caucasian Other Caucasian Caucasian African-American African-American African-American Hispanic African-American African-American African-American Caucasian African-American Caucasian African-American Caucasian African-American Other Caucasian African-American Other African-American African-American Caucasian Hispanic Caucasian Caucasian Hispanic African-American African-American African-American African-American Hispanic Hispanic African-American African-American African-American Caucasian African-American Caucasian African-American Caucasian African-American African-American African-American Other African-American African-American African-American African-American Hispanic African-American Hispanic Other Caucasian African-American Other Other Hispanic Caucasian Caucasian African-American Hispanic African-American African-American Caucasian African-American African-American African-American African-American African-American Caucasian African-American Hispanic African-American Caucasian African-American African-American African-American African-American Other African-American African-American Caucasian African-American Hispanic African-American Other African-American Caucasian African-American Caucasian Caucasian African-American Other Caucasian Other African-American Hispanic African-American Caucasian African-American Other African-American Caucasian Caucasian African-American African-American African-American African-American Caucasian Caucasian Caucasian African-American African-American Caucasian African-American Caucasian African-American Hispanic African-American Hispanic Caucasian African-American Caucasian Caucasian African-American Caucasian Caucasian Caucasian African-American African-American Other Caucasian Hispanic Caucasian Caucasian Hispanic Caucasian Other African-American Caucasian Caucasian Caucasian Caucasian Caucasian Caucasian Caucasian African-American African-American African-American African-American Caucasian African-American African-American African-American Caucasian Caucasian African-American African-American Hispanic Caucasian Caucasian African-American African-American African-American African-American African-American Caucasian African-American African-American Caucasian Hispanic African-American African-American African-American African-American African-American African-American Caucasian African-American Caucasian African-American African-American Caucasian African-American African-American Other African-American Caucasian African-American African-American African-American Caucasian Caucasian Hispanic Caucasian Other Other Caucasian African-American Caucasian African-American Caucasian African-American African-American African-American Hispanic African-American Caucasian Hispanic African-American African-American African-American African-American Caucasian Caucasian African-American African-American African-American Caucasian Caucasian African-American Hispanic Caucasian African-American Asian African-American African-American African-American African-American African-American Hispanic Other African-American Caucasian African-American African-American Caucasian African-American African-American Caucasian Caucasian Other African-American Caucasian Caucasian Caucasian African-American Caucasian African-American African-American Hispanic African-American Caucasian African-American Other Caucasian Caucasian Hispanic African-American African-American Caucasian African-American Caucasian African-American African-American Caucasian Caucasian African-American African-American Caucasian Caucasian Caucasian African-American Other Other African-American Caucasian Hispanic African-American Caucasian Hispanic Caucasian African-American Caucasian Caucasian Hispanic African-American African-American Caucasian Hispanic Caucasian African-American Caucasian African-American Caucasian African-American African-American Caucasian Caucasian African-American Caucasian African-American Other Caucasian African-American African-American African-American African-American African-American Hispanic African-American Caucasian Caucasian African-American African-American Hispanic Caucasian Caucasian Caucasian Caucasian Caucasian African-American African-American Caucasian Caucasian African-American Caucasian Caucasian Caucasian African-American African-American African-American African-American Caucasian African-American Other Caucasian African-American Other African-American African-American Caucasian Caucasian Caucasian African-American African-American African-American African-American Hispanic African-American Caucasian Caucasian Caucasian African-American African-American Caucasian African-American Hispanic Caucasian African-American African-American Caucasian African-American Caucasian African-American African-American African-American Other African-American Hispanic African-American Caucasian Caucasian African-American African-American Caucasian African-American African-American Caucasian African-American African-American Caucasian African-American African-American African-American Other Caucasian Other Other African-American African-American Hispanic African-American Hispanic African-American Hispanic Caucasian African-American Other African-American Caucasian African-American African-American Caucasian African-American African-American Other African-American African-American Hispanic African-American African-American Caucasian African-American Caucasian Caucasian African-American Hispanic African-American African-American African-American African-American Caucasian Hispanic Caucasian Other African-American Other African-American African-American African-American African-American African-American Caucasian African-American African-American Caucasian Caucasian Caucasian Caucasian African-American African-American Hispanic Caucasian Caucasian Caucasian African-American African-American African-American African-American Hispanic Caucasian African-American Caucasian African-American Caucasian Caucasian African-American African-American African-American Caucasian African-American African-American Caucasian Caucasian African-American Caucasian Caucasian African-American African-American African-American Caucasian African-American Caucasian Caucasian African-American African-American African-American African-American African-American African-American Caucasian Caucasian Other African-American Caucasian African-American African-American African-American African-American African-American Caucasian Caucasian African-American African-American African-American African-American Caucasian African-American Hispanic Caucasian Caucasian African-American African-American African-American African-American African-American African-American African-American African-American African-American African-American Caucasian Hispanic African-American African-American African-American African-American Caucasian African-American Caucasian African-American African-American African-American Caucasian Other Caucasian African-American African-American Caucasian African-American African-American African-American African-American African-American African-American Caucasian Hispanic Caucasian African-American Other Caucasian African-American African-American African-American African-American Hispanic African-American African-American Other Caucasian Caucasian African-American African-American African-American Caucasian African-American Caucasian Other Other African-American African-American Caucasian African-American African-American African-American Caucasian Caucasian Caucasian Caucasian African-American African-American Caucasian Caucasian African-American African-American African-American African-American Hispanic Caucasian African-American Caucasian Caucasian African-American African-American Caucasian Other Caucasian African-American Caucasian Hispanic African-American Caucasian African-American Other African-American Caucasian African-American Caucasian Caucasian African-American Caucasian Other Caucasian Hispanic Caucasian Other African-American Caucasian African-American African-American African-American African-American Caucasian African-American Other Caucasian Caucasian Caucasian African-American Hispanic African-American Hispanic Caucasian Caucasian Caucasian Caucasian Caucasian African-American African-American Caucasian African-American African-American Caucasian African-American Caucasian Caucasian Caucasian Caucasian African-American African-American African-American Caucasian Caucasian Caucasian African-American African-American African-American Caucasian African-American Caucasian Caucasian Caucasian African-American African-American Caucasian African-American Hispanic Other African-American African-American African-American Other African-American Caucasian African-American Caucasian African-American African-American Caucasian African-American Caucasian African-American African-American Caucasian African-American African-American African-American African-American African-American Other African-American African-American Caucasian African-American African-American Caucasian African-American African-American Caucasian African-American Caucasian Caucasian African-American African-American Caucasian African-American Other African-American African-American African-American Caucasian African-American African-American Caucasian Caucasian Caucasian African-American Caucasian Caucasian African-American African-American African-American African-American African-American African-American Caucasian African-American African-American African-American Other Caucasian African-American Other Caucasian Caucasian African-American African-American Caucasian Hispanic African-American African-American Hispanic Caucasian African-American African-American African-American Caucasian African-American Caucasian Hispanic Other African-American Other Caucasian African-American Caucasian Other African-American Caucasian Caucasian Caucasian Hispanic Hispanic Caucasian African-American African-American African-American Caucasian African-American Caucasian Caucasian African-American African-American African-American Caucasian African-American African-American African-American Caucasian Hispanic African-American Caucasian African-American African-American Other Caucasian African-American African-American African-American African-American African-American African-American African-American Caucasian African-American Caucasian Caucasian Caucasian Caucasian Hispanic Caucasian African-American Caucasian Caucasian African-American African-American Caucasian African-American Other Caucasian African-American Caucasian Caucasian Caucasian African-American Caucasian Hispanic Caucasian African-American Caucasian Caucasian Other Hispanic Caucasian African-American African-American African-American Caucasian African-American African-American Caucasian African-American African-American Caucasian Caucasian African-American Caucasian Caucasian Hispanic African-American African-American Caucasian Other African-American Caucasian Caucasian Caucasian African-American African-American African-American African-American Hispanic Caucasian Caucasian Caucasian Caucasian African-American Caucasian African-American Hispanic Hispanic Caucasian Hispanic Hispanic Caucasian Other African-American African-American African-American African-American Caucasian African-American Caucasian African-American African-American Caucasian African-American Caucasian African-American African-American Caucasian African-American African-American Caucasian African-American Caucasian African-American African-American Asian Caucasian African-American African-American African-American African-American Caucasian Caucasian Caucasian Hispanic African-American African-American African-American Caucasian African-American Caucasian Caucasian African-American Hispanic Caucasian African-American Caucasian Hispanic Caucasian African-American Caucasian Hispanic Caucasian African-American Caucasian African-American African-American African-American African-American African-American African-American Caucasian African-American Caucasian African-American Caucasian Caucasian African-American African-American Caucasian African-American African-American African-American Caucasian Caucasian African-American Caucasian Caucasian African-American Hispanic African-American Caucasian Caucasian African-American African-American African-American African-American African-American Caucasian African-American Hispanic African-American Other Caucasian Caucasian African-American African-American African-American Other African-American African-American African-American Caucasian Caucasian Caucasian African-American African-American African-American Caucasian African-American Caucasian Caucasian African-American African-American African-American Caucasian African-American African-American African-American Caucasian African-American African-American Caucasian Caucasian African-American Caucasian Caucasian Caucasian Caucasian African-American African-American African-American African-American Caucasian Caucasian Other Hispanic Caucasian Hispanic Hispanic Hispanic Other African-American Caucasian Caucasian African-American Caucasian Caucasian Caucasian Caucasian Caucasian African-American Caucasian Caucasian African-American Caucasian African-American African-American Caucasian Caucasian Caucasian Caucasian African-American Caucasian African-American Caucasian African-American Caucasian African-American African-American African-American Other African-American Caucasian Caucasian Caucasian Caucasian Caucasian Caucasian Other African-American African-American African-American Caucasian Asian Other African-American Caucasian Caucasian Caucasian African-American African-American Caucasian African-American African-American African-American Caucasian Other Caucasian Caucasian African-American Caucasian African-American African-American African-American Caucasian Other African-American Caucasian African-American Caucasian African-American African-American African-American Caucasian African-American African-American Caucasian Caucasian Caucasian African-American African-American Caucasian African-American Caucasian Caucasian African-American African-American African-American Caucasian African-American African-American Caucasian African-American African-American African-American Caucasian African-American Caucasian African-American African-American African-American African-American African-American African-American Caucasian African-American African-American African-American Caucasian African-American African-American African-American Caucasian African-American Caucasian Caucasian Caucasian African-American African-American Caucasian African-American African-American Caucasian Caucasian African-American Caucasian African-American Caucasian African-American Caucasian African-American Caucasian African-American Caucasian Hispanic Caucasian Hispanic African-American African-American Hispanic African-American African-American African-American African-American Other African-American Caucasian Other Other Hispanic Caucasian Caucasian Caucasian Other African-American Asian Hispanic African-American African-American Caucasian Caucasian Hispanic African-American Caucasian Caucasian African-American African-American African-American Caucasian Caucasian African-American Caucasian African-American Caucasian Hispanic African-American African-American Caucasian Hispanic African-American Caucasian African-American Caucasian Caucasian African-American African-American African-American Caucasian African-American African-American African-American African-American Hispanic African-American African-American Caucasian African-American Caucasian African-American African-American Caucasian Caucasian Hispanic Caucasian African-American Caucasian African-American African-American African-American African-American African-American African-American Other African-American African-American African-American African-American Caucasian Hispanic African-American Caucasian African-American Hispanic African-American African-American African-American African-American African-American African-American African-American African-American Caucasian Caucasian African-American African-American African-American Caucasian African-American Hispanic Hispanic Caucasian African-American African-American African-American African-American Caucasian Caucasian Caucasian African-American Caucasian African-American African-American Other African-American African-American African-American Hispanic African-American Other Caucasian African-American Other Caucasian Caucasian Hispanic African-American African-American African-American Caucasian Caucasian African-American Caucasian African-American African-American African-American African-American Hispanic African-American African-American African-American Caucasian African-American African-American Other African-American Caucasian African-American Caucasian Hispanic African-American African-American African-American Caucasian Caucasian African-American African-American Caucasian African-American African-American Caucasian Caucasian Asian Caucasian African-American Caucasian African-American African-American Hispanic Caucasian African-American African-American Caucasian Caucasian African-American Caucasian African-American Caucasian Caucasian Hispanic African-American African-American Other African-American Hispanic African-American Caucasian Caucasian Caucasian Other Hispanic Hispanic African-American African-American African-American Caucasian Caucasian African-American Caucasian African-American Caucasian Caucasian African-American Caucasian African-American Caucasian Other African-American Caucasian Caucasian African-American Caucasian African-American Caucasian African-American African-American African-American African-American Caucasian African-American African-American African-American African-American African-American Hispanic African-American African-American African-American African-American Caucasian African-American African-American Caucasian Other Caucasian Hispanic Hispanic African-American Caucasian African-American African-American Caucasian Caucasian African-American African-American African-American Caucasian African-American African-American Caucasian African-American African-American Caucasian African-American African-American African-American African-American African-American Caucasian Caucasian African-American African-American African-American African-American African-American Caucasian Caucasian African-American Other African-American African-American African-American Caucasian Caucasian Caucasian Caucasian African-American Caucasian Caucasian African-American African-American Caucasian African-American Caucasian African-American African-American Caucasian Caucasian African-American African-American Other African-American Caucasian African-American African-American Caucasian Hispanic African-American Caucasian Caucasian African-American Hispanic African-American African-American African-American African-American African-American African-American Other Caucasian Caucasian Hispanic African-American Caucasian Caucasian African-American African-American Caucasian African-American Caucasian African-American Caucasian Hispanic African-American Caucasian African-American African-American Caucasian Hispanic African-American Other Hispanic African-American African-American Caucasian Caucasian African-American Caucasian African-American Caucasian Caucasian African-American Caucasian African-American Other African-American African-American African-American Caucasian Other African-American African-American Caucasian Hispanic African-American Hispanic African-American African-American Caucasian Caucasian Hispanic Caucasian Caucasian African-American African-American African-American Caucasian Caucasian Other Caucasian African-American Caucasian Caucasian African-American African-American African-American African-American Caucasian Caucasian African-American Caucasian Hispanic African-American Caucasian Caucasian Other African-American African-American Caucasian African-American African-American African-American Hispanic Caucasian African-American African-American African-American Hispanic African-American African-American Hispanic African-American African-American African-American African-American African-American African-American African-American Caucasian African-American Caucasian African-American Caucasian African-American African-American Caucasian Caucasian African-American African-American Caucasian African-American African-American African-American Caucasian Caucasian African-American African-American African-American Hispanic African-American African-American Caucasian Other Caucasian African-American African-American African-American Caucasian Asian Caucasian African-American Caucasian Hispanic African-American Hispanic African-American African-American African-American African-American African-American Caucasian Caucasian African-American African-American African-American African-American African-American Caucasian Caucasian African-American Caucasian Caucasian African-American African-American African-American Caucasian African-American Other Caucasian African-American Caucasian Hispanic African-American Caucasian Caucasian African-American African-American African-American Native American African-American African-American African-American Caucasian African-American Caucasian African-American Caucasian Caucasian Caucasian African-American Caucasian Caucasian Hispanic Caucasian Other Caucasian Hispanic African-American African-American African-American Caucasian Caucasian African-American African-American Caucasian Caucasian African-American African-American African-American Caucasian African-American Caucasian Asian African-American African-American Caucasian Other Caucasian African-American African-American African-American Caucasian Other African-American African-American African-American Hispanic Caucasian African-American African-American Caucasian African-American Hispanic Caucasian Hispanic African-American African-American African-American Caucasian African-American African-American Caucasian Caucasian Caucasian Hispanic African-American Hispanic African-American Hispanic Caucasian African-American Caucasian Hispanic Other African-American Caucasian African-American African-American African-American African-American Caucasian Caucasian Hispanic African-American African-American African-American African-American African-American Caucasian African-American African-American African-American Caucasian Caucasian Caucasian African-American Hispanic Caucasian Caucasian Other African-American African-American African-American African-American Caucasian African-American African-American African-American Caucasian African-American Caucasian African-American Caucasian Hispanic African-American Caucasian Caucasian Caucasian African-American Caucasian Caucasian African-American African-American Caucasian African-American Caucasian African-American Caucasian African-American African-American African-American African-American Other Other African-American African-American African-American African-American Caucasian Other Caucasian Caucasian Hispanic Caucasian African-American African-American Caucasian Caucasian African-American Other African-American Caucasian African-American African-American African-American Caucasian Other African-American African-American Other African-American African-American Caucasian African-American Caucasian Caucasian African-American African-American African-American African-American Hispanic Caucasian Caucasian Native American Other Caucasian African-American Caucasian African-American African-American African-American African-American African-American African-American African-American Caucasian Caucasian African-American Caucasian Asian African-American African-American African-American African-American Hispanic Other African-American Caucasian Caucasian African-American Caucasian African-American Caucasian African-American Hispanic Caucasian African-American Caucasian Caucasian African-American African-American African-American African-American African-American African-American Caucasian Caucasian African-American Caucasian African-American African-American Other Other African-American African-American Hispanic Caucasian African-American African-American African-American African-American African-American African-American African-American African-American Hispanic Caucasian African-American Caucasian Caucasian Other Caucasian African-American Caucasian African-American African-American African-American Caucasian Caucasian African-American African-American Caucasian African-American African-American African-American Caucasian Caucasian African-American Caucasian African-American Caucasian African-American Hispanic African-American African-American African-American Caucasian African-American African-American African-American African-American African-American African-American Hispanic Caucasian African-American African-American Caucasian Caucasian Hispanic African-American Caucasian African-American Hispanic Caucasian Caucasian Caucasian African-American African-American Other Caucasian Caucasian Caucasian Caucasian Caucasian African-American Caucasian African-American African-American Caucasian African-American African-American Hispanic African-American African-American Other Other African-American African-American African-American Hispanic Hispanic African-American Other African-American Other Caucasian African-American Caucasian African-American Caucasian Caucasian Hispanic African-American Other African-American African-American Other Caucasian African-American Caucasian African-American Hispanic Hispanic African-American Caucasian African-American African-American African-American African-American African-American Caucasian Other African-American African-American African-American Other Caucasian African-American Caucasian Caucasian Caucasian Hispanic African-American African-American Other African-American African-American Caucasian Caucasian African-American Caucasian Other African-American Other Other African-American African-American Caucasian Caucasian African-American African-American African-American African-American African-American African-American African-American African-American Caucasian Hispanic Hispanic Caucasian African-American African-American African-American African-American African-American African-American African-American Hispanic African-American Caucasian African-American Hispanic Caucasian African-American African-American Caucasian African-American Caucasian Caucasian African-American African-American Hispanic Caucasian Caucasian Caucasian African-American Caucasian Other Hispanic Other African-American African-American Caucasian African-American Caucasian Caucasian African-American African-American Caucasian African-American African-American African-American African-American African-American African-American African-American African-American African-American Hispanic Caucasian African-American African-American African-American Caucasian Caucasian African-American Caucasian Caucasian African-American African-American Caucasian Hispanic Caucasian African-American African-American Caucasian Caucasian African-American African-American African-American African-American African-American Caucasian African-American African-American Caucasian Hispanic Caucasian Caucasian Hispanic Hispanic African-American Caucasian Other Hispanic African-American African-American African-American African-American Hispanic African-American Caucasian African-American Caucasian Caucasian African-American African-American African-American Caucasian African-American Caucasian African-American Caucasian African-American African-American Other African-American African-American African-American African-American Caucasian African-American Caucasian African-American African-American African-American African-American African-American Caucasian Caucasian Caucasian African-American African-American Other Caucasian African-American Hispanic Caucasian Caucasian Caucasian African-American Caucasian Hispanic African-American Caucasian Caucasian African-American Hispanic African-American African-American African-American Hispanic Caucasian Caucasian African-American African-American Caucasian African-American Caucasian Caucasian African-American African-American African-American Caucasian African-American Hispanic African-American African-American African-American Caucasian Caucasian African-American African-American African-American Caucasian African-American African-American Caucasian Caucasian Caucasian African-American African-American African-American African-American Caucasian Caucasian African-American African-American Caucasian African-American Hispanic African-American Caucasian African-American Hispanic Other Caucasian African-American African-American Caucasian Caucasian Caucasian African-American African-American African-American Caucasian Caucasian Caucasian African-American Caucasian African-American Caucasian Caucasian African-American Caucasian African-American African-American Caucasian Caucasian African-American African-American Caucasian Caucasian African-American African-American Caucasian African-American African-American African-American African-American Caucasian Caucasian African-American African-American African-American Caucasian Caucasian African-American African-American African-American Caucasian African-American African-American African-American African-American Caucasian Hispanic Caucasian African-American African-American Caucasian African-American Other African-American African-American African-American Caucasian Caucasian Hispanic Caucasian African-American Caucasian Caucasian African-American Asian African-American African-American African-American African-American Caucasian African-American Caucasian African-American Caucasian African-American Caucasian Caucasian African-American African-American Caucasian Caucasian Other African-American African-American African-American Caucasian Caucasian African-American African-American Caucasian Caucasian Asian Caucasian Caucasian African-American Asian African-American Hispanic Caucasian African-American Caucasian Caucasian Hispanic Caucasian Caucasian Caucasian African-American African-American African-American Hispanic Hispanic African-American African-American Caucasian African-American Caucasian Caucasian Other African-American Asian African-American African-American African-American African-American Hispanic Caucasian African-American African-American Caucasian African-American Other African-American African-American Caucasian Hispanic Caucasian African-American African-American Caucasian African-American African-American African-American Caucasian Caucasian African-American Other Caucasian African-American African-American African-American African-American Caucasian African-American Other African-American African-American Hispanic African-American Hispanic Other African-American African-American Caucasian Caucasian Caucasian Caucasian African-American African-American African-American Caucasian African-American Caucasian African-American African-American Caucasian African-American African-American Caucasian Other African-American African-American Caucasian Caucasian African-American Asian Caucasian African-American Other Hispanic African-American Caucasian Hispanic African-American African-American African-American Hispanic Caucasian African-American African-American Caucasian Caucasian Caucasian Hispanic African-American African-American Caucasian African-American African-American Caucasian African-American Caucasian African-American Caucasian Caucasian African-American African-American African-American Other African-American Caucasian Hispanic Caucasian Other Caucasian Caucasian Hispanic African-American African-American Caucasian Hispanic Caucasian African-American African-American African-American African-American African-American African-American African-American Caucasian Caucasian African-American Caucasian African-American African-American Caucasian African-American Caucasian African-American African-American Caucasian Caucasian African-American African-American African-American Caucasian African-American Other African-American Caucasian African-American African-American African-American African-American Hispanic Hispanic African-American African-American Caucasian African-American Hispanic African-American African-American Caucasian African-American African-American African-American Caucasian Caucasian Caucasian African-American African-American African-American Caucasian African-American African-American Caucasian African-American Caucasian African-American African-American Caucasian Caucasian African-American African-American African-American Caucasian Hispanic Other African-American African-American Hispanic African-American African-American African-American African-American African-American Caucasian African-American African-American Caucasian Caucasian African-American Hispanic Caucasian African-American African-American African-American Caucasian African-American Other African-American Caucasian African-American African-American African-American African-American African-American Caucasian Caucasian African-American Caucasian African-American Hispanic African-American African-American Hispanic Caucasian Caucasian African-American Caucasian Other Hispanic African-American African-American Caucasian Caucasian African-American Caucasian African-American Caucasian African-American African-American African-American Asian Caucasian African-American African-American Caucasian Caucasian Caucasian Caucasian African-American African-American Caucasian Caucasian African-American Caucasian African-American Other African-American African-American African-American Caucasian Hispanic African-American Hispanic Caucasian Caucasian Caucasian African-American African-American African-American Caucasian Caucasian African-American Caucasian Caucasian Caucasian Caucasian Other Caucasian Caucasian Hispanic African-American Caucasian Caucasian African-American African-American Caucasian Caucasian African-American African-American African-American Asian Hispanic African-American Caucasian African-American Caucasian Caucasian Caucasian Caucasian Hispanic African-American Caucasian Caucasian Asian Caucasian Caucasian Caucasian African-American Hispanic African-American Caucasian African-American African-American Hispanic Hispanic Hispanic African-American African-American Caucasian African-American Other African-American African-American Hispanic Hispanic Caucasian African-American Hispanic African-American African-American Caucasian African-American Caucasian African-American Hispanic Other Other African-American African-American Caucasian Other Caucasian African-American African-American African-American Hispanic Hispanic Caucasian Hispanic Caucasian African-American African-American African-American African-American Caucasian African-American African-American African-American Caucasian African-American Other Caucasian African-American African-American African-American African-American Other Caucasian Caucasian African-American Caucasian African-American African-American Caucasian African-American Caucasian Caucasian African-American African-American African-American Hispanic Caucasian African-American African-American African-American Other Caucasian Caucasian African-American African-American Other African-American Caucasian Other African-American Native American Caucasian African-American Hispanic African-American Caucasian African-American African-American African-American Caucasian Caucasian Hispanic African-American African-American Caucasian Caucasian African-American African-American Caucasian African-American African-American Caucasian Other African-American Caucasian Caucasian Hispanic African-American Caucasian African-American Caucasian African-American Hispanic African-American African-American Other African-American African-American African-American African-American Caucasian Caucasian Caucasian African-American Caucasian Caucasian Hispanic African-American African-American Hispanic African-American Caucasian Caucasian African-American Caucasian African-American Caucasian African-American African-American Hispanic African-American Caucasian Hispanic Caucasian Other Caucasian African-American Caucasian Caucasian Other Caucasian African-American African-American African-American African-American African-American Caucasian African-American Caucasian Caucasian Hispanic African-American African-American Caucasian African-American Other African-American Other Caucasian African-American Caucasian African-American African-American African-American Other Caucasian Caucasian Caucasian Caucasian African-American Other Caucasian African-American African-American African-American African-American African-American Other Caucasian Hispanic African-American Caucasian Caucasian Hispanic Caucasian African-American African-American Hispanic African-American Caucasian African-American African-American Hispanic Caucasian African-American African-American Caucasian Other African-American African-American African-American African-American Hispanic Caucasian African-American Caucasian Caucasian African-American Caucasian Caucasian Caucasian African-American Caucasian Caucasian African-American Caucasian Caucasian Caucasian Caucasian African-American African-American African-American Caucasian Caucasian Caucasian African-American African-American Caucasian African-American African-American Other Caucasian African-American Caucasian Caucasian African-American Caucasian Caucasian Caucasian African-American African-American Hispanic African-American Caucasian Caucasian African-American African-American Caucasian African-American Caucasian African-American Caucasian Caucasian African-American Caucasian Caucasian African-American African-American African-American African-American Hispanic African-American African-American Hispanic Other African-American African-American African-American Caucasian Other African-American African-American African-American Caucasian Caucasian Hispanic Caucasian African-American Hispanic African-American African-American African-American Caucasian African-American Caucasian African-American African-American African-American Caucasian Caucasian African-American Caucasian Caucasian Caucasian African-American African-American African-American Native American Other African-American African-American African-American African-American Other Hispanic Caucasian Caucasian Caucasian Other African-American Caucasian Caucasian Caucasian Caucasian Caucasian Other African-American Hispanic Caucasian African-American African-American African-American African-American African-American African-American Caucasian Caucasian African-American African-American African-American Caucasian Caucasian Hispanic African-American Caucasian African-American Hispanic African-American African-American African-American African-American African-American Caucasian Caucasian African-American African-American African-American African-American Other Hispanic Hispanic Caucasian Caucasian African-American African-American African-American African-American African-American African-American Caucasian African-American Caucasian Caucasian African-American African-American Caucasian Hispanic African-American African-American Hispanic African-American African-American Hispanic African-American African-American African-American Caucasian Caucasian Caucasian African-American Caucasian African-American African-American Hispanic Hispanic African-American African-American African-American Hispanic African-American African-American African-American African-American Caucasian Caucasian African-American Hispanic Caucasian Caucasian Hispanic African-American Caucasian Caucasian Caucasian Caucasian African-American African-American Caucasian African-American African-American Other Other African-American African-American African-American African-American Caucasian African-American African-American Caucasian Caucasian Caucasian Caucasian Hispanic African-American African-American Caucasian Caucasian Hispanic Caucasian Caucasian African-American Caucasian Caucasian Caucasian African-American Other African-American African-American African-American Caucasian Caucasian Caucasian Hispanic Hispanic Caucasian African-American African-American Caucasian Caucasian African-American African-American Caucasian Hispanic Caucasian African-American Caucasian African-American African-American African-American Caucasian African-American Caucasian African-American Caucasian African-American African-American Caucasian African-American Caucasian African-American African-American African-American African-American African-American African-American African-American African-American Hispanic Caucasian African-American Other African-American African-American Caucasian Other African-American African-American African-American African-American Caucasian African-American Caucasian Caucasian African-American African-American Other African-American Caucasian African-American African-American African-American Caucasian African-American African-American African-American African-American African-American Hispanic African-American African-American African-American African-American Other African-American African-American African-American Caucasian Caucasian Caucasian African-American African-American Caucasian African-American African-American Caucasian African-American African-American Caucasian African-American African-American African-American African-American Caucasian Other Caucasian Caucasian African-American Hispanic African-American Other Hispanic African-American African-American African-American African-American African-American Caucasian African-American Hispanic Caucasian Caucasian Hispanic Caucasian Caucasian African-American African-American African-American Caucasian Hispanic African-American African-American Caucasian African-American African-American African-American African-American Caucasian African-American African-American Caucasian Hispanic African-American African-American African-American African-American African-American African-American African-American Caucasian Caucasian African-American African-American African-American African-American African-American African-American African-American Caucasian African-American African-American Caucasian African-American African-American African-American Hispanic Caucasian African-American Caucasian African-American Caucasian African-American African-American African-American Caucasian African-American African-American African-American African-American Caucasian African-American Hispanic Caucasian Caucasian African-American Caucasian Caucasian African-American African-American African-American African-American African-American African-American Caucasian African-American African-American Caucasian African-American Caucasian African-American African-American African-American Caucasian African-American African-American African-American African-American Caucasian African-American Caucasian Caucasian African-American African-American Caucasian African-American Caucasian African-American African-American African-American Other African-American African-American Caucasian Caucasian African-American African-American Caucasian African-American African-American African-American African-American African-American African-American Caucasian Caucasian African-American Caucasian Caucasian Caucasian African-American African-American Other African-American African-American African-American Caucasian African-American Caucasian African-American Caucasian Caucasian Hispanic Caucasian African-American Hispanic Caucasian Caucasian Caucasian African-American African-American African-American Caucasian African-American Other African-American African-American African-American African-American African-American Hispanic African-American Other African-American Hispanic Caucasian Caucasian African-American African-American African-American Caucasian Caucasian Hispanic African-American African-American African-American Hispanic African-American African-American African-American African-American Caucasian Caucasian African-American African-American African-American Caucasian Caucasian Caucasian African-American Caucasian African-American African-American African-American African-American African-American Caucasian African-American African-American African-American Other Caucasian African-American Other Hispanic African-American Hispanic African-American African-American African-American African-American African-American African-American African-American Caucasian African-American African-American African-American Other African-American Caucasian African-American Caucasian African-American African-American African-American African-American Caucasian African-American African-American Caucasian Hispanic Other Caucasian African-American Other African-American Caucasian Other Caucasian Caucasian African-American Other African-American Caucasian Hispanic Hispanic African-American African-American African-American African-American African-American Caucasian African-American Other Caucasian African-American Caucasian African-American African-American African-American Caucasian African-American African-American Hispanic African-American Caucasian African-American African-American African-American African-American African-American Other African-American African-American African-American African-American Caucasian Other Caucasian Hispanic Other African-American Other African-American Hispanic Caucasian Other African-American African-American African-American African-American African-American African-American African-American Other Hispanic Caucasian African-American Caucasian Caucasian African-American Other African-American Hispanic Caucasian Caucasian African-American Caucasian Caucasian Caucasian African-American Other African-American African-American Caucasian African-American Caucasian Caucasian African-American African-American Caucasian Caucasian Caucasian Caucasian Hispanic African-American African-American Hispanic Caucasian Caucasian African-American African-American African-American Caucasian Hispanic Caucasian Caucasian African-American Caucasian Caucasian Other Hispanic Caucasian African-American African-American Caucasian African-American Caucasian Hispanic African-American Hispanic African-American Caucasian African-American African-American Caucasian African-American African-American African-American Hispanic African-American African-American Other Caucasian African-American Caucasian Caucasian Native American African-American Hispanic African-American Hispanic African-American Caucasian Caucasian Caucasian Caucasian Hispanic Other African-American Other Caucasian African-American Caucasian African-American African-American Caucasian African-American Caucasian African-American African-American Caucasian Caucasian African-American African-American African-American Caucasian Other African-American Hispanic African-American Caucasian African-American African-American African-American African-American Caucasian Caucasian Caucasian Caucasian African-American Caucasian African-American Other Caucasian Caucasian African-American African-American African-American African-American African-American African-American African-American Caucasian African-American African-American Caucasian Caucasian Caucasian Caucasian African-American Caucasian Caucasian African-American Caucasian African-American Caucasian African-American African-American African-American African-American Caucasian Hispanic Caucasian Other African-American Caucasian Caucasian Caucasian African-American Caucasian African-American African-American Other African-American Other African-American Caucasian Caucasian Other Caucasian Caucasian Caucasian Caucasian African-American African-American African-American Hispanic African-American Caucasian African-American African-American Other African-American Caucasian African-American Hispanic African-American African-American African-American Caucasian African-American African-American African-American African-American African-American Other African-American Hispanic African-American African-American Caucasian Hispanic African-American African-American African-American Caucasian Caucasian African-American African-American African-American African-American African-American Caucasian Caucasian Caucasian African-American Hispanic Other African-American African-American Caucasian Caucasian African-American African-American African-American African-American African-American Caucasian African-American Caucasian African-American Caucasian African-American Hispanic Caucasian African-American African-American Hispanic African-American Hispanic African-American African-American African-American Caucasian Caucasian Caucasian African-American Caucasian Caucasian African-American Caucasian Caucasian Caucasian African-American Asian Caucasian African-American African-American African-American African-American Caucasian African-American Caucasian African-American Caucasian African-American Other Caucasian Asian African-American Hispanic African-American Caucasian Caucasian Hispanic African-American African-American African-American African-American African-American Hispanic Caucasian African-American African-American Other African-American African-American African-American African-American African-American African-American Caucasian African-American Caucasian Caucasian African-American African-American Asian African-American Hispanic Caucasian Other Caucasian African-American Caucasian Hispanic African-American African-American African-American Caucasian African-American African-American Caucasian Caucasian African-American Caucasian Caucasian Hispanic African-American African-American Caucasian African-American Caucasian African-American Caucasian African-American Caucasian African-American African-American African-American Hispanic African-American Caucasian Hispanic African-American Caucasian Caucasian Caucasian African-American African-American African-American African-American Caucasian Hispanic Caucasian Caucasian Caucasian African-American Caucasian African-American Caucasian Caucasian African-American Caucasian Caucasian African-American African-American Caucasian African-American Caucasian African-American African-American African-American African-American Caucasian African-American African-American Hispanic Hispanic African-American Caucasian African-American African-American African-American African-American Other African-American Hispanic ]\n",
      "[ 3 0 0 3 1 3 1 1 0 1 0 1 0 4 0 1 1 0 0 1 1 4 1 3 0 0 0 1 0 1 3 1 1 0 1 0 0 1 0 0 1 0 1 0 1 3 0 0 4 0 1 0 0 1 0 0 4 0 3 0 4 4 0 0 1 0 0 1 0 0 0 0 3 0 3 0 0 0 1 3 1 1 1 1 4 0 0 1 1 1 1 1 1 0 1 1 0 0 1 0 0 0 0 3 1 0 1 0 1 1 1 3 1 0 1 1 0 1 0 1 0 1 0 0 0 0 0 0 0 1 0 3 4 0 4 0 1 1 0 1 0 1 1 0 4 0 4 0 4 0 4 4 1 1 3 0 0 0 4 0 1 0 1 0 1 0 0 0 3 1 1 1 0 3 0 0 0 1 0 0 1 0 0 1 1 3 0 1 0 0 0 0 3 0 0 0 1 1 0 1 0 1 0 0 4 1 1 0 1 0 1 0 1 3 3 4 4 1 4 0 0 0 3 0 0 0 4 0 0 0 1 1 0 0 1 0 3 0 0 1 1 1 0 0 4 1 0 1 0 0 3 1 0 0 1 1 3 0 4 0 1 1 1 3 0 0 1 1 0 0 1 0 1 1 4 0 1 4 1 0 1 0 3 0 1 4 0 0 0 1 0 4 3 1 1 1 0 1 0 0 0 1 0 3 4 1 0 1 0 0 1 1 1 0 1 0 0 0 0 0 1 0 0 0 0 1 1 0 0 1 4 0 0 0 1 0 0 1 0 3 4 1 1 0 0 1 4 1 1 0 1 0 3 0 1 0 0 4 1 0 1 0 1 1 0 0 1 1 1 1 4 0 0 1 0 0 0 1 0 1 3 0 0 0 1 1 0 0 0 1 0 0 0 0 0 0 0 1 0 0 1 4 1 1 1 1 4 1 2 4 4 1 1 2 0 1 1 0 0 1 0 1 4 4 0 1 1 1 1 3 0 1 4 3 0 0 3 0 0 1 1 0 0 1 1 1 1 0 0 0 1 1 3 1 4 0 0 1 4 1 0 4 1 0 1 0 0 0 3 0 0 1 0 0 0 1 0 0 0 1 1 4 0 1 0 1 0 4 0 4 1 1 1 1 0 1 1 3 4 3 0 1 0 4 4 1 0 0 0 0 0 0 4 0 1 1 1 0 1 0 0 1 1 0 0 1 0 1 0 0 0 4 0 1 1 1 1 0 0 1 3 0 1 0 0 0 0 0 1 1 0 0 0 1 0 0 0 0 4 0 0 0 1 4 0 0 3 3 0 1 0 0 0 0 1 1 4 0 0 2 1 0 0 0 1 0 1 0 0 0 0 0 0 0 0 1 1 1 0 4 1 0 0 0 0 1 1 1 4 1 1 1 1 4 0 1 1 0 0 0 0 0 0 0 0 0 0 1 3 1 0 1 0 0 0 0 0 0 0 0 0 0 3 3 1 0 5 0 0 0 0 3 0 0 3 4 0 0 1 1 0 0 1 1 1 0 1 3 0 1 0 1 0 0 3 0 3 1 0 0 4 1 0 0 0 3 0 0 0 0 1 0 0 1 0 0 1 3 1 1 0 0 1 0 3 3 0 0 0 0 0 1 0 0 1 0 0 0 3 1 0 1 1 0 0 1 0 1 0 1 1 0 1 0 0 0 1 0 0 0 0 3 0 1 0 0 0 1 1 0 3 0 1 0 4 0 1 0 1 0 4 0 1 1 4 4 0 0 0 4 1 0 1 1 1 4 4 0 0 0 0 1 0 1 0 0 0 0 1 0 0 0 4 4 4 1 4 0 0 0 4 1 0 0 0 1 1 0 0 0 1 1 1 1 0 0 1 4 0 4 0 0 0 1 0 0 0 0 0 0 1 0 4 0 0 0 1 0 1 0 0 4 0 0 0 4 1 0 0 4 4 4 0 0 4 1 0 0 0 0 0 0 1 4 4 0 1 4 4 0 0 3 0 1 0 0 0 0 1 1 3 1 0 0 1 0 0 0 0 1 1 0 0 4 0 0 1 0 0 1 3 1 0 0 0 0 0 0 1 1 0 1 0 0 4 1 1 1 0 4 1 0 1 1 0 4 0 4 0 1 1 0 1 0 0 1 0 1 1 4 0 1 1 1 3 1 1 0 0 0 0 0 1 1 0 0 0 0 0 0 0 1 1 0 0 3 1 1 1 1 1 0 1 1 1 0 0 4 1 0 0 1 4 0 0 4 0 5 0 4 0 0 0 0 1 0 1 3 4 5 1 0 3 0 1 1 4 1 0 2 1 1 4 1 0 0 1 0 0 0 1 0 0 1 0 0 0 0 1 4 0 1 0 0 0 1 0 0 3 4 3 0 0 0 1 0 0 1 4 1 0 3 1 0 1 1 1 0 0 0 1 1 1 0 3 1 0 4 4 1 1 1 1 0 1 0 0 1 4 0 0 3 1 4 4 1 1 0 4 0 3 0 1 0 2 1 2 0 1 0 1 1 1 0 1 0 0 0 1 4 3 1 0 0 0 1 0 0 3 4 0 3 1 0 1 1 0 1 0 0 0 0 4 0 0 4 0 1 1 0 0 0 3 1 0 0 1 0 0 0 0 0 1 0 1 1 1 0 1 1 0 4 0 4 1 0 0 0 1 0 0 1 1 0 0 1 0 3 3 0 0 1 1 1 0 0 0 0 1 0 0 3 1 0 1 1 0 1 0 0 4 1 0 0 1 0 0 3 0 0 0 1 1 0 1 0 0 0 1 1 0 0 0 0 4 0 0 0 1 0 0 1 0 3 1 1 0 0 1 4 1 0 0 1 0 1 0 0 0 0 3 1 1 0 0 0 5 1 1 3 1 1 0 4 0 1 0 4 0 1 0 1 1 1 1 1 1 1 1 1 1 4 0 3 1 0 1 0 0 0 4 0 0 2 0 1 4 0 0 4 0 1 0 0 0 0 1 0 0 1 1 1 1 4 0 1 0 0 0 4 0 3 0 0 1 3 0 0 0 0 1 1 1 4 0 0 0 0 0 4 1 4 0 1 4 1 1 0 1 0 1 0 1 0 2 3 0 3 0 0 1 0 1 1 3 1 3 0 1 0 0 0 0 3 0 1 0 0 0 0 1 0 1 0 1 4 0 1 0 1 3 1 1 0 4 0 1 0 0 4 0 0 0 0 0 0 0 0 3 1 1 0 0 0 1 1 0 0 1 1 1 0 1 0 0 0 1 0 1 1 4 3 0 1 0 1 0 0 1 1 1 1 3 0 1 1 0 1 4 4 0 1 0 0 4 0 0 0 1 0 0 0 0 1 1 0 4 0 0 0 1 0 0 0 1 0 1 1 1 0 3 4 1 1 1 0 0 0 0 1 1 0 1 1 0 0 0 1 1 0 1 0 0 0 1 0 1 0 0 1 0 4 0 1 0 0 0 0 1 1 4 1 0 0 4 3 4 0 1 2 4 0 0 0 3 1 1 1 0 0 4 1 0 1 0 1 0 0 1 0 0 1 3 1 0 0 1 1 0 1 0 0 0 1 1 0 0 1 0 0 1 0 4 0 1 1 0 1 1 4 1 0 4 0 2 0 1 0 1 4 1 1 1 3 0 0 0 0 0 1 0 0 3 0 0 1 4 0 0 1 0 0 1 1 0 0 0 0 4 0 0 1 1 0 0 1 0 0 1 0 0 1 1 0 3 4 0 0 0 1 0 0 0 0 0 1 0 1 0 0 1 1 0 0 1 0 1 0 0 0 1 1 4 0 1 5 0 0 0 0 0 1 0 1 1 1 0 0 4 3 0 4 0 0 0 1 0 1 1 0 0 0 0 0 0 0 1 0 3 0 1 0 4 1 0 1 0 0 0 0 0 0 0 0 1 0 0 0 1 1 1 0 0 0 4 0 0 0 1 0 0 0 3 1 1 0 4 2 0 0 0 4 1 0 4 4 0 1 1 0 4 0 4 1 1 3 3 1 1 0 1 0 4 1 1 0 1 1 0 1 0 3 1 0 1 1 0 0 3 0 0 1 3 3 0 1 1 0 3 0 0 0 4 1 1 3 1 0 0 1 1 0 0 0 1 0 0 1 1 1 1 0 5 0 1 1 0 1 0 0 0 0 0 0 1 1 1 0 3 0 0 0 0 4 1 3 4 1 0 0 1 0 1 1 4 1 1 1 1 1 1 1 0 0 1 0 1 0 0 1 4 0 0 1 0 0 0 0 1 0 0 0 0 0 0 0 0 0 0 4 0 4 0 4 3 0 0 0 1 1 0 1 0 1 0 1 3 0 0 0 0 0 0 1 1 1 0 0 1 1 1 0 1 0 0 0 1 1 4 0 1 0 0 0 1 1 1 1 1 1 0 0 0 0 0 0 0 1 0 1 1 1 3 0 1 0 0 0 1 0 0 1 0 4 0 0 0 0 1 0 4 0 4 0 1 0 1 3 4 0 1 0 4 1 1 1 1 0 0 1 1 1 0 4 0 0 0 1 1 4 0 0 0 1 1 1 0 0 1 0 4 1 1 4 1 0 1 1 0 4 0 0 0 0 1 0 0 0 1 1 0 0 1 1 0 0 1 1 1 0 0 1 0 0 1 1 0 0 0 0 0 0 0 0 3 3 0 0 0 0 0 1 3 0 0 0 1 1 0 0 0 3 0 0 0 1 1 1 0 1 1 4 0 0 0 1 0 1 0 1 1 0 0 4 3 0 4 0 1 1 1 1 0 0 0 1 1 0 0 0 1 0 0 0 0 1 1 0 1 0 1 4 1 1 1 0 1 0 1 1 0 1 1 1 1 0 0 0 0 1 0 0 1 1 1 0 0 0 3 0 0 3 0 0 0 1 1 1 0 0 0 1 4 4 0 0 0 0 0 0 0 3 1 1 1 1 0 0 0 0 1 1 0 0 1 1 1 3 0 4 1 0 1 0 0 4 1 0 4 0 0 2 3 0 0 0 1 0 0 0 0 1 0 1 0 4 0 3 0 1 1 1 0 4 1 1 0 0 1 1 0 1 0 1 1 0 0 0 4 1 0 4 4 4 4 0 0 0 0 0 0 0 1 0 1 1 0 1 0 1 0 0 3 0 1 4 0 4 0 1 0 0 1 1 4 0 1 1 1 0 0 0 0 1 1 1 1 1 1 1 1 0 0 1 0 0 4 0 1 1 0 1 0 0 0 1 0 0 1 1 0 0 0 1 1 1 4 1 0 0 0 0 1 0 0 0 1 0 0 0 0 0 0 1 1 0 0 1 0 1 1 1 0 1 0 4 1 1 3 1 1 0 0 0 4 0 0 0 1 0 1 0 1 0 3 1 0 3 0 0 1 4 1 1 4 0 0 0 0 4 4 0 0 0 1 0 1 0 1 0 0 0 3 0 0 0 0 4 0 4 3 1 0 3 3 4 1 1 0 4 0 0 1 0 0 0 0 0 1 0 4 0 1 0 0 0 0 3 0 0 1 0 4 0 3 0 1 0 1 1 0 3 1 3 0 4 0 1 0 3 0 1 1 0 0 0 0 1 1 1 0 0 1 0 1 0 4 0 4 1 0 1 1 0 1 1 1 0 0 3 1 4 1 1 4 1 3 0 1 1 1 1 1 1 1 0 0 0 0 1 0 0 0 1 1 0 0 4 1 1 0 0 0 0 0 1 0 0 1 4 0 0 0 0 0 0 1 0 1 0 0 1 0 0 3 0 1 0 0 0 1 1 4 1 3 3 1 0 1 0 1 0 0 0 4 0 1 4 0 0 0 0 1 1 0 0 0 1 1 0 4 1 0 2 0 0 0 0 0 4 3 0 1 0 0 1 0 0 1 1 3 0 1 1 1 0 1 0 0 4 0 1 0 3 1 1 4 0 0 1 0 1 0 0 1 1 0 0 1 1 1 0 3 3 0 1 4 0 1 4 1 0 1 1 4 0 0 1 4 1 0 1 0 1 0 0 1 1 0 1 0 3 1 0 0 0 0 0 4 0 1 1 0 0 4 1 1 1 1 1 0 0 1 1 0 1 1 1 0 0 0 0 1 0 3 1 0 3 0 0 1 1 1 0 0 0 0 4 0 1 1 1 0 0 1 0 4 1 0 0 1 0 1 0 0 0 3 0 4 0 1 1 0 0 1 0 0 1 0 0 1 0 0 0 3 1 3 3 0 0 4 0 4 0 4 1 0 3 0 1 0 0 1 0 0 3 0 0 4 0 0 1 0 1 1 0 4 0 0 0 0 1 4 1 3 0 3 0 0 0 0 0 1 0 0 1 1 1 1 0 0 4 1 1 1 0 0 0 0 4 1 0 1 0 1 1 0 0 0 1 0 0 1 1 0 1 1 0 0 0 1 0 1 1 0 0 0 0 0 0 1 1 3 0 1 0 0 0 0 0 1 1 0 0 0 0 1 0 4 1 1 0 0 0 0 0 0 0 0 0 0 1 4 0 0 0 0 1 0 1 0 0 0 1 3 1 0 0 1 0 0 0 0 0 0 1 4 1 0 3 1 0 0 0 0 4 0 0 3 1 1 0 0 0 1 0 1 3 3 0 0 1 0 0 0 1 1 1 1 0 0 1 1 0 0 0 0 4 1 0 1 1 0 0 1 3 1 0 1 4 0 1 0 3 0 1 0 1 1 0 1 3 1 4 1 3 0 1 0 0 0 0 1 0 3 1 1 1 0 4 0 4 1 1 1 1 1 0 0 1 0 0 1 0 1 1 1 1 0 0 0 1 1 1 0 0 0 1 0 1 1 1 0 0 1 0 4 3 0 0 0 3 0 1 0 1 0 0 1 0 1 0 0 1 0 0 0 0 0 3 0 0 1 0 0 1 0 0 1 0 1 1 0 0 1 0 3 0 0 0 1 0 0 1 1 1 0 1 1 0 0 0 0 0 0 1 0 0 0 3 1 0 3 1 1 0 0 1 4 0 0 4 1 0 0 0 1 0 1 4 3 0 3 1 0 1 3 0 1 1 1 4 4 1 0 0 0 1 0 1 1 0 0 0 1 0 0 0 1 4 0 1 0 0 3 1 0 0 0 0 0 0 0 1 0 1 1 1 1 4 1 0 1 1 0 0 1 0 3 1 0 1 1 1 0 1 4 1 0 1 1 3 4 1 0 0 0 1 0 0 1 0 0 1 1 0 1 1 4 0 0 1 3 0 1 1 1 0 0 0 0 4 1 1 1 1 0 1 0 4 4 1 4 4 1 3 0 0 0 0 1 0 1 0 0 1 0 1 0 0 1 0 0 1 0 1 0 0 2 1 0 0 0 0 1 1 1 4 0 0 0 1 0 1 1 0 4 1 0 1 4 1 0 1 4 1 0 1 0 0 0 0 0 0 1 0 1 0 1 1 0 0 1 0 0 0 1 1 0 1 1 0 4 0 1 1 0 0 0 0 0 1 0 4 0 3 1 1 0 0 0 3 0 0 0 1 1 1 0 0 0 1 0 1 1 0 0 0 1 0 0 0 1 0 0 1 1 0 1 1 1 1 0 0 0 0 1 1 3 4 1 4 4 4 3 0 1 1 0 1 1 1 1 1 0 1 1 0 1 0 0 1 1 1 1 0 1 0 1 0 1 0 0 0 3 0 1 1 1 1 1 1 3 0 0 0 1 2 3 0 1 1 1 0 0 1 0 0 0 1 3 1 1 0 1 0 0 0 1 3 0 1 0 1 0 0 0 1 0 0 1 1 1 0 0 1 0 1 1 0 0 0 1 0 0 1 0 0 0 1 0 1 0 0 0 0 0 0 1 0 0 0 1 0 0 0 1 0 1 1 1 0 0 1 0 0 1 1 0 1 0 1 0 1 0 1 0 1 4 1 4 0 0 4 0 0 0 0 3 0 1 3 3 4 1 1 1 3 0 2 4 0 0 1 1 4 0 1 1 0 0 0 1 1 0 1 0 1 4 0 0 1 4 0 1 0 1 1 0 0 0 1 0 0 0 0 4 0 0 1 0 1 0 0 1 1 4 1 0 1 0 0 0 0 0 0 3 0 0 0 0 1 4 0 1 0 4 0 0 0 0 0 0 0 0 1 1 0 0 0 1 0 4 4 1 0 0 0 0 1 1 1 0 1 0 0 3 0 0 0 4 0 3 1 0 3 1 1 4 0 0 0 1 1 0 1 0 0 0 0 4 0 0 0 1 0 0 3 0 1 0 1 4 0 0 0 1 1 0 0 1 0 0 1 1 2 1 0 1 0 0 4 1 0 0 1 1 0 1 0 1 1 4 0 0 3 0 4 0 1 1 1 3 4 4 0 0 0 1 1 0 1 0 1 1 0 1 0 1 3 0 1 1 0 1 0 1 0 0 0 0 1 0 0 0 0 0 4 0 0 0 0 1 0 0 1 3 1 4 4 0 1 0 0 1 1 0 0 0 1 0 0 1 0 0 1 0 0 0 0 0 1 1 0 0 0 0 0 1 1 0 3 0 0 0 1 1 1 1 0 1 1 0 0 1 0 1 0 0 1 1 0 0 3 0 1 0 0 1 4 0 1 1 0 4 0 0 0 0 0 0 3 1 1 4 0 1 1 0 0 1 0 1 0 1 4 0 1 0 0 1 4 0 3 4 0 0 1 1 0 1 0 1 1 0 1 0 3 0 0 0 1 3 0 0 1 4 0 4 0 0 1 1 4 1 1 0 0 0 1 1 3 1 0 1 1 0 0 0 0 1 1 0 1 4 0 1 1 3 0 0 1 0 0 0 4 1 0 0 0 4 0 0 4 0 0 0 0 0 0 0 1 0 1 0 1 0 0 1 1 0 0 1 0 0 0 1 1 0 0 0 4 0 0 1 3 1 0 0 0 1 2 1 0 1 4 0 4 0 0 0 0 0 1 1 0 0 0 0 0 1 1 0 1 1 0 0 0 1 0 3 1 0 1 4 0 1 1 0 0 0 5 0 0 0 1 0 1 0 1 1 1 0 1 1 4 1 3 1 4 0 0 0 1 1 0 0 1 1 0 0 0 1 0 1 2 0 0 1 3 1 0 0 0 1 3 0 0 0 4 1 0 0 1 0 4 1 4 0 0 0 1 0 0 1 1 1 4 0 4 0 4 1 0 1 4 3 0 1 0 0 0 0 1 1 4 0 0 0 0 0 1 0 0 0 1 1 1 0 4 1 1 3 0 0 0 0 1 0 0 0 1 0 1 0 1 4 0 1 1 1 0 1 1 0 0 1 0 1 0 1 0 0 0 0 3 3 0 0 0 0 1 3 1 1 4 1 0 0 1 1 0 3 0 1 0 0 0 1 3 0 0 3 0 0 1 0 1 1 0 0 0 0 4 1 1 5 3 1 0 1 0 0 0 0 0 0 0 1 1 0 1 2 0 0 0 0 4 3 0 1 1 0 1 0 1 0 4 1 0 1 1 0 0 0 0 0 0 1 1 0 1 0 0 3 3 0 0 4 1 0 0 0 0 0 0 0 0 4 1 0 1 1 3 1 0 1 0 0 0 1 1 0 0 1 0 0 0 1 1 0 1 0 1 0 4 0 0 0 1 0 0 0 0 0 0 4 1 0 0 1 1 4 0 1 0 4 1 1 1 0 0 3 1 1 1 1 1 0 1 0 0 1 0 0 4 0 0 3 3 0 0 0 4 4 0 3 0 3 1 0 1 0 1 1 4 0 3 0 0 3 1 0 1 0 4 4 0 1 0 0 0 0 0 1 3 0 0 0 3 1 0 1 1 1 4 0 0 3 0 0 1 1 0 1 3 0 3 3 0 0 1 1 0 0 0 0 0 0 0 0 1 4 4 1 0 0 0 0 0 0 0 4 0 1 0 4 1 0 0 1 0 1 1 0 0 4 1 1 1 0 1 3 4 3 0 0 1 0 1 1 0 0 1 0 0 0 0 0 0 0 0 0 4 1 0 0 0 1 1 0 1 1 0 0 1 4 1 0 0 1 1 0 0 0 0 0 1 0 0 1 4 1 1 4 4 0 1 3 4 0 0 0 0 4 0 1 0 1 1 0 0 0 1 0 1 0 1 0 0 3 0 0 0 0 1 0 1 0 0 0 0 0 1 1 1 0 0 3 1 0 4 1 1 1 0 1 4 0 1 1 0 4 0 0 0 4 1 1 0 0 1 0 1 1 0 0 0 1 0 4 0 0 0 1 1 0 0 0 1 0 0 1 1 1 0 0 0 0 1 1 0 0 1 0 4 0 1 0 4 3 1 0 0 1 1 1 0 0 0 1 1 1 0 1 0 1 1 0 1 0 0 1 1 0 0 1 1 0 0 1 0 0 0 0 1 1 0 0 0 1 1 0 0 0 1 0 0 0 0 1 4 1 0 0 1 0 3 0 0 0 1 1 4 1 0 1 1 0 2 0 0 0 0 1 0 1 0 1 0 1 1 0 0 1 1 3 0 0 0 1 1 0 0 1 1 2 1 1 0 2 0 4 1 0 1 1 4 1 1 1 0 0 0 4 4 0 0 1 0 1 1 3 0 2 0 0 0 0 4 1 0 0 1 0 3 0 0 1 4 1 0 0 1 0 0 0 1 1 0 3 1 0 0 0 0 1 0 3 0 0 4 0 4 3 0 0 1 1 1 1 0 0 0 1 0 1 0 0 1 0 0 1 3 0 0 1 1 0 2 1 0 3 4 0 1 4 0 0 0 4 1 0 0 1 1 1 4 0 0 1 0 0 1 0 1 0 1 1 0 0 0 3 0 1 4 1 3 1 1 4 0 0 1 4 1 0 0 0 0 0 0 0 1 1 0 1 0 0 1 0 1 0 0 1 1 0 0 0 1 0 3 0 1 0 0 0 0 4 4 0 0 1 0 4 0 0 1 0 0 0 1 1 1 0 0 0 1 0 0 1 0 1 0 0 1 1 0 0 0 1 4 3 0 0 4 0 0 0 0 0 1 0 0 1 1 0 4 1 0 0 0 1 0 3 0 1 0 0 0 0 0 1 1 0 1 0 4 0 0 4 1 1 0 1 3 4 0 0 1 1 0 1 0 1 0 0 0 2 1 0 0 1 1 1 1 0 0 1 1 0 1 0 3 0 0 0 1 4 0 4 1 1 1 0 0 0 1 1 0 1 1 1 1 3 1 1 4 0 1 1 0 0 1 1 0 0 0 2 4 0 1 0 1 1 1 1 4 0 1 1 2 1 1 1 0 4 0 1 0 0 4 4 4 0 0 1 0 3 0 0 4 4 1 0 4 0 0 1 0 1 0 4 3 3 0 0 1 3 1 0 0 0 4 4 1 4 1 0 0 0 0 1 0 0 0 1 0 3 1 0 0 0 0 3 1 1 0 1 0 0 1 0 1 1 0 0 0 4 1 0 0 0 3 1 1 0 0 3 0 1 3 0 5 1 0 4 0 1 0 0 0 1 1 4 0 0 1 1 0 0 1 0 0 1 3 0 1 1 4 0 1 0 1 0 4 0 0 3 0 0 0 0 1 1 1 0 1 1 4 0 0 4 0 1 1 0 1 0 1 0 0 4 0 1 4 1 3 1 0 1 1 3 1 0 0 0 0 0 1 0 1 1 4 0 0 1 0 3 0 3 1 0 1 0 0 0 3 1 1 1 1 0 3 1 0 0 0 0 0 3 1 4 0 1 1 4 1 0 0 4 0 1 0 0 4 1 0 0 1 3 0 0 0 0 4 1 0 1 1 0 1 1 1 0 1 1 0 1 1 1 1 0 0 0 1 1 1 0 0 1 0 0 3 1 0 1 1 0 1 1 1 0 0 4 0 1 1 0 0 1 0 1 0 1 1 0 1 1 0 0 0 0 4 0 0 4 3 0 0 0 1 3 0 0 0 1 1 4 1 0 4 0 0 0 1 0 1 0 0 0 1 1 0 1 1 1 0 0 0 5 3 0 0 0 0 3 4 1 1 1 3 0 1 1 1 1 1 3 0 4 1 0 0 0 0 0 0 1 1 0 0 0 1 1 4 0 1 0 4 0 0 0 0 0 1 1 0 0 0 0 3 4 4 1 1 0 0 0 0 0 0 1 0 1 1 0 0 1 4 0 0 4 0 0 4 0 0 0 1 1 1 0 1 0 0 4 4 0 0 0 4 0 0 0 0 1 1 0 4 1 1 4 0 1 1 1 1 0 0 1 0 0 3 3 0 0 0 0 1 0 0 1 1 1 1 4 0 0 1 1 4 1 1 0 1 1 1 0 3 0 0 0 1 1 1 4 4 1 0 0 1 1 0 0 1 4 1 0 1 0 0 0 1 0 1 0 1 0 0 1 0 1 0 0 0 0 0 0 0 0 4 1 0 3 0 0 1 3 0 0 0 0 1 0 1 1 0 0 3 0 1 0 0 0 1 0 0 0 0 0 4 0 0 0 0 3 0 0 0 1 1 1 0 0 1 0 0 1 0 0 1 0 0 0 0 1 3 1 1 0 4 0 3 4 0 0 0 0 0 1 0 4 1 1 4 1 1 0 0 0 1 4 0 0 1 0 0 0 0 1 0 0 1 4 0 0 0 0 0 0 0 1 1 0 0 0 0 0 0 0 1 0 0 1 0 0 0 4 1 0 1 0 1 0 0 0 1 0 0 0 0 1 0 4 1 1 0 1 1 0 0 0 0 0 0 1 0 0 1 0 1 0 0 0 1 0 0 0 0 1 0 1 1 0 0 1 0 1 0 0 0 3 0 0 1 1 0 0 1 0 0 0 0 0 0 1 1 0 1 1 1 0 0 3 0 0 0 1 0 1 0 1 1 4 1 0 4 1 1 1 0 0 0 1 0 3 0 0 0 0 0 4 0 3 0 4 1 1 0 0 0 1 1 4 0 0 0 4 0 0 0 0 1 1 0 0 0 1 1 1 0 1 0 0 0 0 0 1 0 0 0 3 1 0 3 4 0 4 0 0 0 0 0 0 0 1 0 0 0 3 0 1 0 1 0 0 0 0 1 0 0 1 4 3 1 0 3 0 1 3 1 1 0 3 0 1 4 4 0 0 0 0 0 1 0 3 1 0 1 0 0 0 1 0 0 4 0 1 0 0 0 0 0 3 0 0 0 0 1 3 1 4 3 0 3 0 4 1 3 0 0 0 0 0 0 0 3 4 1 0 1 1 0 3 0 4 1 1 0 1 1 1 0 3 0 0 1 0 1 1 0 0 1 1 1 1 4 0 0 4 1 1 0 0 0 1 4 1 1 0 1 1 3 4 1 0 0 1 0 1 4 0 4 0 1 0 0 1 0 0 0 4 0 0 3 1 0 1 1 5 0 4 0 4 0 1 1 1 1 4 3 0 3 1 0 1 0 0 1 0 1 0 0 1 1 0 0 0 1 3 0 4 0 1 0 0 0 0 1 1 1 1 0 1 0 3 1 1 0 0 0 0 0 0 0 1 0 0 1 1 1 1 0 1 1 0 1 0 1 0 0 0 0 1 4 1 3 0 1 1 1 0 1 0 0 3 0 3 0 1 1 3 1 1 1 1 0 0 0 4 0 1 0 0 3 0 1 0 4 0 0 0 1 0 0 0 0 0 3 0 4 0 0 1 4 0 0 0 1 1 0 0 0 0 0 1 1 1 0 4 3 0 0 1 1 0 0 0 0 0 1 0 1 0 1 0 4 1 0 0 4 0 4 0 0 0 1 1 1 0 1 1 0 1 1 1 0 2 1 0 0 0 0 1 0 1 0 1 0 3 1 2 0 4 0 1 1 4 0 0 0 0 0 4 1 0 0 3 0 0 0 0 0 0 1 0 1 1 0 0 2 0 4 1 3 1 0 1 4 0 0 0 1 0 0 1 1 0 1 1 4 0 0 1 0 1 0 1 0 1 0 0 0 4 0 1 4 0 1 1 1 0 0 0 0 1 4 1 1 1 0 1 0 1 1 0 1 1 0 0 1 0 1 0 0 0 0 1 0 0 4 4 0 1 0 0 0 0 3 0 4 ]\n",
      "[ Male Male Male Male Male Male Female Male Male Female Male Female Male Male Male Male Male Male Male Male Female Male Male Male Male Male Male Male Male Male Male Female Male Male Male Female Male Male Female Male Male Male Male Male Male Female Male Male Male Male Male Male Male Male Male Male Male Male Male Female Male Male Male Male Male Male Male Male Female Male Male Male Male Male Male Male Female Male Male Male Male Female Male Female Female Male Male Female Male Male Male Female Male Male Male Male Male Male Male Male Male Male Male Female Male Male Male Male Male Female Male Female Male Female Female Male Male Male Male Male Female Female Male Male Male Female Female Male Female Female Female Male Male Female Male Female Male Female Male Male Male Male Male Male Male Female Male Male Male Male Male Male Male Male Male Male Male Male Male Male Male Male Male Male Male Male Male Female Male Male Female Male Female Male Male Male Female Female Male Female Male Male Male Female Male Male Male Male Female Female Male Male Male Male Male Male Male Male Male Male Male Male Male Male Male Male Male Male Male Male Male Male Male Female Female Female Male Female Male Male Male Male Male Male Female Male Male Female Female Female Male Male Male Male Female Female Female Male Male Male Male Male Male Male Male Male Male Male Male Male Male Male Female Male Male Male Male Female Male Male Male Male Female Male Male Male Female Male Male Male Male Male Male Male Male Female Female Female Male Female Male Male Male Male Female Male Male Male Male Male Male Male Male Female Male Male Male Male Female Male Male Female Male Female Male Male Male Male Male Male Male Female Male Male Female Female Male Male Male Male Male Male Male Male Male Male Female Male Male Male Female Male Male Male Male Male Male Male Male Male Male Female Male Female Male Male Male Male Female Male Male Male Male Male Male Male Male Male Male Male Male Male Male Male Male Female Male Male Female Male Male Male Male Male Female Male Male Male Female Male Male Male Male Male Male Male Male Male Male Male Male Male Male Male Female Male Male Male Male Male Male Male Male Male Male Male Male Male Male Male Male Female Male Male Male Female Male Male Male Female Male Male Male Male Male Male Male Male Male Male Female Female Male Male Male Female Male Male Male Male Male Male Male Male Male Male Male Male Male Male Male Male Male Male Male Male Male Male Male Male Male Male Male Male Male Male Male Male Female Male Male Male Male Male Male Male Male Female Male Male Male Male Male Male Female Male Male Male Female Male Female Male Male Female Male Female Male Male Male Male Male Female Male Male Male Female Male Male Male Male Male Female Male Male Male Female Male Male Male Male Male Male Male Male Male Female Female Female Male Male Male Male Male Male Male Male Male Male Male Female Male Female Female Male Female Male Male Female Female Male Male Male Male Male Male Male Male Male Male Male Male Female Male Male Male Male Male Male Female Female Male Male Male Male Female Female Male Male Male Male Male Male Male Male Male Male Male Male Male Male Male Male Male Male Male Male Female Male Male Male Female Male Male Male Male Male Male Male Male Male Male Male Male Female Male Male Male Male Female Male Male Male Male Male Male Male Male Female Male Male Male Female Male Female Male Male Female Male Female Male Male Female Male Female Female Female Male Female Female Male Male Male Male Male Male Male Male Male Male Male Male Female Male Male Male Male Male Male Female Male Male Male Male Male Female Male Male Male Female Female Male Male Male Female Male Male Male Male Male Male Male Male Male Female Male Male Male Female Male Male Male Female Male Male Male Male Male Male Male Male Male Male Male Male Male Male Male Male Male Male Male Male Female Male Male Male Male Male Male Male Male Male Female Male Male Male Female Male Male Male Male Male Female Male Female Male Female Male Male Male Male Male Male Male Male Male Male Male Female Female Male Male Male Male Male Female Male Male Male Male Female Male Female Female Male Male Male Male Male Male Male Male Male Female Male Male Male Male Male Male Male Male Female Male Male Female Female Male Male Male Male Male Male Male Male Female Male Male Male Male Male Male Male Female Male Male Male Female Male Male Male Male Male Male Male Female Male Male Female Male Male Male Male Male Female Male Male Male Male Male Female Male Male Male Male Male Male Male Male Male Male Male Male Male Male Male Male Male Male Male Male Male Male Male Male Female Male Male Male Female Male Male Female Male Male Male Male Male Male Male Male Male Male Male Female Female Male Male Male Female Male Male Male Male Female Female Female Male Male Female Male Male Male Male Male Male Male Male Female Male Male Male Male Male Male Male Male Male Female Male Male Male Male Male Male Male Male Female Male Male Male Male Female Male Female Male Male Male Female Male Female Male Male Male Male Female Female Male Male Male Male Male Male Female Male Male Male Male Female Male Male Female Male Female Female Male Male Female Male Female Male Female Male Male Female Male Male Male Male Male Female Male Male Male Male Male Male Male Male Female Male Female Male Female Male Male Female Male Male Male Female Female Male Male Female Male Male Female Male Male Male Female Male Male Female Male Male Male Male Male Male Male Female Male Male Male Male Male Male Male Male Male Male Female Male Female Male Male Male Male Male Male Male Male Male Male Male Male Male Female Male Male Male Male Male Male Male Male Male Male Male Female Male Male Male Female Male Male Male Female Male Female Male Male Male Male Male Male Male Male Male Male Male Male Male Male Male Female Male Female Male Male Male Male Male Male Male Male Male Male Male Male Male Male Male Male Male Male Male Male Male Female Male Male Male Male Male Male Male Male Female Male Female Male Male Male Male Male Male Male Male Male Male Male Male Male Male Male Male Male Male Male Male Female Male Male Male Male Male Male Male Female Female Male Male Male Female Female Male Male Male Male Male Male Male Male Male Male Male Male Female Male Male Male Male Male Male Male Male Male Male Female Male Female Male Female Male Male Male Female Male Male Male Female Male Male Female Male Male Female Male Male Male Male Male Male Male Male Male Female Male Male Male Male Female Female Male Male Male Female Female Male Male Male Male Male Male Male Male Female Male Male Male Male Female Male Male Male Male Male Male Male Male Female Male Female Male Male Female Male Male Male Female Male Female Male Male Female Male Male Male Male Male Male Male Male Male Male Male Female Male Male Male Male Male Male Male Male Female Male Male Female Male Male Male Male Male Female Male Male Male Male Male Male Male Male Male Male Male Male Female Male Female Male Male Male Male Male Male Male Female Male Male Male Female Male Male Male Male Male Male Male Female Male Male Male Male Male Male Male Male Female Female Male Male Male Male Female Female Male Female Female Female Male Male Male Male Male Male Male Male Male Female Male Male Male Male Male Male Male Male Male Male Female Male Male Male Male Male Male Male Male Male Male Male Male Male Male Male Male Male Female Female Male Female Male Male Female Female Male Male Male Male Male Male Female Male Male Male Male Male Male Male Male Male Male Female Male Male Male Male Male Male Male Male Male Male Female Male Male Male Male Male Male Male Male Female Male Male Female Male Male Male Male Male Male Male Female Female Male Female Male Male Female Male Female Male Male Male Female Male Male Female Male Female Male Male Male Female Male Male Male Female Male Male Male Male Male Male Male Male Male Male Male Male Male Male Male Male Male Male Male Male Male Male Female Male Male Male Male Male Male Male Female Male Male Male Male Male Male Female Male Male Male Male Female Male Male Female Female Male Male Male Female Male Male Male Male Male Male Male Male Female Male Male Male Male Male Male Male Male Male Male Male Male Male Male Male Male Male Female Male Male Female Male Male Male Male Male Female Male Male Female Male Male Female Male Male Male Male Male Male Female Male Male Male Male Male Male Male Male Male Male Male Male Male Male Male Female Male Male Female Male Male Male Female Male Male Male Male Male Male Male Male Male Male Female Male Male Male Male Male Male Male Male Male Male Male Male Male Male Male Male Male Male Male Male Male Male Male Male Male Female Male Male Male Male Male Male Male Male Male Male Male Male Male Male Male Male Male Male Male Male Male Male Male Male Male Male Female Male Male Male Male Male Male Male Male Male Male Male Male Male Male Male Male Male Male Male Male Male Female Male Male Male Male Male Female Male Male Male Female Male Male Male Male Male Male Male Male Female Male Male Male Male Male Male Male Male Female Male Female Male Male Male Male Female Male Male Male Male Male Male Male Male Female Male Male Male Male Female Male Female Male Male Male Female Male Female Male Male Male Female Male Male Male Male Male Male Male Male Male Male Male Male Male Male Female Male Male Male Male Male Female Male Male Male Male Male Male Male Male Male Male Male Male Male Male Male Male Female Male Male Male Male Male Male Male Male Male Male Male Female Male Male Female Male Male Male Female Male Male Female Male Male Male Male Male Male Male Male Female Female Male Male Female Male Male Male Male Male Male Female Male Female Female Male Male Male Male Male Male Male Female Male Male Male Male Male Male Male Male Male Male Female Female Male Male Male Female Female Male Male Male Male Male Male Male Female Male Female Male Male Male Male Male Male Male Male Male Female Male Male Male Male Male Male Male Female Female Male Male Female Male Male Male Male Male Male Male Male Female Male Male Female Female Male Male Male Male Male Male Female Male Male Male Male Male Male Male Male Male Male Male Male Female Male Male Female Male Male Male Male Male Male Male Male Female Male Male Female Male Female Male Female Male Male Male Male Male Female Male Male Male Female Male Male Male Male Male Male Male Male Male Male Male Male Female Male Male Male Male Female Male Male Male Male Female Male Male Male Male Male Female Male Male Male Male Male Male Male Female Male Female Male Male Male Male Male Male Male Female Male Male Male Male Male Male Male Male Male Male Male Male Male Male Male Male Male Male Female Male Male Male Male Male Male Male Male Male Female Male Male Male Male Male Male Male Male Female Male Male Male Male Male Male Male Female Male Female Male Male Male Male Male Male Male Male Male Male Male Male Male Female Male Male Male Male Male Female Male Male Male Female Male Male Male Female Female Male Male Male Male Male Male Male Male Male Male Male Male Female Female Female Male Male Male Male Male Male Female Male Male Female Male Male Male Male Male Female Male Male Male Male Male Male Male Male Male Male Male Male Female Male Male Male Male Female Male Male Male Male Male Female Male Male Male Male Male Male Male Male Male Male Male Male Male Male Male Male Male Male Male Female Male Male Male Male Male Female Male Male Female Male Female Male Female Male Male Male Male Male Male Female Male Male Male Male Female Female Female Male Male Male Male Male Male Male Male Male Male Male Male Male Male Female Male Male Female Male Male Male Male Female Male Male Male Male Male Male Male Male Male Female Male Male Male Female Male Female Male Male Male Male Male Male Male Male Male Male Male Male Male Male Male Male Male Male Male Female Male Male Male Male Male Male Male Male Male Male Female Male Male Male Male Male Male Male Male Male Male Male Male Female Male Male Male Male Male Male Male Male Male Male Female Female Female Male Male Male Male Male Male Male Male Male Female Male Male Male Male Male Male Female Male Male Female Male Male Female Male Male Male Male Male Male Male Male Male Male Male Male Male Male Male Male Male Male Male Male Male Male Male Female Male Male Male Female Female Male Female Male Male Male Male Male Male Male Male Male Male Male Male Male Female Male Male Female Male Male Male Male Male Male Male Female Male Male Male Male Female Male Male Male Male Female Female Male Male Male Male Male Female Male Male Male Male Male Female Male Male Male Male Male Male Male Male Male Male Male Male Male Male Female Male Male Male Male Male Male Male Male Male Male Male Male Male Male Male Male Male Male Male Female Male Male Male Male Male Male Male Male Male Male Male Male Male Male Male Male Male Male Male Male Male Male Male Male Male Male Male Male Male Male Male Male Male Male Male Male Male Female Male Male Female Male Male Male Male Female Male Male Male Male Male Male Male Male Male Male Male Male Male Male Male Male Male Male Male Male Male Male Male Male Male Male Female Female Male Male Female Male Male Male Female Male Female Male Male Female Female Female Male Female Female Female Male Male Male Male Male Male Male Male Female Male Female Male Male Male Male Male Male Male Male Male Male Male Male Male Male Female Male Female Male Male Male Male Male Female Male Male Male Male Male Male Male Female Male Female Female Male Male Male Male Male Male Female Female Male Male Male Male Male Male Female Male Male Male Female Female Female Male Male Male Male Female Male Male Male Male Male Male Male Male Male Male Male Male Male Male Male Male Male Male Male Female Male Male Male Male Male Male Male Male Male Male Female Male Female Male Female Male Male Male Male Male Male Male Male Male Male Male Male Female Male Female Male Female Female Male Male Male Male Male Male Male Male Male Male Male Female Male Male Male Male Male Male Male Male Male Female Male Female Male Male Male Male Male Male Female Female Male Male Male Male Male Male Male Female Male Male Male Male Male Male Male Male Male Male Male Male Male Male Male Male Male Male Male Male Male Female Male Male Male Male Female Male Male Male Female Male Female Female Male Male Male Male Female Male Male Male Female Male Male Male Male Male Male Male Male Male Female Female Female Male Male Female Female Male Male Male Female Female Male Male Male Male Female Male Male Male Male Male Female Male Female Male Male Male Male Male Male Male Male Male Female Male Male Male Male Male Male Male Female Male Male Male Male Male Male Female Male Male Male Male Female Male Male Male Male Male Male Female Male Male Male Male Male Male Male Male Male Male Male Male Male Male Male Male Male Male Male Male Male Male Male Male Male Male Female Male Male Male Male Female Male Male Male Male Male Male Male Female Male Male Female Female Male Female Female Male Male Male Male Male Female Male Male Female Female Male Male Female Male Male Male Male Male Male Male Female Female Female Male Male Female Male Male Male Male Male Male Male Male Male Female Male Male Male Male Female Male Male Male Male Male Male Female Male Male Male Female Female Male Male Male Male Female Male Male Male Male Male Male Female Male Male Male Male Male Male Female Male Male Male Female Male Female Male Male Male Male Male Male Male Female Male Male Female Male Male Male Male Female Male Female Male Male Male Male Male Female Male Female Male Male Male Male Male Male Female Male Male Male Male Male Female Male Male Male Male Male Male Male Male Male Female Male Male Male Male Male Male Male Male Male Male Female Male Male Female Male Male Male Female Male Male Male Male Male Male Female Male Male Male Male Male Male Male Male Male Male Male Male Male Male Male Male Male Female Male Female Male Male Male Male Male Male Female Male Male Male Male Female Female Male Male Male Male Male Male Female Female Male Male Male Male Female Male Male Male Male Male Male Female Male Female Male Female Male Male Male Male Male Male Female Female Male Male Female Male Female Male Female Male Male Female Male Male Female Male Male Male Male Female Female Female Female Male Male Male Male Male Female Female Male Male Male Male Male Male Male Male Male Male Male Male Male Male Female Male Male Male Male Male Male Male Female Male Male Male Male Male Male Male Female Male Male Female Male Female Male Male Female Male Female Male Female Male Male Male Male Male Male Male Male Male Male Male Male Male Male Female Male Female Male Female Male Male Male Male Male Female Male Male Male Male Male Male Female Male Male Female Male Male Male Male Male Male Male Male Male Male Male Male Male Female Male Male Female Male Male Male Male Female Male Male Female Male Female Male Male Female Male Female Female Male Male Male Male Male Male Male Male Female Male Male Male Male Male Male Female Male Male Male Male Female Female Male Female Female Male Male Male Male Male Male Male Male Male Male Female Male Female Male Female Female Male Male Female Male Male Male Male Male Male Male Male Male Male Male Male Male Male Male Female Male Male Male Female Male Male Male Male Female Female Male Male Male Female Male Female Female Male Male Male Male Male Male Male Male Male Male Male Male Male Male Male Male Female Male Male Male Male Male Male Male Male Female Male Male Male Male Female Male Female Male Male Male Male Male Male Male Male Male Male Male Male Male Male Female Male Male Male Female Male Male Male Female Male Male Female Male Male Male Male Male Male Female Male Male Male Male Male Male Male Male Male Male Female Female Male Male Male Male Male Male Male Male Male Female Male Male Male Male Male Male Female Male Male Male Male Male Male Male Male Male Female Male Male Male Male Female Female Male Male Female Male Male Male Female Male Female Male Female Male Male Male Male Male Male Male Male Male Male Male Male Male Male Male Male Male Male Male Male Male Male Female Male Male Male Female Male Male Male Male Male Male Male Male Female Male Female Male Male Male Male Male Male Male Male Male Male Male Female Male Male Female Female Male Male Female Male Male Female Male Male Male Male Male Male Male Male Male Male Female Male Male Male Male Male Male Male Male Male Female Female Male Male Male Male Female Male Male Male Male Male Male Female Male Female Female Male Male Female Male Male Male Female Male Male Male Male Male Male Male Male Female Male Male Male Male Male Female Male Male Female Male Male Male Male Male Male Female Male Male Male Male Male Male Male Male Male Female Female Female Male Male Female Male Male Male Male Female Male Male Female Male Female Male Female Female Male Male Male Female Male Male Male Male Male Male Male Male Male Male Male Female Female Male Male Male Male Male Male Male Male Male Female Male Female Male Male Male Male Female Male Male Male Male Male Male Male Male Male Male Male Male Male Male Male Male Female Female Male Male Male Male Male Female Male Male Male Female Male Male Male Male Female Male Female Male Female Male Female Female Female Male Male Male Male Male Male Male Male Male Male Male Male Female Male Male Male Male Male Female Male Female Male Male Male Female Male Female Male Male Female Male Female Female Male Male Female Male Male Male Male Female Female Male Male Male Female Male Male Male Female Female Male Male Male Female Female Male Male Male Female Female Male Male Male Male Male Male Male Male Male Male Female Female Male Female Male Male Male Male Male Male Male Female Male Male Male Male Male Female Male Male Female Female Female Male Male Male Male Male Male Male Male Female Male Male Male Male Male Female Male Male Male Male Female Male Male Male Female Male Male Male Male Female Male Male Male Female Female Male Female Female Male Male Male Male Male Male Female Female Male Male Female Male Female Male Female Male Male Male Male Male Male Male Male Male Male Male Male Female Female Male Male Female Male Male Male Female Female Male Female Male Female Female Female Male Male Female Male Male Female Male Male Male Male Female Male Female Female Male Female Male Male Female Male Female Male Female Male Male Male Male Female Male Male Female Male Male Male Male Female Male Male Male Male Male Female Male Male Male Male Male Male Male Male Male Male Female Female Male Male Male Male Male Male Female Male Male Female Male Male Female Male Male Male Male Female Male Male Male Male Male Female Male Male Female Male Male Male Female Male Female Male Female Male Male Male Male Male Male Male Female Female Female Male Male Male Male Male Female Male Male Male Male Male Male Male Male Male Female Male Female Male Female Female Female Male Female Male Male Male Male Male Male Male Female Male Female Female Male Male Male Male Male Female Male Female Male Male Male Male Male Female Male Male Male Male Female Female Male Male Male Male Male Male Male Male Male Female Male Male Male Male Male Female Male Male Male Male Female Male Male Male Male Male Male Male Male Male Female Male Male Male Female Female Male Male Female Male Female Male Male Male Male Male Male Female Male Male Male Male Male Male Male Male Male Male Male Male Male Female Female Male Male Male Male Female Male Female Male Male Male Male Male Female Male Male Male Male Male Male Male Male Male Male Female Female Male Male Male Male Male Male Male Male Female Male Male Female Female Male Male Male Male Male Male Male Male Male Male Male Female Male Male Female Male Male Male Male Male Male Male Male Male Female Male Male Female Male Male Male Female Female Female Male Male Male Male Male Male Male Male Female Female Male Female Male Male Male Male Female Male Male Male Male Male Female Male Male Male Female Male Male Male Male Female Male Male Male Male Male Male Male Male Male Male Male Male Male Male Female Female Male Male Male Male Male Male Female Male Male Male Male Male Female Male Male Female Female Male Male Male Female Male Male Male Male Male Male Female Male Male Male Male Male Male Male Male Male Male Male Female Female Male Female Male Male Male Male Male Male Female Male Male Male Male Male Male Male Male Male Male Male Female Female Male Male Male Male Female Male Male Male Female Female Male Male Male Male Male Male Male Male Male Male Male Female Male Male Male Male Male Male Male Male Male Female Male Male Female Female Male Male Male Male Female Male Male Male Male Male Male Male Male Male Female Male Male Male Female Male Female Male Male Male Male Male Male Female Male Male Male Female Male Male Female Female Male Male Male Male Male Female Male Male Male Male Male Female Female Male Male Male Male Male Male Male Female Male Male Male Male Male Male Male Female Male Male Male Male Male Male Male Male Male Male Male Female Male Male Male Male Male Male Male Male Male Male Male Male Male Male Male Male Male Female Female Male Male Male Male Male Male Male Male Female Male Male Male Female Female Male Male Male Male Male Male Male Male Male Male Male Male Male Female Male Male Male Male Male Male Male Male Female Female Male Male Male Male Male Male Male Male Female Male Male Male Male Male Male Male Male Male Male Male Male Male Male Male Female Male Male Female Male Male Male Female Male Male Male Male Male Male Male Male Female Male Female Male Male Male Male Male Male Female Male Male Male Female Male Male Male Male Male Female Male Female Male Male Male Male Male Male Male Male Male Female Male Male Male Female Male Male Female Male Female Female Male Male Male Male Male Male Male Male Male Female Male Female Male Male Female Female Male Male Male Male Male Male Male Male Male Male Male Male Male Male Male Male Male Male Male Male Female Male Male Male Male Male Female Male Male Male Female Female Male Male Male Male Male Male Female Male Male Male Male Male Male Male Male Female Male Male Male Male Female Male Male Male Male Male Male Male Male Male Male Female Male Male Male Female Male Male Female Male Male Male Male Male Female Male Male Male Male Male Male Male Male Male Female Male Male Male Male Male Male Male Male Male Male Male Male Female Male Male Male Male Male Female Male Male Male Female Male Male Female Male Male Female Female Male Female Male Male Male Male Male Male Male Male Male Male Male Male Female Male Male Male Male Male Male Male Male Male Male Male Male Male Male Male Male Female Male Male Male Female Male Male Male Female Male Male Male Male Male Male Male Male Male Male Male Male Male Male Male Male Male Male Male Male Male Male Female Male Male Male Female Male Male Female Male Male Male Male Male Female Male Male Male Male Female Female Male Male Female Female Male Female Male Male Male Male Male Male Male Male Male Female Female Male Male Female Male Female Male Male Female Male Male Male Female Male Male Male Female Male Female Male Male Female Male Male Male Male Male Male Male Male Female Male Male Male Male Male Male Male Female Male Male Female Male Female Male Male Male Male Male Male Male Male Male Male Male Female Male Male Male Male Male Male Male Male Male Male Male Male Male Male Male Male Male Male Female Male Male Female Female Male Female Male Male Female Male Male Male Male Male Female Male Male Male Male Male Male Male Male Male Male Male Male Male Male Male Male Male Male Female Female Male Male Male Female Male Female Male Male Male Female Male Male Male Male Male Male Female Male Male Female Male Male Male Male Female Male Female Female Male Male Male Male Female Male Male Male Male Male Female Male Male Male Male Male Male Male Male Female Male Male Female Male Male Male Male Male Female Male Male Male Male Female Male Male Male Male Male Male Male Male Male Male Female Male Male Male Male Male Male Male Male Male Male Male Male Male Female Male Male Female Female Female Male Male Male Male Male Male Male Male Male Male Male Male Female Female Female Male Male Male Male Male Male Male Male Male Male Female Male Male Male Male Male Male Female Female Male Female Male Female Male Female Male Male Male Female Female Male Male Male Male Female Female Female Male Female Male Male Male Male Male Male Male Male Male Male Female Female Male Male Male Male Male Male Male Male Male Male Male Male Female Male Female Male Female Male Male Female Female Female Male Male Male Female Female Female Male Female Male Male Female Male Male Female Male Male Male Male Male Male Male Male Male Female Male Male Male Male Male Male Female Male Male Male Male Male Female Male Male Female Female Female Male Male Male Male Male Female Male Male Male Male Male Female Male Male Male Male Female Male Male Male Male Male Male Male Female Female Male Male Male Male Male Male Male Male Female Female Male Male Male Male Male Male Female Male Male Male Male Male Male Male Male Male Male Female Male Female Female Male Male Male Male Male Male Male Female Male Male Female Male Male Male Male Male Male Male Male Male Male Male Male Male Male Male Female Male Male Male Male Male Male Male Male Female Male Male Female Male Male Male Male Female Male Male Male Male Female Female Male Male Male Male Male Male Male Male Male Male Male Male Male Male Male Female Male Male Male Male Male Male Male Male Male Male Male Female Male Male Male Male Female Male Male Male Male Male Male Female Male Male Male Male Male Male Male Male Male Male Male Female Male Male Female Male Female Female Female Male Male Male Male Male Female Male Male Male Male Male Male Male Male Male Male Male Male Male Male Male Male Male Male Male Female Male Male Male Female Male Male Male Male Male Male Male Female Male Male Male Male Male Male Male Male Male Male Female Male Male Male Female Female Male Female Male Male Male Male Female Female Female Female Male Male Male Male Male Male Male Female Male Male Male Male Male Male Female Male Male Male Male Male Female Male Male Male Female Male Male Male Male Female Male Male Male Female Male Male Male Male Male Male Male Male Male Male Female Male Male Male Female Male Male Female Male Male Male Male Male Male Male Female Male Male Male Male Male Male Male Female Male Female Male Male Male Male Male Male Female Male Male Female Male Male Male Male Male Male Male Male Female Male Female Male Male Male Male Male Male Male Male Female Male Male Male Female Male Female Male Male Male Male Male Male Male Male Male Male Male Male Male Male Male Male Female Female Male Male Male Male Male Male Male Male Male Female Male Male Male Male Male Male Female Male Male Male Male Male Female Female Male Male Male Female Male Male Male Male Female Male Male Female Female Female Male Male Male Male Female Male Male Female Female Male Female Female Female Male Male Male Male Male Male Male Male Male Female Female Male Female Male Male Male Female Male Male Male Male Male Female Male Male Male Male Male Male Male Male Male Female Female Male Male Female Male Male Male Male Male Male Male Male Male Male Female Male Male Male Male Male Female Male Female Female Male Female Male Male Male Male Female Male Male Female Male Female Male Female Male Male Male Male Male Male Male Male Male Male Male Male Female Male Male Male Male Male Male Male Male Male Male Male Male Male Male Male Male Male Female Male Male Male Male Male Male Male Female Male Male Male Male Female Female Male Male Male Male Male Male Male Male Male Male Male Female Male Female Female Male Male Male Female Male Male Male Male Male Male Male Male Male Male Male Male Male Male Male Male Female Male Female Male Male Male Male Male Female Female Male Male Male Male Male Male Male Male Male Male Female Male Female Male Male Male Male Male Male Male Female Male Male Male Male Male Male Male Male Male Female Female Female Male Male Female Male Male Female Male Male Male Female Female Male Male Male Male Female Male Female Male Male Male Male Male Male Male Female Male Female Male Male Male Male Male Male Female Female Male Male Female Male Female Male Male Male Male Male Female Male Male Male Female Male Female Male Male Male Male Female Female Male Male Female Male Female Male Female Male Male Male Male Female Male Female Female Male Male Male Male Female Male Male Female Male Male Female Male Male Male Male Male Male Female Female Male Male Female Male Male Female Male Male Male Male Male Male Male Male Male Male Male Male Male Male Male Male Male Male Male Female Male Male Female Male Male Male Female Male Female Male Male Female Male Male Male Male Male Male Male Male Male Male Male Male Male Male Male Male Female Male Male Male Male Male Male Female Male Male Male Male Female Male Female Male Male Male Male Male Male Female Male Male Male Male Male Male Male Male Male Male Male Male Male Male Male Male Female Male Male Male Male Male Female Male Male Male Male Male Male Male Female Male Male Female Female Male Male Male Male Male Female Female Male Male Male Male Male Female Male Male Male Male Female Male Male Female Male Male Male Female Female Male Male Male Male Male Female Male Male Male Female Male Male Male Male Male Female Male Male Male Male Male Male Male Male Male Male Male Male Male Male Male Female Male Male Male Female Male Male Male Male Male Female Male Female Female Male Female Male Male Male Female Male Male Male Female Male Male Male Male Male Male Male Male Male Female Male Female Male Female Male Male Male Male Male Male Male Male Male Female Male Male Male Female Female Male Male Male Female Male Male Female Male Male Female Male Male Male Male Female Male Male Male Female Male Male Male Female Male Male Male Male Male Male Female Male Male Male Male Male Male Male Female Male Male Female Male Male Male Male Female Male Male Female Male Female Male Male Male Male Male Male Female Male Male Male Male Male Female Male Male Male Male Male Male Male Male Male Male Male Female Male Male Male Male Male Male Male Male Female Male Female Female Male Male Male Male Male Female Male Male Male Male Male Male Male Male Male Male Male Male Male Male Male Male Female Male Male Male Male Female Female Male Female Male Male Female Male Male Female Female Male Female Male Male Male Male Male Female Male Male Male Male Male Male Male Male Male Male Male Male Female Female Male Female Male Male Female Male Male Male Male Male Male Male Male Female Male Male Male Female Male Female Male Male Male Female Male Male Male Male Male Female Male Male Male Female Male Male Male Male Male Female Female Female Female Male Male Male Male Female Female Male Male Female Female Female Male Male Male Female Male Male Male Female Male Male Male Male Male Male Male Male Male Male Male Male Male Male Male Male Male Male Male Female Male Male Male Male Male Male Male Male Female Female Female Male Female Female Female Male Male Male Male Male Male Male Male Female Male Male Male Male Male Female Male Male Male Male Male Male Male Male Male Male Female Female ]\n",
      "[ 0 0 0 0 0 0 1 0 0 1 0 1 0 0 0 0 0 0 0 0 1 0 0 0 0 0 0 0 0 0 0 1 0 0 0 1 0 0 1 0 0 0 0 0 0 1 0 0 0 0 0 0 0 0 0 0 0 0 0 1 0 0 0 0 0 0 0 0 1 0 0 0 0 0 0 0 1 0 0 0 0 1 0 1 1 0 0 1 0 0 0 1 0 0 0 0 0 0 0 0 0 0 0 1 0 0 0 0 0 1 0 1 0 1 1 0 0 0 0 0 1 1 0 0 0 1 1 0 1 1 1 0 0 1 0 1 0 1 0 0 0 0 0 0 0 1 0 0 0 0 0 0 0 0 0 0 0 0 0 0 0 0 0 0 0 0 0 1 0 0 1 0 1 0 0 0 1 1 0 1 0 0 0 1 0 0 0 0 1 1 0 0 0 0 0 0 0 0 0 0 0 0 0 0 0 0 0 0 0 0 0 0 0 1 1 1 0 1 0 0 0 0 0 0 1 0 0 1 1 1 0 0 0 0 1 1 1 0 0 0 0 0 0 0 0 0 0 0 0 0 0 0 1 0 0 0 0 1 0 0 0 0 1 0 0 0 1 0 0 0 0 0 0 0 0 1 1 1 0 1 0 0 0 0 1 0 0 0 0 0 0 0 0 1 0 0 0 0 1 0 0 1 0 1 0 0 0 0 0 0 0 1 0 0 1 1 0 0 0 0 0 0 0 0 0 0 1 0 0 0 1 0 0 0 0 0 0 0 0 0 0 1 0 1 0 0 0 0 1 0 0 0 0 0 0 0 0 0 0 0 0 0 0 0 0 1 0 0 1 0 0 0 0 0 1 0 0 0 1 0 0 0 0 0 0 0 0 0 0 0 0 0 0 0 1 0 0 0 0 0 0 0 0 0 0 0 0 0 0 0 0 1 0 0 0 1 0 0 0 1 0 0 0 0 0 0 0 0 0 0 1 1 0 0 0 1 0 0 0 0 0 0 0 0 0 0 0 0 0 0 0 0 0 0 0 0 0 0 0 0 0 0 0 0 0 0 0 0 1 0 0 0 0 0 0 0 0 1 0 0 0 0 0 0 1 0 0 0 1 0 1 0 0 1 0 1 0 0 0 0 0 1 0 0 0 1 0 0 0 0 0 1 0 0 0 1 0 0 0 0 0 0 0 0 0 1 1 1 0 0 0 0 0 0 0 0 0 0 0 1 0 1 1 0 1 0 0 1 1 0 0 0 0 0 0 0 0 0 0 0 0 1 0 0 0 0 0 0 1 1 0 0 0 0 1 1 0 0 0 0 0 0 0 0 0 0 0 0 0 0 0 0 0 0 0 0 1 0 0 0 1 0 0 0 0 0 0 0 0 0 0 0 0 1 0 0 0 0 1 0 0 0 0 0 0 0 0 1 0 0 0 1 0 1 0 0 1 0 1 0 0 1 0 1 1 1 0 1 1 0 0 0 0 0 0 0 0 0 0 0 0 1 0 0 0 0 0 0 1 0 0 0 0 0 1 0 0 0 1 1 0 0 0 1 0 0 0 0 0 0 0 0 0 1 0 0 0 1 0 0 0 1 0 0 0 0 0 0 0 0 0 0 0 0 0 0 0 0 0 0 0 0 1 0 0 0 0 0 0 0 0 0 1 0 0 0 1 0 0 0 0 0 1 0 1 0 1 0 0 0 0 0 0 0 0 0 0 0 1 1 0 0 0 0 0 1 0 0 0 0 1 0 1 1 0 0 0 0 0 0 0 0 0 1 0 0 0 0 0 0 0 0 1 0 0 1 1 0 0 0 0 0 0 0 0 1 0 0 0 0 0 0 0 1 0 0 0 1 0 0 0 0 0 0 0 1 0 0 1 0 0 0 0 0 1 0 0 0 0 0 1 0 0 0 0 0 0 0 0 0 0 0 0 0 0 0 0 0 0 0 0 0 0 0 0 1 0 0 0 1 0 0 1 0 0 0 0 0 0 0 0 0 0 0 1 1 0 0 0 1 0 0 0 0 1 1 1 0 0 1 0 0 0 0 0 0 0 0 1 0 0 0 0 0 0 0 0 0 1 0 0 0 0 0 0 0 0 1 0 0 0 0 1 0 1 0 0 0 1 0 1 0 0 0 0 1 1 0 0 0 0 0 0 1 0 0 0 0 1 0 0 1 0 1 1 0 0 1 0 1 0 1 0 0 1 0 0 0 0 0 1 0 0 0 0 0 0 0 0 1 0 1 0 1 0 0 1 0 0 0 1 1 0 0 1 0 0 1 0 0 0 1 0 0 1 0 0 0 0 0 0 0 1 0 0 0 0 0 0 0 0 0 0 1 0 1 0 0 0 0 0 0 0 0 0 0 0 0 0 1 0 0 0 0 0 0 0 0 0 0 0 1 0 0 0 1 0 0 0 1 0 1 0 0 0 0 0 0 0 0 0 0 0 0 0 0 0 1 0 1 0 0 0 0 0 0 0 0 0 0 0 0 0 0 0 0 0 0 0 0 0 1 0 0 0 0 0 0 0 0 1 0 1 0 0 0 0 0 0 0 0 0 0 0 0 0 0 0 0 0 0 0 0 1 0 0 0 0 0 0 0 1 1 0 0 0 1 1 0 0 0 0 0 0 0 0 0 0 0 0 1 0 0 0 0 0 0 0 0 0 0 1 0 1 0 1 0 0 0 1 0 0 0 1 0 0 1 0 0 1 0 0 0 0 0 0 0 0 0 1 0 0 0 0 1 1 0 0 0 1 1 0 0 0 0 0 0 0 0 1 0 0 0 0 1 0 0 0 0 0 0 0 0 1 0 1 0 0 1 0 0 0 1 0 1 0 0 1 0 0 0 0 0 0 0 0 0 0 0 1 0 0 0 0 0 0 0 0 1 0 0 1 0 0 0 0 0 1 0 0 0 0 0 0 0 0 0 0 0 0 1 0 1 0 0 0 0 0 0 0 1 0 0 0 1 0 0 0 0 0 0 0 1 0 0 0 0 0 0 0 0 1 1 0 0 0 0 1 1 0 1 1 1 0 0 0 0 0 0 0 0 0 1 0 0 0 0 0 0 0 0 0 0 1 0 0 0 0 0 0 0 0 0 0 0 0 0 0 0 0 0 1 1 0 1 0 0 1 1 0 0 0 0 0 0 1 0 0 0 0 0 0 0 0 0 0 1 0 0 0 0 0 0 0 0 0 0 1 0 0 0 0 0 0 0 0 1 0 0 1 0 0 0 0 0 0 0 1 1 0 1 0 0 1 0 1 0 0 0 1 0 0 1 0 1 0 0 0 1 0 0 0 1 0 0 0 0 0 0 0 0 0 0 0 0 0 0 0 0 0 0 0 0 0 0 1 0 0 0 0 0 0 0 1 0 0 0 0 0 0 1 0 0 0 0 1 0 0 1 1 0 0 0 1 0 0 0 0 0 0 0 0 1 0 0 0 0 0 0 0 0 0 0 0 0 0 0 0 0 0 1 0 0 1 0 0 0 0 0 1 0 0 1 0 0 1 0 0 0 0 0 0 1 0 0 0 0 0 0 0 0 0 0 0 0 0 0 0 1 0 0 1 0 0 0 1 0 0 0 0 0 0 0 0 0 0 1 0 0 0 0 0 0 0 0 0 0 0 0 0 0 0 0 0 0 0 0 0 0 0 0 0 1 0 0 0 0 0 0 0 0 0 0 0 0 0 0 0 0 0 0 0 0 0 0 0 0 0 0 1 0 0 0 0 0 0 0 0 0 0 0 0 0 0 0 0 0 0 0 0 0 1 0 0 0 0 0 1 0 0 0 1 0 0 0 0 0 0 0 0 1 0 0 0 0 0 0 0 0 1 0 1 0 0 0 0 1 0 0 0 0 0 0 0 0 1 0 0 0 0 1 0 1 0 0 0 1 0 1 0 0 0 1 0 0 0 0 0 0 0 0 0 0 0 0 0 0 1 0 0 0 0 0 1 0 0 0 0 0 0 0 0 0 0 0 0 0 0 0 0 1 0 0 0 0 0 0 0 0 0 0 0 1 0 0 1 0 0 0 1 0 0 1 0 0 0 0 0 0 0 0 1 1 0 0 1 0 0 0 0 0 0 1 0 1 1 0 0 0 0 0 0 0 1 0 0 0 0 0 0 0 0 0 0 1 1 0 0 0 1 1 0 0 0 0 0 0 0 1 0 1 0 0 0 0 0 0 0 0 0 1 0 0 0 0 0 0 0 1 1 0 0 1 0 0 0 0 0 0 0 0 1 0 0 1 1 0 0 0 0 0 0 1 0 0 0 0 0 0 0 0 0 0 0 0 1 0 0 1 0 0 0 0 0 0 0 0 1 0 0 1 0 1 0 1 0 0 0 0 0 1 0 0 0 1 0 0 0 0 0 0 0 0 0 0 0 0 1 0 0 0 0 1 0 0 0 0 1 0 0 0 0 0 1 0 0 0 0 0 0 0 1 0 1 0 0 0 0 0 0 0 1 0 0 0 0 0 0 0 0 0 0 0 0 0 0 0 0 0 0 1 0 0 0 0 0 0 0 0 0 1 0 0 0 0 0 0 0 0 1 0 0 0 0 0 0 0 1 0 1 0 0 0 0 0 0 0 0 0 0 0 0 0 1 0 0 0 0 0 1 0 0 0 1 0 0 0 1 1 0 0 0 0 0 0 0 0 0 0 0 0 1 1 1 0 0 0 0 0 0 1 0 0 1 0 0 0 0 0 1 0 0 0 0 0 0 0 0 0 0 0 0 1 0 0 0 0 1 0 0 0 0 0 1 0 0 0 0 0 0 0 0 0 0 0 0 0 0 0 0 0 0 0 1 0 0 0 0 0 1 0 0 1 0 1 0 1 0 0 0 0 0 0 1 0 0 0 0 1 1 1 0 0 0 0 0 0 0 0 0 0 0 0 0 0 1 0 0 1 0 0 0 0 1 0 0 0 0 0 0 0 0 0 1 0 0 0 1 0 1 0 0 0 0 0 0 0 0 0 0 0 0 0 0 0 0 0 0 0 1 0 0 0 0 0 0 0 0 0 0 1 0 0 0 0 0 0 0 0 0 0 0 0 1 0 0 0 0 0 0 0 0 0 0 1 1 1 0 0 0 0 0 0 0 0 0 1 0 0 0 0 0 0 1 0 0 1 0 0 1 0 0 0 0 0 0 0 0 0 0 0 0 0 0 0 0 0 0 0 0 0 0 0 1 0 0 0 1 1 0 1 0 0 0 0 0 0 0 0 0 0 0 0 0 1 0 0 1 0 0 0 0 0 0 0 1 0 0 0 0 1 0 0 0 0 1 1 0 0 0 0 0 1 0 0 0 0 0 1 0 0 0 0 0 0 0 0 0 0 0 0 0 0 1 0 0 0 0 0 0 0 0 0 0 0 0 0 0 0 0 0 0 0 1 0 0 0 0 0 0 0 0 0 0 0 0 0 0 0 0 0 0 0 0 0 0 0 0 0 0 0 0 0 0 0 0 0 0 0 0 0 1 0 0 1 0 0 0 0 1 0 0 0 0 0 0 0 0 0 0 0 0 0 0 0 0 0 0 0 0 0 0 0 0 0 0 1 1 0 0 1 0 0 0 1 0 1 0 0 1 1 1 0 1 1 1 0 0 0 0 0 0 0 0 1 0 1 0 0 0 0 0 0 0 0 0 0 0 0 0 0 1 0 1 0 0 0 0 0 1 0 0 0 0 0 0 0 1 0 1 1 0 0 0 0 0 0 1 1 0 0 0 0 0 0 1 0 0 0 1 1 1 0 0 0 0 1 0 0 0 0 0 0 0 0 0 0 0 0 0 0 0 0 0 0 0 1 0 0 0 0 0 0 0 0 0 0 1 0 1 0 1 0 0 0 0 0 0 0 0 0 0 0 0 1 0 1 0 1 1 0 0 0 0 0 0 0 0 0 0 0 1 0 0 0 0 0 0 0 0 0 1 0 1 0 0 0 0 0 0 1 1 0 0 0 0 0 0 0 1 0 0 0 0 0 0 0 0 0 0 0 0 0 0 0 0 0 0 0 0 0 1 0 0 0 0 1 0 0 0 1 0 1 1 0 0 0 0 1 0 0 0 1 0 0 0 0 0 0 0 0 0 1 1 1 0 0 1 1 0 0 0 1 1 0 0 0 0 1 0 0 0 0 0 1 0 1 0 0 0 0 0 0 0 0 0 1 0 0 0 0 0 0 0 1 0 0 0 0 0 0 1 0 0 0 0 1 0 0 0 0 0 0 1 0 0 0 0 0 0 0 0 0 0 0 0 0 0 0 0 0 0 0 0 0 0 0 0 0 0 1 0 0 0 0 1 0 0 0 0 0 0 0 1 0 0 1 1 0 1 1 0 0 0 0 0 1 0 0 1 1 0 0 1 0 0 0 0 0 0 0 1 1 1 0 0 1 0 0 0 0 0 0 0 0 0 1 0 0 0 0 1 0 0 0 0 0 0 1 0 0 0 1 1 0 0 0 0 1 0 0 0 0 0 0 1 0 0 0 0 0 0 1 0 0 0 1 0 1 0 0 0 0 0 0 0 1 0 0 1 0 0 0 0 1 0 1 0 0 0 0 0 1 0 1 0 0 0 0 0 0 1 0 0 0 0 0 1 0 0 0 0 0 0 0 0 0 1 0 0 0 0 0 0 0 0 0 0 1 0 0 1 0 0 0 1 0 0 0 0 0 0 1 0 0 0 0 0 0 0 0 0 0 0 0 0 0 0 0 0 1 0 1 0 0 0 0 0 0 1 0 0 0 0 1 1 0 0 0 0 0 0 1 1 0 0 0 0 1 0 0 0 0 0 0 1 0 1 0 1 0 0 0 0 0 0 1 1 0 0 1 0 1 0 1 0 0 1 0 0 1 0 0 0 0 1 1 1 1 0 0 0 0 0 1 1 0 0 0 0 0 0 0 0 0 0 0 0 0 0 1 0 0 0 0 0 0 0 1 0 0 0 0 0 0 0 1 0 0 1 0 1 0 0 1 0 1 0 1 0 0 0 0 0 0 0 0 0 0 0 0 0 0 1 0 1 0 1 0 0 0 0 0 1 0 0 0 0 0 0 1 0 0 1 0 0 0 0 0 0 0 0 0 0 0 0 0 1 0 0 1 0 0 0 0 1 0 0 1 0 1 0 0 1 0 1 1 0 0 0 0 0 0 0 0 1 0 0 0 0 0 0 1 0 0 0 0 1 1 0 1 1 0 0 0 0 0 0 0 0 0 0 1 0 1 0 1 1 0 0 1 0 0 0 0 0 0 0 0 0 0 0 0 0 0 0 1 0 0 0 1 0 0 0 0 1 1 0 0 0 1 0 1 1 0 0 0 0 0 0 0 0 0 0 0 0 0 0 0 0 1 0 0 0 0 0 0 0 0 1 0 0 0 0 1 0 1 0 0 0 0 0 0 0 0 0 0 0 0 0 0 1 0 0 0 1 0 0 0 1 0 0 1 0 0 0 0 0 0 1 0 0 0 0 0 0 0 0 0 0 1 1 0 0 0 0 0 0 0 0 0 1 0 0 0 0 0 0 1 0 0 0 0 0 0 0 0 0 1 0 0 0 0 1 1 0 0 1 0 0 0 1 0 1 0 1 0 0 0 0 0 0 0 0 0 0 0 0 0 0 0 0 0 0 0 0 0 0 1 0 0 0 1 0 0 0 0 0 0 0 0 1 0 1 0 0 0 0 0 0 0 0 0 0 0 1 0 0 1 1 0 0 1 0 0 1 0 0 0 0 0 0 0 0 0 0 1 0 0 0 0 0 0 0 0 0 1 1 0 0 0 0 1 0 0 0 0 0 0 1 0 1 1 0 0 1 0 0 0 1 0 0 0 0 0 0 0 0 1 0 0 0 0 0 1 0 0 1 0 0 0 0 0 0 1 0 0 0 0 0 0 0 0 0 1 1 1 0 0 1 0 0 0 0 1 0 0 1 0 1 0 1 1 0 0 0 1 0 0 0 0 0 0 0 0 0 0 0 1 1 0 0 0 0 0 0 0 0 0 1 0 1 0 0 0 0 1 0 0 0 0 0 0 0 0 0 0 0 0 0 0 0 0 1 1 0 0 0 0 0 1 0 0 0 1 0 0 0 0 1 0 1 0 1 0 1 1 1 0 0 0 0 0 0 0 0 0 0 0 0 1 0 0 0 0 0 1 0 1 0 0 0 1 0 1 0 0 1 0 1 1 0 0 1 0 0 0 0 1 1 0 0 0 1 0 0 0 1 1 0 0 0 1 1 0 0 0 1 1 0 0 0 0 0 0 0 0 0 0 1 1 0 1 0 0 0 0 0 0 0 1 0 0 0 0 0 1 0 0 1 1 1 0 0 0 0 0 0 0 0 1 0 0 0 0 0 1 0 0 0 0 1 0 0 0 1 0 0 0 0 1 0 0 0 1 1 0 1 1 0 0 0 0 0 0 1 1 0 0 1 0 1 0 1 0 0 0 0 0 0 0 0 0 0 0 0 1 1 0 0 1 0 0 0 1 1 0 1 0 1 1 1 0 0 1 0 0 1 0 0 0 0 1 0 1 1 0 1 0 0 1 0 1 0 1 0 0 0 0 1 0 0 1 0 0 0 0 1 0 0 0 0 0 1 0 0 0 0 0 0 0 0 0 0 1 1 0 0 0 0 0 0 1 0 0 1 0 0 1 0 0 0 0 1 0 0 0 0 0 1 0 0 1 0 0 0 1 0 1 0 1 0 0 0 0 0 0 0 1 1 1 0 0 0 0 0 1 0 0 0 0 0 0 0 0 0 1 0 1 0 1 1 1 0 1 0 0 0 0 0 0 0 1 0 1 1 0 0 0 0 0 1 0 1 0 0 0 0 0 1 0 0 0 0 1 1 0 0 0 0 0 0 0 0 0 1 0 0 0 0 0 1 0 0 0 0 1 0 0 0 0 0 0 0 0 0 1 0 0 0 1 1 0 0 1 0 1 0 0 0 0 0 0 1 0 0 0 0 0 0 0 0 0 0 0 0 0 1 1 0 0 0 0 1 0 1 0 0 0 0 0 1 0 0 0 0 0 0 0 0 0 0 1 1 0 0 0 0 0 0 0 0 1 0 0 1 1 0 0 0 0 0 0 0 0 0 0 0 1 0 0 1 0 0 0 0 0 0 0 0 0 1 0 0 1 0 0 0 1 1 1 0 0 0 0 0 0 0 0 1 1 0 1 0 0 0 0 1 0 0 0 0 0 1 0 0 0 1 0 0 0 0 1 0 0 0 0 0 0 0 0 0 0 0 0 0 0 1 1 0 0 0 0 0 0 1 0 0 0 0 0 1 0 0 1 1 0 0 0 1 0 0 0 0 0 0 1 0 0 0 0 0 0 0 0 0 0 0 1 1 0 1 0 0 0 0 0 0 1 0 0 0 0 0 0 0 0 0 0 0 1 1 0 0 0 0 1 0 0 0 1 1 0 0 0 0 0 0 0 0 0 0 0 1 0 0 0 0 0 0 0 0 0 1 0 0 1 1 0 0 0 0 1 0 0 0 0 0 0 0 0 0 1 0 0 0 1 0 1 0 0 0 0 0 0 1 0 0 0 1 0 0 1 1 0 0 0 0 0 1 0 0 0 0 0 1 1 0 0 0 0 0 0 0 1 0 0 0 0 0 0 0 1 0 0 0 0 0 0 0 0 0 0 0 1 0 0 0 0 0 0 0 0 0 0 0 0 0 0 0 0 0 1 1 0 0 0 0 0 0 0 0 1 0 0 0 1 1 0 0 0 0 0 0 0 0 0 0 0 0 0 1 0 0 0 0 0 0 0 0 1 1 0 0 0 0 0 0 0 0 1 0 0 0 0 0 0 0 0 0 0 0 0 0 0 0 1 0 0 1 0 0 0 1 0 0 0 0 0 0 0 0 1 0 1 0 0 0 0 0 0 1 0 0 0 1 0 0 0 0 0 1 0 1 0 0 0 0 0 0 0 0 0 1 0 0 0 1 0 0 1 0 1 1 0 0 0 0 0 0 0 0 0 1 0 1 0 0 1 1 0 0 0 0 0 0 0 0 0 0 0 0 0 0 0 0 0 0 0 0 1 0 0 0 0 0 1 0 0 0 1 1 0 0 0 0 0 0 1 0 0 0 0 0 0 0 0 1 0 0 0 0 1 0 0 0 0 0 0 0 0 0 0 1 0 0 0 1 0 0 1 0 0 0 0 0 1 0 0 0 0 0 0 0 0 0 1 0 0 0 0 0 0 0 0 0 0 0 0 1 0 0 0 0 0 1 0 0 0 1 0 0 1 0 0 1 1 0 1 0 0 0 0 0 0 0 0 0 0 0 0 1 0 0 0 0 0 0 0 0 0 0 0 0 0 0 0 0 1 0 0 0 1 0 0 0 1 0 0 0 0 0 0 0 0 0 0 0 0 0 0 0 0 0 0 0 0 0 0 1 0 0 0 1 0 0 1 0 0 0 0 0 1 0 0 0 0 1 1 0 0 1 1 0 1 0 0 0 0 0 0 0 0 0 1 1 0 0 1 0 1 0 0 1 0 0 0 1 0 0 0 1 0 1 0 0 1 0 0 0 0 0 0 0 0 1 0 0 0 0 0 0 0 1 0 0 1 0 1 0 0 0 0 0 0 0 0 0 0 0 1 0 0 0 0 0 0 0 0 0 0 0 0 0 0 0 0 0 0 1 0 0 1 1 0 1 0 0 1 0 0 0 0 0 1 0 0 0 0 0 0 0 0 0 0 0 0 0 0 0 0 0 0 1 1 0 0 0 1 0 1 0 0 0 1 0 0 0 0 0 0 1 0 0 1 0 0 0 0 1 0 1 1 0 0 0 0 1 0 0 0 0 0 1 0 0 0 0 0 0 0 0 1 0 0 1 0 0 0 0 0 1 0 0 0 0 1 0 0 0 0 0 0 0 0 0 0 1 0 0 0 0 0 0 0 0 0 0 0 0 0 1 0 0 1 1 1 0 0 0 0 0 0 0 0 0 0 0 0 1 1 1 0 0 0 0 0 0 0 0 0 0 1 0 0 0 0 0 0 1 1 0 1 0 1 0 1 0 0 0 1 1 0 0 0 0 1 1 1 0 1 0 0 0 0 0 0 0 0 0 0 1 1 0 0 0 0 0 0 0 0 0 0 0 0 1 0 1 0 1 0 0 1 1 1 0 0 0 1 1 1 0 1 0 0 1 0 0 1 0 0 0 0 0 0 0 0 0 1 0 0 0 0 0 0 1 0 0 0 0 0 1 0 0 1 1 1 0 0 0 0 0 1 0 0 0 0 0 1 0 0 0 0 1 0 0 0 0 0 0 0 1 1 0 0 0 0 0 0 0 0 1 1 0 0 0 0 0 0 1 0 0 0 0 0 0 0 0 0 0 1 0 1 1 0 0 0 0 0 0 0 1 0 0 1 0 0 0 0 0 0 0 0 0 0 0 0 0 0 0 1 0 0 0 0 0 0 0 0 1 0 0 1 0 0 0 0 1 0 0 0 0 1 1 0 0 0 0 0 0 0 0 0 0 0 0 0 0 0 1 0 0 0 0 0 0 0 0 0 0 0 1 0 0 0 0 1 0 0 0 0 0 0 1 0 0 0 0 0 0 0 0 0 0 0 1 0 0 1 0 1 1 1 0 0 0 0 0 1 0 0 0 0 0 0 0 0 0 0 0 0 0 0 0 0 0 0 0 1 0 0 0 1 0 0 0 0 0 0 0 1 0 0 0 0 0 0 0 0 0 0 1 0 0 0 1 1 0 1 0 0 0 0 1 1 1 1 0 0 0 0 0 0 0 1 0 0 0 0 0 0 1 0 0 0 0 0 1 0 0 0 1 0 0 0 0 1 0 0 0 1 0 0 0 0 0 0 0 0 0 0 1 0 0 0 1 0 0 1 0 0 0 0 0 0 0 1 0 0 0 0 0 0 0 1 0 1 0 0 0 0 0 0 1 0 0 1 0 0 0 0 0 0 0 0 1 0 1 0 0 0 0 0 0 0 0 1 0 0 0 1 0 1 0 0 0 0 0 0 0 0 0 0 0 0 0 0 0 0 1 1 0 0 0 0 0 0 0 0 0 1 0 0 0 0 0 0 1 0 0 0 0 0 1 1 0 0 0 1 0 0 0 0 1 0 0 1 1 1 0 0 0 0 1 0 0 1 1 0 1 1 1 0 0 0 0 0 0 0 0 0 1 1 0 1 0 0 0 1 0 0 0 0 0 1 0 0 0 0 0 0 0 0 0 1 1 0 0 1 0 0 0 0 0 0 0 0 0 0 1 0 0 0 0 0 1 0 1 1 0 1 0 0 0 0 1 0 0 1 0 1 0 1 0 0 0 0 0 0 0 0 0 0 0 0 1 0 0 0 0 0 0 0 0 0 0 0 0 0 0 0 0 0 1 0 0 0 0 0 0 0 1 0 0 0 0 1 1 0 0 0 0 0 0 0 0 0 0 0 1 0 1 1 0 0 0 1 0 0 0 0 0 0 0 0 0 0 0 0 0 0 0 0 1 0 1 0 0 0 0 0 1 1 0 0 0 0 0 0 0 0 0 0 1 0 1 0 0 0 0 0 0 0 1 0 0 0 0 0 0 0 0 0 1 1 1 0 0 1 0 0 1 0 0 0 1 1 0 0 0 0 1 0 1 0 0 0 0 0 0 0 1 0 1 0 0 0 0 0 0 1 1 0 0 1 0 1 0 0 0 0 0 1 0 0 0 1 0 1 0 0 0 0 1 1 0 0 1 0 1 0 1 0 0 0 0 1 0 1 1 0 0 0 0 1 0 0 1 0 0 1 0 0 0 0 0 0 1 1 0 0 1 0 0 1 0 0 0 0 0 0 0 0 0 0 0 0 0 0 0 0 0 0 0 1 0 0 1 0 0 0 1 0 1 0 0 1 0 0 0 0 0 0 0 0 0 0 0 0 0 0 0 0 1 0 0 0 0 0 0 1 0 0 0 0 1 0 1 0 0 0 0 0 0 1 0 0 0 0 0 0 0 0 0 0 0 0 0 0 0 0 1 0 0 0 0 0 1 0 0 0 0 0 0 0 1 0 0 1 1 0 0 0 0 0 1 1 0 0 0 0 0 1 0 0 0 0 1 0 0 1 0 0 0 1 1 0 0 0 0 0 1 0 0 0 1 0 0 0 0 0 1 0 0 0 0 0 0 0 0 0 0 0 0 0 0 0 1 0 0 0 1 0 0 0 0 0 1 0 1 1 0 1 0 0 0 1 0 0 0 1 0 0 0 0 0 0 0 0 0 1 0 1 0 1 0 0 0 0 0 0 0 0 0 1 0 0 0 1 1 0 0 0 1 0 0 1 0 0 1 0 0 0 0 1 0 0 0 1 0 0 0 1 0 0 0 0 0 0 1 0 0 0 0 0 0 0 1 0 0 1 0 0 0 0 1 0 0 1 0 1 0 0 0 0 0 0 1 0 0 0 0 0 1 0 0 0 0 0 0 0 0 0 0 0 1 0 0 0 0 0 0 0 0 1 0 1 1 0 0 0 0 0 1 0 0 0 0 0 0 0 0 0 0 0 0 0 0 0 0 1 0 0 0 0 1 1 0 1 0 0 1 0 0 1 1 0 1 0 0 0 0 0 1 0 0 0 0 0 0 0 0 0 0 0 0 1 1 0 1 0 0 1 0 0 0 0 0 0 0 0 1 0 0 0 1 0 1 0 0 0 1 0 0 0 0 0 1 0 0 0 1 0 0 0 0 0 1 1 1 1 0 0 0 0 1 1 0 0 1 1 1 0 0 0 1 0 0 0 1 0 0 0 0 0 0 0 0 0 0 0 0 0 0 0 0 0 0 0 1 0 0 0 0 0 0 0 0 1 1 1 0 1 1 1 0 0 0 0 0 0 0 0 1 0 0 0 0 0 1 0 0 0 0 0 0 0 0 0 0 1 1 ]\n"
     ]
    }
   ],
   "source": [
    "\"\"\"\n",
    "CELL N°1.5 : SENSITIVE FEATURES\n",
    "\n",
    "@pre:  A pandas.DataFrame `df` containing the dataset with sensitive features\n",
    "@post: A pandas.DataFrame `df` containing the dataset without sensitive features and separate numpy arrays for each sensitive feature \n",
    "as well as the true label array `y`.\n",
    "\"\"\"\n",
    "\n",
    "# Use the dictionaries below to encode numerically the sensitive features.\n",
    "race = df[\"race\"].to_numpy()\n",
    "print(\"[\",*list(race),\"]\")\n",
    "race_map = {\n",
    "    \"African-American\": 0,\n",
    "    \"Caucasian\": 1,\n",
    "    \"Asian\": 2,\n",
    "    \"Other\": 3,\n",
    "    \"Hispanic\": 4,\n",
    "    \"Native American\": 5,\n",
    "}\n",
    "race_mapped = np.array([race_map[i] for i in race]) #TP : Replacing every race by its numerical mapping\n",
    "print(\"[\",*list(race_mapped),\"]\")\n",
    "df = df.drop(columns=[\"race\"])\n",
    "\n",
    "sex = df[\"sex\"].to_numpy()\n",
    "print(\"[\",*list(sex),\"]\")\n",
    "sex_map = {\"Male\": 0, \"Female\": 1}\n",
    "sex_mapped = np.array([sex_map[i] for i in sex])  #TP : Replacing every sex by its numerical mapping\n",
    "print(\"[\",*list(sex_mapped),\"]\")\n",
    "df = df.drop(columns=[\"sex\"])\n",
    "\n",
    "# As you approach the last step of the preprocessing, you should also store the target variable and remove it from the dataframe.\n",
    "# It is good practice to remove it just before the scaling so that its dimension corresponds to the number of data points in `df`.\n",
    "y = df[\"two_year_recid\"].astype(float).values\n",
    "df = df.drop(columns=[\"two_year_recid\"])\n",
    "\n",
    "\n",
    "# Get dummied variables\n",
    "df = pd.get_dummies(df, prefix='ccd', columns=['c_charge_degree'], drop_first=True, dtype=int)   # M = 1 or F = 0\n",
    "\n",
    "df.describe()\n",
    "df.to_csv(\"cleaned_csv\")"
   ]
  },
  {
   "cell_type": "code",
   "execution_count": 29,
   "metadata": {},
   "outputs": [
    {
     "data": {
      "application/vnd.plotly.v1+json": {
       "config": {
        "plotlyServerURL": "https://plot.ly"
       },
       "data": [
        {
         "colorbar": {
          "thickness": 20,
          "ticklen": 3
         },
         "colorscale": [
          [
           0,
           "#3f7f93"
          ],
          [
           0.071,
           "#5890a1"
          ],
          [
           0.143,
           "#72a1b0"
          ],
          [
           0.214,
           "#8cb3bf"
          ],
          [
           0.286,
           "#a7c5cf"
          ],
          [
           0.357,
           "#c0d6dd"
          ],
          [
           0.429,
           "#dae8ec"
          ],
          [
           0.5,
           "#f2f2f2"
          ],
          [
           0.571,
           "#f7d7d9"
          ],
          [
           0.643,
           "#f2bcc0"
          ],
          [
           0.714,
           "#eda3a9"
          ],
          [
           0.786,
           "#e8888f"
          ],
          [
           0.857,
           "#e36e76"
          ],
          [
           0.929,
           "#de535e"
          ],
          [
           1,
           "#d93a46"
          ]
         ],
         "hoverinfo": "text",
         "hovertext": [
          [
           "corr(priors_count.1, priors_count.1)= 1.00",
           "corr(priors_count.1, age)= 0.12",
           "corr(priors_count.1, juv_fel_count)= 0.19",
           "corr(priors_count.1, juv_misd_count)= 0.27",
           "corr(priors_count.1, juv_other_count)= 0.11",
           "corr(priors_count.1, priors_count)= 1.00",
           "corr(priors_count.1, days_b_screening_arrest)= 0.02",
           "corr(priors_count.1, c_days_from_compas)= 0.00",
           "corr(priors_count.1, d_time_jail)= 0.19",
           "corr(priors_count.1, d_custody)= 0.11",
           "corr(priors_count.1, compas_screening_age)= 0.12",
           "corr(priors_count.1, screening_age)= 0.12",
           "corr(priors_count.1, v_screening_age)= 0.12",
           "corr(priors_count.1, ccd_M)= -0.15",
           "corr(priors_count.1, two_year_recid)= 0.29"
          ],
          [
           "corr(age, priors_count.1)= 0.12",
           "corr(age, age)= 1.00",
           "corr(age, juv_fel_count)= -0.05",
           "corr(age, juv_misd_count)= -0.11",
           "corr(age, juv_other_count)= -0.17",
           "corr(age, priors_count)= 0.12",
           "corr(age, days_b_screening_arrest)= -0.07",
           "corr(age, c_days_from_compas)= 0.07",
           "corr(age, d_time_jail)= 0.01",
           "corr(age, d_custody)= -0.03",
           "corr(age, compas_screening_age)= 1.00",
           "corr(age, screening_age)= 1.00",
           "corr(age, v_screening_age)= 1.00",
           "corr(age, ccd_M)= 0.10",
           "corr(age, two_year_recid)= -0.19"
          ],
          [
           "corr(juv_fel_count, priors_count.1)= 0.19",
           "corr(juv_fel_count, age)= -0.05",
           "corr(juv_fel_count, juv_fel_count)= 1.00",
           "corr(juv_fel_count, juv_misd_count)= 0.08",
           "corr(juv_fel_count, juv_other_count)= 0.04",
           "corr(juv_fel_count, priors_count)= 0.19",
           "corr(juv_fel_count, days_b_screening_arrest)= 0.02",
           "corr(juv_fel_count, c_days_from_compas)= -0.01",
           "corr(juv_fel_count, d_time_jail)= 0.05",
           "corr(juv_fel_count, d_custody)= 0.05",
           "corr(juv_fel_count, compas_screening_age)= -0.05",
           "corr(juv_fel_count, screening_age)= -0.05",
           "corr(juv_fel_count, v_screening_age)= -0.05",
           "corr(juv_fel_count, ccd_M)= -0.04",
           "corr(juv_fel_count, two_year_recid)= 0.08"
          ],
          [
           "corr(juv_misd_count, priors_count.1)= 0.27",
           "corr(juv_misd_count, age)= -0.11",
           "corr(juv_misd_count, juv_fel_count)= 0.08",
           "corr(juv_misd_count, juv_misd_count)= 1.00",
           "corr(juv_misd_count, juv_other_count)= 0.26",
           "corr(juv_misd_count, priors_count)= 0.27",
           "corr(juv_misd_count, days_b_screening_arrest)= 0.03",
           "corr(juv_misd_count, c_days_from_compas)= 0.01",
           "corr(juv_misd_count, d_time_jail)= 0.05",
           "corr(juv_misd_count, d_custody)= 0.02",
           "corr(juv_misd_count, compas_screening_age)= -0.11",
           "corr(juv_misd_count, screening_age)= -0.11",
           "corr(juv_misd_count, v_screening_age)= -0.11",
           "corr(juv_misd_count, ccd_M)= -0.04",
           "corr(juv_misd_count, two_year_recid)= 0.11"
          ],
          [
           "corr(juv_other_count, priors_count.1)= 0.11",
           "corr(juv_other_count, age)= -0.17",
           "corr(juv_other_count, juv_fel_count)= 0.04",
           "corr(juv_other_count, juv_misd_count)= 0.26",
           "corr(juv_other_count, juv_other_count)= 1.00",
           "corr(juv_other_count, priors_count)= 0.11",
           "corr(juv_other_count, days_b_screening_arrest)= 0.02",
           "corr(juv_other_count, c_days_from_compas)= -0.01",
           "corr(juv_other_count, d_time_jail)= 0.06",
           "corr(juv_other_count, d_custody)= 0.05",
           "corr(juv_other_count, compas_screening_age)= -0.17",
           "corr(juv_other_count, screening_age)= -0.17",
           "corr(juv_other_count, v_screening_age)= -0.17",
           "corr(juv_other_count, ccd_M)= -0.04",
           "corr(juv_other_count, two_year_recid)= 0.13"
          ],
          [
           "corr(priors_count, priors_count.1)= 1.00",
           "corr(priors_count, age)= 0.12",
           "corr(priors_count, juv_fel_count)= 0.19",
           "corr(priors_count, juv_misd_count)= 0.27",
           "corr(priors_count, juv_other_count)= 0.11",
           "corr(priors_count, priors_count)= 1.00",
           "corr(priors_count, days_b_screening_arrest)= 0.02",
           "corr(priors_count, c_days_from_compas)= 0.00",
           "corr(priors_count, d_time_jail)= 0.19",
           "corr(priors_count, d_custody)= 0.11",
           "corr(priors_count, compas_screening_age)= 0.12",
           "corr(priors_count, screening_age)= 0.12",
           "corr(priors_count, v_screening_age)= 0.12",
           "corr(priors_count, ccd_M)= -0.15",
           "corr(priors_count, two_year_recid)= 0.29"
          ],
          [
           "corr(days_b_screening_arrest, priors_count.1)= 0.02",
           "corr(days_b_screening_arrest, age)= -0.07",
           "corr(days_b_screening_arrest, juv_fel_count)= 0.02",
           "corr(days_b_screening_arrest, juv_misd_count)= 0.03",
           "corr(days_b_screening_arrest, juv_other_count)= 0.02",
           "corr(days_b_screening_arrest, priors_count)= 0.02",
           "corr(days_b_screening_arrest, days_b_screening_arrest)= 1.00",
           "corr(days_b_screening_arrest, c_days_from_compas)= 0.01",
           "corr(days_b_screening_arrest, d_time_jail)= 0.06",
           "corr(days_b_screening_arrest, d_custody)= 0.02",
           "corr(days_b_screening_arrest, compas_screening_age)= -0.07",
           "corr(days_b_screening_arrest, screening_age)= -0.07",
           "corr(days_b_screening_arrest, v_screening_age)= -0.07",
           "corr(days_b_screening_arrest, ccd_M)= -0.01",
           "corr(days_b_screening_arrest, two_year_recid)= 0.07"
          ],
          [
           "corr(c_days_from_compas, priors_count.1)= 0.00",
           "corr(c_days_from_compas, age)= 0.07",
           "corr(c_days_from_compas, juv_fel_count)= -0.01",
           "corr(c_days_from_compas, juv_misd_count)= 0.01",
           "corr(c_days_from_compas, juv_other_count)= -0.01",
           "corr(c_days_from_compas, priors_count)= 0.00",
           "corr(c_days_from_compas, days_b_screening_arrest)= 0.01",
           "corr(c_days_from_compas, c_days_from_compas)= 1.00",
           "corr(c_days_from_compas, d_time_jail)= 0.00",
           "corr(c_days_from_compas, d_custody)= -0.00",
           "corr(c_days_from_compas, compas_screening_age)= 0.07",
           "corr(c_days_from_compas, screening_age)= 0.07",
           "corr(c_days_from_compas, v_screening_age)= 0.07",
           "corr(c_days_from_compas, ccd_M)= 0.06",
           "corr(c_days_from_compas, two_year_recid)= -0.04"
          ],
          [
           "corr(d_time_jail, priors_count.1)= 0.19",
           "corr(d_time_jail, age)= 0.01",
           "corr(d_time_jail, juv_fel_count)= 0.05",
           "corr(d_time_jail, juv_misd_count)= 0.05",
           "corr(d_time_jail, juv_other_count)= 0.06",
           "corr(d_time_jail, priors_count)= 0.19",
           "corr(d_time_jail, days_b_screening_arrest)= 0.06",
           "corr(d_time_jail, c_days_from_compas)= 0.00",
           "corr(d_time_jail, d_time_jail)= 1.00",
           "corr(d_time_jail, d_custody)= 0.22",
           "corr(d_time_jail, compas_screening_age)= 0.01",
           "corr(d_time_jail, screening_age)= 0.01",
           "corr(d_time_jail, v_screening_age)= 0.01",
           "corr(d_time_jail, ccd_M)= -0.11",
           "corr(d_time_jail, two_year_recid)= 0.11"
          ],
          [
           "corr(d_custody, priors_count.1)= 0.11",
           "corr(d_custody, age)= -0.03",
           "corr(d_custody, juv_fel_count)= 0.05",
           "corr(d_custody, juv_misd_count)= 0.02",
           "corr(d_custody, juv_other_count)= 0.05",
           "corr(d_custody, priors_count)= 0.11",
           "corr(d_custody, days_b_screening_arrest)= 0.02",
           "corr(d_custody, c_days_from_compas)= -0.00",
           "corr(d_custody, d_time_jail)= 0.22",
           "corr(d_custody, d_custody)= 1.00",
           "corr(d_custody, compas_screening_age)= -0.03",
           "corr(d_custody, screening_age)= -0.03",
           "corr(d_custody, v_screening_age)= -0.03",
           "corr(d_custody, ccd_M)= -0.07",
           "corr(d_custody, two_year_recid)= 0.11"
          ],
          [
           "corr(compas_screening_age, priors_count.1)= 0.12",
           "corr(compas_screening_age, age)= 1.00",
           "corr(compas_screening_age, juv_fel_count)= -0.05",
           "corr(compas_screening_age, juv_misd_count)= -0.11",
           "corr(compas_screening_age, juv_other_count)= -0.17",
           "corr(compas_screening_age, priors_count)= 0.12",
           "corr(compas_screening_age, days_b_screening_arrest)= -0.07",
           "corr(compas_screening_age, c_days_from_compas)= 0.07",
           "corr(compas_screening_age, d_time_jail)= 0.01",
           "corr(compas_screening_age, d_custody)= -0.03",
           "corr(compas_screening_age, compas_screening_age)= 1.00",
           "corr(compas_screening_age, screening_age)= 1.00",
           "corr(compas_screening_age, v_screening_age)= 1.00",
           "corr(compas_screening_age, ccd_M)= 0.10",
           "corr(compas_screening_age, two_year_recid)= -0.18"
          ],
          [
           "corr(screening_age, priors_count.1)= 0.12",
           "corr(screening_age, age)= 1.00",
           "corr(screening_age, juv_fel_count)= -0.05",
           "corr(screening_age, juv_misd_count)= -0.11",
           "corr(screening_age, juv_other_count)= -0.17",
           "corr(screening_age, priors_count)= 0.12",
           "corr(screening_age, days_b_screening_arrest)= -0.07",
           "corr(screening_age, c_days_from_compas)= 0.07",
           "corr(screening_age, d_time_jail)= 0.01",
           "corr(screening_age, d_custody)= -0.03",
           "corr(screening_age, compas_screening_age)= 1.00",
           "corr(screening_age, screening_age)= 1.00",
           "corr(screening_age, v_screening_age)= 1.00",
           "corr(screening_age, ccd_M)= 0.10",
           "corr(screening_age, two_year_recid)= -0.18"
          ],
          [
           "corr(v_screening_age, priors_count.1)= 0.12",
           "corr(v_screening_age, age)= 1.00",
           "corr(v_screening_age, juv_fel_count)= -0.05",
           "corr(v_screening_age, juv_misd_count)= -0.11",
           "corr(v_screening_age, juv_other_count)= -0.17",
           "corr(v_screening_age, priors_count)= 0.12",
           "corr(v_screening_age, days_b_screening_arrest)= -0.07",
           "corr(v_screening_age, c_days_from_compas)= 0.07",
           "corr(v_screening_age, d_time_jail)= 0.01",
           "corr(v_screening_age, d_custody)= -0.03",
           "corr(v_screening_age, compas_screening_age)= 1.00",
           "corr(v_screening_age, screening_age)= 1.00",
           "corr(v_screening_age, v_screening_age)= 1.00",
           "corr(v_screening_age, ccd_M)= 0.10",
           "corr(v_screening_age, two_year_recid)= -0.18"
          ],
          [
           "corr(ccd_M, priors_count.1)= -0.15",
           "corr(ccd_M, age)= 0.10",
           "corr(ccd_M, juv_fel_count)= -0.04",
           "corr(ccd_M, juv_misd_count)= -0.04",
           "corr(ccd_M, juv_other_count)= -0.04",
           "corr(ccd_M, priors_count)= -0.15",
           "corr(ccd_M, days_b_screening_arrest)= -0.01",
           "corr(ccd_M, c_days_from_compas)= 0.06",
           "corr(ccd_M, d_time_jail)= -0.11",
           "corr(ccd_M, d_custody)= -0.07",
           "corr(ccd_M, compas_screening_age)= 0.10",
           "corr(ccd_M, screening_age)= 0.10",
           "corr(ccd_M, v_screening_age)= 0.10",
           "corr(ccd_M, ccd_M)= 1.00",
           "corr(ccd_M, two_year_recid)= -0.12"
          ],
          [
           "corr(two_year_recid, priors_count.1)= 0.29",
           "corr(two_year_recid, age)= -0.19",
           "corr(two_year_recid, juv_fel_count)= 0.08",
           "corr(two_year_recid, juv_misd_count)= 0.11",
           "corr(two_year_recid, juv_other_count)= 0.13",
           "corr(two_year_recid, priors_count)= 0.29",
           "corr(two_year_recid, days_b_screening_arrest)= 0.07",
           "corr(two_year_recid, c_days_from_compas)= -0.04",
           "corr(two_year_recid, d_time_jail)= 0.11",
           "corr(two_year_recid, d_custody)= 0.11",
           "corr(two_year_recid, compas_screening_age)= -0.18",
           "corr(two_year_recid, screening_age)= -0.18",
           "corr(two_year_recid, v_screening_age)= -0.18",
           "corr(two_year_recid, ccd_M)= -0.12",
           "corr(two_year_recid, two_year_recid)= 1.00"
          ]
         ],
         "type": "heatmap",
         "x": [
          "priors_count.1",
          "age",
          "juv_fel_count",
          "juv_misd_count",
          "juv_other_count",
          "priors_count",
          "days_b_screening_arrest",
          "c_days_from_compas",
          "d_time_jail",
          "d_custody",
          "compas_screening_age",
          "screening_age",
          "v_screening_age",
          "ccd_M",
          "two_year_recid"
         ],
         "xgap": 1,
         "y": [
          "priors_count.1",
          "age",
          "juv_fel_count",
          "juv_misd_count",
          "juv_other_count",
          "priors_count",
          "days_b_screening_arrest",
          "c_days_from_compas",
          "d_time_jail",
          "d_custody",
          "compas_screening_age",
          "screening_age",
          "v_screening_age",
          "ccd_M",
          "two_year_recid"
         ],
         "ygap": 1,
         "z": [
          [
           1,
           0.1197726004098045,
           0.19407157687367044,
           0.2676751109888501,
           0.10875723141366322,
           1,
           0.02135028757146126,
           0.0037616606288307054,
           0.1888708762759212,
           0.1129677563616078,
           0.1227292020288123,
           0.1227292020288123,
           0.1227292020288123,
           -0.1454331975968209,
           0.29060724033509655
          ],
          [
           0.1197726004098045,
           1,
           -0.04775322737251365,
           -0.11159088918569744,
           -0.17278728040465086,
           0.11977260040980446,
           -0.06892553073338147,
           0.07349306240149037,
           0.011854765596557834,
           -0.03232628489064938,
           0.9987188751408851,
           0.9987188751408851,
           0.9987188751408851,
           0.10117723578527772,
           -0.18918014494841767
          ],
          [
           0.19407157687367044,
           -0.04775322737251365,
           1,
           0.07976578529488698,
           0.04343806262268922,
           0.19407157687367044,
           0.02433144879698318,
           -0.005396462554360513,
           0.04562223223831389,
           0.052775006474746644,
           -0.04752532734743083,
           -0.04752532734743083,
           -0.04752532734743083,
           -0.0449282607484982,
           0.08171538166437857
          ],
          [
           0.2676751109888501,
           -0.11159088918569744,
           0.07976578529488698,
           1,
           0.2570065011254072,
           0.2676751109888501,
           0.026998754464602124,
           0.009992650211493016,
           0.04511539101924542,
           0.022839571630170453,
           -0.11164015841449375,
           -0.11164015841449375,
           -0.11164015841449375,
           -0.03863163490160304,
           0.11029790900176217
          ],
          [
           0.10875723141366322,
           -0.17278728040465086,
           0.04343806262268922,
           0.2570065011254072,
           1,
           0.10875723141366322,
           0.023331018969736148,
           -0.005829974582721396,
           0.055544259207586766,
           0.04504285255365802,
           -0.17152897991506977,
           -0.17152897991506977,
           -0.17152897991506977,
           -0.04072439983807794,
           0.12590979647068914
          ],
          [
           1,
           0.11977260040980446,
           0.19407157687367044,
           0.2676751109888501,
           0.10875723141366322,
           1,
           0.02135028757146126,
           0.0037616606288307054,
           0.1888708762759212,
           0.1129677563616078,
           0.1227292020288123,
           0.1227292020288123,
           0.1227292020288123,
           -0.1454331975968209,
           0.29060724033509655
          ],
          [
           0.02135028757146126,
           -0.06892553073338147,
           0.02433144879698318,
           0.026998754464602124,
           0.023331018969736148,
           0.02135028757146126,
           1,
           0.006457353052524586,
           0.0642120245519558,
           0.02088259416117591,
           -0.069434049859136,
           -0.069434049859136,
           -0.069434049859136,
           -0.008042930121856383,
           0.07483569123993765
          ],
          [
           0.0037616606288307054,
           0.07349306240149037,
           -0.005396462554360513,
           0.009992650211493016,
           -0.005829974582721396,
           0.0037616606288307054,
           0.006457353052524586,
           1,
           0.0036439203366012353,
           -0.004272146875193306,
           0.07389390770345916,
           0.07389390770345916,
           0.07389390770345916,
           0.056879413996456914,
           -0.03989912826695163
          ],
          [
           0.1888708762759212,
           0.011854765596557834,
           0.04562223223831389,
           0.04511539101924542,
           0.055544259207586766,
           0.1888708762759212,
           0.0642120245519558,
           0.0036439203366012353,
           1,
           0.21726038183661855,
           0.007847701519943939,
           0.007847701519943939,
           0.007847701519943939,
           -0.10950281630087105,
           0.10914717725197652
          ],
          [
           0.1129677563616078,
           -0.03232628489064938,
           0.052775006474746644,
           0.022839571630170453,
           0.04504285255365802,
           0.1129677563616078,
           0.02088259416117591,
           -0.004272146875193306,
           0.21726038183661855,
           1,
           -0.03447177643859882,
           -0.03447177643859882,
           -0.03447177643859882,
           -0.07287416410586717,
           0.1101913803396813
          ],
          [
           0.1227292020288123,
           0.9987188751408851,
           -0.04752532734743083,
           -0.11164015841449375,
           -0.17152897991506977,
           0.1227292020288123,
           -0.069434049859136,
           0.07389390770345916,
           0.007847701519943939,
           -0.03447177643859882,
           1,
           1,
           1,
           0.0996210831427911,
           -0.17656437959915805
          ],
          [
           0.1227292020288123,
           0.9987188751408851,
           -0.04752532734743083,
           -0.11164015841449375,
           -0.17152897991506977,
           0.1227292020288123,
           -0.069434049859136,
           0.07389390770345916,
           0.007847701519943939,
           -0.03447177643859882,
           1,
           1,
           1,
           0.0996210831427911,
           -0.17656437959915805
          ],
          [
           0.1227292020288123,
           0.9987188751408851,
           -0.04752532734743083,
           -0.11164015841449375,
           -0.17152897991506977,
           0.1227292020288123,
           -0.069434049859136,
           0.07389390770345916,
           0.007847701519943939,
           -0.03447177643859882,
           1,
           1,
           1,
           0.0996210831427911,
           -0.17656437959915805
          ],
          [
           -0.1454331975968209,
           0.10117723578527772,
           -0.0449282607484982,
           -0.03863163490160304,
           -0.04072439983807794,
           -0.1454331975968209,
           -0.008042930121856383,
           0.056879413996456914,
           -0.10950281630087105,
           -0.07287416410586717,
           0.0996210831427911,
           0.0996210831427911,
           0.0996210831427911,
           1,
           -0.12033243977525303
          ],
          [
           0.29060724033509655,
           -0.18918014494841767,
           0.08171538166437857,
           0.11029790900176217,
           0.12590979647068914,
           0.29060724033509655,
           0.07483569123993765,
           -0.03989912826695163,
           0.10914717725197652,
           0.1101913803396813,
           -0.17656437959915805,
           -0.17656437959915805,
           -0.17656437959915805,
           -0.12033243977525303,
           1
          ]
         ],
         "zmax": 1,
         "zmin": -1
        }
       ],
       "layout": {
        "height": 600,
        "template": {
         "data": {
          "bar": [
           {
            "error_x": {
             "color": "#2a3f5f"
            },
            "error_y": {
             "color": "#2a3f5f"
            },
            "marker": {
             "line": {
              "color": "#E5ECF6",
              "width": 0.5
             },
             "pattern": {
              "fillmode": "overlay",
              "size": 10,
              "solidity": 0.2
             }
            },
            "type": "bar"
           }
          ],
          "barpolar": [
           {
            "marker": {
             "line": {
              "color": "#E5ECF6",
              "width": 0.5
             },
             "pattern": {
              "fillmode": "overlay",
              "size": 10,
              "solidity": 0.2
             }
            },
            "type": "barpolar"
           }
          ],
          "carpet": [
           {
            "aaxis": {
             "endlinecolor": "#2a3f5f",
             "gridcolor": "white",
             "linecolor": "white",
             "minorgridcolor": "white",
             "startlinecolor": "#2a3f5f"
            },
            "baxis": {
             "endlinecolor": "#2a3f5f",
             "gridcolor": "white",
             "linecolor": "white",
             "minorgridcolor": "white",
             "startlinecolor": "#2a3f5f"
            },
            "type": "carpet"
           }
          ],
          "choropleth": [
           {
            "colorbar": {
             "outlinewidth": 0,
             "ticks": ""
            },
            "type": "choropleth"
           }
          ],
          "contour": [
           {
            "colorbar": {
             "outlinewidth": 0,
             "ticks": ""
            },
            "colorscale": [
             [
              0,
              "#0d0887"
             ],
             [
              0.1111111111111111,
              "#46039f"
             ],
             [
              0.2222222222222222,
              "#7201a8"
             ],
             [
              0.3333333333333333,
              "#9c179e"
             ],
             [
              0.4444444444444444,
              "#bd3786"
             ],
             [
              0.5555555555555556,
              "#d8576b"
             ],
             [
              0.6666666666666666,
              "#ed7953"
             ],
             [
              0.7777777777777778,
              "#fb9f3a"
             ],
             [
              0.8888888888888888,
              "#fdca26"
             ],
             [
              1,
              "#f0f921"
             ]
            ],
            "type": "contour"
           }
          ],
          "contourcarpet": [
           {
            "colorbar": {
             "outlinewidth": 0,
             "ticks": ""
            },
            "type": "contourcarpet"
           }
          ],
          "heatmap": [
           {
            "colorbar": {
             "outlinewidth": 0,
             "ticks": ""
            },
            "colorscale": [
             [
              0,
              "#0d0887"
             ],
             [
              0.1111111111111111,
              "#46039f"
             ],
             [
              0.2222222222222222,
              "#7201a8"
             ],
             [
              0.3333333333333333,
              "#9c179e"
             ],
             [
              0.4444444444444444,
              "#bd3786"
             ],
             [
              0.5555555555555556,
              "#d8576b"
             ],
             [
              0.6666666666666666,
              "#ed7953"
             ],
             [
              0.7777777777777778,
              "#fb9f3a"
             ],
             [
              0.8888888888888888,
              "#fdca26"
             ],
             [
              1,
              "#f0f921"
             ]
            ],
            "type": "heatmap"
           }
          ],
          "heatmapgl": [
           {
            "colorbar": {
             "outlinewidth": 0,
             "ticks": ""
            },
            "colorscale": [
             [
              0,
              "#0d0887"
             ],
             [
              0.1111111111111111,
              "#46039f"
             ],
             [
              0.2222222222222222,
              "#7201a8"
             ],
             [
              0.3333333333333333,
              "#9c179e"
             ],
             [
              0.4444444444444444,
              "#bd3786"
             ],
             [
              0.5555555555555556,
              "#d8576b"
             ],
             [
              0.6666666666666666,
              "#ed7953"
             ],
             [
              0.7777777777777778,
              "#fb9f3a"
             ],
             [
              0.8888888888888888,
              "#fdca26"
             ],
             [
              1,
              "#f0f921"
             ]
            ],
            "type": "heatmapgl"
           }
          ],
          "histogram": [
           {
            "marker": {
             "pattern": {
              "fillmode": "overlay",
              "size": 10,
              "solidity": 0.2
             }
            },
            "type": "histogram"
           }
          ],
          "histogram2d": [
           {
            "colorbar": {
             "outlinewidth": 0,
             "ticks": ""
            },
            "colorscale": [
             [
              0,
              "#0d0887"
             ],
             [
              0.1111111111111111,
              "#46039f"
             ],
             [
              0.2222222222222222,
              "#7201a8"
             ],
             [
              0.3333333333333333,
              "#9c179e"
             ],
             [
              0.4444444444444444,
              "#bd3786"
             ],
             [
              0.5555555555555556,
              "#d8576b"
             ],
             [
              0.6666666666666666,
              "#ed7953"
             ],
             [
              0.7777777777777778,
              "#fb9f3a"
             ],
             [
              0.8888888888888888,
              "#fdca26"
             ],
             [
              1,
              "#f0f921"
             ]
            ],
            "type": "histogram2d"
           }
          ],
          "histogram2dcontour": [
           {
            "colorbar": {
             "outlinewidth": 0,
             "ticks": ""
            },
            "colorscale": [
             [
              0,
              "#0d0887"
             ],
             [
              0.1111111111111111,
              "#46039f"
             ],
             [
              0.2222222222222222,
              "#7201a8"
             ],
             [
              0.3333333333333333,
              "#9c179e"
             ],
             [
              0.4444444444444444,
              "#bd3786"
             ],
             [
              0.5555555555555556,
              "#d8576b"
             ],
             [
              0.6666666666666666,
              "#ed7953"
             ],
             [
              0.7777777777777778,
              "#fb9f3a"
             ],
             [
              0.8888888888888888,
              "#fdca26"
             ],
             [
              1,
              "#f0f921"
             ]
            ],
            "type": "histogram2dcontour"
           }
          ],
          "mesh3d": [
           {
            "colorbar": {
             "outlinewidth": 0,
             "ticks": ""
            },
            "type": "mesh3d"
           }
          ],
          "parcoords": [
           {
            "line": {
             "colorbar": {
              "outlinewidth": 0,
              "ticks": ""
             }
            },
            "type": "parcoords"
           }
          ],
          "pie": [
           {
            "automargin": true,
            "type": "pie"
           }
          ],
          "scatter": [
           {
            "fillpattern": {
             "fillmode": "overlay",
             "size": 10,
             "solidity": 0.2
            },
            "type": "scatter"
           }
          ],
          "scatter3d": [
           {
            "line": {
             "colorbar": {
              "outlinewidth": 0,
              "ticks": ""
             }
            },
            "marker": {
             "colorbar": {
              "outlinewidth": 0,
              "ticks": ""
             }
            },
            "type": "scatter3d"
           }
          ],
          "scattercarpet": [
           {
            "marker": {
             "colorbar": {
              "outlinewidth": 0,
              "ticks": ""
             }
            },
            "type": "scattercarpet"
           }
          ],
          "scattergeo": [
           {
            "marker": {
             "colorbar": {
              "outlinewidth": 0,
              "ticks": ""
             }
            },
            "type": "scattergeo"
           }
          ],
          "scattergl": [
           {
            "marker": {
             "colorbar": {
              "outlinewidth": 0,
              "ticks": ""
             }
            },
            "type": "scattergl"
           }
          ],
          "scattermapbox": [
           {
            "marker": {
             "colorbar": {
              "outlinewidth": 0,
              "ticks": ""
             }
            },
            "type": "scattermapbox"
           }
          ],
          "scatterpolar": [
           {
            "marker": {
             "colorbar": {
              "outlinewidth": 0,
              "ticks": ""
             }
            },
            "type": "scatterpolar"
           }
          ],
          "scatterpolargl": [
           {
            "marker": {
             "colorbar": {
              "outlinewidth": 0,
              "ticks": ""
             }
            },
            "type": "scatterpolargl"
           }
          ],
          "scatterternary": [
           {
            "marker": {
             "colorbar": {
              "outlinewidth": 0,
              "ticks": ""
             }
            },
            "type": "scatterternary"
           }
          ],
          "surface": [
           {
            "colorbar": {
             "outlinewidth": 0,
             "ticks": ""
            },
            "colorscale": [
             [
              0,
              "#0d0887"
             ],
             [
              0.1111111111111111,
              "#46039f"
             ],
             [
              0.2222222222222222,
              "#7201a8"
             ],
             [
              0.3333333333333333,
              "#9c179e"
             ],
             [
              0.4444444444444444,
              "#bd3786"
             ],
             [
              0.5555555555555556,
              "#d8576b"
             ],
             [
              0.6666666666666666,
              "#ed7953"
             ],
             [
              0.7777777777777778,
              "#fb9f3a"
             ],
             [
              0.8888888888888888,
              "#fdca26"
             ],
             [
              1,
              "#f0f921"
             ]
            ],
            "type": "surface"
           }
          ],
          "table": [
           {
            "cells": {
             "fill": {
              "color": "#EBF0F8"
             },
             "line": {
              "color": "white"
             }
            },
            "header": {
             "fill": {
              "color": "#C8D4E3"
             },
             "line": {
              "color": "white"
             }
            },
            "type": "table"
           }
          ]
         },
         "layout": {
          "annotationdefaults": {
           "arrowcolor": "#2a3f5f",
           "arrowhead": 0,
           "arrowwidth": 1
          },
          "autotypenumbers": "strict",
          "coloraxis": {
           "colorbar": {
            "outlinewidth": 0,
            "ticks": ""
           }
          },
          "colorscale": {
           "diverging": [
            [
             0,
             "#8e0152"
            ],
            [
             0.1,
             "#c51b7d"
            ],
            [
             0.2,
             "#de77ae"
            ],
            [
             0.3,
             "#f1b6da"
            ],
            [
             0.4,
             "#fde0ef"
            ],
            [
             0.5,
             "#f7f7f7"
            ],
            [
             0.6,
             "#e6f5d0"
            ],
            [
             0.7,
             "#b8e186"
            ],
            [
             0.8,
             "#7fbc41"
            ],
            [
             0.9,
             "#4d9221"
            ],
            [
             1,
             "#276419"
            ]
           ],
           "sequential": [
            [
             0,
             "#0d0887"
            ],
            [
             0.1111111111111111,
             "#46039f"
            ],
            [
             0.2222222222222222,
             "#7201a8"
            ],
            [
             0.3333333333333333,
             "#9c179e"
            ],
            [
             0.4444444444444444,
             "#bd3786"
            ],
            [
             0.5555555555555556,
             "#d8576b"
            ],
            [
             0.6666666666666666,
             "#ed7953"
            ],
            [
             0.7777777777777778,
             "#fb9f3a"
            ],
            [
             0.8888888888888888,
             "#fdca26"
            ],
            [
             1,
             "#f0f921"
            ]
           ],
           "sequentialminus": [
            [
             0,
             "#0d0887"
            ],
            [
             0.1111111111111111,
             "#46039f"
            ],
            [
             0.2222222222222222,
             "#7201a8"
            ],
            [
             0.3333333333333333,
             "#9c179e"
            ],
            [
             0.4444444444444444,
             "#bd3786"
            ],
            [
             0.5555555555555556,
             "#d8576b"
            ],
            [
             0.6666666666666666,
             "#ed7953"
            ],
            [
             0.7777777777777778,
             "#fb9f3a"
            ],
            [
             0.8888888888888888,
             "#fdca26"
            ],
            [
             1,
             "#f0f921"
            ]
           ]
          },
          "colorway": [
           "#636efa",
           "#EF553B",
           "#00cc96",
           "#ab63fa",
           "#FFA15A",
           "#19d3f3",
           "#FF6692",
           "#B6E880",
           "#FF97FF",
           "#FECB52"
          ],
          "font": {
           "color": "#2a3f5f"
          },
          "geo": {
           "bgcolor": "white",
           "lakecolor": "white",
           "landcolor": "#E5ECF6",
           "showlakes": true,
           "showland": true,
           "subunitcolor": "white"
          },
          "hoverlabel": {
           "align": "left"
          },
          "hovermode": "closest",
          "mapbox": {
           "style": "light"
          },
          "paper_bgcolor": "white",
          "plot_bgcolor": "#E5ECF6",
          "polar": {
           "angularaxis": {
            "gridcolor": "white",
            "linecolor": "white",
            "ticks": ""
           },
           "bgcolor": "#E5ECF6",
           "radialaxis": {
            "gridcolor": "white",
            "linecolor": "white",
            "ticks": ""
           }
          },
          "scene": {
           "xaxis": {
            "backgroundcolor": "#E5ECF6",
            "gridcolor": "white",
            "gridwidth": 2,
            "linecolor": "white",
            "showbackground": true,
            "ticks": "",
            "zerolinecolor": "white"
           },
           "yaxis": {
            "backgroundcolor": "#E5ECF6",
            "gridcolor": "white",
            "gridwidth": 2,
            "linecolor": "white",
            "showbackground": true,
            "ticks": "",
            "zerolinecolor": "white"
           },
           "zaxis": {
            "backgroundcolor": "#E5ECF6",
            "gridcolor": "white",
            "gridwidth": 2,
            "linecolor": "white",
            "showbackground": true,
            "ticks": "",
            "zerolinecolor": "white"
           }
          },
          "shapedefaults": {
           "line": {
            "color": "#2a3f5f"
           }
          },
          "ternary": {
           "aaxis": {
            "gridcolor": "white",
            "linecolor": "white",
            "ticks": ""
           },
           "baxis": {
            "gridcolor": "white",
            "linecolor": "white",
            "ticks": ""
           },
           "bgcolor": "#E5ECF6",
           "caxis": {
            "gridcolor": "white",
            "linecolor": "white",
            "ticks": ""
           }
          },
          "title": {
           "x": 0.05
          },
          "xaxis": {
           "automargin": true,
           "gridcolor": "white",
           "linecolor": "white",
           "ticks": "",
           "title": {
            "standoff": 15
           },
           "zerolinecolor": "white",
           "zerolinewidth": 2
          },
          "yaxis": {
           "automargin": true,
           "gridcolor": "white",
           "linecolor": "white",
           "ticks": "",
           "title": {
            "standoff": 15
           },
           "zerolinecolor": "white",
           "zerolinewidth": 2
          }
         }
        },
        "title": {
         "text": "Correlation Matrix",
         "x": 0.5
        },
        "width": 600,
        "xaxis": {
         "showgrid": false
        },
        "yaxis": {
         "autorange": "reversed",
         "showgrid": false
        }
       }
      }
     },
     "metadata": {},
     "output_type": "display_data"
    }
   ],
   "source": [
    "\"\"\"\n",
    "CELL N°1.5.bis : Remove Redundant features\n",
    "\"\"\"\n",
    "\n",
    "def plot_correlation_matrix(data):\n",
    "\n",
    "    X    = [label for label in data] \n",
    "    N    = data.shape[1]\n",
    "    corr = (data.corr()).values\n",
    "\n",
    "    # Display the correlation in cells\n",
    "    hovertext      = [ [f\"corr({X[i]}, {X[j]})= {corr[i][j]:.2f}\" for j in range(N)] for i in range(N) ]\n",
    "    sns_colorscale = [ [0.0, \"#3f7f93\"],   [0.071, \"#5890a1\"], [0.143, \"#72a1b0\"], [0.214, \"#8cb3bf\"],\n",
    "                    [0.286, \"#a7c5cf\"], [0.357, \"#c0d6dd\"], [0.429, \"#dae8ec\"], [0.5, \"#f2f2f2\"], \n",
    "                    [0.571, \"#f7d7d9\"], [0.643, \"#f2bcc0\"], [0.714, \"#eda3a9\"], [0.786, \"#e8888f\"], \n",
    "                    [0.857, \"#e36e76\"], [0.929, \"#de535e\"], [1.0, \"#d93a46\"] ]\n",
    "\n",
    "\n",
    "    heat   = go.Heatmap(z = data.corr(), x = X, y = X, zmin = -1, zmax = 1, xgap = 1, ygap = 1,\n",
    "                        colorscale = sns_colorscale, colorbar_thickness = 20, colorbar_ticklen = 3,\n",
    "                        hovertext = hovertext, hoverinfo = \"text\" )\n",
    "    title  = \"Correlation Matrix\"\n",
    "\n",
    "    layout = go.Layout(title_text = title, title_x = 0.5, width = 600, height = 600,\n",
    "        xaxis_showgrid = False, yaxis_showgrid = False, yaxis_autorange = \"reversed\")\n",
    "\n",
    "\n",
    "    fig = go.Figure(data=[heat], layout=layout)\n",
    "    fig.show()\n",
    "\n",
    "corr_matrix = df.corr(method='pearson')\n",
    "df_corr = df.copy()\n",
    "df_corr[\"two_year_recid\"] = y\n",
    "plot_correlation_matrix(df_corr)\n",
    "\n",
    "# From the correlation matrix, we observe :\n",
    "# REDUNDANCY from : screening_age, v_screening_age and compass_screening_age with age\n",
    "# REDUNDANCY from : prior_counts and prior_counts.1\n",
    "\n",
    "df = df[columns_to_keep_final]"
   ]
  },
  {
   "cell_type": "markdown",
   "metadata": {},
   "source": [
    "<br>\n",
    "<font size=5 color=#009999> <b>1.6 - Scaling the dataset</b> <br>\n",
    "</font>\n",
    "\n",
    "***Standardizing*** is important when you work with data because it allows data to be compared with one another.\n",
    "\n",
    "$z$ is the standard score of a population $x$. It can be computed as follows:\n",
    "$$z = \\frac{x-\\mu}{\\sigma}$$\n",
    "with $\\mu$ the mean of the population and $\\sigma$ the standard deviation of the population.\n",
    "\n",
    "Please consult [Wikipedia](https://en.wikipedia.org/wiki/Standard_score) for further information about the standardization.\\\n",
    "Be careful to use the same formula as us, check in `scikit-learn` and check the already existing imports."
   ]
  },
  {
   "cell_type": "code",
   "execution_count": 30,
   "metadata": {},
   "outputs": [
    {
     "name": "stdout",
     "output_type": "stream",
     "text": [
      "<class 'pandas.core.frame.DataFrame'>\n",
      "RangeIndex: 6172 entries, 0 to 6171\n",
      "Data columns (total 10 columns):\n",
      " #   Column                   Non-Null Count  Dtype  \n",
      "---  ------                   --------------  -----  \n",
      " 0   d_custody                6172 non-null   float64\n",
      " 1   d_time_jail              6172 non-null   float64\n",
      " 2   age                      6172 non-null   float64\n",
      " 3   juv_fel_count            6172 non-null   float64\n",
      " 4   juv_misd_count           6172 non-null   float64\n",
      " 5   juv_other_count          6172 non-null   float64\n",
      " 6   priors_count             6172 non-null   float64\n",
      " 7   days_b_screening_arrest  6172 non-null   float64\n",
      " 8   c_days_from_compas       6172 non-null   float64\n",
      " 9   ccd_M                    6172 non-null   float64\n",
      "dtypes: float64(10)\n",
      "memory usage: 482.3 KB\n"
     ]
    },
    {
     "data": {
      "text/html": [
       "<div>\n",
       "<style scoped>\n",
       "    .dataframe tbody tr th:only-of-type {\n",
       "        vertical-align: middle;\n",
       "    }\n",
       "\n",
       "    .dataframe tbody tr th {\n",
       "        vertical-align: top;\n",
       "    }\n",
       "\n",
       "    .dataframe thead th {\n",
       "        text-align: right;\n",
       "    }\n",
       "</style>\n",
       "<table border=\"1\" class=\"dataframe\">\n",
       "  <thead>\n",
       "    <tr style=\"text-align: right;\">\n",
       "      <th></th>\n",
       "      <th>d_custody</th>\n",
       "      <th>d_time_jail</th>\n",
       "      <th>age</th>\n",
       "      <th>juv_fel_count</th>\n",
       "      <th>juv_misd_count</th>\n",
       "      <th>juv_other_count</th>\n",
       "      <th>priors_count</th>\n",
       "      <th>days_b_screening_arrest</th>\n",
       "      <th>c_days_from_compas</th>\n",
       "      <th>ccd_M</th>\n",
       "    </tr>\n",
       "  </thead>\n",
       "  <tbody>\n",
       "    <tr>\n",
       "      <th>count</th>\n",
       "      <td>6.172000e+03</td>\n",
       "      <td>6.172000e+03</td>\n",
       "      <td>6.172000e+03</td>\n",
       "      <td>6.172000e+03</td>\n",
       "      <td>6.172000e+03</td>\n",
       "      <td>6.172000e+03</td>\n",
       "      <td>6.172000e+03</td>\n",
       "      <td>6.172000e+03</td>\n",
       "      <td>6.172000e+03</td>\n",
       "      <td>6.172000e+03</td>\n",
       "    </tr>\n",
       "    <tr>\n",
       "      <th>mean</th>\n",
       "      <td>-1.093674e-17</td>\n",
       "      <td>-6.907415e-18</td>\n",
       "      <td>1.277872e-16</td>\n",
       "      <td>1.151236e-18</td>\n",
       "      <td>-5.756179e-18</td>\n",
       "      <td>2.216129e-17</td>\n",
       "      <td>-6.043988e-17</td>\n",
       "      <td>-7.483033e-18</td>\n",
       "      <td>1.439045e-17</td>\n",
       "      <td>5.928864e-17</td>\n",
       "    </tr>\n",
       "    <tr>\n",
       "      <th>std</th>\n",
       "      <td>1.000081e+00</td>\n",
       "      <td>1.000081e+00</td>\n",
       "      <td>1.000081e+00</td>\n",
       "      <td>1.000081e+00</td>\n",
       "      <td>1.000081e+00</td>\n",
       "      <td>1.000081e+00</td>\n",
       "      <td>1.000081e+00</td>\n",
       "      <td>1.000081e+00</td>\n",
       "      <td>1.000081e+00</td>\n",
       "      <td>1.000081e+00</td>\n",
       "    </tr>\n",
       "    <tr>\n",
       "      <th>min</th>\n",
       "      <td>-2.095875e-01</td>\n",
       "      <td>-3.237873e-01</td>\n",
       "      <td>-1.409593e+00</td>\n",
       "      <td>-1.279228e-01</td>\n",
       "      <td>-1.832315e-01</td>\n",
       "      <td>-2.351024e-01</td>\n",
       "      <td>-6.844132e-01</td>\n",
       "      <td>-5.558236e+00</td>\n",
       "      <td>-8.997154e-02</td>\n",
       "      <td>-7.447550e-01</td>\n",
       "    </tr>\n",
       "    <tr>\n",
       "      <th>25%</th>\n",
       "      <td>-2.037607e-01</td>\n",
       "      <td>-3.023630e-01</td>\n",
       "      <td>-8.128321e-01</td>\n",
       "      <td>-1.279228e-01</td>\n",
       "      <td>-1.832315e-01</td>\n",
       "      <td>-2.351024e-01</td>\n",
       "      <td>-6.844132e-01</td>\n",
       "      <td>1.456010e-01</td>\n",
       "      <td>-8.635870e-02</td>\n",
       "      <td>-7.447550e-01</td>\n",
       "    </tr>\n",
       "    <tr>\n",
       "      <th>50%</th>\n",
       "      <td>-1.979340e-01</td>\n",
       "      <td>-3.023630e-01</td>\n",
       "      <td>-3.013226e-01</td>\n",
       "      <td>-1.279228e-01</td>\n",
       "      <td>-1.832315e-01</td>\n",
       "      <td>-2.351024e-01</td>\n",
       "      <td>-4.735933e-01</td>\n",
       "      <td>1.456010e-01</td>\n",
       "      <td>-8.635870e-02</td>\n",
       "      <td>-7.447550e-01</td>\n",
       "    </tr>\n",
       "    <tr>\n",
       "      <th>75%</th>\n",
       "      <td>-1.105327e-01</td>\n",
       "      <td>-1.952415e-01</td>\n",
       "      <td>6.364447e-01</td>\n",
       "      <td>-1.279228e-01</td>\n",
       "      <td>-1.832315e-01</td>\n",
       "      <td>-2.351024e-01</td>\n",
       "      <td>1.588664e-01</td>\n",
       "      <td>1.456010e-01</td>\n",
       "      <td>-8.635870e-02</td>\n",
       "      <td>1.342724e+00</td>\n",
       "    </tr>\n",
       "    <tr>\n",
       "      <th>max</th>\n",
       "      <td>3.495486e+01</td>\n",
       "      <td>1.681565e+01</td>\n",
       "      <td>5.240030e+00</td>\n",
       "      <td>4.301630e+01</td>\n",
       "      <td>2.593003e+01</td>\n",
       "      <td>1.888564e+01</td>\n",
       "      <td>7.326743e+00</td>\n",
       "      <td>6.242806e+00</td>\n",
       "      <td>3.417782e+01</td>\n",
       "      <td>1.342724e+00</td>\n",
       "    </tr>\n",
       "  </tbody>\n",
       "</table>\n",
       "</div>"
      ],
      "text/plain": [
       "          d_custody   d_time_jail           age  juv_fel_count  \\\n",
       "count  6.172000e+03  6.172000e+03  6.172000e+03   6.172000e+03   \n",
       "mean  -1.093674e-17 -6.907415e-18  1.277872e-16   1.151236e-18   \n",
       "std    1.000081e+00  1.000081e+00  1.000081e+00   1.000081e+00   \n",
       "min   -2.095875e-01 -3.237873e-01 -1.409593e+00  -1.279228e-01   \n",
       "25%   -2.037607e-01 -3.023630e-01 -8.128321e-01  -1.279228e-01   \n",
       "50%   -1.979340e-01 -3.023630e-01 -3.013226e-01  -1.279228e-01   \n",
       "75%   -1.105327e-01 -1.952415e-01  6.364447e-01  -1.279228e-01   \n",
       "max    3.495486e+01  1.681565e+01  5.240030e+00   4.301630e+01   \n",
       "\n",
       "       juv_misd_count  juv_other_count  priors_count  days_b_screening_arrest  \\\n",
       "count    6.172000e+03     6.172000e+03  6.172000e+03             6.172000e+03   \n",
       "mean    -5.756179e-18     2.216129e-17 -6.043988e-17            -7.483033e-18   \n",
       "std      1.000081e+00     1.000081e+00  1.000081e+00             1.000081e+00   \n",
       "min     -1.832315e-01    -2.351024e-01 -6.844132e-01            -5.558236e+00   \n",
       "25%     -1.832315e-01    -2.351024e-01 -6.844132e-01             1.456010e-01   \n",
       "50%     -1.832315e-01    -2.351024e-01 -4.735933e-01             1.456010e-01   \n",
       "75%     -1.832315e-01    -2.351024e-01  1.588664e-01             1.456010e-01   \n",
       "max      2.593003e+01     1.888564e+01  7.326743e+00             6.242806e+00   \n",
       "\n",
       "       c_days_from_compas         ccd_M  \n",
       "count        6.172000e+03  6.172000e+03  \n",
       "mean         1.439045e-17  5.928864e-17  \n",
       "std          1.000081e+00  1.000081e+00  \n",
       "min         -8.997154e-02 -7.447550e-01  \n",
       "25%         -8.635870e-02 -7.447550e-01  \n",
       "50%         -8.635870e-02 -7.447550e-01  \n",
       "75%         -8.635870e-02  1.342724e+00  \n",
       "max          3.417782e+01  1.342724e+00  "
      ]
     },
     "execution_count": 30,
     "metadata": {},
     "output_type": "execute_result"
    }
   ],
   "source": [
    "\"\"\"\n",
    "CELL N°1.6 : SCALE THE DATASET\n",
    "\n",
    "@pre:  A pandas.DataFrame `df` containing the dataset\n",
    "@post: A pandas.DataFrame `df` containing the standardized dataset\n",
    "\"\"\"\n",
    "\n",
    "\n",
    "def scale_dataset(df):\n",
    "    return pd.DataFrame(StandardScaler().fit_transform(df),columns=df.columns)\n",
    "\n",
    "\n",
    "X = scale_dataset(df)\n",
    "X.info()\n",
    "X.describe()"
   ]
  },
  {
   "cell_type": "markdown",
   "metadata": {},
   "source": [
    "<br><font size=7 color=#009999> <b>PART 2 - Data Exploration</b> </font> <br><br>\n",
    "\n",
    "<font size=5 color=#009999> <b>2.1 - Feature visualization</b> <br>\n",
    "</font>\n"
   ]
  },
  {
   "cell_type": "markdown",
   "metadata": {},
   "source": [
    "### Is the dataset balanced in terms of sensitive groups ?\n",
    "It's good practice to check this to better understand the contents of our dataset.\n",
    "Indeed, if the training dataset is severely imbalanced, our learning algorithm may perform better for over-represented groups than for under-represented groups. Moreover, our goal is for the model to perform equally well across all groups.\n",
    "\n",
    "<div class=\"alert alert-warning\">\n",
    "<b>[Question 2.1] (Im)Balanced dataset ? </b>  <br>\n",
    "Is the dataset imbalanced ? What could be the consequences in terms of fairness i.e. in terms of the model performing equally well across all groups ?\n",
    "</div> "
   ]
  },
  {
   "cell_type": "code",
   "execution_count": 55,
   "metadata": {},
   "outputs": [
    {
     "name": "stdout",
     "output_type": "stream",
     "text": [
      "[51.44199611147116, 34.07323395981854, 0.5022683084899546, 5.557355800388853, 8.246921581335062, 0.1782242384964355]\n"
     ]
    },
    {
     "data": {
      "image/png": "[encoded data removed]",
      "text/plain": [
       "<Figure size 600x600 with 1 Axes>"
      ]
     },
     "metadata": {},
     "output_type": "display_data"
    }
   ],
   "source": [
    "\"\"\"\n",
    "CELL N°2.1.1: (Im)Balanced dataset ?\n",
    "\n",
    "@pre:  A pandas.DataFrame `X` containing the dataset\n",
    "@post: A pie chart plot representing the repartition of race groups in the dataset.\n",
    "\"\"\"\n",
    "# As the race group was previously removed, we can temporarily add it back, using the following map.\n",
    "#race_reverse_map = {v: k for k, v in race_map.items()}\n",
    "\n",
    "explode = (0.1, 0.1, 0.1, 0.1, 0.09, 0.11)  # One value per label\n",
    "\n",
    "labels = [\"African-American\", \"Caucasian\", \"Asian\", \"Other\", \"Hispanic\", \"Native American\"]\n",
    "\n",
    "sizes = [\n",
    "    100 * np.sum(np.where(race_mapped == i, 1, 0)) / len(race_mapped) \n",
    "    for i in range(6)\n",
    "]\n",
    "\n",
    "print(sizes)\n",
    "\n",
    "plt.figure(figsize=(6, 6))\n",
    "plt.title(\"Repartition of races\",loc='center', y=1.1, fontsize=20)\n",
    "plt.pie(\n",
    "    sizes,\n",
    "    explode=explode,\n",
    "    labels=labels,\n",
    "    autopct='%1.1f%%',\n",
    "    colors=['#ef476f', '#f78c6b', '#ffd166', '#06d6a0', '#118ab2', '#073b4c'],\n",
    "    shadow=True,\n",
    "    startangle=90,\n",
    "    pctdistance=1.15,  # Pull percentages closer to the center\n",
    "    labeldistance=1.30  # Adjust label distance from the center\n",
    ")\n",
    "plt.show()\n",
    "\n",
    "#X = X.drop(columns=[\"race\"])  # Remove the race group again after doing the plot."
   ]
  },
  {
   "cell_type": "markdown",
   "metadata": {},
   "source": [
    "### Correlation\n",
    "In order to check to the important features in our dataset, we can compute and plot (see e.g. `sns.heatmap`) the correlation matrix, as a tool to visually show all the correlation between features."
   ]
  },
  {
   "cell_type": "code",
   "execution_count": 32,
   "metadata": {},
   "outputs": [
    {
     "data": {
      "application/vnd.plotly.v1+json": {
       "config": {
        "plotlyServerURL": "https://plot.ly"
       },
       "data": [
        {
         "colorbar": {
          "thickness": 20,
          "ticklen": 3
         },
         "colorscale": [
          [
           0,
           "#3f7f93"
          ],
          [
           0.071,
           "#5890a1"
          ],
          [
           0.143,
           "#72a1b0"
          ],
          [
           0.214,
           "#8cb3bf"
          ],
          [
           0.286,
           "#a7c5cf"
          ],
          [
           0.357,
           "#c0d6dd"
          ],
          [
           0.429,
           "#dae8ec"
          ],
          [
           0.5,
           "#f2f2f2"
          ],
          [
           0.571,
           "#f7d7d9"
          ],
          [
           0.643,
           "#f2bcc0"
          ],
          [
           0.714,
           "#eda3a9"
          ],
          [
           0.786,
           "#e8888f"
          ],
          [
           0.857,
           "#e36e76"
          ],
          [
           0.929,
           "#de535e"
          ],
          [
           1,
           "#d93a46"
          ]
         ],
         "hoverinfo": "text",
         "hovertext": [
          [
           "corr(d_custody, d_custody)= 1.00",
           "corr(d_custody, d_time_jail)= 0.22",
           "corr(d_custody, age)= -0.03",
           "corr(d_custody, juv_fel_count)= 0.05",
           "corr(d_custody, juv_misd_count)= 0.02",
           "corr(d_custody, juv_other_count)= 0.05",
           "corr(d_custody, priors_count)= 0.11",
           "corr(d_custody, days_b_screening_arrest)= 0.02",
           "corr(d_custody, c_days_from_compas)= -0.00",
           "corr(d_custody, ccd_M)= -0.07",
           "corr(d_custody, two_year_recid)= 0.11"
          ],
          [
           "corr(d_time_jail, d_custody)= 0.22",
           "corr(d_time_jail, d_time_jail)= 1.00",
           "corr(d_time_jail, age)= 0.01",
           "corr(d_time_jail, juv_fel_count)= 0.05",
           "corr(d_time_jail, juv_misd_count)= 0.05",
           "corr(d_time_jail, juv_other_count)= 0.06",
           "corr(d_time_jail, priors_count)= 0.19",
           "corr(d_time_jail, days_b_screening_arrest)= 0.06",
           "corr(d_time_jail, c_days_from_compas)= 0.00",
           "corr(d_time_jail, ccd_M)= -0.11",
           "corr(d_time_jail, two_year_recid)= 0.11"
          ],
          [
           "corr(age, d_custody)= -0.03",
           "corr(age, d_time_jail)= 0.01",
           "corr(age, age)= 1.00",
           "corr(age, juv_fel_count)= -0.05",
           "corr(age, juv_misd_count)= -0.11",
           "corr(age, juv_other_count)= -0.17",
           "corr(age, priors_count)= 0.12",
           "corr(age, days_b_screening_arrest)= -0.07",
           "corr(age, c_days_from_compas)= 0.07",
           "corr(age, ccd_M)= 0.10",
           "corr(age, two_year_recid)= -0.19"
          ],
          [
           "corr(juv_fel_count, d_custody)= 0.05",
           "corr(juv_fel_count, d_time_jail)= 0.05",
           "corr(juv_fel_count, age)= -0.05",
           "corr(juv_fel_count, juv_fel_count)= 1.00",
           "corr(juv_fel_count, juv_misd_count)= 0.08",
           "corr(juv_fel_count, juv_other_count)= 0.04",
           "corr(juv_fel_count, priors_count)= 0.19",
           "corr(juv_fel_count, days_b_screening_arrest)= 0.02",
           "corr(juv_fel_count, c_days_from_compas)= -0.01",
           "corr(juv_fel_count, ccd_M)= -0.04",
           "corr(juv_fel_count, two_year_recid)= 0.08"
          ],
          [
           "corr(juv_misd_count, d_custody)= 0.02",
           "corr(juv_misd_count, d_time_jail)= 0.05",
           "corr(juv_misd_count, age)= -0.11",
           "corr(juv_misd_count, juv_fel_count)= 0.08",
           "corr(juv_misd_count, juv_misd_count)= 1.00",
           "corr(juv_misd_count, juv_other_count)= 0.26",
           "corr(juv_misd_count, priors_count)= 0.27",
           "corr(juv_misd_count, days_b_screening_arrest)= 0.03",
           "corr(juv_misd_count, c_days_from_compas)= 0.01",
           "corr(juv_misd_count, ccd_M)= -0.04",
           "corr(juv_misd_count, two_year_recid)= 0.11"
          ],
          [
           "corr(juv_other_count, d_custody)= 0.05",
           "corr(juv_other_count, d_time_jail)= 0.06",
           "corr(juv_other_count, age)= -0.17",
           "corr(juv_other_count, juv_fel_count)= 0.04",
           "corr(juv_other_count, juv_misd_count)= 0.26",
           "corr(juv_other_count, juv_other_count)= 1.00",
           "corr(juv_other_count, priors_count)= 0.11",
           "corr(juv_other_count, days_b_screening_arrest)= 0.02",
           "corr(juv_other_count, c_days_from_compas)= -0.01",
           "corr(juv_other_count, ccd_M)= -0.04",
           "corr(juv_other_count, two_year_recid)= 0.13"
          ],
          [
           "corr(priors_count, d_custody)= 0.11",
           "corr(priors_count, d_time_jail)= 0.19",
           "corr(priors_count, age)= 0.12",
           "corr(priors_count, juv_fel_count)= 0.19",
           "corr(priors_count, juv_misd_count)= 0.27",
           "corr(priors_count, juv_other_count)= 0.11",
           "corr(priors_count, priors_count)= 1.00",
           "corr(priors_count, days_b_screening_arrest)= 0.02",
           "corr(priors_count, c_days_from_compas)= 0.00",
           "corr(priors_count, ccd_M)= -0.15",
           "corr(priors_count, two_year_recid)= 0.29"
          ],
          [
           "corr(days_b_screening_arrest, d_custody)= 0.02",
           "corr(days_b_screening_arrest, d_time_jail)= 0.06",
           "corr(days_b_screening_arrest, age)= -0.07",
           "corr(days_b_screening_arrest, juv_fel_count)= 0.02",
           "corr(days_b_screening_arrest, juv_misd_count)= 0.03",
           "corr(days_b_screening_arrest, juv_other_count)= 0.02",
           "corr(days_b_screening_arrest, priors_count)= 0.02",
           "corr(days_b_screening_arrest, days_b_screening_arrest)= 1.00",
           "corr(days_b_screening_arrest, c_days_from_compas)= 0.01",
           "corr(days_b_screening_arrest, ccd_M)= -0.01",
           "corr(days_b_screening_arrest, two_year_recid)= 0.07"
          ],
          [
           "corr(c_days_from_compas, d_custody)= -0.00",
           "corr(c_days_from_compas, d_time_jail)= 0.00",
           "corr(c_days_from_compas, age)= 0.07",
           "corr(c_days_from_compas, juv_fel_count)= -0.01",
           "corr(c_days_from_compas, juv_misd_count)= 0.01",
           "corr(c_days_from_compas, juv_other_count)= -0.01",
           "corr(c_days_from_compas, priors_count)= 0.00",
           "corr(c_days_from_compas, days_b_screening_arrest)= 0.01",
           "corr(c_days_from_compas, c_days_from_compas)= 1.00",
           "corr(c_days_from_compas, ccd_M)= 0.06",
           "corr(c_days_from_compas, two_year_recid)= -0.04"
          ],
          [
           "corr(ccd_M, d_custody)= -0.07",
           "corr(ccd_M, d_time_jail)= -0.11",
           "corr(ccd_M, age)= 0.10",
           "corr(ccd_M, juv_fel_count)= -0.04",
           "corr(ccd_M, juv_misd_count)= -0.04",
           "corr(ccd_M, juv_other_count)= -0.04",
           "corr(ccd_M, priors_count)= -0.15",
           "corr(ccd_M, days_b_screening_arrest)= -0.01",
           "corr(ccd_M, c_days_from_compas)= 0.06",
           "corr(ccd_M, ccd_M)= 1.00",
           "corr(ccd_M, two_year_recid)= -0.12"
          ],
          [
           "corr(two_year_recid, d_custody)= 0.11",
           "corr(two_year_recid, d_time_jail)= 0.11",
           "corr(two_year_recid, age)= -0.19",
           "corr(two_year_recid, juv_fel_count)= 0.08",
           "corr(two_year_recid, juv_misd_count)= 0.11",
           "corr(two_year_recid, juv_other_count)= 0.13",
           "corr(two_year_recid, priors_count)= 0.29",
           "corr(two_year_recid, days_b_screening_arrest)= 0.07",
           "corr(two_year_recid, c_days_from_compas)= -0.04",
           "corr(two_year_recid, ccd_M)= -0.12",
           "corr(two_year_recid, two_year_recid)= 1.00"
          ]
         ],
         "type": "heatmap",
         "x": [
          "d_custody",
          "d_time_jail",
          "age",
          "juv_fel_count",
          "juv_misd_count",
          "juv_other_count",
          "priors_count",
          "days_b_screening_arrest",
          "c_days_from_compas",
          "ccd_M",
          "two_year_recid"
         ],
         "xgap": 1,
         "y": [
          "d_custody",
          "d_time_jail",
          "age",
          "juv_fel_count",
          "juv_misd_count",
          "juv_other_count",
          "priors_count",
          "days_b_screening_arrest",
          "c_days_from_compas",
          "ccd_M",
          "two_year_recid"
         ],
         "ygap": 1,
         "z": [
          [
           1,
           0.21726038183661858,
           -0.03232628489064936,
           0.052775006474746644,
           0.02283957163017045,
           0.04504285255365801,
           0.11296775636160783,
           0.020882594161175907,
           -0.004272146875193306,
           -0.07287416410586717,
           0.1101913803396813
          ],
          [
           0.21726038183661858,
           1,
           0.011854765596557822,
           0.045622232238313895,
           0.04511539101924542,
           0.055544259207586766,
           0.18887087627592122,
           0.06421202455195578,
           0.003643920336601236,
           -0.10950281630087105,
           0.10914717725197652
          ],
          [
           -0.03232628489064936,
           0.011854765596557822,
           1,
           -0.04775322737251365,
           -0.11159088918569744,
           -0.17278728040465086,
           0.11977260040980446,
           -0.06892553073338147,
           0.07349306240149037,
           0.10117723578527772,
           -0.18918014494841767
          ],
          [
           0.052775006474746644,
           0.045622232238313895,
           -0.04775322737251365,
           1,
           0.07976578529488698,
           0.04343806262268922,
           0.19407157687367044,
           0.02433144879698318,
           -0.005396462554360513,
           -0.0449282607484982,
           0.08171538166437857
          ],
          [
           0.02283957163017045,
           0.04511539101924542,
           -0.11159088918569744,
           0.07976578529488698,
           1,
           0.2570065011254072,
           0.2676751109888501,
           0.026998754464602124,
           0.009992650211493016,
           -0.03863163490160304,
           0.11029790900176217
          ],
          [
           0.04504285255365801,
           0.055544259207586766,
           -0.17278728040465086,
           0.04343806262268922,
           0.2570065011254072,
           1,
           0.10875723141366322,
           0.023331018969736148,
           -0.005829974582721396,
           -0.04072439983807794,
           0.12590979647068914
          ],
          [
           0.11296775636160783,
           0.18887087627592122,
           0.11977260040980446,
           0.19407157687367044,
           0.2676751109888501,
           0.10875723141366322,
           1,
           0.02135028757146126,
           0.0037616606288307054,
           -0.1454331975968209,
           0.29060724033509655
          ],
          [
           0.020882594161175907,
           0.06421202455195578,
           -0.06892553073338147,
           0.02433144879698318,
           0.026998754464602124,
           0.023331018969736148,
           0.02135028757146126,
           1,
           0.006457353052524586,
           -0.008042930121856383,
           0.07483569123993765
          ],
          [
           -0.004272146875193306,
           0.003643920336601236,
           0.07349306240149037,
           -0.005396462554360513,
           0.009992650211493016,
           -0.005829974582721396,
           0.0037616606288307054,
           0.006457353052524586,
           1,
           0.056879413996456914,
           -0.03989912826695163
          ],
          [
           -0.07287416410586717,
           -0.10950281630087105,
           0.10117723578527772,
           -0.0449282607484982,
           -0.03863163490160304,
           -0.04072439983807794,
           -0.1454331975968209,
           -0.008042930121856383,
           0.056879413996456914,
           1,
           -0.12033243977525303
          ],
          [
           0.1101913803396813,
           0.10914717725197652,
           -0.18918014494841767,
           0.08171538166437857,
           0.11029790900176217,
           0.12590979647068914,
           0.29060724033509655,
           0.07483569123993765,
           -0.03989912826695163,
           -0.12033243977525303,
           1
          ]
         ],
         "zmax": 1,
         "zmin": -1
        }
       ],
       "layout": {
        "height": 600,
        "template": {
         "data": {
          "bar": [
           {
            "error_x": {
             "color": "#2a3f5f"
            },
            "error_y": {
             "color": "#2a3f5f"
            },
            "marker": {
             "line": {
              "color": "#E5ECF6",
              "width": 0.5
             },
             "pattern": {
              "fillmode": "overlay",
              "size": 10,
              "solidity": 0.2
             }
            },
            "type": "bar"
           }
          ],
          "barpolar": [
           {
            "marker": {
             "line": {
              "color": "#E5ECF6",
              "width": 0.5
             },
             "pattern": {
              "fillmode": "overlay",
              "size": 10,
              "solidity": 0.2
             }
            },
            "type": "barpolar"
           }
          ],
          "carpet": [
           {
            "aaxis": {
             "endlinecolor": "#2a3f5f",
             "gridcolor": "white",
             "linecolor": "white",
             "minorgridcolor": "white",
             "startlinecolor": "#2a3f5f"
            },
            "baxis": {
             "endlinecolor": "#2a3f5f",
             "gridcolor": "white",
             "linecolor": "white",
             "minorgridcolor": "white",
             "startlinecolor": "#2a3f5f"
            },
            "type": "carpet"
           }
          ],
          "choropleth": [
           {
            "colorbar": {
             "outlinewidth": 0,
             "ticks": ""
            },
            "type": "choropleth"
           }
          ],
          "contour": [
           {
            "colorbar": {
             "outlinewidth": 0,
             "ticks": ""
            },
            "colorscale": [
             [
              0,
              "#0d0887"
             ],
             [
              0.1111111111111111,
              "#46039f"
             ],
             [
              0.2222222222222222,
              "#7201a8"
             ],
             [
              0.3333333333333333,
              "#9c179e"
             ],
             [
              0.4444444444444444,
              "#bd3786"
             ],
             [
              0.5555555555555556,
              "#d8576b"
             ],
             [
              0.6666666666666666,
              "#ed7953"
             ],
             [
              0.7777777777777778,
              "#fb9f3a"
             ],
             [
              0.8888888888888888,
              "#fdca26"
             ],
             [
              1,
              "#f0f921"
             ]
            ],
            "type": "contour"
           }
          ],
          "contourcarpet": [
           {
            "colorbar": {
             "outlinewidth": 0,
             "ticks": ""
            },
            "type": "contourcarpet"
           }
          ],
          "heatmap": [
           {
            "colorbar": {
             "outlinewidth": 0,
             "ticks": ""
            },
            "colorscale": [
             [
              0,
              "#0d0887"
             ],
             [
              0.1111111111111111,
              "#46039f"
             ],
             [
              0.2222222222222222,
              "#7201a8"
             ],
             [
              0.3333333333333333,
              "#9c179e"
             ],
             [
              0.4444444444444444,
              "#bd3786"
             ],
             [
              0.5555555555555556,
              "#d8576b"
             ],
             [
              0.6666666666666666,
              "#ed7953"
             ],
             [
              0.7777777777777778,
              "#fb9f3a"
             ],
             [
              0.8888888888888888,
              "#fdca26"
             ],
             [
              1,
              "#f0f921"
             ]
            ],
            "type": "heatmap"
           }
          ],
          "heatmapgl": [
           {
            "colorbar": {
             "outlinewidth": 0,
             "ticks": ""
            },
            "colorscale": [
             [
              0,
              "#0d0887"
             ],
             [
              0.1111111111111111,
              "#46039f"
             ],
             [
              0.2222222222222222,
              "#7201a8"
             ],
             [
              0.3333333333333333,
              "#9c179e"
             ],
             [
              0.4444444444444444,
              "#bd3786"
             ],
             [
              0.5555555555555556,
              "#d8576b"
             ],
             [
              0.6666666666666666,
              "#ed7953"
             ],
             [
              0.7777777777777778,
              "#fb9f3a"
             ],
             [
              0.8888888888888888,
              "#fdca26"
             ],
             [
              1,
              "#f0f921"
             ]
            ],
            "type": "heatmapgl"
           }
          ],
          "histogram": [
           {
            "marker": {
             "pattern": {
              "fillmode": "overlay",
              "size": 10,
              "solidity": 0.2
             }
            },
            "type": "histogram"
           }
          ],
          "histogram2d": [
           {
            "colorbar": {
             "outlinewidth": 0,
             "ticks": ""
            },
            "colorscale": [
             [
              0,
              "#0d0887"
             ],
             [
              0.1111111111111111,
              "#46039f"
             ],
             [
              0.2222222222222222,
              "#7201a8"
             ],
             [
              0.3333333333333333,
              "#9c179e"
             ],
             [
              0.4444444444444444,
              "#bd3786"
             ],
             [
              0.5555555555555556,
              "#d8576b"
             ],
             [
              0.6666666666666666,
              "#ed7953"
             ],
             [
              0.7777777777777778,
              "#fb9f3a"
             ],
             [
              0.8888888888888888,
              "#fdca26"
             ],
             [
              1,
              "#f0f921"
             ]
            ],
            "type": "histogram2d"
           }
          ],
          "histogram2dcontour": [
           {
            "colorbar": {
             "outlinewidth": 0,
             "ticks": ""
            },
            "colorscale": [
             [
              0,
              "#0d0887"
             ],
             [
              0.1111111111111111,
              "#46039f"
             ],
             [
              0.2222222222222222,
              "#7201a8"
             ],
             [
              0.3333333333333333,
              "#9c179e"
             ],
             [
              0.4444444444444444,
              "#bd3786"
             ],
             [
              0.5555555555555556,
              "#d8576b"
             ],
             [
              0.6666666666666666,
              "#ed7953"
             ],
             [
              0.7777777777777778,
              "#fb9f3a"
             ],
             [
              0.8888888888888888,
              "#fdca26"
             ],
             [
              1,
              "#f0f921"
             ]
            ],
            "type": "histogram2dcontour"
           }
          ],
          "mesh3d": [
           {
            "colorbar": {
             "outlinewidth": 0,
             "ticks": ""
            },
            "type": "mesh3d"
           }
          ],
          "parcoords": [
           {
            "line": {
             "colorbar": {
              "outlinewidth": 0,
              "ticks": ""
             }
            },
            "type": "parcoords"
           }
          ],
          "pie": [
           {
            "automargin": true,
            "type": "pie"
           }
          ],
          "scatter": [
           {
            "fillpattern": {
             "fillmode": "overlay",
             "size": 10,
             "solidity": 0.2
            },
            "type": "scatter"
           }
          ],
          "scatter3d": [
           {
            "line": {
             "colorbar": {
              "outlinewidth": 0,
              "ticks": ""
             }
            },
            "marker": {
             "colorbar": {
              "outlinewidth": 0,
              "ticks": ""
             }
            },
            "type": "scatter3d"
           }
          ],
          "scattercarpet": [
           {
            "marker": {
             "colorbar": {
              "outlinewidth": 0,
              "ticks": ""
             }
            },
            "type": "scattercarpet"
           }
          ],
          "scattergeo": [
           {
            "marker": {
             "colorbar": {
              "outlinewidth": 0,
              "ticks": ""
             }
            },
            "type": "scattergeo"
           }
          ],
          "scattergl": [
           {
            "marker": {
             "colorbar": {
              "outlinewidth": 0,
              "ticks": ""
             }
            },
            "type": "scattergl"
           }
          ],
          "scattermapbox": [
           {
            "marker": {
             "colorbar": {
              "outlinewidth": 0,
              "ticks": ""
             }
            },
            "type": "scattermapbox"
           }
          ],
          "scatterpolar": [
           {
            "marker": {
             "colorbar": {
              "outlinewidth": 0,
              "ticks": ""
             }
            },
            "type": "scatterpolar"
           }
          ],
          "scatterpolargl": [
           {
            "marker": {
             "colorbar": {
              "outlinewidth": 0,
              "ticks": ""
             }
            },
            "type": "scatterpolargl"
           }
          ],
          "scatterternary": [
           {
            "marker": {
             "colorbar": {
              "outlinewidth": 0,
              "ticks": ""
             }
            },
            "type": "scatterternary"
           }
          ],
          "surface": [
           {
            "colorbar": {
             "outlinewidth": 0,
             "ticks": ""
            },
            "colorscale": [
             [
              0,
              "#0d0887"
             ],
             [
              0.1111111111111111,
              "#46039f"
             ],
             [
              0.2222222222222222,
              "#7201a8"
             ],
             [
              0.3333333333333333,
              "#9c179e"
             ],
             [
              0.4444444444444444,
              "#bd3786"
             ],
             [
              0.5555555555555556,
              "#d8576b"
             ],
             [
              0.6666666666666666,
              "#ed7953"
             ],
             [
              0.7777777777777778,
              "#fb9f3a"
             ],
             [
              0.8888888888888888,
              "#fdca26"
             ],
             [
              1,
              "#f0f921"
             ]
            ],
            "type": "surface"
           }
          ],
          "table": [
           {
            "cells": {
             "fill": {
              "color": "#EBF0F8"
             },
             "line": {
              "color": "white"
             }
            },
            "header": {
             "fill": {
              "color": "#C8D4E3"
             },
             "line": {
              "color": "white"
             }
            },
            "type": "table"
           }
          ]
         },
         "layout": {
          "annotationdefaults": {
           "arrowcolor": "#2a3f5f",
           "arrowhead": 0,
           "arrowwidth": 1
          },
          "autotypenumbers": "strict",
          "coloraxis": {
           "colorbar": {
            "outlinewidth": 0,
            "ticks": ""
           }
          },
          "colorscale": {
           "diverging": [
            [
             0,
             "#8e0152"
            ],
            [
             0.1,
             "#c51b7d"
            ],
            [
             0.2,
             "#de77ae"
            ],
            [
             0.3,
             "#f1b6da"
            ],
            [
             0.4,
             "#fde0ef"
            ],
            [
             0.5,
             "#f7f7f7"
            ],
            [
             0.6,
             "#e6f5d0"
            ],
            [
             0.7,
             "#b8e186"
            ],
            [
             0.8,
             "#7fbc41"
            ],
            [
             0.9,
             "#4d9221"
            ],
            [
             1,
             "#276419"
            ]
           ],
           "sequential": [
            [
             0,
             "#0d0887"
            ],
            [
             0.1111111111111111,
             "#46039f"
            ],
            [
             0.2222222222222222,
             "#7201a8"
            ],
            [
             0.3333333333333333,
             "#9c179e"
            ],
            [
             0.4444444444444444,
             "#bd3786"
            ],
            [
             0.5555555555555556,
             "#d8576b"
            ],
            [
             0.6666666666666666,
             "#ed7953"
            ],
            [
             0.7777777777777778,
             "#fb9f3a"
            ],
            [
             0.8888888888888888,
             "#fdca26"
            ],
            [
             1,
             "#f0f921"
            ]
           ],
           "sequentialminus": [
            [
             0,
             "#0d0887"
            ],
            [
             0.1111111111111111,
             "#46039f"
            ],
            [
             0.2222222222222222,
             "#7201a8"
            ],
            [
             0.3333333333333333,
             "#9c179e"
            ],
            [
             0.4444444444444444,
             "#bd3786"
            ],
            [
             0.5555555555555556,
             "#d8576b"
            ],
            [
             0.6666666666666666,
             "#ed7953"
            ],
            [
             0.7777777777777778,
             "#fb9f3a"
            ],
            [
             0.8888888888888888,
             "#fdca26"
            ],
            [
             1,
             "#f0f921"
            ]
           ]
          },
          "colorway": [
           "#636efa",
           "#EF553B",
           "#00cc96",
           "#ab63fa",
           "#FFA15A",
           "#19d3f3",
           "#FF6692",
           "#B6E880",
           "#FF97FF",
           "#FECB52"
          ],
          "font": {
           "color": "#2a3f5f"
          },
          "geo": {
           "bgcolor": "white",
           "lakecolor": "white",
           "landcolor": "#E5ECF6",
           "showlakes": true,
           "showland": true,
           "subunitcolor": "white"
          },
          "hoverlabel": {
           "align": "left"
          },
          "hovermode": "closest",
          "mapbox": {
           "style": "light"
          },
          "paper_bgcolor": "white",
          "plot_bgcolor": "#E5ECF6",
          "polar": {
           "angularaxis": {
            "gridcolor": "white",
            "linecolor": "white",
            "ticks": ""
           },
           "bgcolor": "#E5ECF6",
           "radialaxis": {
            "gridcolor": "white",
            "linecolor": "white",
            "ticks": ""
           }
          },
          "scene": {
           "xaxis": {
            "backgroundcolor": "#E5ECF6",
            "gridcolor": "white",
            "gridwidth": 2,
            "linecolor": "white",
            "showbackground": true,
            "ticks": "",
            "zerolinecolor": "white"
           },
           "yaxis": {
            "backgroundcolor": "#E5ECF6",
            "gridcolor": "white",
            "gridwidth": 2,
            "linecolor": "white",
            "showbackground": true,
            "ticks": "",
            "zerolinecolor": "white"
           },
           "zaxis": {
            "backgroundcolor": "#E5ECF6",
            "gridcolor": "white",
            "gridwidth": 2,
            "linecolor": "white",
            "showbackground": true,
            "ticks": "",
            "zerolinecolor": "white"
           }
          },
          "shapedefaults": {
           "line": {
            "color": "#2a3f5f"
           }
          },
          "ternary": {
           "aaxis": {
            "gridcolor": "white",
            "linecolor": "white",
            "ticks": ""
           },
           "baxis": {
            "gridcolor": "white",
            "linecolor": "white",
            "ticks": ""
           },
           "bgcolor": "#E5ECF6",
           "caxis": {
            "gridcolor": "white",
            "linecolor": "white",
            "ticks": ""
           }
          },
          "title": {
           "x": 0.05
          },
          "xaxis": {
           "automargin": true,
           "gridcolor": "white",
           "linecolor": "white",
           "ticks": "",
           "title": {
            "standoff": 15
           },
           "zerolinecolor": "white",
           "zerolinewidth": 2
          },
          "yaxis": {
           "automargin": true,
           "gridcolor": "white",
           "linecolor": "white",
           "ticks": "",
           "title": {
            "standoff": 15
           },
           "zerolinecolor": "white",
           "zerolinewidth": 2
          }
         }
        },
        "title": {
         "text": "Correlation Matrix",
         "x": 0.5
        },
        "width": 600,
        "xaxis": {
         "showgrid": false
        },
        "yaxis": {
         "autorange": "reversed",
         "showgrid": false
        }
       }
      }
     },
     "metadata": {},
     "output_type": "display_data"
    }
   ],
   "source": [
    "\"\"\"\n",
    "CELL N°2.1.2 : Correlation matrix\n",
    "\n",
    "@pre:  A pandas.DataFrame `df` containing the dataset\n",
    "@post: A visualization of the correlation matrix between features.\n",
    "\"\"\"\n",
    "\n",
    "def plot_correlation_matrix(data):\n",
    "\n",
    "    X    = [label for label in data] \n",
    "    N    = data.shape[1]\n",
    "    corr = (data.corr()).values\n",
    "\n",
    "    # Display the correlation in cells\n",
    "    hovertext      = [ [f\"corr({X[i]}, {X[j]})= {corr[i][j]:.2f}\" for j in range(N)] for i in range(N) ]\n",
    "    sns_colorscale = [ [0.0, \"#3f7f93\"],   [0.071, \"#5890a1\"], [0.143, \"#72a1b0\"], [0.214, \"#8cb3bf\"],\n",
    "                    [0.286, \"#a7c5cf\"], [0.357, \"#c0d6dd\"], [0.429, \"#dae8ec\"], [0.5, \"#f2f2f2\"], \n",
    "                    [0.571, \"#f7d7d9\"], [0.643, \"#f2bcc0\"], [0.714, \"#eda3a9\"], [0.786, \"#e8888f\"], \n",
    "                    [0.857, \"#e36e76\"], [0.929, \"#de535e\"], [1.0, \"#d93a46\"] ]\n",
    "\n",
    "\n",
    "    heat   = go.Heatmap(z = data.corr(), x = X, y = X, zmin = -1, zmax = 1, xgap = 1, ygap = 1,\n",
    "                        colorscale = sns_colorscale, colorbar_thickness = 20, colorbar_ticklen = 3,\n",
    "                        hovertext = hovertext, hoverinfo = \"text\" )\n",
    "    title  = \"Correlation Matrix\"\n",
    "\n",
    "    layout = go.Layout(title_text = title, title_x = 0.5, width = 600, height = 600,\n",
    "        xaxis_showgrid = False, yaxis_showgrid = False, yaxis_autorange = \"reversed\")\n",
    "\n",
    "\n",
    "    fig = go.Figure(data=[heat], layout=layout)\n",
    "    fig.show()\n",
    "\n",
    "corr_matrix = df.corr(method='pearson')\n",
    "df_corr = df.copy()\n",
    "df_corr[\"two_year_recid\"] = y\n",
    "plot_correlation_matrix(df_corr)"
   ]
  },
  {
   "cell_type": "markdown",
   "metadata": {},
   "source": [
    "<br>\n",
    "<font size=5 color=#009999> <b>2.2 Principal Component Analysis</b> <br>\n",
    "</font>\n"
   ]
  },
  {
   "cell_type": "markdown",
   "metadata": {},
   "source": [
    "PCA is often considered as the simplest and most fundamental technique used in dimensionality reduction. Remember that PCA is essentially the rotation of coordinate axes, chosen such that each successful axis captures or preserves as much variance as possible. If the algorithm returns a new system coordinates of the same dimension as the input, we can keep only the axis corresponding to the 3 largest singular values and project data on this coordinates system to perform the visualization.\n",
    "\n",
    "To vizualize the importance of features, we can extract the PCA loadings. These are indicators of the correlation between components and original features. The value of loadings is contained between -1 and 1. The more the value goes toward those boundaries, the more the feature influences the choice of component.We propose to perform a 2-dimensional PCA and then to add the loadings in vector form to the figure to obtain what is called a biplot.\n",
    "\n",
    "The biplot visualization function is provided below."
   ]
  },
  {
   "cell_type": "code",
   "execution_count": 33,
   "metadata": {},
   "outputs": [
    {
     "data": {
      "image/png": "[encoded data removed]",
      "text/plain": [
       "<Figure size 1000x800 with 1 Axes>"
      ]
     },
     "metadata": {},
     "output_type": "display_data"
    }
   ],
   "source": [
    "\"\"\"\n",
    "CELL N°2.2.1 : Principal Component Analysis (2D)\n",
    "\n",
    "@pre:  A pandas.DataFrame `X` containing the dataset and labels `y`\n",
    "@post: A PCA visualization in 2D where points are colored with respect to true labels `y`\n",
    "\"\"\"\n",
    "\n",
    "\n",
    "def biplot_visualization(X, y, columns=None):\n",
    "    \"\"\"\n",
    "    Plot a biplot graph: the scaled data after applying a 2D PCA with loadings in vector forms.\n",
    "\n",
    "    :param pca: PCA object\n",
    "    :param X: a n by m matrix (or DataFrame), containing the input prior to the PCA transformation\n",
    "    :param y: a vector of length n containing the target\n",
    "    :param columns: a list of length m contained the names of the columns\n",
    "        If not given, X.columns will be used\n",
    "    \"\"\"\n",
    "    pca = PCA(n_components=2)\n",
    "    X = pca.fit_transform(X)\n",
    "\n",
    "    columns = (\n",
    "        columns\n",
    "        if columns is not None\n",
    "        else X.columns\n",
    "        if isinstance(X, pd.DataFrame)\n",
    "        else [f\"Feature {i+1}\" for i in range(X.shape[1])]\n",
    "    )\n",
    "\n",
    "    # Normalize data for scaling\n",
    "    X_normalized = X / (X.max(axis=0) - X.min(axis=0))\n",
    "\n",
    "    df = pd.DataFrame(data=X_normalized, columns=[\"PC1\", \"PC2\"])\n",
    "\n",
    "    # Prepare loadings (vector components)\n",
    "    loadings = pca.components_.T * np.sqrt(pca.explained_variance_)\n",
    "\n",
    "    loadings_df = pd.DataFrame(loadings, columns=[\"PC1\", \"PC2\"], index=columns)\n",
    "\n",
    "    # Create scatter plot\n",
    "    plt.figure(figsize=(10, 8))\n",
    "    sns.scatterplot(x=df[\"PC1\"], y=df[\"PC2\"], hue=y, palette=\"viridis\", s=70, alpha=0.7)\n",
    "\n",
    "    # Add vectors for loadings\n",
    "    for index, row in loadings_df.iterrows():\n",
    "        plt.arrow(\n",
    "            0,\n",
    "            0,\n",
    "            row.PC1,\n",
    "            row.PC2,\n",
    "            color=\"red\",\n",
    "            alpha=0.7,\n",
    "            head_width=0.02,\n",
    "            head_length=0.03,\n",
    "        )\n",
    "        plt.text(\n",
    "            row.PC1 * 1.1,\n",
    "            row.PC2 * 1.1,\n",
    "            index,\n",
    "            color=\"black\",\n",
    "            ha=\"center\",\n",
    "            va=\"center\",\n",
    "            fontsize=10,\n",
    "        )\n",
    "\n",
    "    # Labels and limits\n",
    "    plt.title(\"Biplot Visualization\", fontsize=14)\n",
    "    plt.xlabel(\"Principal Component 1\")\n",
    "    plt.ylabel(\"Principal Component 2\")\n",
    "    plt.axhline(0, color=\"gray\", linestyle=\"--\", linewidth=0.5)\n",
    "    plt.axvline(0, color=\"gray\", linestyle=\"--\", linewidth=0.5)\n",
    "    plt.grid(alpha=0.3)\n",
    "    plt.legend(title=\"Classes\", loc=\"best\")\n",
    "    plt.show()\n",
    "\n",
    "\n",
    "biplot_visualization(X, y, columns=df.columns)"
   ]
  },
  {
   "cell_type": "markdown",
   "metadata": {},
   "source": [
    "In the next cell, you are asked to perform a 3 components PCA and plot it using Plotly.\n",
    "<div class=\"alert alert-danger\">\n",
    " Note: On certain versions of Firefox, the 3D scatter function of plotly may have some issues.\n",
    "</div>"
   ]
  },
  {
   "cell_type": "code",
   "execution_count": 34,
   "metadata": {},
   "outputs": [
    {
     "data": {
      "text/plain": [
       "'\\nCELL N°2.2.2 : Principal Component Analysis (3D)\\n\\n@pre:  A pandas.DataFrame `X` containing the dataset and labels `y`\\n@post: A PCA visualization in 3D where points are colored with respect to true labels `y`\\n'"
      ]
     },
     "execution_count": 34,
     "metadata": {},
     "output_type": "execute_result"
    }
   ],
   "source": [
    "\"\"\"\n",
    "CELL N°2.2.2 : Principal Component Analysis (3D)\n",
    "\n",
    "@pre:  A pandas.DataFrame `X` containing the dataset and labels `y`\n",
    "@post: A PCA visualization in 3D where points are colored with respect to true labels `y`\n",
    "\"\"\""
   ]
  },
  {
   "cell_type": "markdown",
   "metadata": {},
   "source": [
    "<div class=\"alert alert-warning\">\n",
    "<b>[Question 2.2] Principal Component Analysis </b>  <br>\n",
    "Do all features have the same importance? If no, which features are less important, and why? You can use all other graphs from the visualization part to justify your answer.\n",
    "</div> "
   ]
  },
  {
   "cell_type": "markdown",
   "metadata": {},
   "source": [
    "<br><font size=7 color=#009999> <b>PART 3 - Clustering</b> </font> <br><br>\n",
    "\n",
    "<font size=4 color=#009999> <b>ABCs of Clustering</b> <br>\n",
    "Clustering can be defined as the task of *grouping* objects from a set $S$ (here, each row/observation is an object) in such a way that objects assigned to the same group (called cluster) are more **similar** (or less **distant**) with respect to each other (in some sense) than to those assigned to the other groups. Usually, we would like to divide our objects into $K$ groups.\n",
    "\n",
    "As such, clustering reduces to finding, among all $K$-partitions possible of $S$, the partition $\\mathcal{P}$ that minimizes some error criterion $f(\\mathcal{P})$. Each object will be assigned a cluster, $C_i$, and each cluster will have its centroid $c_i$ the distance between **any object** in $C_i$ to centroid $c_i$ is **always smaller** that the distance to any other centroid. In other words, each object is assigned to the cluster whose centroid is the closest.\n",
    "\n",
    "\n",
    "A mathematical formulation of the problem could be the following, $$ \\boxed{\\min_{(C_1,\\dots,C_K) \\,\\in\\, \\mathcal{P}}\\,f(C_1,\\dots,C_K) = \\sum_{i = 1}^{K}\\,\\sum_{x \\in C_i}\\,\\Delta(x,c_i)}$$\n",
    "\n",
    "where $\\Delta(x,c_i)$ denotes the distance between object $x$ and centroid $c_i$.\n",
    "\n",
    "<br>\n",
    "<font size=5 color=#009999>\n",
    "EXAMPLE OF SEPARATING OBJECTS INTO 10 CLUSTERS\n",
    "</font> <br> <br>\n",
    "\n",
    "**First**, let us imagine the following 2D dataset.\n",
    "\n",
    "<img src=\"Imgs/10-partitions-data.svg\" width = \"250\">\n",
    "\n",
    "**Then**, a 10-partition is defined by the position of the centroids, one for each cluster. Below, you can observe four examples of (random) centroids localizations (stars).\n",
    "\n",
    "<img src=\"Imgs/10-partitions-chose-centroids.svg\" width = \"1000\">\n",
    "\n",
    "**Next**, the regions are colored based on their closest centroid. Here, we take the distance to be the Euclidean distance.\n",
    "\n",
    "<img src=\"Imgs/10-partitions-centroids.svg\" width = \"1000\">\n",
    "\n",
    "**Finally**, data points (objects) are colored based in the region they are in.\n",
    "\n",
    "<img src=\"Imgs/10-partitions-clusters.svg\" width = \"1000\">\n",
    "\n",
    "<font size=5 color=#009999> <b>3.1 - K-Means</b> <br>\n",
    "</font>\n"
   ]
  },
  {
   "cell_type": "code",
   "execution_count": 35,
   "metadata": {},
   "outputs": [
    {
     "data": {
      "text/plain": [
       "'\\nCELL N°3.1.1 : GROUND TRUTH\\n\\n@pre:  A pandas.DataFrame `X` containing the dataset and labels `y`\\n@post: A 80/20 split of your dataset in train and test sets.\\n'"
      ]
     },
     "execution_count": 35,
     "metadata": {},
     "output_type": "execute_result"
    }
   ],
   "source": [
    "\"\"\"\n",
    "CELL N°3.1.1 : GROUND TRUTH\n",
    "\n",
    "@pre:  A pandas.DataFrame `X` containing the dataset and labels `y`\n",
    "@post: A 80/20 split of your dataset in train and test sets.\n",
    "\"\"\"\n"
   ]
  },
  {
   "cell_type": "markdown",
   "metadata": {},
   "source": [
    "<div class=\"alert alert-warning\">\n",
    "<b>[Question 3.1] Number of clusters </b>  <br>\n",
    "    Accounting for all features, what do you think is the ideal number of clusters? What will happen if too many or even too few clusters are chosen?\n",
    "</div>\n",
    "\n",
    "Now that your dataset is divided into a train and a test set, use the <a href=\"https://scikit-learn.org/stable/modules/generated/sklearn.cluster.KMeans.html\">KMeans</a> algorithm from `scikit-learn` to apply the clustering on your dataset."
   ]
  },
  {
   "cell_type": "code",
   "execution_count": 36,
   "metadata": {},
   "outputs": [],
   "source": [
    "\"\"\"\n",
    "CELL N°3.1.2 : K-Means\n",
    "\n",
    "@pre:  A split of your dataset: X_train, X_test, y_train, y_test\n",
    "@post: A split of your dataset in train and test sets.\n",
    "\"\"\"\n",
    "\n",
    "\n",
    "def train_and_predict(model, X_train, X_test):\n",
    "    \"\"\"Trains the clustering model on the training data and predict the clusters for both training and test data.\n",
    "\n",
    "    Parameters:\n",
    "    model (sklearn or similar clustering model): The clustering algorithm that has a fit_predict method and a predict method.\n",
    "    X_train (array-like, shape (n_samples, n_features)): The training data to fit the model on.\n",
    "    X_test (array-like, shape (n_samples, n_features)): The test data to predict the clusters for.\n",
    "\n",
    "    Returns:\n",
    "    tuple: A tuple containing two arrays:\n",
    "        - train_clusters (array): Cluster labels for the training data.\n",
    "        - test_clusters (array): Cluster labels for the test data.\n",
    "    \"\"\"\n",
    "    train_clusters = ...  # TODO\n",
    "    test_clusters = ...  # TODO\n",
    "    return train_clusters, test_clusters\n",
    "\n",
    "\n",
    "def compute_y_pred(model, X_train, X_test, y_train):\n",
    "    \"\"\"Compute the predicted labels for the test data based on the clustering model.\n",
    "\n",
    "    This function assigns a predicted label to each sample in the test set by:\n",
    "    1. Training the model on the training data using the previous function.\n",
    "    2. Assigning the majority class from the training labels to each cluster.\n",
    "    3. Using the cluster assignments from the test data to assign predicted labels.\n",
    "\n",
    "    Parameters:\n",
    "    model (sklearn or similar clustering model): The trained clustering model with an `n_clusters` attribute.\n",
    "    X_train (array-like, shape (n_samples, n_features)): The training data used to fit the model.\n",
    "    X_test (array-like, shape (n_samples, n_features)): The test data to predict labels for.\n",
    "    y_train (array-like, shape (n_samples,)): The true labels of the training data.\n",
    "\n",
    "    Returns:\n",
    "    np.array: An array of predicted labels for the test data based on the majority class in each cluster.\n",
    "    \"\"\"\n",
    "    mapping = {}\n",
    "    train_clusters, test_clusters = train_and_predict(model, X_train, X_test)\n",
    "    df = pd.DataFrame({\"cluster\": train_clusters, \"target\": y_train})\n",
    "\n",
    "    for cluster in range(model.n_clusters):\n",
    "        majority_class = df[df[\"cluster\"] == cluster][\"target\"].mode()[0]\n",
    "        mapping[cluster] = majority_class\n",
    "\n",
    "    y_pred = ...  # TODO\n",
    "    return y_pred\n",
    "\n",
    "\n",
    "def compute_metrics(model, X_train, y_train, X_test, y_test):\n",
    "    \"\"\"Computes various evaluation metrics for the clustering model.\n",
    "\n",
    "    Parameters:\n",
    "    model (sklearn or similar clustering model): The trained clustering model with an `n_clusters` attribute.\n",
    "    X_train (array-like, shape (n_samples, n_features)): The training data used to fit the model.\n",
    "    X_test (array-like, shape (n_samples, n_features)): The test data to predict labels for.\n",
    "    y_train (array-like, shape (n_samples,)): The true labels of the training data.\n",
    "    y_test (array-like, shape (n_samples,)): The true labels of the test data.\n",
    "\n",
    "    Returns:\n",
    "    dict: A dictionary containing the computed metrics:\n",
    "        - \"n_clusters\": The number of clusters in the model.\n",
    "        - \"Accuracy\": The accuracy of the model on the test data.\n",
    "        - \"F1-Score\": The F1-score of the model on the test data.\n",
    "        - \"Precision\": The precision of the model on the test data.\n",
    "        - \"Recall\": The recall of the model on the test data.\n",
    "        - \"Silhouette Score\": The silhouette score of the clustering on the test data.\n",
    "    \"\"\"\n",
    "    y_pred = compute_y_pred(model, X_train, X_test, y_train)\n",
    "    accuracy = ...  # TODO\n",
    "    f1 = ...  # TODO\n",
    "    precision, recall, _, _ = ...  # TODO\n",
    "    sil_score = ...  # TODO\n",
    "    return {\n",
    "        \"n_clusters\": ...,  # TODO\n",
    "        \"Accuracy\": accuracy,\n",
    "        \"F1-Score\": f1,\n",
    "        \"Precision\": precision,\n",
    "        \"Recall\": recall,\n",
    "        \"Silhouette Score\": sil_score,\n",
    "    }\n",
    "\n",
    "\n",
    "kmeans = KMeans(n_clusters=2, random_state=random_seed)\n",
    "# results = compute_metrics(kmeans, X_train, y_train, X_test, y_test)\n",
    "# results"
   ]
  },
  {
   "cell_type": "markdown",
   "metadata": {},
   "source": [
    "<font size=5 color=#009999> <b>3.2 - Results Analysis</b> <br>\n",
    "</font>\n",
    "\n",
    "In this section, we adress the difficult task of evaluating the performance of the clustering algorithm.\n",
    "\n",
    "<font size=3 color=#009999> <b>3.2.1 - Quality of the clustering</b> <br>\n",
    "</font>\n",
    "The silhouette score is a measure of how close each point in one cluster is to points in the neighboring clusters. The [mean silhouette score](https://scikit-learn.org/stable/modules/generated/sklearn.metrics.silhouette_score.html) is an average of the silhouette score for each point and provides a way to measure the quality of the clustering.\n",
    "\n",
    "The best value is 1 and the worst value is -1."
   ]
  },
  {
   "cell_type": "code",
   "execution_count": 37,
   "metadata": {},
   "outputs": [
    {
     "data": {
      "image/png": "[encoded data removed]",
      "text/plain": [
       "<Figure size 800x500 with 1 Axes>"
      ]
     },
     "metadata": {},
     "output_type": "display_data"
    }
   ],
   "source": [
    "\"\"\"\n",
    "CELL N°3.2.1 : Silhouette Score\n",
    "\n",
    "@pre:  A split of your dataset: X_train, X_test, y_train, y_test\n",
    "@post: A \"Mean Silhouette Score versus Number of Clusters\" plot\n",
    "\"\"\"\n",
    "\n",
    "plt.figure(figsize=(8, 5))\n",
    "plt.gca().xaxis.set_major_locator(MaxNLocator(integer=True))\n",
    "\n",
    "plt.show()"
   ]
  },
  {
   "cell_type": "markdown",
   "metadata": {},
   "source": [
    "<br>\n",
    "<font size=5 color=#009999> <b>3.2.2 - Purity and entropy of a clustering</b> <br>\n",
    "</font>\n",
    "\n",
    "### Purity\n",
    "\n",
    "Purity measures how well a cluster contains points from a single class. A cluster with high purity mostly contains points from one class.\n",
    "\n",
    "**Example:** Imagine you are grouping fruits based on their shape, but you also have information about their color. If a group contains mostly red apples, that group has high purity. However, if you find a few green apples or pears in the group, the purity decreases. In this case, high purity means the majority of fruits share both shape and color consistency.\n",
    "\n",
    "Formula:\n",
    "$$\n",
    "\\text{Purity } = \\frac{1}{N} \\sum_{i = 1}^k \\max_j n_{i,j}\n",
    "$$\n",
    "where:\n",
    "- $N = $ total number of points,\n",
    "- $k = $ number of clusters,\n",
    "- $n_{i,j} = $​ number of points from class $j$ in cluster $i$,\n",
    "- $\\max_j n_{i,j} = $ number of points from the most common class in cluster $i$.\n",
    "\n",
    "\n",
    "### Entropy\n",
    "\n",
    "Entropy measures how mixed the classes are within a cluster. Low entropy means most points in a cluster belong to the same class. High entropy means points are more evenly distributed across different classes.\n",
    "\n",
    "**Example:** Consider a fruit basket that is mostly filled with red apples, with only a few bananas and oranges. Since the basket is dominated by one type of fruit, it has low entropy. In contrast, if the basket contains an equal mix of apples, bananas, and oranges, the distribution is more random, resulting in high entropy. This even distribution means it is harder to predict the dominant fruit just by looking at the basket.\n",
    "\n",
    "***Formula for a single cluster:***\n",
    "$$\n",
    "E_i = -\\sum_{j=1}^{C} p_{ij} \\log_2(p_{ij})\n",
    "$$\n",
    "\n",
    "Where:\n",
    "\n",
    "- $C = $ number of classes,\n",
    "- $p_{i,j} = $ proportion of points from class jj in cluster ii.\n",
    "\n",
    "The overall entropy is the weighted average across all clusters:\n",
    "\n",
    "$$\n",
    "\\text{Entropy} = \\frac{1}{N} \\sum_{i=1}^{k} n_i \\cdot E_i\n",
    "$$\n",
    "\n",
    "Where $n_i$​ is the number of points in cluster $i$.\n",
    "\n",
    "A good clustering aims for both high purity (most points in a cluster belong to one class) and low entropy (each cluster contains little class mixing).\n",
    "    \n",
    "<div class=\"alert alert-danger\">\n",
    " If this makes it easier for you to implement purity and entropy, you can modify the previously defined function `compute_metrics` to also return in the results dictionary the purity, the entropy or any other metric that you may want to use later on.\n",
    "</div>\n",
    "<div class=\"alert alert-danger\">\n",
    " Compared to the silhouette score which is computed using only the features, purity and entropy are metrics computed using the true label `y`. Do not forget to compute these metrics on a test set.\n",
    "</div>"
   ]
  },
  {
   "cell_type": "code",
   "execution_count": 38,
   "metadata": {},
   "outputs": [
    {
     "data": {
      "image/png": "[encoded data removed]",
      "text/plain": [
       "<Figure size 800x500 with 1 Axes>"
      ]
     },
     "metadata": {},
     "output_type": "display_data"
    }
   ],
   "source": [
    "\"\"\"\n",
    "CELL N°3.2.2 : Purity and Entropy\n",
    "\n",
    "@pre:  A split of your dataset: X_train, X_test, y_train, y_test\n",
    "@post: A \"Purity/Entropy versus Number of Clusters\" plot. There should be two curves, one for the purity and one for the entropy.\n",
    "\"\"\"\n",
    "\n",
    "plt.figure(figsize=(8, 5))\n",
    "plt.gca().xaxis.set_major_locator(MaxNLocator(integer=True))\n",
    "\n",
    "plt.show()"
   ]
  },
  {
   "cell_type": "markdown",
   "metadata": {},
   "source": [
    "<div class=\"alert alert-warning\">\n",
    "<b>[Question 3.2] Quality of the clustering </b>  <br>\n",
    "    You considered three different measures for the quality of the clustering: the first one is the silhouette score and is oblivious to the true labels: it is a truly unsupervised metric. The second and third metric use the true label to assess the quality of the clustering. Based on this observation,\n",
    "    \n",
    "1. Comment on the evolution of each metric according to the number of clusters.\n",
    "2. Comment on what do you now think is the ideal number of clusters ?\n",
    "    \n",
    "</div>"
   ]
  },
  {
   "cell_type": "markdown",
   "metadata": {},
   "source": [
    "<br><font size=7 color=#009999> <b>PART 4 - Fairness metrics</b> </font> <br><br>\n",
    "\n",
    "Congratulations for reaching this far ! So far, you have thoroughly analyzed a sensitive dataset, you cleaned it and focused on what you believe were useful features for predicting recidivism. You then used the K-Means algorithm to have your own recidivism predictor.\n",
    "\n",
    "Because of the sensitivity of the dataset and its potential negative impact on certain parts of the population, you should now assess its fairness with respect to each gender and race group."
   ]
  },
  {
   "cell_type": "markdown",
   "metadata": {},
   "source": [
    "<br>\n",
    "<font size=5 color=#009999> <b>4.1 False Positive Rate</b> <br>\n",
    "</font>\n",
    "\n",
    "The false positive rate (FPR) is a performance metric used to evaluate the accuracy of a machine learning model, particularly in binary classification tasks. It refers to the proportion of actual negative instances (people that did not recidivate) that are incorrectly classified as positive. A lower FPR indicates that the model is better at identifying negative cases.\n",
    "\n",
    "A fair model would have the same FPR across all groups.\n",
    "\n",
    "<div class=\"alert alert-danger\">\n",
    " As for the purity and entropy metrics, the false positive rate metric uses the true labels, you should therefore make a train/test split before hand.\n",
    "</div>"
   ]
  },
  {
   "cell_type": "code",
   "execution_count": 39,
   "metadata": {},
   "outputs": [
    {
     "data": {
      "image/png": "[encoded data removed]",
      "text/plain": [
       "<Figure size 640x480 with 1 Axes>"
      ]
     },
     "metadata": {},
     "output_type": "display_data"
    }
   ],
   "source": [
    "\"\"\"\n",
    "CELL N°4.1 False Positive Rate\n",
    "\n",
    "@pre:  A split of your dataset: X_train, X_test, y_train, y_test\n",
    "@post: A \"False Positive Rate vs Number of Clusters\" plot for each group\n",
    "\"\"\"\n",
    "\n",
    "# Because the dataset is imbalanced, we will repartition our dataset into three race groups: African-American, Caucasian and Other.\n",
    "group_labels = np.where(race == 0, 0, np.where(race == 1, 1, 2))\n",
    "\n",
    "# X_train, X_test, y_train, y_test, group_train, group_val = train_test_split(\n",
    "#     X, y, group_labels, test_size=0.2, random_state=random_seed\n",
    "# )\n",
    "\n",
    "# Doing so, you can now use X_test[group_val == i] to get the test points with race i.\n",
    "\n",
    "\n",
    "plt.xlabel(\"Number of Clusters\")\n",
    "plt.ylabel(\"False Positive Rate\")\n",
    "plt.title(\"False Positive Rate vs. Number of Clusters\")\n",
    "plt.grid(True, linestyle=\"--\", alpha=0.7)\n",
    "plt.show()"
   ]
  },
  {
   "cell_type": "markdown",
   "metadata": {},
   "source": [
    "<br>\n",
    "<font size=5 color=#009999> <b>4.2 Demographic Parity</b> <br>\n",
    "</font>\n",
    "Demographic parity is a fairness metric aimed at ensuring that a machine learning model’s predictions do not depend on membership in a sensitive group. Specifically, demographic parity is achieved when the likelihood of a prediction is independent of sensitive group membership. In binary classification, demographic parity requires equal selection rates across groups.\n",
    "\n",
    "In our case, perfect demographic parity means that there is the exact same proportion of “bail denied” in each race group. A fair model would have the same Demographic Parity value across all groups."
   ]
  },
  {
   "cell_type": "code",
   "execution_count": 40,
   "metadata": {},
   "outputs": [
    {
     "data": {
      "image/png": "[encoded data removed]",
      "text/plain": [
       "<Figure size 640x480 with 1 Axes>"
      ]
     },
     "metadata": {},
     "output_type": "display_data"
    }
   ],
   "source": [
    "\"\"\"\n",
    "CELL N°4.2 Demographic Parity\n",
    "\n",
    "@pre:  A split of your dataset: X_train, X_test, y_train, y_test\n",
    "@post: A \"Demographic Parity vs Number of Clusters\" plot\n",
    "\"\"\"\n",
    "\n",
    "\n",
    "# We provide the function below to compute demographic parity\n",
    "def compute_demographic_parity(y_pred, group_labels):\n",
    "    unique_groups = np.unique(group_labels)\n",
    "    demographic_parity = {}\n",
    "\n",
    "    for group in unique_groups:\n",
    "        # Create a boolean mask for the current group\n",
    "        group_mask = group_labels == group\n",
    "\n",
    "        # Calculate the proportion of positive predictions for the group\n",
    "        group_pred = y_pred[group_mask]\n",
    "        positive_rate = np.mean(group_pred == 1)\n",
    "\n",
    "        demographic_parity[group] = positive_rate\n",
    "\n",
    "    return demographic_parity\n",
    "\n",
    "\n",
    "plt.xlabel(\"Number of Clusters\")\n",
    "plt.ylabel(\"Demographic Parity\")\n",
    "plt.title(\"Demographic Parity vs. Number of Clusters\")\n",
    "plt.grid(True, linestyle=\"--\", alpha=0.7)\n",
    "plt.show()"
   ]
  },
  {
   "cell_type": "markdown",
   "metadata": {},
   "source": [
    "<div class=\"alert alert-warning\">\n",
    "<b>[Question 4.1] Fairness of your model </b>  <br>\n",
    "    You considered two different measures for the fairness of your model and checked for various variants of your algorithm (number of clusters) the value of these fairness metrics.\n",
    "\n",
    "Is your algorithm unfair ? If yes, which ethnic group is penalized by the unfairness of your model ?\n",
    "    \n",
    "</div>\n",
    "\n",
    "<div class=\"alert alert-warning\">\n",
    "<b>[Question 4.2] Presence of the sensitive features in the dataset [BONUS]</b> <br> \n",
    "In Cell 1.5, you removed the sensitive features from your dataset before building your algorithm. Yet, you may have noticed unfairness in your algorithm.\n",
    "\n",
    "1. Provide reasons why it is not necessarily enough to remove sensitive features from your dataset if you want to have fair predictions.\n",
    "2. Compute FPR and Demographic Parity for your algorithm when trained on the full dataset. Is the fairness of your classifier worse ?\n",
    "</div>"
   ]
  },
  {
   "cell_type": "code",
   "execution_count": 41,
   "metadata": {},
   "outputs": [],
   "source": [
    "# Empty cell for the BONUS question."
   ]
  },
  {
   "cell_type": "markdown",
   "metadata": {},
   "source": [
    "<br><font size=7 color=#009999> <b>PART 5 - Visualization </b> </font> <br><br>\n",
    "\n",
    "<font size=5 color=#009999> <b>5.1 Visualize your results</b> <br>\n",
    "</font>\n",
    "In the last cell, you can create the figure of your choice to visualize your results. You can be as creative as you want as long as you only use one figure (with potentially more than one plot).\n",
    "\n",
    "You will be evaluated on the clarity of your figure. You should ask yourself the following question while creating it: \"Is the message I am trying to convey clear enough so that a student from another group can take a quick look and understand it directly ?\" If the answer is positive, it's probably a great plot !"
   ]
  },
  {
   "cell_type": "code",
   "execution_count": 42,
   "metadata": {},
   "outputs": [],
   "source": [
    "# Empty cell for the VISUALIZATION question."
   ]
  }
 ],
 "metadata": {
  "kernelspec": {
   "display_name": "Python 3",
   "language": "python",
   "name": "python3"
  },
  "language_info": {
   "codemirror_mode": {
    "name": "ipython",
    "version": 3
   },
   "file_extension": ".py",
   "mimetype": "text/x-python",
   "name": "python",
   "nbconvert_exporter": "python",
   "pygments_lexer": "ipython3",
   "version": "3.10.4"
  }
 },
 "nbformat": 4,
 "nbformat_minor": 4
}
