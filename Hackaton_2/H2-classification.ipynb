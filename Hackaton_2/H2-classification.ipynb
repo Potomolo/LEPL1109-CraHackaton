{
 "cells": [
  {
   "cell_type": "markdown",
   "metadata": {},
   "source": [
    "# **[LEPL1109] - STATISTICS AND DATA SCIENCES**\n",
    "## **Hackaton 02 - Classification: Diabetes Health indicators**\n",
    "\\\n",
    "Prof. D. Hainaut\\\n",
    "Prod. L. Jacques\\\n",
    "\\\n",
    "\\\n",
    "Adrien Banse (adrien.banse@uclouvain.be)\\\n",
    "Jana Jovcheva (jana.jovcheva@uclouvain.be)\\\n",
    "François Lessage (francois.lessage@uclouvain.be)\\\n",
    "Sofiane Tanji (sofiane.tanji@uclouvain.be)"
   ]
  },
  {
   "cell_type": "markdown",
   "metadata": {},
   "source": [
    "![alt text](figures/diab_illustration.jpg)"
   ]
  },
  {
   "cell_type": "markdown",
   "metadata": {},
   "source": [
    "<div class=\"alert alert-danger\">\n",
    "<b>[IMPORTANT] Read all the documentation</b>  <br>\n",
    "    Make sure that you read the whole notebook, <b>and</b> the <code>README.md</code> file in the folder.\n",
    "</div>"
   ]
  },
  {
   "cell_type": "markdown",
   "metadata": {},
   "source": [
    "# **Guidelines and Deliverables**\n",
    "\n",
    "*   This hackaton is due on the **29 November 2024 at 23h59**\n",
    "*   Copying code or answers from other groups (or from the internet) is strictly forbidden. <b>Each source of inspiration (stack overflow, git, other groups, ChatGPT...) must be clearly indicated!</b>\n",
    "*  This notebook (with the \"ipynb\" extension) file, the Python source file (\".py\"), the report (PDF format) and all other files that are necessary to run your code must be delivered on <b>Moodle</b>.\n",
    "* Only the PDF report and the python source file will be graded, both on their content and the quality of the text / figures.\n",
    "  * 4/10 for the code.\n",
    "  * 4/10 for the Latex report.\n",
    "  * 2/10 for the vizualisation. <br><br>\n",
    "\n",
    "<div class=\"alert alert-info\">\n",
    "<b>[DELIVERABLE] Summary</b>  <br>\n",
    "After the reading of this document (and playing with the code!), we expect you to provide us with:\n",
    "<ol>\n",
    "   <li> a PDF file (written in LaTeX, see example on Moodle) that answers all the questions below. The report should contain high quality figures with named axes (we recommend saving plots with the <samp>.pdf</samp> extension);\n",
    "   <li> a Python file with your classifier implementation. Please follow the template that is provided and ensure it passes the so-called <i>sanity</i> tests;\n",
    "   <li> this Jupyter Notebook (it will not be read, just checked for plagiarism);\n",
    "   <li> and all other files (not the datasets!) we would need to run your code.\n",
    "</ol>\n",
    "</div>\n",
    "\n",
    "As mentioned above, plagiarism is forbidden. However, we cannot forbid you to use artificial intelligence BUT we remind you that the aim of this project is to learn classification on your own and with the help of the course material. Finally, we remind you that for the same question, artificial intelligence presents similar solutions, which could be perceived as a form of plagiarism."
   ]
  },
  {
   "cell_type": "markdown",
   "metadata": {},
   "source": [
    "# **Context & Objective**\n",
    "Diabetes is among the most prevalent chronic diseases in the United States, impacting millions of Americans each year and exerting a significant financial burden on the economy. Diabetes is a serious chronic disease in which individuals lose the ability to effectively regulate levels of glucose in the blood, and can lead to reduced quality of life and life expectancy. After different foods are broken down into sugars during digestion, the sugars are then released into the bloodstream. This signals the pancreas to release insulin. Insulin helps enable cells within the body to use those sugars in the bloodstream for energy. Diabetes is generally characterized by either the body not making enough insulin or being unable to use the insulin that is made as effectively as needed.\\\n",
    "Complications like heart disease, vision loss, lower-limb amputation, and kidney disease are associated with chronically high levels of sugar remaining in the bloodstream for those with diabetes. While there is no cure for diabetes, strategies like losing weight, eating healthily, being active, and receiving medical treatments can mitigate the harms of this disease in many patients. Early diagnosis can lead to lifestyle changes and more effective treatment, making predictive models for diabetes risk important tools for public and public health officials.\n",
    "\n",
    "You work in the diabetology department at **Saint Luc University Hospital**. The head of the department has asked you to find a solution for classifying and predicting **whether patients are at high risk of developing diabetes**. This will enable them to schedule an appointment with these patients to set up prevention tools. To do this, you have a database of patients who have passed through the department in recent years. In addition, the head of the department feels that the poll is too long, and would like to **reduce the number of questions while maintaining the reliability and quality of the results**.\\\n",
    "Your aim is to determine which characteristics are relevant and enable reliable patient classification. Be careful, don’t let a potential diabetic patient slip through the cracks. The rest of this document will guide you in this process.\n",
    "\n",
    "## **Dataset description**\n",
    "\n",
    " \n",
    "The data set is a real-world data set based on a survey (BRFSS) conducted by the Centers for Disease Control and Prevention in the USA some ten years ago.\\\n",
    "The Behavioral Risk Factor Surveillance System (BRFSS) is an annual telephone health survey conducted by the Centers for Disease Control and Prevention. Each year, the survey collects responses from over 400,000 Americans on health-related risk behaviors, chronic diseases and use of preventive services. The survey has been conducted annually since 1984. It contains 22 headings and around 70,000 entries.\n",
    "\n",
    "\n",
    "<img src=\"figures/Features_table.png\" alt=\"drawing\" width=\"800\"/>\n",
    "\n",
    "## **Notebook structure**\n",
    "\n",
    "* PART 1 - Preliminaries\n",
    "   - 1.1 - Importing the packages\n",
    "   - 1.2 - Importing the dataset\n",
    "   - 1.3 - Is the dataset balanced?\n",
    "   - 1.4 - Scale the dataset\n",
    "    <br><br>\n",
    "* PART 2 - Correlation\n",
    "   - 2.1 - Correlation matrix \n",
    "   - 2.2 -Analyze the correlation with diabetes\n",
    "   - 2.3 - Model selection and parameters tuning\n",
    "   - 2.4 - Precision-Recall curve and thresholding\n",
    "   <br><br>\n",
    "* PART 3 - Classifiers\n",
    "   - 3.1 - Linear regressor\n",
    "   - 3.2 - Logisitic regressor\n",
    "   - 3.3 - KNN regressor\n",
    "   <br><br>\n",
    "* PART 4 - Validation metrics\n",
    "   - 4.1 - Precision score\n",
    "   - 4.2 - Recall score\n",
    "   - 4.3 - F1 score\n",
    "   <br><br>\n",
    "* PART 5 - Reduce the questionnaire size\n",
    "   - 5.1 - K-Fold preparation\n",
    "   - 5.2 - Find the right combination length/regressor\n",
    "   - 5.3 - Visualize the scores\n",
    "   <br><br>   \n",
    "* PART 6 - Visualization\n",
    "   - 6.1 - Visualize your results\n",
    "\n",
    "We filled this notebook with preliminary (trivial) code. This practice makes possible to run each cell, even the last ones, without throwing warnings. <b>Take advantage of this aspect to divide the work between all team members!</b> <br><br>\n",
    "Remember that many libraries exist in Python, so many functions have already been developed. Read the documentation and don't reinvent the wheel! You can import whatever you want.\n"
   ]
  },
  {
   "cell_type": "markdown",
   "metadata": {},
   "source": [
    "<br><font size=7 color=#009999> <b>PART I - Preliminaries</b> </font> <br><br>"
   ]
  },
  {
   "cell_type": "markdown",
   "metadata": {},
   "source": [
    "In this part of the hackathon, we will import the necessary packages, then we will import the dataset, scale it and analyze its distribution."
   ]
  },
  {
   "cell_type": "code",
   "execution_count": 105,
   "metadata": {},
   "outputs": [],
   "source": [
    "\"\"\"\n",
    "CELL N°1.1 : IMPORTING ALL THE NECESSARY PACKAGES\n",
    "\n",
    "@pre:  /\n",
    "@post: The necessary packages should be loaded.\n",
    "\"\"\"\n",
    "\n",
    "import pandas as pd\n",
    "import numpy as np\n",
    "import warnings\n",
    "from sklearn.model_selection import KFold\n",
    "import matplotlib.pyplot as plt\n",
    "\n",
    "import plotly.graph_objs as go\n",
    "from plotly.offline import iplot\n",
    "from plotly.subplots import make_subplots\n",
    "\n",
    "warnings.filterwarnings('ignore')"
   ]
  },
  {
   "cell_type": "code",
   "execution_count": 106,
   "metadata": {},
   "outputs": [
    {
     "name": "stdout",
     "output_type": "stream",
     "text": [
      "<class 'pandas.core.frame.DataFrame'>\n",
      "RangeIndex: 70692 entries, 0 to 70691\n",
      "Data columns (total 22 columns):\n",
      " #   Column         Non-Null Count  Dtype  \n",
      "---  ------         --------------  -----  \n",
      " 0   Diabetes       70692 non-null  float64\n",
      " 1   HighBP         70692 non-null  float64\n",
      " 2   HighChol       70692 non-null  float64\n",
      " 3   CholCheck      70692 non-null  float64\n",
      " 4   BMI            70692 non-null  float64\n",
      " 5   Smoker         70692 non-null  float64\n",
      " 6   Stroke         70692 non-null  float64\n",
      " 7   HeartDisease   70692 non-null  float64\n",
      " 8   PhysActivity   70692 non-null  float64\n",
      " 9   Fruits         70692 non-null  float64\n",
      " 10  Veggies        70692 non-null  float64\n",
      " 11  Alcohol        70692 non-null  float64\n",
      " 12  AnyHealthcare  70692 non-null  float64\n",
      " 13  NoDocbcCost    70692 non-null  float64\n",
      " 14  GenHlth        70692 non-null  float64\n",
      " 15  MentHlth       70692 non-null  float64\n",
      " 16  PhysHlth       70692 non-null  float64\n",
      " 17  DiffWalk       70692 non-null  float64\n",
      " 18  Sex            70692 non-null  float64\n",
      " 19  Age            70692 non-null  float64\n",
      " 20  Education      70692 non-null  float64\n",
      " 21  Income         70692 non-null  float64\n",
      "dtypes: float64(22)\n",
      "memory usage: 11.9 MB\n"
     ]
    },
    {
     "data": {
      "text/html": [
       "<div>\n",
       "<style scoped>\n",
       "    .dataframe tbody tr th:only-of-type {\n",
       "        vertical-align: middle;\n",
       "    }\n",
       "\n",
       "    .dataframe tbody tr th {\n",
       "        vertical-align: top;\n",
       "    }\n",
       "\n",
       "    .dataframe thead th {\n",
       "        text-align: right;\n",
       "    }\n",
       "</style>\n",
       "<table border=\"1\" class=\"dataframe\">\n",
       "  <thead>\n",
       "    <tr style=\"text-align: right;\">\n",
       "      <th></th>\n",
       "      <th>Diabetes</th>\n",
       "      <th>HighBP</th>\n",
       "      <th>HighChol</th>\n",
       "      <th>CholCheck</th>\n",
       "      <th>BMI</th>\n",
       "      <th>Smoker</th>\n",
       "      <th>Stroke</th>\n",
       "      <th>HeartDisease</th>\n",
       "      <th>PhysActivity</th>\n",
       "      <th>Fruits</th>\n",
       "      <th>...</th>\n",
       "      <th>AnyHealthcare</th>\n",
       "      <th>NoDocbcCost</th>\n",
       "      <th>GenHlth</th>\n",
       "      <th>MentHlth</th>\n",
       "      <th>PhysHlth</th>\n",
       "      <th>DiffWalk</th>\n",
       "      <th>Sex</th>\n",
       "      <th>Age</th>\n",
       "      <th>Education</th>\n",
       "      <th>Income</th>\n",
       "    </tr>\n",
       "  </thead>\n",
       "  <tbody>\n",
       "    <tr>\n",
       "      <th>count</th>\n",
       "      <td>70692.000000</td>\n",
       "      <td>70692.000000</td>\n",
       "      <td>70692.000000</td>\n",
       "      <td>70692.000000</td>\n",
       "      <td>70692.000000</td>\n",
       "      <td>70692.000000</td>\n",
       "      <td>70692.000000</td>\n",
       "      <td>70692.000000</td>\n",
       "      <td>70692.000000</td>\n",
       "      <td>70692.000000</td>\n",
       "      <td>...</td>\n",
       "      <td>70692.000000</td>\n",
       "      <td>70692.000000</td>\n",
       "      <td>70692.000000</td>\n",
       "      <td>70692.000000</td>\n",
       "      <td>70692.000000</td>\n",
       "      <td>70692.000000</td>\n",
       "      <td>70692.000000</td>\n",
       "      <td>70692.000000</td>\n",
       "      <td>70692.000000</td>\n",
       "      <td>70692.000000</td>\n",
       "    </tr>\n",
       "    <tr>\n",
       "      <th>mean</th>\n",
       "      <td>0.500000</td>\n",
       "      <td>0.563458</td>\n",
       "      <td>0.525703</td>\n",
       "      <td>0.975259</td>\n",
       "      <td>29.856985</td>\n",
       "      <td>0.475273</td>\n",
       "      <td>0.062171</td>\n",
       "      <td>0.147810</td>\n",
       "      <td>0.703036</td>\n",
       "      <td>0.611795</td>\n",
       "      <td>...</td>\n",
       "      <td>0.954960</td>\n",
       "      <td>0.093914</td>\n",
       "      <td>2.837082</td>\n",
       "      <td>3.752037</td>\n",
       "      <td>5.810417</td>\n",
       "      <td>0.252730</td>\n",
       "      <td>0.456997</td>\n",
       "      <td>8.584055</td>\n",
       "      <td>4.920953</td>\n",
       "      <td>5.698311</td>\n",
       "    </tr>\n",
       "    <tr>\n",
       "      <th>std</th>\n",
       "      <td>0.500004</td>\n",
       "      <td>0.495960</td>\n",
       "      <td>0.499342</td>\n",
       "      <td>0.155336</td>\n",
       "      <td>7.113954</td>\n",
       "      <td>0.499392</td>\n",
       "      <td>0.241468</td>\n",
       "      <td>0.354914</td>\n",
       "      <td>0.456924</td>\n",
       "      <td>0.487345</td>\n",
       "      <td>...</td>\n",
       "      <td>0.207394</td>\n",
       "      <td>0.291712</td>\n",
       "      <td>1.113565</td>\n",
       "      <td>8.155627</td>\n",
       "      <td>10.062261</td>\n",
       "      <td>0.434581</td>\n",
       "      <td>0.498151</td>\n",
       "      <td>2.852153</td>\n",
       "      <td>1.029081</td>\n",
       "      <td>2.175196</td>\n",
       "    </tr>\n",
       "    <tr>\n",
       "      <th>min</th>\n",
       "      <td>0.000000</td>\n",
       "      <td>0.000000</td>\n",
       "      <td>0.000000</td>\n",
       "      <td>0.000000</td>\n",
       "      <td>12.000000</td>\n",
       "      <td>0.000000</td>\n",
       "      <td>0.000000</td>\n",
       "      <td>0.000000</td>\n",
       "      <td>0.000000</td>\n",
       "      <td>0.000000</td>\n",
       "      <td>...</td>\n",
       "      <td>0.000000</td>\n",
       "      <td>0.000000</td>\n",
       "      <td>1.000000</td>\n",
       "      <td>0.000000</td>\n",
       "      <td>0.000000</td>\n",
       "      <td>0.000000</td>\n",
       "      <td>0.000000</td>\n",
       "      <td>1.000000</td>\n",
       "      <td>1.000000</td>\n",
       "      <td>1.000000</td>\n",
       "    </tr>\n",
       "    <tr>\n",
       "      <th>25%</th>\n",
       "      <td>0.000000</td>\n",
       "      <td>0.000000</td>\n",
       "      <td>0.000000</td>\n",
       "      <td>1.000000</td>\n",
       "      <td>25.000000</td>\n",
       "      <td>0.000000</td>\n",
       "      <td>0.000000</td>\n",
       "      <td>0.000000</td>\n",
       "      <td>0.000000</td>\n",
       "      <td>0.000000</td>\n",
       "      <td>...</td>\n",
       "      <td>1.000000</td>\n",
       "      <td>0.000000</td>\n",
       "      <td>2.000000</td>\n",
       "      <td>0.000000</td>\n",
       "      <td>0.000000</td>\n",
       "      <td>0.000000</td>\n",
       "      <td>0.000000</td>\n",
       "      <td>7.000000</td>\n",
       "      <td>4.000000</td>\n",
       "      <td>4.000000</td>\n",
       "    </tr>\n",
       "    <tr>\n",
       "      <th>50%</th>\n",
       "      <td>0.500000</td>\n",
       "      <td>1.000000</td>\n",
       "      <td>1.000000</td>\n",
       "      <td>1.000000</td>\n",
       "      <td>29.000000</td>\n",
       "      <td>0.000000</td>\n",
       "      <td>0.000000</td>\n",
       "      <td>0.000000</td>\n",
       "      <td>1.000000</td>\n",
       "      <td>1.000000</td>\n",
       "      <td>...</td>\n",
       "      <td>1.000000</td>\n",
       "      <td>0.000000</td>\n",
       "      <td>3.000000</td>\n",
       "      <td>0.000000</td>\n",
       "      <td>0.000000</td>\n",
       "      <td>0.000000</td>\n",
       "      <td>0.000000</td>\n",
       "      <td>9.000000</td>\n",
       "      <td>5.000000</td>\n",
       "      <td>6.000000</td>\n",
       "    </tr>\n",
       "    <tr>\n",
       "      <th>75%</th>\n",
       "      <td>1.000000</td>\n",
       "      <td>1.000000</td>\n",
       "      <td>1.000000</td>\n",
       "      <td>1.000000</td>\n",
       "      <td>33.000000</td>\n",
       "      <td>1.000000</td>\n",
       "      <td>0.000000</td>\n",
       "      <td>0.000000</td>\n",
       "      <td>1.000000</td>\n",
       "      <td>1.000000</td>\n",
       "      <td>...</td>\n",
       "      <td>1.000000</td>\n",
       "      <td>0.000000</td>\n",
       "      <td>4.000000</td>\n",
       "      <td>2.000000</td>\n",
       "      <td>6.000000</td>\n",
       "      <td>1.000000</td>\n",
       "      <td>1.000000</td>\n",
       "      <td>11.000000</td>\n",
       "      <td>6.000000</td>\n",
       "      <td>8.000000</td>\n",
       "    </tr>\n",
       "    <tr>\n",
       "      <th>max</th>\n",
       "      <td>1.000000</td>\n",
       "      <td>1.000000</td>\n",
       "      <td>1.000000</td>\n",
       "      <td>1.000000</td>\n",
       "      <td>98.000000</td>\n",
       "      <td>1.000000</td>\n",
       "      <td>1.000000</td>\n",
       "      <td>1.000000</td>\n",
       "      <td>1.000000</td>\n",
       "      <td>1.000000</td>\n",
       "      <td>...</td>\n",
       "      <td>1.000000</td>\n",
       "      <td>1.000000</td>\n",
       "      <td>5.000000</td>\n",
       "      <td>30.000000</td>\n",
       "      <td>30.000000</td>\n",
       "      <td>1.000000</td>\n",
       "      <td>1.000000</td>\n",
       "      <td>13.000000</td>\n",
       "      <td>6.000000</td>\n",
       "      <td>8.000000</td>\n",
       "    </tr>\n",
       "  </tbody>\n",
       "</table>\n",
       "<p>8 rows × 22 columns</p>\n",
       "</div>"
      ],
      "text/plain": [
       "           Diabetes        HighBP      HighChol     CholCheck           BMI  \\\n",
       "count  70692.000000  70692.000000  70692.000000  70692.000000  70692.000000   \n",
       "mean       0.500000      0.563458      0.525703      0.975259     29.856985   \n",
       "std        0.500004      0.495960      0.499342      0.155336      7.113954   \n",
       "min        0.000000      0.000000      0.000000      0.000000     12.000000   \n",
       "25%        0.000000      0.000000      0.000000      1.000000     25.000000   \n",
       "50%        0.500000      1.000000      1.000000      1.000000     29.000000   \n",
       "75%        1.000000      1.000000      1.000000      1.000000     33.000000   \n",
       "max        1.000000      1.000000      1.000000      1.000000     98.000000   \n",
       "\n",
       "             Smoker        Stroke  HeartDisease  PhysActivity        Fruits  \\\n",
       "count  70692.000000  70692.000000  70692.000000  70692.000000  70692.000000   \n",
       "mean       0.475273      0.062171      0.147810      0.703036      0.611795   \n",
       "std        0.499392      0.241468      0.354914      0.456924      0.487345   \n",
       "min        0.000000      0.000000      0.000000      0.000000      0.000000   \n",
       "25%        0.000000      0.000000      0.000000      0.000000      0.000000   \n",
       "50%        0.000000      0.000000      0.000000      1.000000      1.000000   \n",
       "75%        1.000000      0.000000      0.000000      1.000000      1.000000   \n",
       "max        1.000000      1.000000      1.000000      1.000000      1.000000   \n",
       "\n",
       "       ...  AnyHealthcare   NoDocbcCost       GenHlth      MentHlth  \\\n",
       "count  ...   70692.000000  70692.000000  70692.000000  70692.000000   \n",
       "mean   ...       0.954960      0.093914      2.837082      3.752037   \n",
       "std    ...       0.207394      0.291712      1.113565      8.155627   \n",
       "min    ...       0.000000      0.000000      1.000000      0.000000   \n",
       "25%    ...       1.000000      0.000000      2.000000      0.000000   \n",
       "50%    ...       1.000000      0.000000      3.000000      0.000000   \n",
       "75%    ...       1.000000      0.000000      4.000000      2.000000   \n",
       "max    ...       1.000000      1.000000      5.000000     30.000000   \n",
       "\n",
       "           PhysHlth      DiffWalk           Sex           Age     Education  \\\n",
       "count  70692.000000  70692.000000  70692.000000  70692.000000  70692.000000   \n",
       "mean       5.810417      0.252730      0.456997      8.584055      4.920953   \n",
       "std       10.062261      0.434581      0.498151      2.852153      1.029081   \n",
       "min        0.000000      0.000000      0.000000      1.000000      1.000000   \n",
       "25%        0.000000      0.000000      0.000000      7.000000      4.000000   \n",
       "50%        0.000000      0.000000      0.000000      9.000000      5.000000   \n",
       "75%        6.000000      1.000000      1.000000     11.000000      6.000000   \n",
       "max       30.000000      1.000000      1.000000     13.000000      6.000000   \n",
       "\n",
       "             Income  \n",
       "count  70692.000000  \n",
       "mean       5.698311  \n",
       "std        2.175196  \n",
       "min        1.000000  \n",
       "25%        4.000000  \n",
       "50%        6.000000  \n",
       "75%        8.000000  \n",
       "max        8.000000  \n",
       "\n",
       "[8 rows x 22 columns]"
      ]
     },
     "execution_count": 106,
     "metadata": {},
     "output_type": "execute_result"
    }
   ],
   "source": [
    "\"\"\"\n",
    "CELL N°1.2 : IMPORTING THE DATASET\n",
    "\n",
    "@pre:  /\n",
    "@post: The object `df` should contain a Pandas DataFrame corresponding to the file `diabetes_dataset.csv`\n",
    "\"\"\"\n",
    "df = pd.read_csv(\"diabetes_dataset.csv\")\n",
    "df.info()\n",
    "df.describe()"
   ]
  },
  {
   "cell_type": "markdown",
   "metadata": {},
   "source": [
    "***Is the dataset balanced?***\n",
    "\n",
    "It's good practice to check this to better understand the contents of our dataset. The balance between the different classes has an impact on the binarization threshold (which is initialized here at 0.5). Other things can also have an impact on the choice of threshold."
   ]
  },
  {
   "cell_type": "code",
   "execution_count": 107,
   "metadata": {},
   "outputs": [
    {
     "data": {
      "text/plain": [
       "([<matplotlib.patches.Wedge at 0x1fa1d0a3800>,\n",
       "  <matplotlib.patches.Wedge at 0x1fa1d0a3500>],\n",
       " [Text(-1.1, 1.3471114790620887e-16, 'Diabetic'),\n",
       "  Text(1.2000000000000002, -2.939152317953648e-16, 'Non Diabetic')],\n",
       " [Text(-0.6, 7.347880794884119e-17, '50.0%'),\n",
       "  Text(0.7, -1.7145055188062944e-16, '50.0%')])"
      ]
     },
     "execution_count": 107,
     "metadata": {},
     "output_type": "execute_result"
    },
    {
     "data": {
      "image/png": "[encoded data removed]",
      "text/plain": [
       "<Figure size 640x480 with 1 Axes>"
      ]
     },
     "metadata": {},
     "output_type": "display_data"
    }
   ],
   "source": [
    "\"\"\"\n",
    "CELL N°1.3 : IS THE DATASET BALANCED?\n",
    "\n",
    "@pre:  `df` contains the dataset\n",
    "@post: Plot the diabetic/non-diabetic distribution in a pie chart\n",
    "\"\"\"\n",
    "bins = df[\"Diabetes\"].to_numpy()\n",
    "explode = (0, 0.1)\n",
    "labels = 'Diabetic', 'Non Diabetic'\n",
    "sizes = [100 * np.sum(bins)/len(bins), 100 - 100 * np.sum(bins)/len(bins)]\n",
    "\n",
    "plt.title(\"Repartition of Diabetic and non Diabetic patients\", loc='left')\n",
    "plt.pie(sizes,explode=explode, labels=labels,autopct='%1.1f%%',colors=['#ff8ca1','#8fd7d7'], shadow=True, startangle=90)"
   ]
  },
  {
   "cell_type": "markdown",
   "metadata": {},
   "source": [
    "***Standardize*** is important when you work with data because it allows data to be compared with one another. \n",
    "\n",
    "$z$ is the standard score of a population $x$. It can be computed as follows:\n",
    "$$z = \\frac{x-\\mu}{\\sigma}$$\n",
    "with $\\mu$ the mean of the population and $\\sigma$ the standard deviation of the poplutation.\n",
    "\n",
    "Please consult, [Wikipedia](https://en.wikipedia.org/wiki/Standard_score) for further information about the standardization.\\\n",
    "Be careful to use the same formula as us, check in `scikit-learn`\n"
   ]
  },
  {
   "cell_type": "code",
   "execution_count": 108,
   "metadata": {},
   "outputs": [
    {
     "name": "stdout",
     "output_type": "stream",
     "text": [
      "<class 'pandas.core.frame.DataFrame'>\n",
      "RangeIndex: 70692 entries, 0 to 70691\n",
      "Data columns (total 22 columns):\n",
      " #   Column         Non-Null Count  Dtype  \n",
      "---  ------         --------------  -----  \n",
      " 0   Diabetes       70692 non-null  float64\n",
      " 1   HighBP         70692 non-null  float64\n",
      " 2   HighChol       70692 non-null  float64\n",
      " 3   CholCheck      70692 non-null  float64\n",
      " 4   BMI            70692 non-null  float64\n",
      " 5   Smoker         70692 non-null  float64\n",
      " 6   Stroke         70692 non-null  float64\n",
      " 7   HeartDisease   70692 non-null  float64\n",
      " 8   PhysActivity   70692 non-null  float64\n",
      " 9   Fruits         70692 non-null  float64\n",
      " 10  Veggies        70692 non-null  float64\n",
      " 11  Alcohol        70692 non-null  float64\n",
      " 12  AnyHealthcare  70692 non-null  float64\n",
      " 13  NoDocbcCost    70692 non-null  float64\n",
      " 14  GenHlth        70692 non-null  float64\n",
      " 15  MentHlth       70692 non-null  float64\n",
      " 16  PhysHlth       70692 non-null  float64\n",
      " 17  DiffWalk       70692 non-null  float64\n",
      " 18  Sex            70692 non-null  float64\n",
      " 19  Age            70692 non-null  float64\n",
      " 20  Education      70692 non-null  float64\n",
      " 21  Income         70692 non-null  float64\n",
      "dtypes: float64(22)\n",
      "memory usage: 11.9 MB\n"
     ]
    },
    {
     "data": {
      "text/html": [
       "<div>\n",
       "<style scoped>\n",
       "    .dataframe tbody tr th:only-of-type {\n",
       "        vertical-align: middle;\n",
       "    }\n",
       "\n",
       "    .dataframe tbody tr th {\n",
       "        vertical-align: top;\n",
       "    }\n",
       "\n",
       "    .dataframe thead th {\n",
       "        text-align: right;\n",
       "    }\n",
       "</style>\n",
       "<table border=\"1\" class=\"dataframe\">\n",
       "  <thead>\n",
       "    <tr style=\"text-align: right;\">\n",
       "      <th></th>\n",
       "      <th>Diabetes</th>\n",
       "      <th>HighBP</th>\n",
       "      <th>HighChol</th>\n",
       "      <th>CholCheck</th>\n",
       "      <th>BMI</th>\n",
       "      <th>Smoker</th>\n",
       "      <th>Stroke</th>\n",
       "      <th>HeartDisease</th>\n",
       "      <th>PhysActivity</th>\n",
       "      <th>Fruits</th>\n",
       "      <th>...</th>\n",
       "      <th>AnyHealthcare</th>\n",
       "      <th>NoDocbcCost</th>\n",
       "      <th>GenHlth</th>\n",
       "      <th>MentHlth</th>\n",
       "      <th>PhysHlth</th>\n",
       "      <th>DiffWalk</th>\n",
       "      <th>Sex</th>\n",
       "      <th>Age</th>\n",
       "      <th>Education</th>\n",
       "      <th>Income</th>\n",
       "    </tr>\n",
       "  </thead>\n",
       "  <tbody>\n",
       "    <tr>\n",
       "      <th>count</th>\n",
       "      <td>70692.000000</td>\n",
       "      <td>7.069200e+04</td>\n",
       "      <td>7.069200e+04</td>\n",
       "      <td>7.069200e+04</td>\n",
       "      <td>7.069200e+04</td>\n",
       "      <td>7.069200e+04</td>\n",
       "      <td>7.069200e+04</td>\n",
       "      <td>7.069200e+04</td>\n",
       "      <td>7.069200e+04</td>\n",
       "      <td>7.069200e+04</td>\n",
       "      <td>...</td>\n",
       "      <td>7.069200e+04</td>\n",
       "      <td>7.069200e+04</td>\n",
       "      <td>7.069200e+04</td>\n",
       "      <td>7.069200e+04</td>\n",
       "      <td>7.069200e+04</td>\n",
       "      <td>7.069200e+04</td>\n",
       "      <td>7.069200e+04</td>\n",
       "      <td>7.069200e+04</td>\n",
       "      <td>7.069200e+04</td>\n",
       "      <td>7.069200e+04</td>\n",
       "    </tr>\n",
       "    <tr>\n",
       "      <th>mean</th>\n",
       "      <td>0.500000</td>\n",
       "      <td>1.286560e-17</td>\n",
       "      <td>-9.649197e-17</td>\n",
       "      <td>2.106741e-16</td>\n",
       "      <td>-7.719358e-17</td>\n",
       "      <td>-7.819870e-17</td>\n",
       "      <td>1.849429e-17</td>\n",
       "      <td>-3.377219e-17</td>\n",
       "      <td>1.447380e-17</td>\n",
       "      <td>8.523457e-17</td>\n",
       "      <td>...</td>\n",
       "      <td>-1.045330e-16</td>\n",
       "      <td>-1.567994e-17</td>\n",
       "      <td>2.508791e-16</td>\n",
       "      <td>3.216399e-18</td>\n",
       "      <td>-6.432798e-17</td>\n",
       "      <td>-2.573119e-17</td>\n",
       "      <td>1.141822e-16</td>\n",
       "      <td>2.959087e-16</td>\n",
       "      <td>-9.005917e-17</td>\n",
       "      <td>3.216399e-17</td>\n",
       "    </tr>\n",
       "    <tr>\n",
       "      <th>std</th>\n",
       "      <td>0.500004</td>\n",
       "      <td>1.000007e+00</td>\n",
       "      <td>1.000007e+00</td>\n",
       "      <td>1.000007e+00</td>\n",
       "      <td>1.000007e+00</td>\n",
       "      <td>1.000007e+00</td>\n",
       "      <td>1.000007e+00</td>\n",
       "      <td>1.000007e+00</td>\n",
       "      <td>1.000007e+00</td>\n",
       "      <td>1.000007e+00</td>\n",
       "      <td>...</td>\n",
       "      <td>1.000007e+00</td>\n",
       "      <td>1.000007e+00</td>\n",
       "      <td>1.000007e+00</td>\n",
       "      <td>1.000007e+00</td>\n",
       "      <td>1.000007e+00</td>\n",
       "      <td>1.000007e+00</td>\n",
       "      <td>1.000007e+00</td>\n",
       "      <td>1.000007e+00</td>\n",
       "      <td>1.000007e+00</td>\n",
       "      <td>1.000007e+00</td>\n",
       "    </tr>\n",
       "    <tr>\n",
       "      <th>min</th>\n",
       "      <td>0.000000</td>\n",
       "      <td>-1.136104e+00</td>\n",
       "      <td>-1.052798e+00</td>\n",
       "      <td>-6.278417e+00</td>\n",
       "      <td>-2.510153e+00</td>\n",
       "      <td>-9.517105e-01</td>\n",
       "      <td>-2.574735e-01</td>\n",
       "      <td>-4.164703e-01</td>\n",
       "      <td>-1.538638e+00</td>\n",
       "      <td>-1.255371e+00</td>\n",
       "      <td>...</td>\n",
       "      <td>-4.604591e+00</td>\n",
       "      <td>-3.219449e-01</td>\n",
       "      <td>-1.649743e+00</td>\n",
       "      <td>-4.600583e-01</td>\n",
       "      <td>-5.774506e-01</td>\n",
       "      <td>-5.815537e-01</td>\n",
       "      <td>-9.173925e-01</td>\n",
       "      <td>-2.659082e+00</td>\n",
       "      <td>-3.810178e+00</td>\n",
       "      <td>-2.159964e+00</td>\n",
       "    </tr>\n",
       "    <tr>\n",
       "      <th>25%</th>\n",
       "      <td>0.000000</td>\n",
       "      <td>-1.136104e+00</td>\n",
       "      <td>-1.052798e+00</td>\n",
       "      <td>1.592758e-01</td>\n",
       "      <td>-6.827454e-01</td>\n",
       "      <td>-9.517105e-01</td>\n",
       "      <td>-2.574735e-01</td>\n",
       "      <td>-4.164703e-01</td>\n",
       "      <td>-1.538638e+00</td>\n",
       "      <td>-1.255371e+00</td>\n",
       "      <td>...</td>\n",
       "      <td>2.171745e-01</td>\n",
       "      <td>-3.219449e-01</td>\n",
       "      <td>-7.517193e-01</td>\n",
       "      <td>-4.600583e-01</td>\n",
       "      <td>-5.774506e-01</td>\n",
       "      <td>-5.815537e-01</td>\n",
       "      <td>-9.173925e-01</td>\n",
       "      <td>-5.553930e-01</td>\n",
       "      <td>-8.949340e-01</td>\n",
       "      <td>-7.807678e-01</td>\n",
       "    </tr>\n",
       "    <tr>\n",
       "      <th>50%</th>\n",
       "      <td>0.500000</td>\n",
       "      <td>8.802011e-01</td>\n",
       "      <td>9.498498e-01</td>\n",
       "      <td>1.592758e-01</td>\n",
       "      <td>-1.204662e-01</td>\n",
       "      <td>-9.517105e-01</td>\n",
       "      <td>-2.574735e-01</td>\n",
       "      <td>-4.164703e-01</td>\n",
       "      <td>6.499253e-01</td>\n",
       "      <td>7.965770e-01</td>\n",
       "      <td>...</td>\n",
       "      <td>2.171745e-01</td>\n",
       "      <td>-3.219449e-01</td>\n",
       "      <td>1.463042e-01</td>\n",
       "      <td>-4.600583e-01</td>\n",
       "      <td>-5.774506e-01</td>\n",
       "      <td>-5.815537e-01</td>\n",
       "      <td>-9.173925e-01</td>\n",
       "      <td>1.458365e-01</td>\n",
       "      <td>7.681388e-02</td>\n",
       "      <td>1.386961e-01</td>\n",
       "    </tr>\n",
       "    <tr>\n",
       "      <th>75%</th>\n",
       "      <td>1.000000</td>\n",
       "      <td>8.802011e-01</td>\n",
       "      <td>9.498498e-01</td>\n",
       "      <td>1.592758e-01</td>\n",
       "      <td>4.418130e-01</td>\n",
       "      <td>1.050740e+00</td>\n",
       "      <td>-2.574735e-01</td>\n",
       "      <td>-4.164703e-01</td>\n",
       "      <td>6.499253e-01</td>\n",
       "      <td>7.965770e-01</td>\n",
       "      <td>...</td>\n",
       "      <td>2.171745e-01</td>\n",
       "      <td>-3.219449e-01</td>\n",
       "      <td>1.044328e+00</td>\n",
       "      <td>-2.148271e-01</td>\n",
       "      <td>1.884113e-02</td>\n",
       "      <td>1.719532e+00</td>\n",
       "      <td>1.090046e+00</td>\n",
       "      <td>8.470661e-01</td>\n",
       "      <td>1.048562e+00</td>\n",
       "      <td>1.058160e+00</td>\n",
       "    </tr>\n",
       "    <tr>\n",
       "      <th>max</th>\n",
       "      <td>1.000000</td>\n",
       "      <td>8.802011e-01</td>\n",
       "      <td>9.498498e-01</td>\n",
       "      <td>1.592758e-01</td>\n",
       "      <td>9.578850e+00</td>\n",
       "      <td>1.050740e+00</td>\n",
       "      <td>3.883895e+00</td>\n",
       "      <td>2.401131e+00</td>\n",
       "      <td>6.499253e-01</td>\n",
       "      <td>7.965770e-01</td>\n",
       "      <td>...</td>\n",
       "      <td>2.171745e-01</td>\n",
       "      <td>3.106121e+00</td>\n",
       "      <td>1.942351e+00</td>\n",
       "      <td>3.218410e+00</td>\n",
       "      <td>2.404008e+00</td>\n",
       "      <td>1.719532e+00</td>\n",
       "      <td>1.090046e+00</td>\n",
       "      <td>1.548296e+00</td>\n",
       "      <td>1.048562e+00</td>\n",
       "      <td>1.058160e+00</td>\n",
       "    </tr>\n",
       "  </tbody>\n",
       "</table>\n",
       "<p>8 rows × 22 columns</p>\n",
       "</div>"
      ],
      "text/plain": [
       "           Diabetes        HighBP      HighChol     CholCheck           BMI  \\\n",
       "count  70692.000000  7.069200e+04  7.069200e+04  7.069200e+04  7.069200e+04   \n",
       "mean       0.500000  1.286560e-17 -9.649197e-17  2.106741e-16 -7.719358e-17   \n",
       "std        0.500004  1.000007e+00  1.000007e+00  1.000007e+00  1.000007e+00   \n",
       "min        0.000000 -1.136104e+00 -1.052798e+00 -6.278417e+00 -2.510153e+00   \n",
       "25%        0.000000 -1.136104e+00 -1.052798e+00  1.592758e-01 -6.827454e-01   \n",
       "50%        0.500000  8.802011e-01  9.498498e-01  1.592758e-01 -1.204662e-01   \n",
       "75%        1.000000  8.802011e-01  9.498498e-01  1.592758e-01  4.418130e-01   \n",
       "max        1.000000  8.802011e-01  9.498498e-01  1.592758e-01  9.578850e+00   \n",
       "\n",
       "             Smoker        Stroke  HeartDisease  PhysActivity        Fruits  \\\n",
       "count  7.069200e+04  7.069200e+04  7.069200e+04  7.069200e+04  7.069200e+04   \n",
       "mean  -7.819870e-17  1.849429e-17 -3.377219e-17  1.447380e-17  8.523457e-17   \n",
       "std    1.000007e+00  1.000007e+00  1.000007e+00  1.000007e+00  1.000007e+00   \n",
       "min   -9.517105e-01 -2.574735e-01 -4.164703e-01 -1.538638e+00 -1.255371e+00   \n",
       "25%   -9.517105e-01 -2.574735e-01 -4.164703e-01 -1.538638e+00 -1.255371e+00   \n",
       "50%   -9.517105e-01 -2.574735e-01 -4.164703e-01  6.499253e-01  7.965770e-01   \n",
       "75%    1.050740e+00 -2.574735e-01 -4.164703e-01  6.499253e-01  7.965770e-01   \n",
       "max    1.050740e+00  3.883895e+00  2.401131e+00  6.499253e-01  7.965770e-01   \n",
       "\n",
       "       ...  AnyHealthcare   NoDocbcCost       GenHlth      MentHlth  \\\n",
       "count  ...   7.069200e+04  7.069200e+04  7.069200e+04  7.069200e+04   \n",
       "mean   ...  -1.045330e-16 -1.567994e-17  2.508791e-16  3.216399e-18   \n",
       "std    ...   1.000007e+00  1.000007e+00  1.000007e+00  1.000007e+00   \n",
       "min    ...  -4.604591e+00 -3.219449e-01 -1.649743e+00 -4.600583e-01   \n",
       "25%    ...   2.171745e-01 -3.219449e-01 -7.517193e-01 -4.600583e-01   \n",
       "50%    ...   2.171745e-01 -3.219449e-01  1.463042e-01 -4.600583e-01   \n",
       "75%    ...   2.171745e-01 -3.219449e-01  1.044328e+00 -2.148271e-01   \n",
       "max    ...   2.171745e-01  3.106121e+00  1.942351e+00  3.218410e+00   \n",
       "\n",
       "           PhysHlth      DiffWalk           Sex           Age     Education  \\\n",
       "count  7.069200e+04  7.069200e+04  7.069200e+04  7.069200e+04  7.069200e+04   \n",
       "mean  -6.432798e-17 -2.573119e-17  1.141822e-16  2.959087e-16 -9.005917e-17   \n",
       "std    1.000007e+00  1.000007e+00  1.000007e+00  1.000007e+00  1.000007e+00   \n",
       "min   -5.774506e-01 -5.815537e-01 -9.173925e-01 -2.659082e+00 -3.810178e+00   \n",
       "25%   -5.774506e-01 -5.815537e-01 -9.173925e-01 -5.553930e-01 -8.949340e-01   \n",
       "50%   -5.774506e-01 -5.815537e-01 -9.173925e-01  1.458365e-01  7.681388e-02   \n",
       "75%    1.884113e-02  1.719532e+00  1.090046e+00  8.470661e-01  1.048562e+00   \n",
       "max    2.404008e+00  1.719532e+00  1.090046e+00  1.548296e+00  1.048562e+00   \n",
       "\n",
       "             Income  \n",
       "count  7.069200e+04  \n",
       "mean   3.216399e-17  \n",
       "std    1.000007e+00  \n",
       "min   -2.159964e+00  \n",
       "25%   -7.807678e-01  \n",
       "50%    1.386961e-01  \n",
       "75%    1.058160e+00  \n",
       "max    1.058160e+00  \n",
       "\n",
       "[8 rows x 22 columns]"
      ]
     },
     "execution_count": 108,
     "metadata": {},
     "output_type": "execute_result"
    }
   ],
   "source": [
    "\"\"\"\n",
    "CELL N°1.4 : SCALE THE DATASET\n",
    "\n",
    "@pre:  A pandas.DataFrame `df` containing the dataset\n",
    "@post: A pandas.DataFrame `df` containing the standardized dataset (except classification columns (Diabetes))\n",
    "\n",
    "\"\"\"\n",
    "import sklearn.preprocessing as skp\n",
    "\n",
    "def scale_dataset(df): \n",
    "    column_names = df.columns\n",
    "    column_names_without_diabetes = column_names.drop('Diabetes') # récupérer les noms des columns\n",
    "\n",
    "    scale_df = skp.StandardScaler().fit_transform(df[column_names_without_diabetes])\n",
    "    df[column_names_without_diabetes] = pd.DataFrame(scale_df,columns= column_names_without_diabetes) \n",
    "    return df\n",
    "\n",
    "df = scale_dataset(df)\n",
    "df.info()\n",
    "df.describe()\n",
    "\n",
    "\n",
    "#  return numpy array ==> \n",
    "# pd.DataFrame( ..., columns = nom_columns_to_scale)\n",
    "# "
   ]
  },
  {
   "cell_type": "markdown",
   "metadata": {},
   "source": [
    "<br><font size=7 color=#009999> <b>PART II - Correlation</b> </font> <br><br>"
   ]
  },
  {
   "cell_type": "markdown",
   "metadata": {},
   "source": [
    "***In order to keep*** the important features for our classification, we can compute and plot (see e.g. `seaborn.heatmap`) the correlation matrix. With these correlation coefficient, we can establish a feature selection strategy.\\\n",
    "Be sure to use the `pearson` correlation.\n"
   ]
  },
  {
   "cell_type": "code",
   "execution_count": 109,
   "metadata": {},
   "outputs": [
    {
     "data": {
      "application/vnd.plotly.v1+json": {
       "config": {
        "plotlyServerURL": "https://plot.ly"
       },
       "data": [
        {
         "colorbar": {
          "thickness": 20,
          "ticklen": 3
         },
         "colorscale": [
          [
           0,
           "#3f7f93"
          ],
          [
           0.071,
           "#5890a1"
          ],
          [
           0.143,
           "#72a1b0"
          ],
          [
           0.214,
           "#8cb3bf"
          ],
          [
           0.286,
           "#a7c5cf"
          ],
          [
           0.357,
           "#c0d6dd"
          ],
          [
           0.429,
           "#dae8ec"
          ],
          [
           0.5,
           "#f2f2f2"
          ],
          [
           0.571,
           "#f7d7d9"
          ],
          [
           0.643,
           "#f2bcc0"
          ],
          [
           0.714,
           "#eda3a9"
          ],
          [
           0.786,
           "#e8888f"
          ],
          [
           0.857,
           "#e36e76"
          ],
          [
           0.929,
           "#de535e"
          ],
          [
           1,
           "#d93a46"
          ]
         ],
         "hoverinfo": "text",
         "hovertext": [
          [
           "corr(Diabetes, Diabetes)= 1.00",
           "corr(Diabetes, HighBP)= 0.38",
           "corr(Diabetes, HighChol)= 0.29",
           "corr(Diabetes, CholCheck)= 0.12",
           "corr(Diabetes, BMI)= 0.29",
           "corr(Diabetes, Smoker)= 0.09",
           "corr(Diabetes, Stroke)= 0.13",
           "corr(Diabetes, HeartDisease)= 0.21",
           "corr(Diabetes, PhysActivity)= -0.16",
           "corr(Diabetes, Fruits)= -0.05",
           "corr(Diabetes, Veggies)= -0.08",
           "corr(Diabetes, Alcohol)= -0.09",
           "corr(Diabetes, AnyHealthcare)= 0.02",
           "corr(Diabetes, NoDocbcCost)= 0.04",
           "corr(Diabetes, GenHlth)= 0.41",
           "corr(Diabetes, MentHlth)= 0.09",
           "corr(Diabetes, PhysHlth)= 0.21",
           "corr(Diabetes, DiffWalk)= 0.27",
           "corr(Diabetes, Sex)= 0.04",
           "corr(Diabetes, Age)= 0.28",
           "corr(Diabetes, Education)= -0.17",
           "corr(Diabetes, Income)= -0.22"
          ],
          [
           "corr(HighBP, Diabetes)= 0.38",
           "corr(HighBP, HighBP)= 1.00",
           "corr(HighBP, HighChol)= 0.32",
           "corr(HighBP, CholCheck)= 0.10",
           "corr(HighBP, BMI)= 0.24",
           "corr(HighBP, Smoker)= 0.09",
           "corr(HighBP, Stroke)= 0.13",
           "corr(HighBP, HeartDisease)= 0.21",
           "corr(HighBP, PhysActivity)= -0.14",
           "corr(HighBP, Fruits)= -0.04",
           "corr(HighBP, Veggies)= -0.07",
           "corr(HighBP, Alcohol)= -0.03",
           "corr(HighBP, AnyHealthcare)= 0.04",
           "corr(HighBP, NoDocbcCost)= 0.03",
           "corr(HighBP, GenHlth)= 0.32",
           "corr(HighBP, MentHlth)= 0.06",
           "corr(HighBP, PhysHlth)= 0.17",
           "corr(HighBP, DiffWalk)= 0.23",
           "corr(HighBP, Sex)= 0.04",
           "corr(HighBP, Age)= 0.34",
           "corr(HighBP, Education)= -0.14",
           "corr(HighBP, Income)= -0.19"
          ],
          [
           "corr(HighChol, Diabetes)= 0.29",
           "corr(HighChol, HighBP)= 0.32",
           "corr(HighChol, HighChol)= 1.00",
           "corr(HighChol, CholCheck)= 0.09",
           "corr(HighChol, BMI)= 0.13",
           "corr(HighChol, Smoker)= 0.09",
           "corr(HighChol, Stroke)= 0.10",
           "corr(HighChol, HeartDisease)= 0.18",
           "corr(HighChol, PhysActivity)= -0.09",
           "corr(HighChol, Fruits)= -0.05",
           "corr(HighChol, Veggies)= -0.04",
           "corr(HighChol, Alcohol)= -0.03",
           "corr(HighChol, AnyHealthcare)= 0.03",
           "corr(HighChol, NoDocbcCost)= 0.03",
           "corr(HighChol, GenHlth)= 0.24",
           "corr(HighChol, MentHlth)= 0.08",
           "corr(HighChol, PhysHlth)= 0.14",
           "corr(HighChol, DiffWalk)= 0.16",
           "corr(HighChol, Sex)= 0.02",
           "corr(HighChol, Age)= 0.24",
           "corr(HighChol, Education)= -0.08",
           "corr(HighChol, Income)= -0.11"
          ],
          [
           "corr(CholCheck, Diabetes)= 0.12",
           "corr(CholCheck, HighBP)= 0.10",
           "corr(CholCheck, HighChol)= 0.09",
           "corr(CholCheck, CholCheck)= 1.00",
           "corr(CholCheck, BMI)= 0.05",
           "corr(CholCheck, Smoker)= -0.00",
           "corr(CholCheck, Stroke)= 0.02",
           "corr(CholCheck, HeartDisease)= 0.04",
           "corr(CholCheck, PhysActivity)= -0.01",
           "corr(CholCheck, Fruits)= 0.02",
           "corr(CholCheck, Veggies)= 0.00",
           "corr(CholCheck, Alcohol)= -0.03",
           "corr(CholCheck, AnyHealthcare)= 0.11",
           "corr(CholCheck, NoDocbcCost)= -0.06",
           "corr(CholCheck, GenHlth)= 0.06",
           "corr(CholCheck, MentHlth)= -0.01",
           "corr(CholCheck, PhysHlth)= 0.03",
           "corr(CholCheck, DiffWalk)= 0.04",
           "corr(CholCheck, Sex)= -0.01",
           "corr(CholCheck, Age)= 0.10",
           "corr(CholCheck, Education)= -0.01",
           "corr(CholCheck, Income)= 0.01"
          ],
          [
           "corr(BMI, Diabetes)= 0.29",
           "corr(BMI, HighBP)= 0.24",
           "corr(BMI, HighChol)= 0.13",
           "corr(BMI, CholCheck)= 0.05",
           "corr(BMI, BMI)= 1.00",
           "corr(BMI, Smoker)= 0.01",
           "corr(BMI, Stroke)= 0.02",
           "corr(BMI, HeartDisease)= 0.06",
           "corr(BMI, PhysActivity)= -0.17",
           "corr(BMI, Fruits)= -0.08",
           "corr(BMI, Veggies)= -0.06",
           "corr(BMI, Alcohol)= -0.06",
           "corr(BMI, AnyHealthcare)= -0.01",
           "corr(BMI, NoDocbcCost)= 0.07",
           "corr(BMI, GenHlth)= 0.27",
           "corr(BMI, MentHlth)= 0.10",
           "corr(BMI, PhysHlth)= 0.16",
           "corr(BMI, DiffWalk)= 0.25",
           "corr(BMI, Sex)= 0.00",
           "corr(BMI, Age)= -0.04",
           "corr(BMI, Education)= -0.10",
           "corr(BMI, Income)= -0.12"
          ],
          [
           "corr(Smoker, Diabetes)= 0.09",
           "corr(Smoker, HighBP)= 0.09",
           "corr(Smoker, HighChol)= 0.09",
           "corr(Smoker, CholCheck)= -0.00",
           "corr(Smoker, BMI)= 0.01",
           "corr(Smoker, Smoker)= 1.00",
           "corr(Smoker, Stroke)= 0.06",
           "corr(Smoker, HeartDisease)= 0.12",
           "corr(Smoker, PhysActivity)= -0.08",
           "corr(Smoker, Fruits)= -0.07",
           "corr(Smoker, Veggies)= -0.03",
           "corr(Smoker, Alcohol)= 0.08",
           "corr(Smoker, AnyHealthcare)= -0.01",
           "corr(Smoker, NoDocbcCost)= 0.04",
           "corr(Smoker, GenHlth)= 0.15",
           "corr(Smoker, MentHlth)= 0.09",
           "corr(Smoker, PhysHlth)= 0.12",
           "corr(Smoker, DiffWalk)= 0.12",
           "corr(Smoker, Sex)= 0.11",
           "corr(Smoker, Age)= 0.11",
           "corr(Smoker, Education)= -0.14",
           "corr(Smoker, Income)= -0.10"
          ],
          [
           "corr(Stroke, Diabetes)= 0.13",
           "corr(Stroke, HighBP)= 0.13",
           "corr(Stroke, HighChol)= 0.10",
           "corr(Stroke, CholCheck)= 0.02",
           "corr(Stroke, BMI)= 0.02",
           "corr(Stroke, Smoker)= 0.06",
           "corr(Stroke, Stroke)= 1.00",
           "corr(Stroke, HeartDisease)= 0.22",
           "corr(Stroke, PhysActivity)= -0.08",
           "corr(Stroke, Fruits)= -0.01",
           "corr(Stroke, Veggies)= -0.05",
           "corr(Stroke, Alcohol)= -0.02",
           "corr(Stroke, AnyHealthcare)= 0.01",
           "corr(Stroke, NoDocbcCost)= 0.04",
           "corr(Stroke, GenHlth)= 0.19",
           "corr(Stroke, MentHlth)= 0.09",
           "corr(Stroke, PhysHlth)= 0.16",
           "corr(Stroke, DiffWalk)= 0.19",
           "corr(Stroke, Sex)= 0.00",
           "corr(Stroke, Age)= 0.12",
           "corr(Stroke, Education)= -0.07",
           "corr(Stroke, Income)= -0.14"
          ],
          [
           "corr(HeartDisease, Diabetes)= 0.21",
           "corr(HeartDisease, HighBP)= 0.21",
           "corr(HeartDisease, HighChol)= 0.18",
           "corr(HeartDisease, CholCheck)= 0.04",
           "corr(HeartDisease, BMI)= 0.06",
           "corr(HeartDisease, Smoker)= 0.12",
           "corr(HeartDisease, Stroke)= 0.22",
           "corr(HeartDisease, HeartDisease)= 1.00",
           "corr(HeartDisease, PhysActivity)= -0.10",
           "corr(HeartDisease, Fruits)= -0.02",
           "corr(HeartDisease, Veggies)= -0.04",
           "corr(HeartDisease, Alcohol)= -0.04",
           "corr(HeartDisease, AnyHealthcare)= 0.02",
           "corr(HeartDisease, NoDocbcCost)= 0.04",
           "corr(HeartDisease, GenHlth)= 0.28",
           "corr(HeartDisease, MentHlth)= 0.08",
           "corr(HeartDisease, PhysHlth)= 0.20",
           "corr(HeartDisease, DiffWalk)= 0.23",
           "corr(HeartDisease, Sex)= 0.10",
           "corr(HeartDisease, Age)= 0.22",
           "corr(HeartDisease, Education)= -0.10",
           "corr(HeartDisease, Income)= -0.15"
          ],
          [
           "corr(PhysActivity, Diabetes)= -0.16",
           "corr(PhysActivity, HighBP)= -0.14",
           "corr(PhysActivity, HighChol)= -0.09",
           "corr(PhysActivity, CholCheck)= -0.01",
           "corr(PhysActivity, BMI)= -0.17",
           "corr(PhysActivity, Smoker)= -0.08",
           "corr(PhysActivity, Stroke)= -0.08",
           "corr(PhysActivity, HeartDisease)= -0.10",
           "corr(PhysActivity, PhysActivity)= 1.00",
           "corr(PhysActivity, Fruits)= 0.13",
           "corr(PhysActivity, Veggies)= 0.15",
           "corr(PhysActivity, Alcohol)= 0.02",
           "corr(PhysActivity, AnyHealthcare)= 0.03",
           "corr(PhysActivity, NoDocbcCost)= -0.06",
           "corr(PhysActivity, GenHlth)= -0.27",
           "corr(PhysActivity, MentHlth)= -0.13",
           "corr(PhysActivity, PhysHlth)= -0.23",
           "corr(PhysActivity, DiffWalk)= -0.28",
           "corr(PhysActivity, Sex)= 0.05",
           "corr(PhysActivity, Age)= -0.10",
           "corr(PhysActivity, Education)= 0.19",
           "corr(PhysActivity, Income)= 0.20"
          ],
          [
           "corr(Fruits, Diabetes)= -0.05",
           "corr(Fruits, HighBP)= -0.04",
           "corr(Fruits, HighChol)= -0.05",
           "corr(Fruits, CholCheck)= 0.02",
           "corr(Fruits, BMI)= -0.08",
           "corr(Fruits, Smoker)= -0.07",
           "corr(Fruits, Stroke)= -0.01",
           "corr(Fruits, HeartDisease)= -0.02",
           "corr(Fruits, PhysActivity)= 0.13",
           "corr(Fruits, Fruits)= 1.00",
           "corr(Fruits, Veggies)= 0.24",
           "corr(Fruits, Alcohol)= -0.03",
           "corr(Fruits, AnyHealthcare)= 0.03",
           "corr(Fruits, NoDocbcCost)= -0.05",
           "corr(Fruits, GenHlth)= -0.10",
           "corr(Fruits, MentHlth)= -0.06",
           "corr(Fruits, PhysHlth)= -0.05",
           "corr(Fruits, DiffWalk)= -0.05",
           "corr(Fruits, Sex)= -0.09",
           "corr(Fruits, Age)= 0.06",
           "corr(Fruits, Education)= 0.10",
           "corr(Fruits, Income)= 0.08"
          ],
          [
           "corr(Veggies, Diabetes)= -0.08",
           "corr(Veggies, HighBP)= -0.07",
           "corr(Veggies, HighChol)= -0.04",
           "corr(Veggies, CholCheck)= 0.00",
           "corr(Veggies, BMI)= -0.06",
           "corr(Veggies, Smoker)= -0.03",
           "corr(Veggies, Stroke)= -0.05",
           "corr(Veggies, HeartDisease)= -0.04",
           "corr(Veggies, PhysActivity)= 0.15",
           "corr(Veggies, Fruits)= 0.24",
           "corr(Veggies, Veggies)= 1.00",
           "corr(Veggies, Alcohol)= 0.02",
           "corr(Veggies, AnyHealthcare)= 0.03",
           "corr(Veggies, NoDocbcCost)= -0.04",
           "corr(Veggies, GenHlth)= -0.12",
           "corr(Veggies, MentHlth)= -0.05",
           "corr(Veggies, PhysHlth)= -0.07",
           "corr(Veggies, DiffWalk)= -0.08",
           "corr(Veggies, Sex)= -0.05",
           "corr(Veggies, Age)= -0.02",
           "corr(Veggies, Education)= 0.15",
           "corr(Veggies, Income)= 0.15"
          ],
          [
           "corr(Alcohol, Diabetes)= -0.09",
           "corr(Alcohol, HighBP)= -0.03",
           "corr(Alcohol, HighChol)= -0.03",
           "corr(Alcohol, CholCheck)= -0.03",
           "corr(Alcohol, BMI)= -0.06",
           "corr(Alcohol, Smoker)= 0.08",
           "corr(Alcohol, Stroke)= -0.02",
           "corr(Alcohol, HeartDisease)= -0.04",
           "corr(Alcohol, PhysActivity)= 0.02",
           "corr(Alcohol, Fruits)= -0.03",
           "corr(Alcohol, Veggies)= 0.02",
           "corr(Alcohol, Alcohol)= 1.00",
           "corr(Alcohol, AnyHealthcare)= -0.01",
           "corr(Alcohol, NoDocbcCost)= 0.01",
           "corr(Alcohol, GenHlth)= -0.06",
           "corr(Alcohol, MentHlth)= 0.02",
           "corr(Alcohol, PhysHlth)= -0.04",
           "corr(Alcohol, DiffWalk)= -0.05",
           "corr(Alcohol, Sex)= 0.01",
           "corr(Alcohol, Age)= -0.06",
           "corr(Alcohol, Education)= 0.04",
           "corr(Alcohol, Income)= 0.06"
          ],
          [
           "corr(AnyHealthcare, Diabetes)= 0.02",
           "corr(AnyHealthcare, HighBP)= 0.04",
           "corr(AnyHealthcare, HighChol)= 0.03",
           "corr(AnyHealthcare, CholCheck)= 0.11",
           "corr(AnyHealthcare, BMI)= -0.01",
           "corr(AnyHealthcare, Smoker)= -0.01",
           "corr(AnyHealthcare, Stroke)= 0.01",
           "corr(AnyHealthcare, HeartDisease)= 0.02",
           "corr(AnyHealthcare, PhysActivity)= 0.03",
           "corr(AnyHealthcare, Fruits)= 0.03",
           "corr(AnyHealthcare, Veggies)= 0.03",
           "corr(AnyHealthcare, Alcohol)= -0.01",
           "corr(AnyHealthcare, AnyHealthcare)= 1.00",
           "corr(AnyHealthcare, NoDocbcCost)= -0.22",
           "corr(AnyHealthcare, GenHlth)= -0.03",
           "corr(AnyHealthcare, MentHlth)= -0.05",
           "corr(AnyHealthcare, PhysHlth)= -0.00",
           "corr(AnyHealthcare, DiffWalk)= 0.01",
           "corr(AnyHealthcare, Sex)= -0.01",
           "corr(AnyHealthcare, Age)= 0.14",
           "corr(AnyHealthcare, Education)= 0.11",
           "corr(AnyHealthcare, Income)= 0.13"
          ],
          [
           "corr(NoDocbcCost, Diabetes)= 0.04",
           "corr(NoDocbcCost, HighBP)= 0.03",
           "corr(NoDocbcCost, HighChol)= 0.03",
           "corr(NoDocbcCost, CholCheck)= -0.06",
           "corr(NoDocbcCost, BMI)= 0.07",
           "corr(NoDocbcCost, Smoker)= 0.04",
           "corr(NoDocbcCost, Stroke)= 0.04",
           "corr(NoDocbcCost, HeartDisease)= 0.04",
           "corr(NoDocbcCost, PhysActivity)= -0.06",
           "corr(NoDocbcCost, Fruits)= -0.05",
           "corr(NoDocbcCost, Veggies)= -0.04",
           "corr(NoDocbcCost, Alcohol)= 0.01",
           "corr(NoDocbcCost, AnyHealthcare)= -0.22",
           "corr(NoDocbcCost, NoDocbcCost)= 1.00",
           "corr(NoDocbcCost, GenHlth)= 0.17",
           "corr(NoDocbcCost, MentHlth)= 0.19",
           "corr(NoDocbcCost, PhysHlth)= 0.16",
           "corr(NoDocbcCost, DiffWalk)= 0.13",
           "corr(NoDocbcCost, Sex)= -0.05",
           "corr(NoDocbcCost, Age)= -0.13",
           "corr(NoDocbcCost, Education)= -0.10",
           "corr(NoDocbcCost, Income)= -0.20"
          ],
          [
           "corr(GenHlth, Diabetes)= 0.41",
           "corr(GenHlth, HighBP)= 0.32",
           "corr(GenHlth, HighChol)= 0.24",
           "corr(GenHlth, CholCheck)= 0.06",
           "corr(GenHlth, BMI)= 0.27",
           "corr(GenHlth, Smoker)= 0.15",
           "corr(GenHlth, Stroke)= 0.19",
           "corr(GenHlth, HeartDisease)= 0.28",
           "corr(GenHlth, PhysActivity)= -0.27",
           "corr(GenHlth, Fruits)= -0.10",
           "corr(GenHlth, Veggies)= -0.12",
           "corr(GenHlth, Alcohol)= -0.06",
           "corr(GenHlth, AnyHealthcare)= -0.03",
           "corr(GenHlth, NoDocbcCost)= 0.17",
           "corr(GenHlth, GenHlth)= 1.00",
           "corr(GenHlth, MentHlth)= 0.32",
           "corr(GenHlth, PhysHlth)= 0.55",
           "corr(GenHlth, DiffWalk)= 0.48",
           "corr(GenHlth, Sex)= -0.01",
           "corr(GenHlth, Age)= 0.16",
           "corr(GenHlth, Education)= -0.29",
           "corr(GenHlth, Income)= -0.38"
          ],
          [
           "corr(MentHlth, Diabetes)= 0.09",
           "corr(MentHlth, HighBP)= 0.06",
           "corr(MentHlth, HighChol)= 0.08",
           "corr(MentHlth, CholCheck)= -0.01",
           "corr(MentHlth, BMI)= 0.10",
           "corr(MentHlth, Smoker)= 0.09",
           "corr(MentHlth, Stroke)= 0.09",
           "corr(MentHlth, HeartDisease)= 0.08",
           "corr(MentHlth, PhysActivity)= -0.13",
           "corr(MentHlth, Fruits)= -0.06",
           "corr(MentHlth, Veggies)= -0.05",
           "corr(MentHlth, Alcohol)= 0.02",
           "corr(MentHlth, AnyHealthcare)= -0.05",
           "corr(MentHlth, NoDocbcCost)= 0.19",
           "corr(MentHlth, GenHlth)= 0.32",
           "corr(MentHlth, MentHlth)= 1.00",
           "corr(MentHlth, PhysHlth)= 0.38",
           "corr(MentHlth, DiffWalk)= 0.25",
           "corr(MentHlth, Sex)= -0.09",
           "corr(MentHlth, Age)= -0.10",
           "corr(MentHlth, Education)= -0.11",
           "corr(MentHlth, Income)= -0.22"
          ],
          [
           "corr(PhysHlth, Diabetes)= 0.21",
           "corr(PhysHlth, HighBP)= 0.17",
           "corr(PhysHlth, HighChol)= 0.14",
           "corr(PhysHlth, CholCheck)= 0.03",
           "corr(PhysHlth, BMI)= 0.16",
           "corr(PhysHlth, Smoker)= 0.12",
           "corr(PhysHlth, Stroke)= 0.16",
           "corr(PhysHlth, HeartDisease)= 0.20",
           "corr(PhysHlth, PhysActivity)= -0.23",
           "corr(PhysHlth, Fruits)= -0.05",
           "corr(PhysHlth, Veggies)= -0.07",
           "corr(PhysHlth, Alcohol)= -0.04",
           "corr(PhysHlth, AnyHealthcare)= -0.00",
           "corr(PhysHlth, NoDocbcCost)= 0.16",
           "corr(PhysHlth, GenHlth)= 0.55",
           "corr(PhysHlth, MentHlth)= 0.38",
           "corr(PhysHlth, PhysHlth)= 1.00",
           "corr(PhysHlth, DiffWalk)= 0.49",
           "corr(PhysHlth, Sex)= -0.05",
           "corr(PhysHlth, Age)= 0.08",
           "corr(PhysHlth, Education)= -0.16",
           "corr(PhysHlth, Income)= -0.28"
          ],
          [
           "corr(DiffWalk, Diabetes)= 0.27",
           "corr(DiffWalk, HighBP)= 0.23",
           "corr(DiffWalk, HighChol)= 0.16",
           "corr(DiffWalk, CholCheck)= 0.04",
           "corr(DiffWalk, BMI)= 0.25",
           "corr(DiffWalk, Smoker)= 0.12",
           "corr(DiffWalk, Stroke)= 0.19",
           "corr(DiffWalk, HeartDisease)= 0.23",
           "corr(DiffWalk, PhysActivity)= -0.28",
           "corr(DiffWalk, Fruits)= -0.05",
           "corr(DiffWalk, Veggies)= -0.08",
           "corr(DiffWalk, Alcohol)= -0.05",
           "corr(DiffWalk, AnyHealthcare)= 0.01",
           "corr(DiffWalk, NoDocbcCost)= 0.13",
           "corr(DiffWalk, GenHlth)= 0.48",
           "corr(DiffWalk, MentHlth)= 0.25",
           "corr(DiffWalk, PhysHlth)= 0.49",
           "corr(DiffWalk, DiffWalk)= 1.00",
           "corr(DiffWalk, Sex)= -0.08",
           "corr(DiffWalk, Age)= 0.20",
           "corr(DiffWalk, Education)= -0.20",
           "corr(DiffWalk, Income)= -0.34"
          ],
          [
           "corr(Sex, Diabetes)= 0.04",
           "corr(Sex, HighBP)= 0.04",
           "corr(Sex, HighChol)= 0.02",
           "corr(Sex, CholCheck)= -0.01",
           "corr(Sex, BMI)= 0.00",
           "corr(Sex, Smoker)= 0.11",
           "corr(Sex, Stroke)= 0.00",
           "corr(Sex, HeartDisease)= 0.10",
           "corr(Sex, PhysActivity)= 0.05",
           "corr(Sex, Fruits)= -0.09",
           "corr(Sex, Veggies)= -0.05",
           "corr(Sex, Alcohol)= 0.01",
           "corr(Sex, AnyHealthcare)= -0.01",
           "corr(Sex, NoDocbcCost)= -0.05",
           "corr(Sex, GenHlth)= -0.01",
           "corr(Sex, MentHlth)= -0.09",
           "corr(Sex, PhysHlth)= -0.05",
           "corr(Sex, DiffWalk)= -0.08",
           "corr(Sex, Sex)= 1.00",
           "corr(Sex, Age)= -0.00",
           "corr(Sex, Education)= 0.04",
           "corr(Sex, Income)= 0.16"
          ],
          [
           "corr(Age, Diabetes)= 0.28",
           "corr(Age, HighBP)= 0.34",
           "corr(Age, HighChol)= 0.24",
           "corr(Age, CholCheck)= 0.10",
           "corr(Age, BMI)= -0.04",
           "corr(Age, Smoker)= 0.11",
           "corr(Age, Stroke)= 0.12",
           "corr(Age, HeartDisease)= 0.22",
           "corr(Age, PhysActivity)= -0.10",
           "corr(Age, Fruits)= 0.06",
           "corr(Age, Veggies)= -0.02",
           "corr(Age, Alcohol)= -0.06",
           "corr(Age, AnyHealthcare)= 0.14",
           "corr(Age, NoDocbcCost)= -0.13",
           "corr(Age, GenHlth)= 0.16",
           "corr(Age, MentHlth)= -0.10",
           "corr(Age, PhysHlth)= 0.08",
           "corr(Age, DiffWalk)= 0.20",
           "corr(Age, Sex)= -0.00",
           "corr(Age, Age)= 1.00",
           "corr(Age, Education)= -0.11",
           "corr(Age, Income)= -0.13"
          ],
          [
           "corr(Education, Diabetes)= -0.17",
           "corr(Education, HighBP)= -0.14",
           "corr(Education, HighChol)= -0.08",
           "corr(Education, CholCheck)= -0.01",
           "corr(Education, BMI)= -0.10",
           "corr(Education, Smoker)= -0.14",
           "corr(Education, Stroke)= -0.07",
           "corr(Education, HeartDisease)= -0.10",
           "corr(Education, PhysActivity)= 0.19",
           "corr(Education, Fruits)= 0.10",
           "corr(Education, Veggies)= 0.15",
           "corr(Education, Alcohol)= 0.04",
           "corr(Education, AnyHealthcare)= 0.11",
           "corr(Education, NoDocbcCost)= -0.10",
           "corr(Education, GenHlth)= -0.29",
           "corr(Education, MentHlth)= -0.11",
           "corr(Education, PhysHlth)= -0.16",
           "corr(Education, DiffWalk)= -0.20",
           "corr(Education, Sex)= 0.04",
           "corr(Education, Age)= -0.11",
           "corr(Education, Education)= 1.00",
           "corr(Education, Income)= 0.46"
          ],
          [
           "corr(Income, Diabetes)= -0.22",
           "corr(Income, HighBP)= -0.19",
           "corr(Income, HighChol)= -0.11",
           "corr(Income, CholCheck)= 0.01",
           "corr(Income, BMI)= -0.12",
           "corr(Income, Smoker)= -0.10",
           "corr(Income, Stroke)= -0.14",
           "corr(Income, HeartDisease)= -0.15",
           "corr(Income, PhysActivity)= 0.20",
           "corr(Income, Fruits)= 0.08",
           "corr(Income, Veggies)= 0.15",
           "corr(Income, Alcohol)= 0.06",
           "corr(Income, AnyHealthcare)= 0.13",
           "corr(Income, NoDocbcCost)= -0.20",
           "corr(Income, GenHlth)= -0.38",
           "corr(Income, MentHlth)= -0.22",
           "corr(Income, PhysHlth)= -0.28",
           "corr(Income, DiffWalk)= -0.34",
           "corr(Income, Sex)= 0.16",
           "corr(Income, Age)= -0.13",
           "corr(Income, Education)= 0.46",
           "corr(Income, Income)= 1.00"
          ]
         ],
         "type": "heatmap",
         "x": [
          "Diabetes",
          "HighBP",
          "HighChol",
          "CholCheck",
          "BMI",
          "Smoker",
          "Stroke",
          "HeartDisease",
          "PhysActivity",
          "Fruits",
          "Veggies",
          "Alcohol",
          "AnyHealthcare",
          "NoDocbcCost",
          "GenHlth",
          "MentHlth",
          "PhysHlth",
          "DiffWalk",
          "Sex",
          "Age",
          "Education",
          "Income"
         ],
         "xgap": 1,
         "y": [
          "Diabetes",
          "HighBP",
          "HighChol",
          "CholCheck",
          "BMI",
          "Smoker",
          "Stroke",
          "HeartDisease",
          "PhysActivity",
          "Fruits",
          "Veggies",
          "Alcohol",
          "AnyHealthcare",
          "NoDocbcCost",
          "GenHlth",
          "MentHlth",
          "PhysHlth",
          "DiffWalk",
          "Sex",
          "Age",
          "Education",
          "Income"
         ],
         "ygap": 1,
         "z": [
          [
           1,
           0.3815155489072998,
           0.28921280708865466,
           0.11538161710272776,
           0.2933727447610438,
           0.08599896420800142,
           0.12542678468516705,
           0.21152340436022823,
           -0.15866560486404846,
           -0.05407655628667019,
           -0.07929314561270293,
           -0.09485313995926392,
           0.023190748531121744,
           0.04097657326664265,
           0.4076115984949097,
           0.08702877147509565,
           0.21308101903810894,
           0.2726460061598066,
           0.04441285837125927,
           0.27873806628190045,
           -0.17048063498805932,
           -0.2244487149638185
          ],
          [
           0.3815155489072998,
           1,
           0.3165148491231575,
           0.10328329128775103,
           0.24101856122906617,
           0.0874382972239809,
           0.12905987239828864,
           0.2107503942478188,
           -0.13610216921048904,
           -0.040852163671127144,
           -0.06662373642634868,
           -0.027029886199800335,
           0.03576444162582184,
           0.026517009140562185,
           0.3205398092547025,
           0.06429370810408333,
           0.17392173397993013,
           0.23478390556186962,
           0.04081925333524152,
           0.33813193006054343,
           -0.14164263925926834,
           -0.18765683167354827
          ],
          [
           0.28921280708865466,
           0.3165148491231575,
           1,
           0.08598139781448877,
           0.1313094874881534,
           0.09339831214903485,
           0.09978619127826512,
           0.18118663814076832,
           -0.0904531628947735,
           -0.04738362427094234,
           -0.04283626328213239,
           -0.025442978835062625,
           0.031531795338767286,
           0.03319927235274548,
           0.2377782018169139,
           0.08388071072327644,
           0.14261035213282688,
           0.1620434099377238,
           0.01732445570075378,
           0.24033775151296086,
           -0.08438611790525197,
           -0.10777657405123654
          ],
          [
           0.11538161710272776,
           0.10328329128775103,
           0.08598139781448877,
           1,
           0.0456475209103397,
           -0.004330515078482411,
           0.0225293809907491,
           0.043497144366045515,
           -0.008249363298374966,
           0.017383832228085504,
           0.0003492577061206159,
           -0.027146160164697487,
           0.10680042492268413,
           -0.06266874330848704,
           0.05921341253905934,
           -0.010660237537368753,
           0.034540101677433724,
           0.0444303666427431,
           -0.007991222636615718,
           0.10174328914046248,
           -0.008694835221199678,
           0.007550417773680048
          ],
          [
           0.2933727447610438,
           0.24101856122906617,
           0.1313094874881534,
           0.0456475209103397,
           1,
           0.011551349789405802,
           0.02293087654499593,
           0.06035486456846394,
           -0.17093607708423939,
           -0.08450533280756309,
           -0.056527597969867796,
           -0.05823169744894893,
           -0.01341704974608893,
           0.06583162128131954,
           0.26788754717925234,
           0.10468150519736752,
           0.16186209526981152,
           0.24609361486190712,
           0.0008272320048679336,
           -0.03864824955565942,
           -0.10023277238529402,
           -0.12487828296992916
          ],
          [
           0.08599896420800142,
           0.0874382972239809,
           0.09339831214903485,
           -0.004330515078482411,
           0.011551349789405802,
           1,
           0.06465839674644157,
           0.12441753471724663,
           -0.07982325801815664,
           -0.07481080481129976,
           -0.029925650735926186,
           0.07783501055762045,
           -0.01293863334755904,
           0.03579888963654589,
           0.15241601469041668,
           0.0912566228113743,
           0.12069774026379407,
           0.11978871245600246,
           0.1121251819232761,
           0.10542381584527816,
           -0.14096607721717297,
           -0.10472544919410522
          ],
          [
           0.12542678468516705,
           0.12905987239828864,
           0.09978619127826512,
           0.0225293809907491,
           0.02293087654499593,
           0.06465839674644157,
           1,
           0.22339378563056464,
           -0.07998478230213404,
           -0.00899629739817666,
           -0.047601203634348284,
           -0.023394552003700712,
           0.0064835906923839896,
           0.03619832547646104,
           0.18944685708597203,
           0.0873034394328329,
           0.1644877925041899,
           0.1922659229467702,
           0.003822095165418743,
           0.123879343454164,
           -0.07392622875972028,
           -0.1365772889849153
          ],
          [
           0.21152340436022823,
           0.2107503942478188,
           0.18118663814076832,
           0.043497144366045515,
           0.06035486456846394,
           0.12441753471724663,
           0.22339378563056464,
           1,
           -0.09822333217219444,
           -0.019435822675882963,
           -0.03631473311440768,
           -0.037129768526933955,
           0.015687481118649513,
           0.036028719815594565,
           0.2758677917618318,
           0.07505657856787326,
           0.1984157506695391,
           0.23261057419979564,
           0.09816136693145643,
           0.22187777953154458,
           -0.09655873608769246,
           -0.14674841322908322
          ],
          [
           -0.15866560486404846,
           -0.13610216921048904,
           -0.0904531628947735,
           -0.008249363298374966,
           -0.17093607708423939,
           -0.07982325801815664,
           -0.07998478230213404,
           -0.09822333217219444,
           1,
           0.13381291435683002,
           0.1493223396193908,
           0.019110750608654418,
           0.027088786222320374,
           -0.06330166064664526,
           -0.27354806844825047,
           -0.1300895069163673,
           -0.23449960015012572,
           -0.2768682594822583,
           0.0517528911774625,
           -0.10075296332624831,
           0.19027120842380565,
           0.19655135278431654
          ],
          [
           -0.05407655628667019,
           -0.040852163671127144,
           -0.04738362427094234,
           0.017383832228085504,
           -0.08450533280756309,
           -0.07481080481129976,
           -0.00899629739817666,
           -0.019435822675882963,
           0.13381291435683002,
           1,
           0.2386052866588373,
           -0.03324568118217106,
           0.029385153269409922,
           -0.04584258615603421,
           -0.09868695797668219,
           -0.06210244279145279,
           -0.048572126402460024,
           -0.050784243085792144,
           -0.08872310112677603,
           0.06109565358111892,
           0.09871468514352362,
           0.07900916133008427
          ],
          [
           -0.07929314561270293,
           -0.06662373642634868,
           -0.04283626328213239,
           0.0003492577061206159,
           -0.056527597969867796,
           -0.029925650735926186,
           -0.047601203634348284,
           -0.03631473311440768,
           0.1493223396193908,
           0.2386052866588373,
           1,
           0.022090472064527498,
           0.029152203694806693,
           -0.03714619523782536,
           -0.11579531911676726,
           -0.05235906583497434,
           -0.06689600230605623,
           -0.08407156232834931,
           -0.05260377696125805,
           -0.018893424720998166,
           0.15251189768195772,
           0.15489876205139544
          ],
          [
           -0.09485313995926392,
           -0.027029886199800335,
           -0.025442978835062625,
           -0.027146160164697487,
           -0.05823169744894893,
           0.07783501055762045,
           -0.023394552003700712,
           -0.037129768526933955,
           0.019110750608654418,
           -0.03324568118217106,
           0.022090472064527498,
           1,
           -0.013483953348185439,
           0.009682556579451676,
           -0.058796274573070885,
           0.01562607704334045,
           -0.03625701994948096,
           -0.04929397712941185,
           0.014164397728632977,
           -0.057705293304580255,
           0.0362794758551436,
           0.06409526885170569
          ],
          [
           0.023190748531121744,
           0.03576444162582184,
           0.031531795338767286,
           0.10680042492268413,
           -0.01341704974608893,
           -0.01293863334755904,
           0.0064835906923839896,
           0.015687481118649513,
           0.027088786222320374,
           0.029385153269409922,
           0.029152203694806693,
           -0.013483953348185439,
           1,
           -0.22165757327500826,
           -0.03305984830291763,
           -0.04985001751438297,
           -0.00328515326818084,
           0.00811332206751159,
           -0.006561785054138622,
           0.13697492486791518,
           0.1066007518839178,
           0.13049152504038544
          ],
          [
           0.04097657326664265,
           0.026517009140562185,
           0.03319927235274548,
           -0.06266874330848704,
           0.06583162128131954,
           0.03579888963654589,
           0.03619832547646104,
           0.036028719815594565,
           -0.06330166064664526,
           -0.04584258615603421,
           -0.03714619523782536,
           0.009682556579451676,
           -0.22165757327500826,
           1,
           0.16951487272633328,
           0.19387651622244595,
           0.15745052125263106,
           0.12711092106753566,
           -0.04818661801804353,
           -0.12983918308647938,
           -0.0969887540567658,
           -0.1981712946566584
          ],
          [
           0.4076115984949097,
           0.3205398092547025,
           0.2377782018169139,
           0.05921341253905934,
           0.26788754717925234,
           0.15241601469041668,
           0.18944685708597203,
           0.2758677917618318,
           -0.27354806844825047,
           -0.09868695797668219,
           -0.11579531911676726,
           -0.058796274573070885,
           -0.03305984830291763,
           0.16951487272633328,
           1,
           0.3150768941442109,
           0.5527566713009044,
           0.47663883610404006,
           -0.01455530714673892,
           0.15562433246675475,
           -0.28542031178806626,
           -0.3829693850131039
          ],
          [
           0.08702877147509565,
           0.06429370810408333,
           0.08388071072327644,
           -0.010660237537368753,
           0.10468150519736752,
           0.0912566228113743,
           0.0873034394328329,
           0.07505657856787326,
           -0.1300895069163673,
           -0.06210244279145279,
           -0.05235906583497434,
           0.01562607704334045,
           -0.04985001751438297,
           0.19387651622244595,
           0.3150768941442109,
           1,
           0.3802716654168592,
           0.25148867244938616,
           -0.08920415900859675,
           -0.10174603491602881,
           -0.10700508444123927,
           -0.21906953230547782
          ],
          [
           0.21308101903810894,
           0.17392173397993013,
           0.14261035213282688,
           0.034540101677433724,
           0.16186209526981152,
           0.12069774026379407,
           0.1644877925041899,
           0.1984157506695391,
           -0.23449960015012572,
           -0.048572126402460024,
           -0.06689600230605623,
           -0.03625701994948096,
           -0.00328515326818084,
           0.15745052125263106,
           0.5527566713009044,
           0.3802716654168592,
           1,
           0.48797579868601826,
           -0.04595676445803003,
           0.08485171761836549,
           -0.1593168113029395,
           -0.27932566914025664
          ],
          [
           0.2726460061598066,
           0.23478390556186962,
           0.1620434099377238,
           0.0444303666427431,
           0.24609361486190712,
           0.11978871245600246,
           0.1922659229467702,
           0.23261057419979564,
           -0.2768682594822583,
           -0.050784243085792144,
           -0.08407156232834931,
           -0.04929397712941185,
           0.00811332206751159,
           0.12711092106753566,
           0.47663883610404006,
           0.25148867244938616,
           0.48797579868601826,
           1,
           -0.0822483253291856,
           0.1952649867136593,
           -0.20258992175358387,
           -0.3432450015838535
          ],
          [
           0.04441285837125927,
           0.04081925333524152,
           0.01732445570075378,
           -0.007991222636615718,
           0.0008272320048679336,
           0.1121251819232761,
           0.003822095165418743,
           0.09816136693145643,
           0.0517528911774625,
           -0.08872310112677603,
           -0.05260377696125805,
           0.014164397728632977,
           -0.006561785054138622,
           -0.04818661801804353,
           -0.01455530714673892,
           -0.08920415900859675,
           -0.04595676445803003,
           -0.0822483253291856,
           1,
           -0.0023145984016396527,
           0.0435636516716048,
           0.1596542844857974
          ],
          [
           0.27873806628190045,
           0.33813193006054343,
           0.24033775151296086,
           0.10174328914046248,
           -0.03864824955565942,
           0.10542381584527816,
           0.123879343454164,
           0.22187777953154458,
           -0.10075296332624831,
           0.06109565358111892,
           -0.018893424720998166,
           -0.057705293304580255,
           0.13697492486791518,
           -0.12983918308647938,
           0.15562433246675475,
           -0.10174603491602881,
           0.08485171761836549,
           0.1952649867136593,
           -0.0023145984016396527,
           1,
           -0.10712733774164002,
           -0.13013961935582036
          ],
          [
           -0.17048063498805932,
           -0.14164263925926834,
           -0.08438611790525197,
           -0.008694835221199678,
           -0.10023277238529402,
           -0.14096607721717297,
           -0.07392622875972028,
           -0.09655873608769246,
           0.19027120842380565,
           0.09871468514352362,
           0.15251189768195772,
           0.0362794758551436,
           0.1066007518839178,
           -0.0969887540567658,
           -0.28542031178806626,
           -0.10700508444123927,
           -0.1593168113029395,
           -0.20258992175358387,
           0.0435636516716048,
           -0.10712733774164002,
           1,
           0.46056547251497687
          ],
          [
           -0.2244487149638185,
           -0.18765683167354827,
           -0.10777657405123654,
           0.007550417773680048,
           -0.12487828296992916,
           -0.10472544919410522,
           -0.1365772889849153,
           -0.14674841322908322,
           0.19655135278431654,
           0.07900916133008427,
           0.15489876205139544,
           0.06409526885170569,
           0.13049152504038544,
           -0.1981712946566584,
           -0.3829693850131039,
           -0.21906953230547782,
           -0.27932566914025664,
           -0.3432450015838535,
           0.1596542844857974,
           -0.13013961935582036,
           0.46056547251497687,
           1
          ]
         ],
         "zmax": 1,
         "zmin": -1
        }
       ],
       "layout": {
        "height": 600,
        "template": {
         "data": {
          "bar": [
           {
            "error_x": {
             "color": "#2a3f5f"
            },
            "error_y": {
             "color": "#2a3f5f"
            },
            "marker": {
             "line": {
              "color": "#E5ECF6",
              "width": 0.5
             },
             "pattern": {
              "fillmode": "overlay",
              "size": 10,
              "solidity": 0.2
             }
            },
            "type": "bar"
           }
          ],
          "barpolar": [
           {
            "marker": {
             "line": {
              "color": "#E5ECF6",
              "width": 0.5
             },
             "pattern": {
              "fillmode": "overlay",
              "size": 10,
              "solidity": 0.2
             }
            },
            "type": "barpolar"
           }
          ],
          "carpet": [
           {
            "aaxis": {
             "endlinecolor": "#2a3f5f",
             "gridcolor": "white",
             "linecolor": "white",
             "minorgridcolor": "white",
             "startlinecolor": "#2a3f5f"
            },
            "baxis": {
             "endlinecolor": "#2a3f5f",
             "gridcolor": "white",
             "linecolor": "white",
             "minorgridcolor": "white",
             "startlinecolor": "#2a3f5f"
            },
            "type": "carpet"
           }
          ],
          "choropleth": [
           {
            "colorbar": {
             "outlinewidth": 0,
             "ticks": ""
            },
            "type": "choropleth"
           }
          ],
          "contour": [
           {
            "colorbar": {
             "outlinewidth": 0,
             "ticks": ""
            },
            "colorscale": [
             [
              0,
              "#0d0887"
             ],
             [
              0.1111111111111111,
              "#46039f"
             ],
             [
              0.2222222222222222,
              "#7201a8"
             ],
             [
              0.3333333333333333,
              "#9c179e"
             ],
             [
              0.4444444444444444,
              "#bd3786"
             ],
             [
              0.5555555555555556,
              "#d8576b"
             ],
             [
              0.6666666666666666,
              "#ed7953"
             ],
             [
              0.7777777777777778,
              "#fb9f3a"
             ],
             [
              0.8888888888888888,
              "#fdca26"
             ],
             [
              1,
              "#f0f921"
             ]
            ],
            "type": "contour"
           }
          ],
          "contourcarpet": [
           {
            "colorbar": {
             "outlinewidth": 0,
             "ticks": ""
            },
            "type": "contourcarpet"
           }
          ],
          "heatmap": [
           {
            "colorbar": {
             "outlinewidth": 0,
             "ticks": ""
            },
            "colorscale": [
             [
              0,
              "#0d0887"
             ],
             [
              0.1111111111111111,
              "#46039f"
             ],
             [
              0.2222222222222222,
              "#7201a8"
             ],
             [
              0.3333333333333333,
              "#9c179e"
             ],
             [
              0.4444444444444444,
              "#bd3786"
             ],
             [
              0.5555555555555556,
              "#d8576b"
             ],
             [
              0.6666666666666666,
              "#ed7953"
             ],
             [
              0.7777777777777778,
              "#fb9f3a"
             ],
             [
              0.8888888888888888,
              "#fdca26"
             ],
             [
              1,
              "#f0f921"
             ]
            ],
            "type": "heatmap"
           }
          ],
          "heatmapgl": [
           {
            "colorbar": {
             "outlinewidth": 0,
             "ticks": ""
            },
            "colorscale": [
             [
              0,
              "#0d0887"
             ],
             [
              0.1111111111111111,
              "#46039f"
             ],
             [
              0.2222222222222222,
              "#7201a8"
             ],
             [
              0.3333333333333333,
              "#9c179e"
             ],
             [
              0.4444444444444444,
              "#bd3786"
             ],
             [
              0.5555555555555556,
              "#d8576b"
             ],
             [
              0.6666666666666666,
              "#ed7953"
             ],
             [
              0.7777777777777778,
              "#fb9f3a"
             ],
             [
              0.8888888888888888,
              "#fdca26"
             ],
             [
              1,
              "#f0f921"
             ]
            ],
            "type": "heatmapgl"
           }
          ],
          "histogram": [
           {
            "marker": {
             "pattern": {
              "fillmode": "overlay",
              "size": 10,
              "solidity": 0.2
             }
            },
            "type": "histogram"
           }
          ],
          "histogram2d": [
           {
            "colorbar": {
             "outlinewidth": 0,
             "ticks": ""
            },
            "colorscale": [
             [
              0,
              "#0d0887"
             ],
             [
              0.1111111111111111,
              "#46039f"
             ],
             [
              0.2222222222222222,
              "#7201a8"
             ],
             [
              0.3333333333333333,
              "#9c179e"
             ],
             [
              0.4444444444444444,
              "#bd3786"
             ],
             [
              0.5555555555555556,
              "#d8576b"
             ],
             [
              0.6666666666666666,
              "#ed7953"
             ],
             [
              0.7777777777777778,
              "#fb9f3a"
             ],
             [
              0.8888888888888888,
              "#fdca26"
             ],
             [
              1,
              "#f0f921"
             ]
            ],
            "type": "histogram2d"
           }
          ],
          "histogram2dcontour": [
           {
            "colorbar": {
             "outlinewidth": 0,
             "ticks": ""
            },
            "colorscale": [
             [
              0,
              "#0d0887"
             ],
             [
              0.1111111111111111,
              "#46039f"
             ],
             [
              0.2222222222222222,
              "#7201a8"
             ],
             [
              0.3333333333333333,
              "#9c179e"
             ],
             [
              0.4444444444444444,
              "#bd3786"
             ],
             [
              0.5555555555555556,
              "#d8576b"
             ],
             [
              0.6666666666666666,
              "#ed7953"
             ],
             [
              0.7777777777777778,
              "#fb9f3a"
             ],
             [
              0.8888888888888888,
              "#fdca26"
             ],
             [
              1,
              "#f0f921"
             ]
            ],
            "type": "histogram2dcontour"
           }
          ],
          "mesh3d": [
           {
            "colorbar": {
             "outlinewidth": 0,
             "ticks": ""
            },
            "type": "mesh3d"
           }
          ],
          "parcoords": [
           {
            "line": {
             "colorbar": {
              "outlinewidth": 0,
              "ticks": ""
             }
            },
            "type": "parcoords"
           }
          ],
          "pie": [
           {
            "automargin": true,
            "type": "pie"
           }
          ],
          "scatter": [
           {
            "fillpattern": {
             "fillmode": "overlay",
             "size": 10,
             "solidity": 0.2
            },
            "type": "scatter"
           }
          ],
          "scatter3d": [
           {
            "line": {
             "colorbar": {
              "outlinewidth": 0,
              "ticks": ""
             }
            },
            "marker": {
             "colorbar": {
              "outlinewidth": 0,
              "ticks": ""
             }
            },
            "type": "scatter3d"
           }
          ],
          "scattercarpet": [
           {
            "marker": {
             "colorbar": {
              "outlinewidth": 0,
              "ticks": ""
             }
            },
            "type": "scattercarpet"
           }
          ],
          "scattergeo": [
           {
            "marker": {
             "colorbar": {
              "outlinewidth": 0,
              "ticks": ""
             }
            },
            "type": "scattergeo"
           }
          ],
          "scattergl": [
           {
            "marker": {
             "colorbar": {
              "outlinewidth": 0,
              "ticks": ""
             }
            },
            "type": "scattergl"
           }
          ],
          "scattermapbox": [
           {
            "marker": {
             "colorbar": {
              "outlinewidth": 0,
              "ticks": ""
             }
            },
            "type": "scattermapbox"
           }
          ],
          "scatterpolar": [
           {
            "marker": {
             "colorbar": {
              "outlinewidth": 0,
              "ticks": ""
             }
            },
            "type": "scatterpolar"
           }
          ],
          "scatterpolargl": [
           {
            "marker": {
             "colorbar": {
              "outlinewidth": 0,
              "ticks": ""
             }
            },
            "type": "scatterpolargl"
           }
          ],
          "scatterternary": [
           {
            "marker": {
             "colorbar": {
              "outlinewidth": 0,
              "ticks": ""
             }
            },
            "type": "scatterternary"
           }
          ],
          "surface": [
           {
            "colorbar": {
             "outlinewidth": 0,
             "ticks": ""
            },
            "colorscale": [
             [
              0,
              "#0d0887"
             ],
             [
              0.1111111111111111,
              "#46039f"
             ],
             [
              0.2222222222222222,
              "#7201a8"
             ],
             [
              0.3333333333333333,
              "#9c179e"
             ],
             [
              0.4444444444444444,
              "#bd3786"
             ],
             [
              0.5555555555555556,
              "#d8576b"
             ],
             [
              0.6666666666666666,
              "#ed7953"
             ],
             [
              0.7777777777777778,
              "#fb9f3a"
             ],
             [
              0.8888888888888888,
              "#fdca26"
             ],
             [
              1,
              "#f0f921"
             ]
            ],
            "type": "surface"
           }
          ],
          "table": [
           {
            "cells": {
             "fill": {
              "color": "#EBF0F8"
             },
             "line": {
              "color": "white"
             }
            },
            "header": {
             "fill": {
              "color": "#C8D4E3"
             },
             "line": {
              "color": "white"
             }
            },
            "type": "table"
           }
          ]
         },
         "layout": {
          "annotationdefaults": {
           "arrowcolor": "#2a3f5f",
           "arrowhead": 0,
           "arrowwidth": 1
          },
          "autotypenumbers": "strict",
          "coloraxis": {
           "colorbar": {
            "outlinewidth": 0,
            "ticks": ""
           }
          },
          "colorscale": {
           "diverging": [
            [
             0,
             "#8e0152"
            ],
            [
             0.1,
             "#c51b7d"
            ],
            [
             0.2,
             "#de77ae"
            ],
            [
             0.3,
             "#f1b6da"
            ],
            [
             0.4,
             "#fde0ef"
            ],
            [
             0.5,
             "#f7f7f7"
            ],
            [
             0.6,
             "#e6f5d0"
            ],
            [
             0.7,
             "#b8e186"
            ],
            [
             0.8,
             "#7fbc41"
            ],
            [
             0.9,
             "#4d9221"
            ],
            [
             1,
             "#276419"
            ]
           ],
           "sequential": [
            [
             0,
             "#0d0887"
            ],
            [
             0.1111111111111111,
             "#46039f"
            ],
            [
             0.2222222222222222,
             "#7201a8"
            ],
            [
             0.3333333333333333,
             "#9c179e"
            ],
            [
             0.4444444444444444,
             "#bd3786"
            ],
            [
             0.5555555555555556,
             "#d8576b"
            ],
            [
             0.6666666666666666,
             "#ed7953"
            ],
            [
             0.7777777777777778,
             "#fb9f3a"
            ],
            [
             0.8888888888888888,
             "#fdca26"
            ],
            [
             1,
             "#f0f921"
            ]
           ],
           "sequentialminus": [
            [
             0,
             "#0d0887"
            ],
            [
             0.1111111111111111,
             "#46039f"
            ],
            [
             0.2222222222222222,
             "#7201a8"
            ],
            [
             0.3333333333333333,
             "#9c179e"
            ],
            [
             0.4444444444444444,
             "#bd3786"
            ],
            [
             0.5555555555555556,
             "#d8576b"
            ],
            [
             0.6666666666666666,
             "#ed7953"
            ],
            [
             0.7777777777777778,
             "#fb9f3a"
            ],
            [
             0.8888888888888888,
             "#fdca26"
            ],
            [
             1,
             "#f0f921"
            ]
           ]
          },
          "colorway": [
           "#636efa",
           "#EF553B",
           "#00cc96",
           "#ab63fa",
           "#FFA15A",
           "#19d3f3",
           "#FF6692",
           "#B6E880",
           "#FF97FF",
           "#FECB52"
          ],
          "font": {
           "color": "#2a3f5f"
          },
          "geo": {
           "bgcolor": "white",
           "lakecolor": "white",
           "landcolor": "#E5ECF6",
           "showlakes": true,
           "showland": true,
           "subunitcolor": "white"
          },
          "hoverlabel": {
           "align": "left"
          },
          "hovermode": "closest",
          "mapbox": {
           "style": "light"
          },
          "paper_bgcolor": "white",
          "plot_bgcolor": "#E5ECF6",
          "polar": {
           "angularaxis": {
            "gridcolor": "white",
            "linecolor": "white",
            "ticks": ""
           },
           "bgcolor": "#E5ECF6",
           "radialaxis": {
            "gridcolor": "white",
            "linecolor": "white",
            "ticks": ""
           }
          },
          "scene": {
           "xaxis": {
            "backgroundcolor": "#E5ECF6",
            "gridcolor": "white",
            "gridwidth": 2,
            "linecolor": "white",
            "showbackground": true,
            "ticks": "",
            "zerolinecolor": "white"
           },
           "yaxis": {
            "backgroundcolor": "#E5ECF6",
            "gridcolor": "white",
            "gridwidth": 2,
            "linecolor": "white",
            "showbackground": true,
            "ticks": "",
            "zerolinecolor": "white"
           },
           "zaxis": {
            "backgroundcolor": "#E5ECF6",
            "gridcolor": "white",
            "gridwidth": 2,
            "linecolor": "white",
            "showbackground": true,
            "ticks": "",
            "zerolinecolor": "white"
           }
          },
          "shapedefaults": {
           "line": {
            "color": "#2a3f5f"
           }
          },
          "ternary": {
           "aaxis": {
            "gridcolor": "white",
            "linecolor": "white",
            "ticks": ""
           },
           "baxis": {
            "gridcolor": "white",
            "linecolor": "white",
            "ticks": ""
           },
           "bgcolor": "#E5ECF6",
           "caxis": {
            "gridcolor": "white",
            "linecolor": "white",
            "ticks": ""
           }
          },
          "title": {
           "x": 0.05
          },
          "xaxis": {
           "automargin": true,
           "gridcolor": "white",
           "linecolor": "white",
           "ticks": "",
           "title": {
            "standoff": 15
           },
           "zerolinecolor": "white",
           "zerolinewidth": 2
          },
          "yaxis": {
           "automargin": true,
           "gridcolor": "white",
           "linecolor": "white",
           "ticks": "",
           "title": {
            "standoff": 15
           },
           "zerolinecolor": "white",
           "zerolinewidth": 2
          }
         }
        },
        "title": {
         "text": "Correlation Matrix",
         "x": 0.5
        },
        "width": 600,
        "xaxis": {
         "showgrid": false
        },
        "yaxis": {
         "autorange": "reversed",
         "showgrid": false
        }
       }
      }
     },
     "metadata": {},
     "output_type": "display_data"
    }
   ],
   "source": [
    "\"\"\"\n",
    "CELL N°2.1 : CORRELATION MATRIX\n",
    "\n",
    "@pre:  `df` contains the diabetes dataset\n",
    "@post: `corr_matrix` is a Pandas DataFrame that contains the correlation matrix of the full dataset\n",
    "\"\"\"\n",
    "\n",
    "def plot_correlation_matrix(data):\n",
    "\n",
    "    X    = [label for label in data]\n",
    "    N    = data.shape[1]\n",
    "    corr = (data.corr()).values\n",
    "\n",
    "    # Display the correlation in cells\n",
    "    hovertext      = [ [f\"corr({X[i]}, {X[j]})= {corr[i][j]:.2f}\" for j in range(N)] for i in range(N) ]\n",
    "    sns_colorscale = [ [0.0, \"#3f7f93\"],   [0.071, \"#5890a1\"], [0.143, \"#72a1b0\"], [0.214, \"#8cb3bf\"],\n",
    "                    [0.286, \"#a7c5cf\"], [0.357, \"#c0d6dd\"], [0.429, \"#dae8ec\"], [0.5, \"#f2f2f2\"], \n",
    "                    [0.571, \"#f7d7d9\"], [0.643, \"#f2bcc0\"], [0.714, \"#eda3a9\"], [0.786, \"#e8888f\"], \n",
    "                    [0.857, \"#e36e76\"], [0.929, \"#de535e\"], [1.0, \"#d93a46\"] ]\n",
    "\n",
    "\n",
    "    heat   = go.Heatmap(z = data.corr(), x = X, y = X, zmin = -1, zmax = 1, xgap = 1, ygap = 1,\n",
    "                        colorscale = sns_colorscale, colorbar_thickness = 20, colorbar_ticklen = 3,\n",
    "                        hovertext = hovertext, hoverinfo = \"text\" )\n",
    "    title  = \"Correlation Matrix\"\n",
    "\n",
    "    layout = go.Layout(title_text = title, title_x = 0.5, width = 600, height = 600,\n",
    "        xaxis_showgrid = False, yaxis_showgrid = False, yaxis_autorange = \"reversed\")\n",
    "\n",
    "\n",
    "    fig = go.Figure(data=[heat], layout=layout)\n",
    "    fig.show()\n",
    "\n",
    "corr_matrix = df.corr(method='pearson')\n",
    "plot_correlation_matrix(df)\n"
   ]
  },
  {
   "cell_type": "markdown",
   "metadata": {},
   "source": [
    "After this visualization, it is time to sort the coefficients of correlation to keep them with the best correlation with `Diabetes`. **Be careful** with the sign."
   ]
  },
  {
   "cell_type": "code",
   "execution_count": 110,
   "metadata": {},
   "outputs": [
    {
     "name": "stdout",
     "output_type": "stream",
     "text": [
      "['GenHlth', 'HighBP', 'BMI', 'HighChol', 'Age', 'DiffWalk', 'Income', 'PhysHlth', 'HeartDisease', 'Education', 'PhysActivity', 'Stroke', 'CholCheck', 'Alcohol', 'MentHlth', 'Smoker', 'Veggies', 'Fruits', 'Sex', 'NoDocbcCost', 'AnyHealthcare']\n"
     ]
    }
   ],
   "source": [
    "\"\"\"\n",
    "CELL N°2.2 : ANALYZE THE CORRELATION WITH DIABETE\n",
    "\n",
    "@pre:  `corr_matrix` is a Pandas DataFrame that contains the correlation matrix of the training set\n",
    "@post: `sorted_features` contains a list of features (columns of `df`) \n",
    "       sorted according to their correlation with `Diabetes` \n",
    "\"\"\"\n",
    "\n",
    "def sort_features(corr_matrix):\n",
    "    series = corr_matrix['Diabetes'].drop('Diabetes').abs()\n",
    "    return series.sort_values(ascending=False).keys().to_list()\n",
    "\n",
    "sorted_features = sort_features(corr_matrix)\n",
    "print(sorted_features)"
   ]
  },
  {
   "cell_type": "markdown",
   "metadata": {},
   "source": [
    "<br><font size=7 color=#009999> <b>PART III - Classifiers</b> </font> <br><br>"
   ]
  },
  {
   "cell_type": "markdown",
   "metadata": {},
   "source": [
    "In this third part, you need to write functions that return a lamba function with a classifier for the test set. **Be careful** to keep the same form as the one suggested to pass the sanity checks."
   ]
  },
  {
   "cell_type": "markdown",
   "metadata": {},
   "source": [
    "**Implement** the *linear_regressor*. Please follow the specifications in the provided template.\n",
    "\n",
    "**Reminder:** Linear regressor is a model that predicts a continuous value by fitting a line (or hyperplane) to the data, minimizing the difference between observed and predicted values.\n",
    "\n",
    "Please consult, [Wikipedia](https://en.wikipedia.org/wiki/Linear_regression) for further information about the classifier."
   ]
  },
  {
   "cell_type": "code",
   "execution_count": 111,
   "metadata": {},
   "outputs": [],
   "source": [
    "from sklearn.linear_model import LinearRegression\n",
    "\"\"\"\n",
    "CELL N°3.1 : LINEAR REGRESSOR\n",
    "\n",
    "@pre:  `X_train` and `y_train` contain the training set of `df` and a threshold that is a numerical value (float) by default 0.5.\n",
    "@post: Lambda function that takes `X_test` and returns a 1D array of binary predictions (0 or 1) according to the given threshold.\n",
    "\"\"\"\n",
    "\n",
    "def linear_regressor(X_train, y_train, threshold = 0.5):\n",
    "    linreg = LinearRegression(fit_intercept=True)\n",
    "    linreg.fit(X_train, y_train)\n",
    "    return lambda X_test : np.where(linreg.predict(X_test)>threshold, 1, 0)"
   ]
  },
  {
   "cell_type": "markdown",
   "metadata": {},
   "source": [
    "**Implement** the *logistic_regressor*. Please follow the specifications in the provided template.\n",
    "\n",
    "**Reminder:** Logisitic regressor is a classification model that estimates the probability of an observation belonging to a class using a logistic function; suitable for binary (and multiclass) problems.\n",
    "\n",
    "Please consult, [Wikipedia](https://en.wikipedia.org/wiki/Linear_regression) for further information about the classifier."
   ]
  },
  {
   "cell_type": "code",
   "execution_count": 112,
   "metadata": {},
   "outputs": [],
   "source": [
    "from sklearn.linear_model import LogisticRegression\n",
    "\"\"\"\n",
    "CELL N°3.2 : LOGISTIC REGRESSOR\n",
    "    \n",
    "@pre:  `X_train` and `y_train` contain the training set of `df` and a threshold that is a numerical value (float) by default 0.5.\n",
    "@post:  Lambda function that takes `X_test` and returns a 1D array of binary predictions (0 or 1) according to the given threshold.\n",
    "\"\"\"\n",
    "\n",
    "def logistic_regressor(X_train, y_train, threshold = 0.5):\n",
    "    logreg = LogisticRegression()\n",
    "    logreg.fit(X_train, y_train)\n",
    "    return lambda X_test :  np.where(logreg.predict(X_test)>threshold, 1, 0)"
   ]
  },
  {
   "cell_type": "markdown",
   "metadata": {},
   "source": [
    "**Implement** the *knn_regressor*. Please follow the specifications in the provided template.  <br>\n",
    "\n",
    "**Reminder:** Knn regressor is a non-parametric classification algorithm that classifies an observation according to the classes of its k nearest neighbors in feature space.\n",
    "\n",
    "Please consult, [Wikipedia](https://en.wikipedia.org/wiki/K-nearest_neighbors_algorithm) for further information about the classifier.\\\n",
    "Attention, you must implement it with **Euclidian distance** and **10** neighbors."
   ]
  },
  {
   "cell_type": "code",
   "execution_count": 113,
   "metadata": {},
   "outputs": [],
   "source": [
    "from sklearn.neighbors import KNeighborsRegressor\n",
    "\"\"\"\n",
    "CELL N°3.3 : KNN REGRESSOR\n",
    "\n",
    "@pre:  `X_train` and `y_train` contain the training set of `df` and a threshold that is a numerical value (float) by default 0.5.\n",
    "@post: Lambda function that takes `X_test` and returns a 1D array of binary predictions (0 or 1) according to the given threshold.\n",
    "\"\"\"\n",
    "\n",
    "def knn_regressor(X_train, y_train, threshold = 0.5, n_neighbors = 10):\n",
    "    knnreg = KNeighborsRegressor(n_neighbors)\n",
    "    knnreg.fit(X_train, y_train)\n",
    "    return lambda X_test :  np.where(knnreg.predict(X_test)>threshold, 1, 0)"
   ]
  },
  {
   "cell_type": "markdown",
   "metadata": {},
   "source": [
    "<br><font size=7 color=#009999> <b>PART IV - Validation metrics</b> </font> <br><br>"
   ]
  },
  {
   "cell_type": "markdown",
   "metadata": {},
   "source": [
    "In this part, we will implement tools that will help us to **validate** the prediction models implemented in Part III. In particular, we will use the _precision, recall_ and _F1 score_ metrics. \n",
    "\n",
    "**Implement** the _precision, recall_ and _F1 score_. Please follow the specifications in the provided template.  <br>"
   ]
  },
  {
   "cell_type": "markdown",
   "metadata": {},
   "source": [
    "**Reminder**\n",
    "\n",
    "$F_1$ is a performance metric allowing to obtain some trade-off between the precision and recall criterions. It can be computed as follows:\n",
    "$$F_1 = 2~\\frac{\\mathrm{precision} \\cdot \\mathrm{recall}}{\\mathrm{precision} + \\mathrm{recall}}.$$\n",
    "\n",
    "Please consult, [Wikipedia](https://en.wikipedia.org/wiki/F-score) for further information about the three metrics."
   ]
  },
  {
   "cell_type": "code",
   "execution_count": 114,
   "metadata": {},
   "outputs": [],
   "source": [
    "\"\"\"\n",
    "CELL N°4.1 : PRECISION SCORE\n",
    "\n",
    "@pre:  /\n",
    "@post: `precision(y_test, y_pred)` returns the prediction metric based on the predicted labels `y_pred`\n",
    "       and the true labels `y_test`. \n",
    "\"\"\"\n",
    "from sklearn.metrics import precision_score as sk_precision_score\n",
    "def precision(y_test, y_pred):\n",
    "    return sk_precision_score(y_test, y_pred)"
   ]
  },
  {
   "cell_type": "code",
   "execution_count": 115,
   "metadata": {},
   "outputs": [],
   "source": [
    "\"\"\"\n",
    "CELL N°4.2 : RECALL SCORE\n",
    "\n",
    "@pre:  /\n",
    "@post: `recall(y_test, y_pred)` returns the recall metric based on the predicted labels `y_pred`\n",
    "       and the true labels `y_test`. \n",
    "\"\"\"\n",
    "from sklearn.metrics import recall_score as sk_recall_score\n",
    "def recall(y_test, y_pred):\n",
    "    return sk_recall_score(y_test,y_pred)"
   ]
  },
  {
   "cell_type": "code",
   "execution_count": 116,
   "metadata": {},
   "outputs": [],
   "source": [
    "\"\"\"\n",
    "CELL N°4.3 : F1 SCORE\n",
    "\n",
    "@pre:  /\n",
    "@post: `f1_score(y_test, y_pred)` returns the F1 score metric based on the predicted labels `y_pred`\n",
    "       and the true labels `y_test`. \n",
    "\"\"\"\n",
    "from sklearn.metrics import f1_score as sk_f1_score\n",
    "def f1_score(y_test, y_pred):\n",
    "    return sk_f1_score(y_test,y_pred)"
   ]
  },
  {
   "cell_type": "markdown",
   "metadata": {},
   "source": [
    "<br><font size=7 color=#009999> <b>PART V - Reduce the questionnaire size</b> </font> <br><br>"
   ]
  },
  {
   "cell_type": "markdown",
   "metadata": {},
   "source": [
    "In this part, find a model that satisfies the following specifications: \n",
    "- A recall of at least 95%\n",
    "- A F1 score of at least 75%\n",
    "\n",
    "For that, we will use **k-fold** cross validation (see [the Wikipedia page](https://en.wikipedia.org/wiki/Cross-validation_(statistics)#k-fold_cross-validation) for a reminder), and then test the three models above with \n",
    "- Different number of features\n",
    "- Different thresholds"
   ]
  },
  {
   "cell_type": "markdown",
   "metadata": {},
   "source": [
    "In order to use k-fold cross validation, use the class `sklearn.model_selection.KFold` from the `scikit-learn` library (see [the documentation](https://scikit-learn.org/dev/modules/generated/sklearn.model_selection.KFold.html)) with `n_splits = 3`.\n",
    "\n",
    "<div class=\"alert alert-danger\">\n",
    "<b>[IMPORTANT] Grading</b>  <br>\n",
    "In order for us to be able to automatically grade your submission, put <code>shuffle=True</code>, and <code>random_state=1109</code> when you initialize <code>KFold</code>.\n",
    "</div>"
   ]
  },
  {
   "cell_type": "code",
   "execution_count": 117,
   "metadata": {},
   "outputs": [
    {
     "name": "stdout",
     "output_type": "stream",
     "text": [
      "<class 'pandas.core.frame.DataFrame'>\n",
      "RangeIndex: 70692 entries, 0 to 70691\n",
      "Data columns (total 21 columns):\n",
      " #   Column         Non-Null Count  Dtype  \n",
      "---  ------         --------------  -----  \n",
      " 0   HighBP         70692 non-null  float64\n",
      " 1   HighChol       70692 non-null  float64\n",
      " 2   CholCheck      70692 non-null  float64\n",
      " 3   BMI            70692 non-null  float64\n",
      " 4   Smoker         70692 non-null  float64\n",
      " 5   Stroke         70692 non-null  float64\n",
      " 6   HeartDisease   70692 non-null  float64\n",
      " 7   PhysActivity   70692 non-null  float64\n",
      " 8   Fruits         70692 non-null  float64\n",
      " 9   Veggies        70692 non-null  float64\n",
      " 10  Alcohol        70692 non-null  float64\n",
      " 11  AnyHealthcare  70692 non-null  float64\n",
      " 12  NoDocbcCost    70692 non-null  float64\n",
      " 13  GenHlth        70692 non-null  float64\n",
      " 14  MentHlth       70692 non-null  float64\n",
      " 15  PhysHlth       70692 non-null  float64\n",
      " 16  DiffWalk       70692 non-null  float64\n",
      " 17  Sex            70692 non-null  float64\n",
      " 18  Age            70692 non-null  float64\n",
      " 19  Education      70692 non-null  float64\n",
      " 20  Income         70692 non-null  float64\n",
      "dtypes: float64(21)\n",
      "memory usage: 11.3 MB\n",
      "<class 'pandas.core.series.Series'>\n",
      "RangeIndex: 70692 entries, 0 to 70691\n",
      "Series name: Diabetes\n",
      "Non-Null Count  Dtype  \n",
      "--------------  -----  \n",
      "70692 non-null  float64\n",
      "dtypes: float64(1)\n",
      "memory usage: 552.4 KB\n"
     ]
    }
   ],
   "source": [
    "\"\"\"\n",
    "CELL N°5.1 : K-FOLD PREPARATION\n",
    "\n",
    "@pre:  `df` contains the scaled dataset.\n",
    "@post: The following specifications should be satisfied: \n",
    "            - `kf` should contain a `KFold` object with 3 splits, shuffled and with 1109 seed. \n",
    "            - `X` should contain a pd.DataFrame with all the features (all columns except `Diabetes`)\n",
    "            - `y` should contain a pd.DataFrame with all the labels (only the column `Diabetes`)\n",
    "\"\"\"\n",
    "\n",
    "kf = KFold(n_splits = 3, shuffle=True,random_state=1109)\n",
    "X_columns = df.columns.drop('Diabetes')\n",
    "X = df[X_columns]\n",
    "y = df['Diabetes']\n",
    "\n",
    "X.info()\n",
    "y.info()"
   ]
  },
  {
   "cell_type": "markdown",
   "metadata": {},
   "source": [
    "In order to find our model, proceed as follows: \n",
    "- Fix a threshold in $(0, 1)$\n",
    "- Define a dictionary `result` of the form \n",
    "\n",
    "<code>result = {\n",
    "    \"linear\": {}, \n",
    "    \"logistic\": {}, \n",
    "    \"knn\": {}\n",
    "}\n",
    "</code>\n",
    "\n",
    "- For $ i \\in \\{1, \\dots, \\texttt{N\\_features}\\} $: \n",
    "    - Select the $i$ **most correlated features** (use `sorted_features` defined above)\n",
    "    - For all the pairs $((X_{\\text{train}}, y_{\\text{train}}), (X_{\\text{test}}, y_{\\text{test}}))$ given by k-fold\n",
    "        - Compute the linear, logistic and KNN regressors with the fixed threshold on $X_{\\text{train}}$\n",
    "        - Compute the 3 different 3-tuple `validation(regressor, X_test, y_test)`\n",
    "    - In `result[reg][i]`, save the **average** of all the validation tuples you computed for `reg`"
   ]
  },
  {
   "cell_type": "code",
   "execution_count": 118,
   "metadata": {},
   "outputs": [
    {
     "name": "stdout",
     "output_type": "stream",
     "text": [
      "{1: (0.9677434015872945, 0.5480814434475271, 0.6998186059073385), 2: (0.9296900371451122, 0.6155661000146587, 0.7406985308537335), 3: (0.9402741702168411, 0.6113327098864295, 0.7409305383658752), 4: (0.9435380929875904, 0.613929059512656, 0.7438470258561861), 5: (0.9561157114143995, 0.6215380706381585, 0.7533463487339915), 6: (0.9554102214462122, 0.622212893909739, 0.7536215403402666), 7: (0.9560072218889473, 0.6231755052070215, 0.754512609351233), 8: (0.9561501822133995, 0.6232816367264978, 0.7546333224100694), 9: (0.9556388948547069, 0.6242378316571329, 0.7551749722790931), 10: (0.9554401003892304, 0.6245465511259355, 0.7553390951333246), 11: (0.9553539380737591, 0.6243525037771531, 0.7551702431330716), 12: (0.9553261489453572, 0.6244725929755831, 0.7552494606088432), 13: (0.9573660269408286, 0.6244894516786895, 0.755897289117471), 14: (0.9571390879210387, 0.625102786141272, 0.7562760483612393), 15: (0.9570817752755302, 0.6249727653777727, 0.7561631942501575), 16: (0.9572518821497468, 0.6248171742576963, 0.7561028253587656), 17: (0.9571655293551534, 0.6251531059927663, 0.7563224040909211), 18: (0.9571937989834902, 0.6251833073478225, 0.7563532885408781), 19: (0.9575891758938905, 0.6256164604762293, 0.7567937234904384), 20: (0.9574758670286548, 0.6256002831874322, 0.7567464863158345), 21: (0.9572784202574658, 0.6256206997927799, 0.756699982484944), 22: (0.9572784202574658, 0.6256206997927799, 0.756699982484944)}\n",
      "{1: (0.0, 0.0, 0.0), 2: (0.0, 0.0, 0.0), 3: (0.06732867794266952, 0.7579738137459993, 0.12356937040683136), 4: (0.12680391933410243, 0.7584178553572761, 0.21718731578866768), 5: (0.597671130986623, 0.6844492592219895, 0.63810203049744), 6: (0.7128910554723714, 0.684047429413523, 0.698158682673735), 7: (0.8988461814579048, 0.6470481157575327, 0.7524395740828532), 8: (0.9154700642486859, 0.640245284090917, 0.7535084663815722), 9: (0.9179544346203042, 0.6398456407775513, 0.7540729865512436), 10: (0.9226238952051656, 0.6347734270272537, 0.7520952206698689), 11: (0.92523063307996, 0.6342871543268608, 0.7526118195802018), 12: (0.9252874936259525, 0.6349272604142089, 0.7530816834580051), 13: (0.9257686461574067, 0.6367916595597948, 0.754550543064925), 14: (0.9251504131828444, 0.6379701567530979, 0.7551683648250161), 15: (0.9284183496723983, 0.6359065937847742, 0.7548100597753726), 16: (0.9280537900406408, 0.63391353295999, 0.7532835433647702), 17: (0.9265221115846964, 0.6319247221232634, 0.7513764293678844), 18: (0.9281118818111578, 0.6303061361283265, 0.7507525731201096), 19: (0.93005313261282, 0.6298115004217822, 0.751037160806233), 20: (0.9287276098762675, 0.6292507693134307, 0.7502055235860965), 21: (0.9280785340907304, 0.6290507735006076, 0.7498518735225512), 22: (0.9280785340907304, 0.6290507735006076, 0.7498518735225512)}\n",
      "{1: (0.7872027514180165, 0.6541191827522757, 0.7145142261251346), 2: (0.6878061401203568, 0.7215499656354663, 0.7042692729307299), 3: (0.7317781604633434, 0.7203427502751802, 0.7260115381844395), 4: (0.7422275523714389, 0.7230247091636665, 0.7324881623815056), 5: (0.7648331212307248, 0.7318597187646817, 0.747980178202055), 6: (0.7641249700105558, 0.7329412854415177, 0.7482073300817668), 7: (0.7642669039300397, 0.7340515355680473, 0.7488538611051981), 8: (0.7648055340537919, 0.7339712376062346, 0.7490705864616517), 9: (0.7631302555628445, 0.73565990751516, 0.7491431989695893), 10: (0.7628766192247195, 0.7356356798268012, 0.749008439021479), 11: (0.7629343185646453, 0.7355899878404775, 0.7490126319555298), 12: (0.7634454125761293, 0.7361433153282958, 0.7495456611416644), 13: (0.7654559632697899, 0.7367951666111291, 0.7508517255705108), 14: (0.7660757060173422, 0.7377559068769596, 0.7516488877513945), 15: (0.765818890922621, 0.7379708343914433, 0.7516368228231248), 16: (0.7663845055174346, 0.738331559092026, 0.7520965045231817), 17: (0.7667518658156317, 0.7385677098393805, 0.7523957695773976), 18: (0.7660731073023722, 0.7378897002053303, 0.751717301168334), 19: (0.7676900040019895, 0.7389118913282213, 0.7530252394556967), 20: (0.7678882866990254, 0.7390416693189464, 0.7531881314948811), 21: (0.7676056102118155, 0.7388094876687542, 0.7529317572591069), 22: (0.7676056102118155, 0.7388094876687542, 0.7529317572591069)}\n"
     ]
    }
   ],
   "source": [
    "\"\"\"\n",
    "CELL N°5.2 : FIND THE RIGHT COMBINATION LENGTH/REGRESSOR\n",
    "\n",
    "@pre:  `kf`, `X` and `y` are defined such as in the @post of CELL 5.1. \n",
    "@post: `result` is such that `result[reg][i]` contains the average of the validations for regressor `reg`, \n",
    "       when keeping the `i` most correlated features\n",
    "\"\"\"\n",
    "\n",
    "def validation(regressor, X_test, y_test):\n",
    "    # Nothing to do here!\n",
    "    y_pred = regressor(X_test)\n",
    "    return (recall(y_test, y_pred), precision(y_test, y_pred), f1_score(y_test, y_pred))\n",
    "\n",
    "# To modify\n",
    "threshold = 0.28\n",
    "\n",
    "result = {\n",
    "    \"linear\":{\n",
    "        1: (0., 0., 0.),\n",
    "        2: (0., 0., 0.),\n",
    "        # and so on\n",
    "    }, \n",
    "    \"logistic\":{\n",
    "        1: (0., 0., 0.),\n",
    "        2: (0., 0., 0.),\n",
    "        # and so on\n",
    "    }, \n",
    "    \"knn\":{\n",
    "        1: (0., 0., 0.),\n",
    "        2: (0., 0., 0.),\n",
    "        # and so on\n",
    "    }\n",
    "}\n",
    "n_splits = kf.get_n_splits()\n",
    "\n",
    "for i in range(1,len(df.columns)+1):\n",
    "    features = sorted_features[:i]\n",
    "    res_knn = 0,0,0\n",
    "    res_lin = 0,0,0\n",
    "    res_logi = 0,0,0\n",
    "    for j,(train_index, test_index) in enumerate(kf.split(X[features])):\n",
    "        \n",
    "        #print(f\"train index {i} = {train_index}\")\n",
    "        #print(f\"test index {i} = {test_index}\")\n",
    "        \n",
    "        X_train, y_train = X[features].iloc[train_index], y.iloc[train_index]\n",
    "        X_test,y_test = X[features].iloc[test_index], y.iloc[test_index]\n",
    "\n",
    "        lin = linear_regressor(X_train,y_train,threshold)\n",
    "        knn = knn_regressor(X_train,y_train,threshold)\n",
    "        logi = logistic_regressor(X_train,y_train,threshold)\n",
    "\n",
    "        res_lin = tuple(map(lambda x, y: x + y, res_lin, validation(lin,X_test,y_test)))\n",
    "        res_knn = tuple(map(lambda x, y: x + y,res_knn,validation(knn,X_test,y_test)))\n",
    "        res_logi = tuple(map(lambda x, y: x + y,res_logi,validation(logi,X_test,y_test)))\n",
    "        \n",
    "        \n",
    "    result[\"linear\"][i] = tuple(res_lin_i/n_splits for res_lin_i in res_lin)\n",
    "    result[\"knn\"][i] = tuple(res_knn_i/n_splits for res_knn_i in res_knn)\n",
    "    result[\"logistic\"][i] = tuple(res_logi_i/n_splits for res_logi_i in res_logi)\n",
    "\n",
    "print(result[\"linear\"])\n",
    "print(result[\"knn\"])\n",
    "print(result[\"logistic\"])\n"
   ]
  },
  {
   "cell_type": "markdown",
   "metadata": {},
   "source": [
    "The following cell allows you to test if the threshold that you chose satisfies the specifications, that are \n",
    "- A recall of at least 95%\n",
    "- A F1 score of at least 75%\n",
    "\n",
    "Plot these graphs for different threshold, and select the model **with the smallest number of questions** that satisfy the conditions above."
   ]
  },
  {
   "cell_type": "code",
   "execution_count": 119,
   "metadata": {},
   "outputs": [
    {
     "data": {
      "image/png": "[encoded data removed]",
      "text/plain": [
       "<Figure size 640x480 with 1 Axes>"
      ]
     },
     "metadata": {},
     "output_type": "display_data"
    },
    {
     "data": {
      "image/png": "[encoded data removed]",
      "text/plain": [
       "<Figure size 640x480 with 1 Axes>"
      ]
     },
     "metadata": {},
     "output_type": "display_data"
    }
   ],
   "source": [
    "\"\"\"\n",
    "CELL N°5.3 : VISUALIZE THE SCORES\n",
    "\n",
    "@pre:  `result` contains the average of the validations for regressor `reg`, when keeping the `i` most correlated features\n",
    "@post: plot of the scores for each condition\n",
    "\"\"\"\n",
    "\n",
    "# Nothing to do here, just run me! \n",
    "\n",
    "from helper import plot_result\n",
    "plot_result(result, threshold, to_show = \"recall\")\n",
    "plot_result(result, threshold, to_show = \"f1_score\")"
   ]
  },
  {
   "cell_type": "markdown",
   "metadata": {},
   "source": [
    "<br><font size=7 color=#009999> <b>PART VI - Visualization</b> </font> <br><br>\n"
   ]
  },
  {
   "cell_type": "markdown",
   "metadata": {},
   "source": [
    "In this part, you are asked to produce a **clear and clean figure** expressing a result\n",
    "or giving an overall vision of your work for this hackaton. **Please feel free to do as you\n",
    "wish. Be original!** \n",
    "\n",
    "The **clarity**, **content** and **description** (in the report) of your figure will be evaluated."
   ]
  },
  {
   "cell_type": "code",
   "execution_count": 126,
   "metadata": {},
   "outputs": [
    {
     "data": {
      "image/png": "[encoded data removed]",
      "text/plain": [
       "<Figure size 800x500 with 1 Axes>"
      ]
     },
     "metadata": {},
     "output_type": "display_data"
    }
   ],
   "source": [
    "# Données\n",
    "categories = ['Catégorie A', 'Catégorie B', 'Catégorie C', 'Catégorie D']\n",
    "values = [23, 45, 56, 78]\n",
    "\n",
    "# Création du bar plot\n",
    "plt.figure(figsize=(8, 5))\n",
    "plt.bar(sorted_features[:5], corr_matrix['Diabetes'][sorted_features[:5]], color='skyblue')\n",
    "\n",
    "# Ajout des labels et titre\n",
    "plt.xlabel('Catégories')\n",
    "plt.ylabel('Valeurs')\n",
    "plt.title('Exemple de Bar Plot')\n",
    "\n",
    "\n",
    "# Affichage du graphique\n",
    "plt.show()\n"
   ]
  },
  {
   "cell_type": "code",
   "execution_count": 121,
   "metadata": {},
   "outputs": [
    {
     "name": "stdout",
     "output_type": "stream",
     "text": [
      "Clés dans result : dict_keys([5])\n"
     ]
    }
   ],
   "source": [
    "\n",
    "from sklearn.linear_model import LinearRegression\n",
    "from sklearn.metrics import precision_recall_curve, roc_curve, auc\n",
    "\n",
    "\n",
    "# Initialisation du dictionnaire de résultats\n",
    "result = {}\n",
    "\n",
    "# K-Fold validation\n",
    "n_splits = kf.get_n_splits() \n",
    "for i in range(5, 6):\n",
    "    features = sorted_features[:i]  \n",
    "    res_lin = np.zeros(3)  # Pour stocker précision, rappel et F1\n",
    "\n",
    "    # Parcours des splits\n",
    "    all_y_true = []  # Stocke les y_test pour chaque split\n",
    "    all_y_scores = []  # Stocke les scores prédits pour chaque split\n",
    "\n",
    "    \n",
    "    for train_index, test_index in kf.split(X[features]):\n",
    "        X_train, y_train = X[features].iloc[train_index], y.iloc[train_index]\n",
    "        X_test, y_test = X[features].iloc[test_index], y.iloc[test_index]\n",
    "\n",
    "        # Régression linéaire\n",
    "        model = LinearRegression()\n",
    "        model.fit(X_train, y_train)\n",
    "        y_score = model.predict(X_test)\n",
    "\n",
    "        # Collecter les vrais labels et les scores prédits\n",
    "        all_y_true.extend(y_test)\n",
    "        all_y_scores.extend(y_score)\n",
    "\n",
    "    # Calcul des courbes et AUC pour ce nombre de features\n",
    "    precision, recall, _ = precision_recall_curve(all_y_true, all_y_scores)\n",
    "    fpr, tpr, _ = roc_curve(all_y_true, all_y_scores)\n",
    "    auc_pr = auc(recall, precision)\n",
    "    auc_roc = auc(fpr, tpr)\n",
    "\n",
    "    # Sauvegarder les résultats pour ce nombre de features\n",
    "    result[i] = {\n",
    "        \"precision\": precision,\n",
    "        \"recall\": recall,\n",
    "        \"fpr\": fpr,\n",
    "        \"tpr\": tpr,\n",
    "        \"auc_pr\": auc_pr,\n",
    "        \"auc_roc\": auc_roc\n",
    "    }\n",
    "    \n",
    "# Vérifiez que toutes les clés sont présentes dans `result`\n",
    "print(\"Clés dans result :\", result.keys())\n",
    "\n",
    "\n"
   ]
  },
  {
   "cell_type": "code",
   "execution_count": 122,
   "metadata": {},
   "outputs": [
    {
     "data": {
      "image/png": "[encoded data removed]",
      "text/plain": [
       "<Figure size 1400x600 with 2 Axes>"
      ]
     },
     "metadata": {},
     "output_type": "display_data"
    }
   ],
   "source": [
    "# Affichage des courbes pour les cas valides\n",
    "plt.figure(figsize=(14, 6))\n",
    "\n",
    "# Précision/Rappel\n",
    "plt.subplot(1, 2, 1)\n",
    "for i in range(1, 7):\n",
    "    if result.get(i) is not None:  # Vérifiez que les résultats existent pour cette clé\n",
    "        plt.plot(result[i][\"recall\"], result[i][\"precision\"], label=f\"{i} features (AUC={result[i]['auc_pr']:.2f})\")\n",
    "plt.xlabel(\" Recall\")\n",
    "plt.ylabel(\"Precision\")\n",
    "plt.title(\" Precision/Rrcall\")\n",
    "plt.legend()\n",
    "\n",
    "# ROC\n",
    "plt.subplot(1, 2, 2)\n",
    "for i in range(1, 7):\n",
    "    if result.get(i) is not None:  # Vérifiez que les résultats existent pour cette clé\n",
    "        plt.plot(result[i][\"fpr\"], result[i][\"tpr\"], label=f\"{i} features (AUC={result[i]['auc_roc']:.2f})\")\n",
    "plt.xlabel(\"FPR (False Positive Rate)\")\n",
    "plt.ylabel(\"TPR (True Positive Rate)\")\n",
    "plt.title(\"ROC\")\n",
    "plt.legend()\n",
    "\n",
    "plt.tight_layout()\n",
    "plt.show()\n"
   ]
  }
 ],
 "metadata": {
  "kernelspec": {
   "display_name": "Python 3",
   "language": "python",
   "name": "python3"
  },
  "language_info": {
   "codemirror_mode": {
    "name": "ipython",
    "version": 3
   },
   "file_extension": ".py",
   "mimetype": "text/x-python",
   "name": "python",
   "nbconvert_exporter": "python",
   "pygments_lexer": "ipython3",
   "version": "3.10.4"
  }
 },
 "nbformat": 4,
 "nbformat_minor": 4
}
